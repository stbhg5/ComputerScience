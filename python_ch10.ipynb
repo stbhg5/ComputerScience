{
  "nbformat": 4,
  "nbformat_minor": 0,
  "metadata": {
    "colab": {
      "provenance": [],
      "authorship_tag": "ABX9TyMwiURTGxRdKvYm3khD4ViJ",
      "include_colab_link": true
    },
    "kernelspec": {
      "name": "python3",
      "display_name": "Python 3"
    },
    "language_info": {
      "name": "python"
    }
  },
  "cells": [
    {
      "cell_type": "markdown",
      "metadata": {
        "id": "view-in-github",
        "colab_type": "text"
      },
      "source": [
        "<a href=\"https://colab.research.google.com/github/stbhg5/ComputerScience/blob/main/python_ch10.ipynb\" target=\"_parent\"><img src=\"https://colab.research.google.com/assets/colab-badge.svg\" alt=\"Open In Colab\"/></a>"
      ]
    },
    {
      "cell_type": "markdown",
      "source": [
        "1. DB 연동"
      ],
      "metadata": {
        "id": "mdLwpKpnMEtt"
      }
    },
    {
      "cell_type": "code",
      "source": [
        "# google colab 에 라이브러리 다운로드 받을 때 : !pip install 라이브러리명\n",
        "!pip install sqlalchemy\n",
        "# Requirement already satisfied:는 이미 설치되어 있다는 것."
      ],
      "metadata": {
        "colab": {
          "base_uri": "https://localhost:8080/"
        },
        "id": "fAvVQRy-McPS",
        "outputId": "388e97c3-3cfd-476a-c5d5-082cf342c5c4"
      },
      "execution_count": 1,
      "outputs": [
        {
          "output_type": "stream",
          "name": "stdout",
          "text": [
            "Looking in indexes: https://pypi.org/simple, https://us-python.pkg.dev/colab-wheels/public/simple/\n",
            "Requirement already satisfied: sqlalchemy in /usr/local/lib/python3.8/dist-packages (1.4.46)\n",
            "Requirement already satisfied: greenlet!=0.4.17 in /usr/local/lib/python3.8/dist-packages (from sqlalchemy) (2.0.2)\n"
          ]
        }
      ]
    },
    {
      "cell_type": "code",
      "execution_count": 20,
      "metadata": {
        "colab": {
          "base_uri": "https://localhost:8080/"
        },
        "id": "Fp-x7oIEId3X",
        "outputId": "5db082fe-4b53-4372-d2cb-71d98d892b03"
      },
      "outputs": [
        {
          "output_type": "execute_result",
          "data": {
            "text/plain": [
              "[('test1', 'test2')]"
            ]
          },
          "metadata": {},
          "execution_count": 20
        }
      ],
      "source": [
        "import sqlalchemy\n",
        "engine = sqlalchemy.create_engine('sqlite:///test.sqlite') # sqlite는 파이썬이 내부적으로 가지고 있는 가상의 데이터베이스(정확한 표현은 아니다)\n",
        "conn = engine.connect() # connect()를 실행해야 비로소 만들어진다.\n",
        "# conn.execute('DROP TABLE test')\n",
        "conn.execute('CREATE TABLE test (col1 text, col2 text)') # execute()에 SQL 문이 들어간다. col1 text는 컬럼명 자료형\n",
        "conn.execute('INSERT INTO test VALUES (\"test1\", \"test2\")')\n",
        "conn.execute('SELECT * FROM test').fetchall()"
      ]
    },
    {
      "cell_type": "code",
      "source": [
        "conn.close()"
      ],
      "metadata": {
        "id": "ojtahRWiQ78t"
      },
      "execution_count": 21,
      "outputs": []
    }
  ]
}