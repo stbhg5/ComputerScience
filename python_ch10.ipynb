{
  "nbformat": 4,
  "nbformat_minor": 0,
  "metadata": {
    "colab": {
      "provenance": [],
      "authorship_tag": "ABX9TyME7agb6PmAl/gJlfC0h9qB",
      "include_colab_link": true
    },
    "kernelspec": {
      "name": "python3",
      "display_name": "Python 3"
    },
    "language_info": {
      "name": "python"
    }
  },
  "cells": [
    {
      "cell_type": "markdown",
      "metadata": {
        "id": "view-in-github",
        "colab_type": "text"
      },
      "source": [
        "<a href=\"https://colab.research.google.com/github/stbhg5/ComputerScience/blob/main/python_ch10.ipynb\" target=\"_parent\"><img src=\"https://colab.research.google.com/assets/colab-badge.svg\" alt=\"Open In Colab\"/></a>"
      ]
    },
    {
      "cell_type": "markdown",
      "source": [
        "1. DB 연동"
      ],
      "metadata": {
        "id": "mdLwpKpnMEtt"
      }
    },
    {
      "cell_type": "code",
      "source": [
        "# google colab 에 라이브러리 다운로드 받을 때 : !pip install 라이브러리명\n",
        "!pip install sqlalchemy\n",
        "# Requirement already satisfied:는 이미 설치되어 있다는 것."
      ],
      "metadata": {
        "colab": {
          "base_uri": "https://localhost:8080/"
        },
        "id": "fAvVQRy-McPS",
        "outputId": "388e97c3-3cfd-476a-c5d5-082cf342c5c4"
      },
      "execution_count": null,
      "outputs": [
        {
          "output_type": "stream",
          "name": "stdout",
          "text": [
            "Looking in indexes: https://pypi.org/simple, https://us-python.pkg.dev/colab-wheels/public/simple/\n",
            "Requirement already satisfied: sqlalchemy in /usr/local/lib/python3.8/dist-packages (1.4.46)\n",
            "Requirement already satisfied: greenlet!=0.4.17 in /usr/local/lib/python3.8/dist-packages (from sqlalchemy) (2.0.2)\n"
          ]
        }
      ]
    },
    {
      "cell_type": "code",
      "execution_count": null,
      "metadata": {
        "colab": {
          "base_uri": "https://localhost:8080/"
        },
        "id": "Fp-x7oIEId3X",
        "outputId": "5db082fe-4b53-4372-d2cb-71d98d892b03"
      },
      "outputs": [
        {
          "output_type": "execute_result",
          "data": {
            "text/plain": [
              "[('test1', 'test2')]"
            ]
          },
          "metadata": {},
          "execution_count": 20
        }
      ],
      "source": [
        "import sqlalchemy\n",
        "engine = sqlalchemy.create_engine('sqlite:///test.sqlite') # sqlite는 파이썬이 내부적으로 가지고 있는 가상의 데이터베이스(정확한 표현은 아니다)\n",
        "conn = engine.connect() # connect()를 실행해야 비로소 만들어진다.\n",
        "# conn.execute('DROP TABLE test')\n",
        "conn.execute('CREATE TABLE test (col1 text, col2 text)') # execute()에 SQL 문이 들어간다. col1 text는 컬럼명 자료형\n",
        "conn.execute('INSERT INTO test VALUES (\"test1\", \"test2\")')\n",
        "conn.execute('SELECT * FROM test').fetchall()"
      ]
    },
    {
      "cell_type": "code",
      "source": [
        "conn.close()"
      ],
      "metadata": {
        "id": "ojtahRWiQ78t"
      },
      "execution_count": null,
      "outputs": []
    },
    {
      "cell_type": "markdown",
      "source": [
        "2. 정규식"
      ],
      "metadata": {
        "id": "YmjuS6Tt5mOB"
      }
    },
    {
      "cell_type": "code",
      "source": [
        "# 정규식을 사용하지 않고 전화번호 형식 거르기를 구현시 코드가 복잡해진다.\n",
        "# test = ['124', '1241251', '010-1234-5678', '152515', '126236-26362', '2362362362']\n",
        "# for i in test:\n",
        "#     tmp = i.split('-')\n",
        "#     if len(tmp) != 3:\n",
        "#         continue\n",
        "#     int(tmp[0])\n",
        "#     ..."
      ],
      "metadata": {
        "colab": {
          "base_uri": "https://localhost:8080/"
        },
        "id": "piWKNIL-5ob6",
        "outputId": "741d08d6-b161-44e5-bad0-6e5d9acd51b2"
      },
      "execution_count": 3,
      "outputs": [
        {
          "output_type": "stream",
          "name": "stdout",
          "text": [
            "['124']\n",
            "['1241251']\n",
            "['010', '1234', '5678']\n",
            "['152515']\n",
            "['126236', '26362']\n",
            "['2362362362']\n"
          ]
        }
      ]
    },
    {
      "cell_type": "code",
      "source": [
        "import re\n",
        "re.match('p', 'python')"
      ],
      "metadata": {
        "colab": {
          "base_uri": "https://localhost:8080/"
        },
        "id": "vu1XYntrHbtu",
        "outputId": "df8f0a8a-cb9a-4213-d0e9-9f91f5bb4349"
      },
      "execution_count": 5,
      "outputs": [
        {
          "output_type": "execute_result",
          "data": {
            "text/plain": [
              "<re.Match object; span=(0, 1), match='p'>"
            ]
          },
          "metadata": {},
          "execution_count": 5
        }
      ]
    },
    {
      "cell_type": "code",
      "source": [
        "re.search('y', 'python')"
      ],
      "metadata": {
        "colab": {
          "base_uri": "https://localhost:8080/"
        },
        "id": "Z4dlL0KTH2hf",
        "outputId": "f2e67328-0fdf-4f76-f916-b0619f6dc597"
      },
      "execution_count": 7,
      "outputs": [
        {
          "output_type": "execute_result",
          "data": {
            "text/plain": [
              "<re.Match object; span=(1, 2), match='y'>"
            ]
          },
          "metadata": {},
          "execution_count": 7
        }
      ]
    },
    {
      "cell_type": "code",
      "source": [
        "'python'[1:2] # span=(1, 2)의 의미"
      ],
      "metadata": {
        "colab": {
          "base_uri": "https://localhost:8080/",
          "height": 35
        },
        "id": "byWa3K99H851",
        "outputId": "77fa0737-bae9-4b21-a720-dcc20a4dc602"
      },
      "execution_count": 8,
      "outputs": [
        {
          "output_type": "execute_result",
          "data": {
            "text/plain": [
              "'y'"
            ],
            "application/vnd.google.colaboratory.intrinsic+json": {
              "type": "string"
            }
          },
          "metadata": {},
          "execution_count": 8
        }
      ]
    },
    {
      "cell_type": "code",
      "source": [
        "re.search('y*t', 'python')\n",
        "# y*t 정규식의 의미 : y는 0개 이상있고 t는 1개만 있을 때\n",
        "# t\n",
        "# yt\n",
        "# yyt\n",
        "# yyyt\n",
        "# ..."
      ],
      "metadata": {
        "colab": {
          "base_uri": "https://localhost:8080/"
        },
        "id": "kRiKYT29IILZ",
        "outputId": "6281f195-7dfa-409b-bb3a-c912e0f68a45"
      },
      "execution_count": 11,
      "outputs": [
        {
          "output_type": "execute_result",
          "data": {
            "text/plain": [
              "<re.Match object; span=(1, 3), match='yt'>"
            ]
          },
          "metadata": {},
          "execution_count": 11
        }
      ]
    },
    {
      "cell_type": "code",
      "source": [
        "re.search('y+t', 'python')\n",
        "# y+t 정규식의 의미 : y는 1개 이상있고 t는 1개만 있을 때\n",
        "# yt\n",
        "# yyt\n",
        "# yyyt\n",
        "# ..."
      ],
      "metadata": {
        "colab": {
          "base_uri": "https://localhost:8080/"
        },
        "id": "MKqonyMHI3tv",
        "outputId": "9f317955-1792-4a30-a44c-f09a2d2743b8"
      },
      "execution_count": 12,
      "outputs": [
        {
          "output_type": "execute_result",
          "data": {
            "text/plain": [
              "<re.Match object; span=(1, 3), match='yt'>"
            ]
          },
          "metadata": {},
          "execution_count": 12
        }
      ]
    },
    {
      "cell_type": "code",
      "source": [
        "re.search('y?t', 'python')\n",
        "# y?t 정규식의 의미 : y는 0개 혹은 1개 있고 t는 1개만 있을 때\n",
        "# t\n",
        "# yt"
      ],
      "metadata": {
        "colab": {
          "base_uri": "https://localhost:8080/"
        },
        "id": "dDdU20FZJNJK",
        "outputId": "9fe96766-8f1a-4c87-9abf-ad66889798d4"
      },
      "execution_count": 13,
      "outputs": [
        {
          "output_type": "execute_result",
          "data": {
            "text/plain": [
              "<re.Match object; span=(1, 3), match='yt'>"
            ]
          },
          "metadata": {},
          "execution_count": 13
        }
      ]
    },
    {
      "cell_type": "code",
      "source": [
        "re.search('y{3}t', 'python') # y가 0~3개"
      ],
      "metadata": {
        "colab": {
          "base_uri": "https://localhost:8080/"
        },
        "id": "OFLzFLQzJmLP",
        "outputId": "181e0698-1f56-49d6-d50a-05c595d4de3c"
      },
      "execution_count": 14,
      "outputs": [
        {
          "output_type": "execute_result",
          "data": {
            "text/plain": [
              "<re.Match object; span=(1, 3), match='yt'>"
            ]
          },
          "metadata": {},
          "execution_count": 14
        }
      ]
    },
    {
      "cell_type": "code",
      "source": [
        "re.search('y{2,3}t', 'python') # y가 2회 또는 3회 일 때"
      ],
      "metadata": {
        "id": "YEhu-HG6J78t"
      },
      "execution_count": 19,
      "outputs": []
    },
    {
      "cell_type": "code",
      "source": [
        "re.search('p.t', 'python')\n",
        "# p.t : .은 줄바꿈 문자 제외한 문자\n",
        "# pat\n",
        "# pbt\n",
        "# p3t"
      ],
      "metadata": {
        "colab": {
          "base_uri": "https://localhost:8080/"
        },
        "id": "aLdrUvr2KWzO",
        "outputId": "2325dd25-77ec-44c2-c97d-dde462a550a0"
      },
      "execution_count": 20,
      "outputs": [
        {
          "output_type": "execute_result",
          "data": {
            "text/plain": [
              "<re.Match object; span=(0, 3), match='pyt'>"
            ]
          },
          "metadata": {},
          "execution_count": 20
        }
      ]
    },
    {
      "cell_type": "code",
      "source": [
        "re.search('^p', 'python') # ^는 문자열의 시작"
      ],
      "metadata": {
        "colab": {
          "base_uri": "https://localhost:8080/"
        },
        "id": "OZZPK4ydMHFK",
        "outputId": "53d38b24-b507-49c8-9b8f-323251b03a20"
      },
      "execution_count": 21,
      "outputs": [
        {
          "output_type": "execute_result",
          "data": {
            "text/plain": [
              "<re.Match object; span=(0, 1), match='p'>"
            ]
          },
          "metadata": {},
          "execution_count": 21
        }
      ]
    },
    {
      "cell_type": "code",
      "source": [
        "re.search('n$', 'python') # $는 끝나는 문자열"
      ],
      "metadata": {
        "colab": {
          "base_uri": "https://localhost:8080/"
        },
        "id": "tFKrou8JMQ_h",
        "outputId": "2af67b6b-d1c6-44ca-da1a-bfe9281633f6"
      },
      "execution_count": 24,
      "outputs": [
        {
          "output_type": "execute_result",
          "data": {
            "text/plain": [
              "<re.Match object; span=(5, 6), match='n'>"
            ]
          },
          "metadata": {},
          "execution_count": 24
        }
      ]
    },
    {
      "cell_type": "code",
      "source": [
        "re.search('^python$', 'python') # python과 완벽히 매치되는 것 찾기"
      ],
      "metadata": {
        "colab": {
          "base_uri": "https://localhost:8080/"
        },
        "id": "PCPgLOUgMsLg",
        "outputId": "c1f666cb-31e9-4cfa-c3b0-74d8d7b79ba3"
      },
      "execution_count": 25,
      "outputs": [
        {
          "output_type": "execute_result",
          "data": {
            "text/plain": [
              "<re.Match object; span=(0, 6), match='python'>"
            ]
          },
          "metadata": {},
          "execution_count": 25
        }
      ]
    },
    {
      "cell_type": "code",
      "source": [
        "re.search('p[abc]t', 'python') # 문자집합 abc"
      ],
      "metadata": {
        "id": "-EFGHW-vM9tS"
      },
      "execution_count": 28,
      "outputs": []
    },
    {
      "cell_type": "code",
      "source": [
        "re.search('p[a-z]t', 'python') # 문자집합 a에서 z까지"
      ],
      "metadata": {
        "colab": {
          "base_uri": "https://localhost:8080/"
        },
        "id": "tL4LidKwNFLX",
        "outputId": "ab0aa204-6027-4ee9-85fa-e181c20062d5"
      },
      "execution_count": 29,
      "outputs": [
        {
          "output_type": "execute_result",
          "data": {
            "text/plain": [
              "<re.Match object; span=(0, 3), match='pyt'>"
            ]
          },
          "metadata": {},
          "execution_count": 29
        }
      ]
    },
    {
      "cell_type": "code",
      "source": [
        "re.search('py|yt', 'python') # py 또는 yt (여러 정규식 나열 후 또는)"
      ],
      "metadata": {
        "colab": {
          "base_uri": "https://localhost:8080/"
        },
        "id": "4ZHuIEtpNoVo",
        "outputId": "7ee1a793-1259-4f62-c528-5c1feb6d9387"
      },
      "execution_count": 31,
      "outputs": [
        {
          "output_type": "execute_result",
          "data": {
            "text/plain": [
              "<re.Match object; span=(0, 2), match='py'>"
            ]
          },
          "metadata": {},
          "execution_count": 31
        }
      ]
    },
    {
      "cell_type": "code",
      "source": [
        "re.search('\\d', 'python3') # 숫자"
      ],
      "metadata": {
        "colab": {
          "base_uri": "https://localhost:8080/"
        },
        "id": "NEdG2fhkOLP8",
        "outputId": "f1830bb3-2f41-49c0-8083-6bd30ac0f916"
      },
      "execution_count": 33,
      "outputs": [
        {
          "output_type": "execute_result",
          "data": {
            "text/plain": [
              "<re.Match object; span=(6, 7), match='3'>"
            ]
          },
          "metadata": {},
          "execution_count": 33
        }
      ]
    },
    {
      "cell_type": "code",
      "source": [
        "re.search('\\D', 'python') # 숫자가 아닌 문자"
      ],
      "metadata": {
        "colab": {
          "base_uri": "https://localhost:8080/"
        },
        "id": "wZXNLlRvOXIl",
        "outputId": "758ec4c3-52a4-461b-f866-318448232416"
      },
      "execution_count": 35,
      "outputs": [
        {
          "output_type": "execute_result",
          "data": {
            "text/plain": [
              "<re.Match object; span=(0, 1), match='p'>"
            ]
          },
          "metadata": {},
          "execution_count": 35
        }
      ]
    },
    {
      "cell_type": "code",
      "source": [
        "re.search('[a-zA-Z]', 'python') # 알파벳 소문자 대문자 매칭"
      ],
      "metadata": {
        "colab": {
          "base_uri": "https://localhost:8080/"
        },
        "id": "6dH0BSyWOlNe",
        "outputId": "1b68a0da-b2f6-44ec-df7f-7af63cb06d0d"
      },
      "execution_count": 36,
      "outputs": [
        {
          "output_type": "execute_result",
          "data": {
            "text/plain": [
              "<re.Match object; span=(0, 1), match='p'>"
            ]
          },
          "metadata": {},
          "execution_count": 36
        }
      ]
    },
    {
      "cell_type": "code",
      "source": [
        "re.search('[a-zA-Z]+', 'python') # 알파벳 소문자 대문자 1번 이상 매칭"
      ],
      "metadata": {
        "id": "wvdDsA7WPqml"
      },
      "execution_count": null,
      "outputs": []
    },
    {
      "cell_type": "code",
      "source": [
        "re.search('[oz]+', 'pozozozozozoy') # []+ 응용"
      ],
      "metadata": {
        "colab": {
          "base_uri": "https://localhost:8080/"
        },
        "id": "awLk0nx3Q_Dm",
        "outputId": "479e11c5-2835-4307-9162-cf2ee8a67081"
      },
      "execution_count": 38,
      "outputs": [
        {
          "output_type": "execute_result",
          "data": {
            "text/plain": [
              "<re.Match object; span=(1, 12), match='ozozozozozo'>"
            ]
          },
          "metadata": {},
          "execution_count": 38
        }
      ]
    },
    {
      "cell_type": "code",
      "source": [
        "re.search('[oz]{2,3}', 'pozozozozozoy') # []{} 응용"
      ],
      "metadata": {
        "colab": {
          "base_uri": "https://localhost:8080/"
        },
        "id": "hTj0l3yDRQ2-",
        "outputId": "96b059fd-bf08-42f4-baf3-c4623a9544ed"
      },
      "execution_count": 40,
      "outputs": [
        {
          "output_type": "execute_result",
          "data": {
            "text/plain": [
              "<re.Match object; span=(1, 4), match='ozo'>"
            ]
          },
          "metadata": {},
          "execution_count": 40
        }
      ]
    },
    {
      "cell_type": "code",
      "source": [
        "a = re.compile('[oz]{2,3}') # 정규식을 파이썬이 사용 가능한 객체로 컴파일\n",
        "re.search(a, 'pozozozozozoy')"
      ],
      "metadata": {
        "colab": {
          "base_uri": "https://localhost:8080/"
        },
        "id": "Un_sjbdEReQm",
        "outputId": "b32e4259-a7c8-4f55-f36b-94765632a078"
      },
      "execution_count": 41,
      "outputs": [
        {
          "output_type": "execute_result",
          "data": {
            "text/plain": [
              "<re.Match object; span=(1, 4), match='ozo'>"
            ]
          },
          "metadata": {},
          "execution_count": 41
        }
      ]
    },
    {
      "cell_type": "code",
      "source": [
        "# re.search('^p', 'pozozozozozoy')\n",
        "re.match('p', 'pozozozozozoy') # 문장 처음부터 패턴과 일치하는 문자열 검색"
      ],
      "metadata": {
        "colab": {
          "base_uri": "https://localhost:8080/"
        },
        "id": "D34Bg4FUSs-9",
        "outputId": "d3f42b76-8a86-497c-9d03-3b99efdc60cc"
      },
      "execution_count": 45,
      "outputs": [
        {
          "output_type": "execute_result",
          "data": {
            "text/plain": [
              "<re.Match object; span=(0, 1), match='p'>"
            ]
          },
          "metadata": {},
          "execution_count": 45
        }
      ]
    },
    {
      "cell_type": "code",
      "source": [
        "re.sub('y', 'i', 'python') # 첫번째 매개변수를 두번째 매개변수로 바꾸겠다(치환)."
      ],
      "metadata": {
        "colab": {
          "base_uri": "https://localhost:8080/",
          "height": 35
        },
        "id": "T3znHrY-Taut",
        "outputId": "ec8fe8f0-2ed9-49f1-dc21-729cbb2bd393"
      },
      "execution_count": 47,
      "outputs": [
        {
          "output_type": "execute_result",
          "data": {
            "text/plain": [
              "'pithon'"
            ],
            "application/vnd.google.colaboratory.intrinsic+json": {
              "type": "string"
            }
          },
          "metadata": {},
          "execution_count": 47
        }
      ]
    },
    {
      "cell_type": "code",
      "source": [
        "re.sub('[yto]', 'i', 'pythonpython') # replaceAll()이라 보면 된다"
      ],
      "metadata": {
        "colab": {
          "base_uri": "https://localhost:8080/",
          "height": 35
        },
        "id": "ky_76JG8Twdi",
        "outputId": "3dfab729-b323-4d31-9cc3-623e98e4929f"
      },
      "execution_count": 52,
      "outputs": [
        {
          "output_type": "execute_result",
          "data": {
            "text/plain": [
              "'piihinpiihin'"
            ],
            "application/vnd.google.colaboratory.intrinsic+json": {
              "type": "string"
            }
          },
          "metadata": {},
          "execution_count": 52
        }
      ]
    },
    {
      "cell_type": "code",
      "source": [
        "# '010-5061-4088'\n",
        "'010-1234-5678'.split('-')"
      ],
      "metadata": {
        "colab": {
          "base_uri": "https://localhost:8080/"
        },
        "id": "qd3ALUFiUwOR",
        "outputId": "1e8ee20c-337e-444f-b267-ff4f9525f322"
      },
      "execution_count": 53,
      "outputs": [
        {
          "output_type": "execute_result",
          "data": {
            "text/plain": [
              "['010', '1234', '5678']"
            ]
          },
          "metadata": {},
          "execution_count": 53
        }
      ]
    },
    {
      "cell_type": "code",
      "source": [
        "re.split('-[0-9]{4}-', '010-1234-5678') # -1234- 기준으로 분리"
      ],
      "metadata": {
        "colab": {
          "base_uri": "https://localhost:8080/"
        },
        "id": "MCiVziaGVohw",
        "outputId": "0f783055-0a8f-401c-a94b-d6b129b109e2"
      },
      "execution_count": 55,
      "outputs": [
        {
          "output_type": "execute_result",
          "data": {
            "text/plain": [
              "['010', '5678']"
            ]
          },
          "metadata": {},
          "execution_count": 55
        }
      ]
    }
  ]
}