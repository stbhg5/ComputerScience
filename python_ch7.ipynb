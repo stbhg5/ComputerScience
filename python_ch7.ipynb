{
  "nbformat": 4,
  "nbformat_minor": 0,
  "metadata": {
    "colab": {
      "provenance": [],
      "authorship_tag": "ABX9TyOrr4/PyjwfDW36A5uTZSft",
      "include_colab_link": true
    },
    "kernelspec": {
      "name": "python3",
      "display_name": "Python 3"
    },
    "language_info": {
      "name": "python"
    }
  },
  "cells": [
    {
      "cell_type": "markdown",
      "metadata": {
        "id": "view-in-github",
        "colab_type": "text"
      },
      "source": [
        "<a href=\"https://colab.research.google.com/github/stbhg5/ComputerScience/blob/main/python_ch7.ipynb\" target=\"_parent\"><img src=\"https://colab.research.google.com/assets/colab-badge.svg\" alt=\"Open In Colab\"/></a>"
      ]
    },
    {
      "cell_type": "markdown",
      "source": [
        "1. 상속"
      ],
      "metadata": {
        "id": "7qDPgOBAVYJm"
      }
    },
    {
      "cell_type": "code",
      "execution_count": 4,
      "metadata": {
        "id": "HHCF3G1TVR_6"
      },
      "outputs": [],
      "source": [
        "class add_calculator:\n",
        "    def addition(self, x, y):\n",
        "        return x + y\n",
        "\n",
        "class good_calculator(add_calculator):\n",
        "    def substraction(self, x, y):\n",
        "        return x - y"
      ]
    },
    {
      "cell_type": "code",
      "source": [
        "calc1 = add_calculator()\n",
        "calc1.addition(3, 4)"
      ],
      "metadata": {
        "colab": {
          "base_uri": "https://localhost:8080/"
        },
        "id": "0prEojxHV4S-",
        "outputId": "7f4c6bbe-656e-460e-f285-fa26b7e928fb"
      },
      "execution_count": 5,
      "outputs": [
        {
          "output_type": "execute_result",
          "data": {
            "text/plain": [
              "7"
            ]
          },
          "metadata": {},
          "execution_count": 5
        }
      ]
    },
    {
      "cell_type": "code",
      "source": [
        "calc2 = good_calculator()\n",
        "calc2.addition(4, 5)"
      ],
      "metadata": {
        "colab": {
          "base_uri": "https://localhost:8080/"
        },
        "id": "ZR4SmEO6WCOC",
        "outputId": "69a2fd54-1a18-4ef9-bd27-e47c5082d3f4"
      },
      "execution_count": 9,
      "outputs": [
        {
          "output_type": "execute_result",
          "data": {
            "text/plain": [
              "9"
            ]
          },
          "metadata": {},
          "execution_count": 9
        }
      ]
    },
    {
      "cell_type": "code",
      "source": [
        "calc2.substraction(4, 3)"
      ],
      "metadata": {
        "colab": {
          "base_uri": "https://localhost:8080/"
        },
        "id": "TlLTZvKbWWD2",
        "outputId": "5be2ddf9-0ac6-4d45-c2b4-f401953a51c6"
      },
      "execution_count": 8,
      "outputs": [
        {
          "output_type": "execute_result",
          "data": {
            "text/plain": [
              "1"
            ]
          },
          "metadata": {},
          "execution_count": 8
        }
      ]
    },
    {
      "cell_type": "code",
      "source": [
        "# 부모의 기능 불러오기\n",
        "class add_calculator2(add_calculator):\n",
        "    def addition2(self, x, y):\n",
        "        print(super().addition(x, y))\n",
        "        print('또?')\n",
        "        print(super().addition(x, y))"
      ],
      "metadata": {
        "id": "bOLVJ1N1WgSZ"
      },
      "execution_count": 14,
      "outputs": []
    },
    {
      "cell_type": "code",
      "source": [
        "calc3 = add_calculator2()\n",
        "calc3.addition2(5, 5)"
      ],
      "metadata": {
        "colab": {
          "base_uri": "https://localhost:8080/"
        },
        "id": "51yTLaXUXSeu",
        "outputId": "d26b6f3e-2be6-40c4-d40a-e5f1b304764c"
      },
      "execution_count": 15,
      "outputs": [
        {
          "output_type": "stream",
          "name": "stdout",
          "text": [
            "10\n",
            "또?\n",
            "10\n"
          ]
        }
      ]
    },
    {
      "cell_type": "code",
      "source": [
        "# 오버라이딩\n",
        "class add_calculator3(add_calculator):\n",
        "    def addition(self, x, y):\n",
        "        print('이름 동일한 새롭게 정의된 메서드')\n",
        "        return x + y"
      ],
      "metadata": {
        "id": "AJatjrJQYP3k"
      },
      "execution_count": 18,
      "outputs": []
    },
    {
      "cell_type": "code",
      "source": [
        "calc4 = add_calculator3()\n",
        "calc4.addition(3, 3)"
      ],
      "metadata": {
        "colab": {
          "base_uri": "https://localhost:8080/"
        },
        "id": "2xzFIEo4YnQV",
        "outputId": "86f8913a-c7a1-4608-a84b-ce641bb07389"
      },
      "execution_count": 19,
      "outputs": [
        {
          "output_type": "stream",
          "name": "stdout",
          "text": [
            "이름 동일한 새롭게 정의된 메서드\n"
          ]
        },
        {
          "output_type": "execute_result",
          "data": {
            "text/plain": [
              "6"
            ]
          },
          "metadata": {},
          "execution_count": 19
        }
      ]
    },
    {
      "cell_type": "code",
      "source": [
        "# 다중 상속도 가능하다. 만약 상속받은 클래스들 중 메서드 이름이 중복된다면 먼저 선언된 클래스의 메서드를 상속받는다."
      ],
      "metadata": {
        "id": "TKi9n4T7Y8hb"
      },
      "execution_count": null,
      "outputs": []
    },
    {
      "cell_type": "markdown",
      "source": [
        "2. 추상 클래스와 isinstance"
      ],
      "metadata": {
        "id": "Ocdrcf3GZre6"
      }
    },
    {
      "cell_type": "code",
      "source": [
        "# 추상클래스\n",
        "from abc import *\n",
        "class Abstract(metaclass = ABCMeta): # 추상클래스 상속받음\n",
        "    @abstractmethod\n",
        "    def method(self):\n",
        "        pass\n",
        "\n",
        "class test(Abstract):\n",
        "    pass\n",
        "\n",
        "class tests(Abstract):\n",
        "    def method(self):\n",
        "        pass"
      ],
      "metadata": {
        "id": "9DXLEA6UZxXn"
      },
      "execution_count": 26,
      "outputs": []
    },
    {
      "cell_type": "code",
      "source": [
        "test1 = Abstract() # 추상클래스는 객체생성 불가능"
      ],
      "metadata": {
        "colab": {
          "base_uri": "https://localhost:8080/",
          "height": 174
        },
        "id": "M73IKk9VjCw9",
        "outputId": "8d0bf1d2-b79b-48d9-84c2-9bf900ad3014"
      },
      "execution_count": 22,
      "outputs": [
        {
          "output_type": "error",
          "ename": "TypeError",
          "evalue": "ignored",
          "traceback": [
            "\u001b[0;31m---------------------------------------------------------------------------\u001b[0m",
            "\u001b[0;31mTypeError\u001b[0m                                 Traceback (most recent call last)",
            "\u001b[0;32m<ipython-input-22-a68f131e830a>\u001b[0m in \u001b[0;36m<module>\u001b[0;34m\u001b[0m\n\u001b[0;32m----> 1\u001b[0;31m \u001b[0mtest1\u001b[0m \u001b[0;34m=\u001b[0m \u001b[0mAbstract\u001b[0m\u001b[0;34m(\u001b[0m\u001b[0;34m)\u001b[0m\u001b[0;34m\u001b[0m\u001b[0;34m\u001b[0m\u001b[0m\n\u001b[0m",
            "\u001b[0;31mTypeError\u001b[0m: Can't instantiate abstract class Abstract with abstract methods method"
          ]
        }
      ]
    },
    {
      "cell_type": "code",
      "source": [
        "test2 = test() # 추상클래스를 상속받은 클래스는 반드시 추상클래스의 추상메서드를 강제로 만들어야 한다."
      ],
      "metadata": {
        "colab": {
          "base_uri": "https://localhost:8080/",
          "height": 174
        },
        "id": "zIu66M_EjlSu",
        "outputId": "8951171d-d953-46c2-c8e3-1ead5076c394"
      },
      "execution_count": 24,
      "outputs": [
        {
          "output_type": "error",
          "ename": "TypeError",
          "evalue": "ignored",
          "traceback": [
            "\u001b[0;31m---------------------------------------------------------------------------\u001b[0m",
            "\u001b[0;31mTypeError\u001b[0m                                 Traceback (most recent call last)",
            "\u001b[0;32m<ipython-input-24-cb4e8b8f3f6a>\u001b[0m in \u001b[0;36m<module>\u001b[0;34m\u001b[0m\n\u001b[0;32m----> 1\u001b[0;31m \u001b[0mtest2\u001b[0m \u001b[0;34m=\u001b[0m \u001b[0mtest\u001b[0m\u001b[0;34m(\u001b[0m\u001b[0;34m)\u001b[0m \u001b[0;31m# 추상클래스를 상속받은 클래스는 반드시 추상클래스의 추상메서드를 강제로 만들어야 한다.\u001b[0m\u001b[0;34m\u001b[0m\u001b[0;34m\u001b[0m\u001b[0m\n\u001b[0m",
            "\u001b[0;31mTypeError\u001b[0m: Can't instantiate abstract class test with abstract methods method"
          ]
        }
      ]
    },
    {
      "cell_type": "code",
      "source": [
        "test3 = tests() # 오류가 나지 않는다."
      ],
      "metadata": {
        "id": "3NCAp04rkC7H"
      },
      "execution_count": 27,
      "outputs": []
    },
    {
      "cell_type": "code",
      "source": [
        "# isinstance\n",
        "a = 3\n",
        "isinstance(a, int)"
      ],
      "metadata": {
        "colab": {
          "base_uri": "https://localhost:8080/"
        },
        "id": "rioKY-AhkhZH",
        "outputId": "10c4077b-79ed-4a3b-da41-4fae1087e6c4"
      },
      "execution_count": 30,
      "outputs": [
        {
          "output_type": "execute_result",
          "data": {
            "text/plain": [
              "True"
            ]
          },
          "metadata": {},
          "execution_count": 30
        }
      ]
    },
    {
      "cell_type": "code",
      "source": [
        "isinstance(test3, tests)"
      ],
      "metadata": {
        "colab": {
          "base_uri": "https://localhost:8080/"
        },
        "id": "UNg03tUnk2Y3",
        "outputId": "da895da8-1df3-41c9-dbaa-028eeb15e13f"
      },
      "execution_count": 32,
      "outputs": [
        {
          "output_type": "execute_result",
          "data": {
            "text/plain": [
              "True"
            ]
          },
          "metadata": {},
          "execution_count": 32
        }
      ]
    },
    {
      "cell_type": "code",
      "source": [
        "isinstance(test3, int)"
      ],
      "metadata": {
        "colab": {
          "base_uri": "https://localhost:8080/"
        },
        "id": "nORZ96v4lHLQ",
        "outputId": "50206ac7-c57a-42ff-d8b9-c45c7316a9ce"
      },
      "execution_count": 33,
      "outputs": [
        {
          "output_type": "execute_result",
          "data": {
            "text/plain": [
              "False"
            ]
          },
          "metadata": {},
          "execution_count": 33
        }
      ]
    }
  ]
}