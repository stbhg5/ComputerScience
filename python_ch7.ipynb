{
  "nbformat": 4,
  "nbformat_minor": 0,
  "metadata": {
    "colab": {
      "provenance": [],
      "authorship_tag": "ABX9TyOBz9VX1iFvn8hq0ArDbd7Q",
      "include_colab_link": true
    },
    "kernelspec": {
      "name": "python3",
      "display_name": "Python 3"
    },
    "language_info": {
      "name": "python"
    }
  },
  "cells": [
    {
      "cell_type": "markdown",
      "metadata": {
        "id": "view-in-github",
        "colab_type": "text"
      },
      "source": [
        "<a href=\"https://colab.research.google.com/github/stbhg5/ComputerScience/blob/main/python_ch7.ipynb\" target=\"_parent\"><img src=\"https://colab.research.google.com/assets/colab-badge.svg\" alt=\"Open In Colab\"/></a>"
      ]
    },
    {
      "cell_type": "markdown",
      "source": [
        "1. 상속"
      ],
      "metadata": {
        "id": "7qDPgOBAVYJm"
      }
    },
    {
      "cell_type": "code",
      "execution_count": null,
      "metadata": {
        "id": "HHCF3G1TVR_6"
      },
      "outputs": [],
      "source": [
        "class add_calculator:\n",
        "    def addition(self, x, y):\n",
        "        return x + y\n",
        "\n",
        "class good_calculator(add_calculator):\n",
        "    def substraction(self, x, y):\n",
        "        return x - y"
      ]
    },
    {
      "cell_type": "code",
      "source": [
        "calc1 = add_calculator()\n",
        "calc1.addition(3, 4)"
      ],
      "metadata": {
        "colab": {
          "base_uri": "https://localhost:8080/"
        },
        "id": "0prEojxHV4S-",
        "outputId": "7f4c6bbe-656e-460e-f285-fa26b7e928fb"
      },
      "execution_count": null,
      "outputs": [
        {
          "output_type": "execute_result",
          "data": {
            "text/plain": [
              "7"
            ]
          },
          "metadata": {},
          "execution_count": 5
        }
      ]
    },
    {
      "cell_type": "code",
      "source": [
        "calc2 = good_calculator()\n",
        "calc2.addition(4, 5)"
      ],
      "metadata": {
        "colab": {
          "base_uri": "https://localhost:8080/"
        },
        "id": "ZR4SmEO6WCOC",
        "outputId": "69a2fd54-1a18-4ef9-bd27-e47c5082d3f4"
      },
      "execution_count": null,
      "outputs": [
        {
          "output_type": "execute_result",
          "data": {
            "text/plain": [
              "9"
            ]
          },
          "metadata": {},
          "execution_count": 9
        }
      ]
    },
    {
      "cell_type": "code",
      "source": [
        "calc2.substraction(4, 3)"
      ],
      "metadata": {
        "colab": {
          "base_uri": "https://localhost:8080/"
        },
        "id": "TlLTZvKbWWD2",
        "outputId": "5be2ddf9-0ac6-4d45-c2b4-f401953a51c6"
      },
      "execution_count": null,
      "outputs": [
        {
          "output_type": "execute_result",
          "data": {
            "text/plain": [
              "1"
            ]
          },
          "metadata": {},
          "execution_count": 8
        }
      ]
    },
    {
      "cell_type": "code",
      "source": [
        "# 부모의 기능 불러오기\n",
        "class add_calculator2(add_calculator):\n",
        "    def addition2(self, x, y):\n",
        "        print(super().addition(x, y))\n",
        "        print('또?')\n",
        "        print(super().addition(x, y))"
      ],
      "metadata": {
        "id": "bOLVJ1N1WgSZ"
      },
      "execution_count": null,
      "outputs": []
    },
    {
      "cell_type": "code",
      "source": [
        "calc3 = add_calculator2()\n",
        "calc3.addition2(5, 5)"
      ],
      "metadata": {
        "colab": {
          "base_uri": "https://localhost:8080/"
        },
        "id": "51yTLaXUXSeu",
        "outputId": "d26b6f3e-2be6-40c4-d40a-e5f1b304764c"
      },
      "execution_count": null,
      "outputs": [
        {
          "output_type": "stream",
          "name": "stdout",
          "text": [
            "10\n",
            "또?\n",
            "10\n"
          ]
        }
      ]
    },
    {
      "cell_type": "code",
      "source": [
        "# 오버라이딩\n",
        "class add_calculator3(add_calculator):\n",
        "    def addition(self, x, y):\n",
        "        print('이름 동일한 새롭게 정의된 메서드')\n",
        "        return x + y"
      ],
      "metadata": {
        "id": "AJatjrJQYP3k"
      },
      "execution_count": null,
      "outputs": []
    },
    {
      "cell_type": "code",
      "source": [
        "calc4 = add_calculator3()\n",
        "calc4.addition(3, 3)"
      ],
      "metadata": {
        "colab": {
          "base_uri": "https://localhost:8080/"
        },
        "id": "2xzFIEo4YnQV",
        "outputId": "86f8913a-c7a1-4608-a84b-ce641bb07389"
      },
      "execution_count": null,
      "outputs": [
        {
          "output_type": "stream",
          "name": "stdout",
          "text": [
            "이름 동일한 새롭게 정의된 메서드\n"
          ]
        },
        {
          "output_type": "execute_result",
          "data": {
            "text/plain": [
              "6"
            ]
          },
          "metadata": {},
          "execution_count": 19
        }
      ]
    },
    {
      "cell_type": "code",
      "source": [
        "# 다중 상속도 가능하다. 만약 상속받은 클래스들 중 메서드 이름이 중복된다면 먼저 선언된 클래스의 메서드를 상속받는다."
      ],
      "metadata": {
        "id": "TKi9n4T7Y8hb"
      },
      "execution_count": null,
      "outputs": []
    },
    {
      "cell_type": "markdown",
      "source": [
        "2. 추상 클래스와 isinstance"
      ],
      "metadata": {
        "id": "Ocdrcf3GZre6"
      }
    },
    {
      "cell_type": "code",
      "source": [
        "# 추상클래스\n",
        "from abc import *\n",
        "class Abstract(metaclass = ABCMeta): # 추상클래스 상속받음\n",
        "    @abstractmethod\n",
        "    def method(self):\n",
        "        pass\n",
        "\n",
        "class test(Abstract):\n",
        "    pass\n",
        "\n",
        "class tests(Abstract):\n",
        "    def method(self):\n",
        "        pass"
      ],
      "metadata": {
        "id": "9DXLEA6UZxXn"
      },
      "execution_count": null,
      "outputs": []
    },
    {
      "cell_type": "code",
      "source": [
        "test1 = Abstract() # 추상클래스는 객체생성 불가능"
      ],
      "metadata": {
        "colab": {
          "base_uri": "https://localhost:8080/",
          "height": 174
        },
        "id": "M73IKk9VjCw9",
        "outputId": "8d0bf1d2-b79b-48d9-84c2-9bf900ad3014"
      },
      "execution_count": null,
      "outputs": [
        {
          "output_type": "error",
          "ename": "TypeError",
          "evalue": "ignored",
          "traceback": [
            "\u001b[0;31m---------------------------------------------------------------------------\u001b[0m",
            "\u001b[0;31mTypeError\u001b[0m                                 Traceback (most recent call last)",
            "\u001b[0;32m<ipython-input-22-a68f131e830a>\u001b[0m in \u001b[0;36m<module>\u001b[0;34m\u001b[0m\n\u001b[0;32m----> 1\u001b[0;31m \u001b[0mtest1\u001b[0m \u001b[0;34m=\u001b[0m \u001b[0mAbstract\u001b[0m\u001b[0;34m(\u001b[0m\u001b[0;34m)\u001b[0m\u001b[0;34m\u001b[0m\u001b[0;34m\u001b[0m\u001b[0m\n\u001b[0m",
            "\u001b[0;31mTypeError\u001b[0m: Can't instantiate abstract class Abstract with abstract methods method"
          ]
        }
      ]
    },
    {
      "cell_type": "code",
      "source": [
        "test2 = test() # 추상클래스를 상속받은 클래스는 반드시 추상클래스의 추상메서드를 강제로 만들어야 한다."
      ],
      "metadata": {
        "colab": {
          "base_uri": "https://localhost:8080/",
          "height": 174
        },
        "id": "zIu66M_EjlSu",
        "outputId": "8951171d-d953-46c2-c8e3-1ead5076c394"
      },
      "execution_count": null,
      "outputs": [
        {
          "output_type": "error",
          "ename": "TypeError",
          "evalue": "ignored",
          "traceback": [
            "\u001b[0;31m---------------------------------------------------------------------------\u001b[0m",
            "\u001b[0;31mTypeError\u001b[0m                                 Traceback (most recent call last)",
            "\u001b[0;32m<ipython-input-24-cb4e8b8f3f6a>\u001b[0m in \u001b[0;36m<module>\u001b[0;34m\u001b[0m\n\u001b[0;32m----> 1\u001b[0;31m \u001b[0mtest2\u001b[0m \u001b[0;34m=\u001b[0m \u001b[0mtest\u001b[0m\u001b[0;34m(\u001b[0m\u001b[0;34m)\u001b[0m \u001b[0;31m# 추상클래스를 상속받은 클래스는 반드시 추상클래스의 추상메서드를 강제로 만들어야 한다.\u001b[0m\u001b[0;34m\u001b[0m\u001b[0;34m\u001b[0m\u001b[0m\n\u001b[0m",
            "\u001b[0;31mTypeError\u001b[0m: Can't instantiate abstract class test with abstract methods method"
          ]
        }
      ]
    },
    {
      "cell_type": "code",
      "source": [
        "test3 = tests() # 오류가 나지 않는다."
      ],
      "metadata": {
        "id": "3NCAp04rkC7H"
      },
      "execution_count": null,
      "outputs": []
    },
    {
      "cell_type": "code",
      "source": [
        "# isinstance\n",
        "a = 3\n",
        "isinstance(a, int)"
      ],
      "metadata": {
        "colab": {
          "base_uri": "https://localhost:8080/"
        },
        "id": "rioKY-AhkhZH",
        "outputId": "10c4077b-79ed-4a3b-da41-4fae1087e6c4"
      },
      "execution_count": null,
      "outputs": [
        {
          "output_type": "execute_result",
          "data": {
            "text/plain": [
              "True"
            ]
          },
          "metadata": {},
          "execution_count": 30
        }
      ]
    },
    {
      "cell_type": "code",
      "source": [
        "isinstance(test3, tests)"
      ],
      "metadata": {
        "colab": {
          "base_uri": "https://localhost:8080/"
        },
        "id": "UNg03tUnk2Y3",
        "outputId": "da895da8-1df3-41c9-dbaa-028eeb15e13f"
      },
      "execution_count": null,
      "outputs": [
        {
          "output_type": "execute_result",
          "data": {
            "text/plain": [
              "True"
            ]
          },
          "metadata": {},
          "execution_count": 32
        }
      ]
    },
    {
      "cell_type": "code",
      "source": [
        "isinstance(test3, int)"
      ],
      "metadata": {
        "colab": {
          "base_uri": "https://localhost:8080/"
        },
        "id": "nORZ96v4lHLQ",
        "outputId": "50206ac7-c57a-42ff-d8b9-c45c7316a9ce"
      },
      "execution_count": null,
      "outputs": [
        {
          "output_type": "execute_result",
          "data": {
            "text/plain": [
              "False"
            ]
          },
          "metadata": {},
          "execution_count": 33
        }
      ]
    },
    {
      "cell_type": "markdown",
      "source": [
        "3. 예외 처리"
      ],
      "metadata": {
        "id": "2n8MTE1L6z46"
      }
    },
    {
      "cell_type": "code",
      "source": [
        "# 에러\n",
        "1 / 0"
      ],
      "metadata": {
        "colab": {
          "base_uri": "https://localhost:8080/",
          "height": 174
        },
        "id": "K3NwUn0M7vsx",
        "outputId": "17d0cbc1-1f90-4e54-9732-567c564d0244"
      },
      "execution_count": 7,
      "outputs": [
        {
          "output_type": "error",
          "ename": "ZeroDivisionError",
          "evalue": "ignored",
          "traceback": [
            "\u001b[0;31m---------------------------------------------------------------------------\u001b[0m",
            "\u001b[0;31mZeroDivisionError\u001b[0m                         Traceback (most recent call last)",
            "\u001b[0;32m<ipython-input-7-bc757c3fda29>\u001b[0m in \u001b[0;36m<module>\u001b[0;34m\u001b[0m\n\u001b[0;32m----> 1\u001b[0;31m \u001b[0;36m1\u001b[0m \u001b[0;34m/\u001b[0m \u001b[0;36m0\u001b[0m\u001b[0;34m\u001b[0m\u001b[0;34m\u001b[0m\u001b[0m\n\u001b[0m",
            "\u001b[0;31mZeroDivisionError\u001b[0m: division by zero"
          ]
        }
      ]
    },
    {
      "cell_type": "code",
      "source": [
        "try:\n",
        "    1 / 0\n",
        "except:\n",
        "    print('에러지롱')"
      ],
      "metadata": {
        "colab": {
          "base_uri": "https://localhost:8080/"
        },
        "id": "G_2Ioofj62cp",
        "outputId": "19ee93d8-3753-4f8c-f7e2-979e636b2de9"
      },
      "execution_count": 5,
      "outputs": [
        {
          "output_type": "stream",
          "name": "stdout",
          "text": [
            "에러지롱\n"
          ]
        }
      ]
    },
    {
      "cell_type": "code",
      "source": [
        "try:\n",
        "    1 / 0\n",
        "except Exception as e:\n",
        "    print(e)\n",
        "    print('에러지롱')"
      ],
      "metadata": {
        "colab": {
          "base_uri": "https://localhost:8080/"
        },
        "id": "mWmWP50379-K",
        "outputId": "df3f2104-61ed-4898-979a-98149e739b11"
      },
      "execution_count": 8,
      "outputs": [
        {
          "output_type": "stream",
          "name": "stdout",
          "text": [
            "division by zero\n",
            "에러지롱\n"
          ]
        }
      ]
    },
    {
      "cell_type": "code",
      "source": [
        "# 강제 에러 발생\n",
        "raise Exception('내가 만든 에러')"
      ],
      "metadata": {
        "colab": {
          "base_uri": "https://localhost:8080/",
          "height": 174
        },
        "id": "BJJTvCKD86wF",
        "outputId": "9dc31de3-852c-4a37-96bb-91a675950f30"
      },
      "execution_count": 9,
      "outputs": [
        {
          "output_type": "error",
          "ename": "Exception",
          "evalue": "ignored",
          "traceback": [
            "\u001b[0;31m---------------------------------------------------------------------------\u001b[0m",
            "\u001b[0;31mException\u001b[0m                                 Traceback (most recent call last)",
            "\u001b[0;32m<ipython-input-9-04b2f0b9af1e>\u001b[0m in \u001b[0;36m<module>\u001b[0;34m\u001b[0m\n\u001b[0;32m----> 1\u001b[0;31m \u001b[0;32mraise\u001b[0m \u001b[0mException\u001b[0m\u001b[0;34m(\u001b[0m\u001b[0;34m'내가 만든 에러'\u001b[0m\u001b[0;34m)\u001b[0m\u001b[0;34m\u001b[0m\u001b[0;34m\u001b[0m\u001b[0m\n\u001b[0m",
            "\u001b[0;31mException\u001b[0m: 내가 만든 에러"
          ]
        }
      ]
    },
    {
      "cell_type": "code",
      "source": [
        "# 조건 불만족시 에러 발생\n",
        "a = 3\n",
        "assert a >= 10, '값이 너무 작습니다'"
      ],
      "metadata": {
        "colab": {
          "base_uri": "https://localhost:8080/",
          "height": 193
        },
        "id": "RYIvZ3Xl9KCP",
        "outputId": "5f4c6fa8-52ca-442e-ec72-4123279ead74"
      },
      "execution_count": 10,
      "outputs": [
        {
          "output_type": "error",
          "ename": "AssertionError",
          "evalue": "ignored",
          "traceback": [
            "\u001b[0;31m---------------------------------------------------------------------------\u001b[0m",
            "\u001b[0;31mAssertionError\u001b[0m                            Traceback (most recent call last)",
            "\u001b[0;32m<ipython-input-10-35a08dffddab>\u001b[0m in \u001b[0;36m<module>\u001b[0;34m\u001b[0m\n\u001b[1;32m      1\u001b[0m \u001b[0ma\u001b[0m \u001b[0;34m=\u001b[0m \u001b[0;36m3\u001b[0m\u001b[0;34m\u001b[0m\u001b[0;34m\u001b[0m\u001b[0m\n\u001b[0;32m----> 2\u001b[0;31m \u001b[0;32massert\u001b[0m \u001b[0ma\u001b[0m \u001b[0;34m>=\u001b[0m \u001b[0;36m10\u001b[0m\u001b[0;34m,\u001b[0m \u001b[0;34m'값이 너무 작습니다'\u001b[0m\u001b[0;34m\u001b[0m\u001b[0;34m\u001b[0m\u001b[0m\n\u001b[0m",
            "\u001b[0;31mAssertionError\u001b[0m: 값이 너무 작습니다"
          ]
        }
      ]
    },
    {
      "cell_type": "code",
      "source": [
        "a = 13\n",
        "assert a >= 10, '값이 너무 작습니다'"
      ],
      "metadata": {
        "id": "czpjAyG29ln-"
      },
      "execution_count": 11,
      "outputs": []
    },
    {
      "cell_type": "markdown",
      "source": [
        "4. 실전 문제풀이"
      ],
      "metadata": {
        "id": "6v2f0ao69seh"
      }
    },
    {
      "cell_type": "code",
      "source": [
        "# 추상클래스는 ABCMeta를 상속 받고 추상메소드가 있어야 함\n",
        "from abc import ABCMeta, abstractmethod\n",
        "class Abstract1(metaclass = ABCMeta):\n",
        "    attr = '추상클래스'\n",
        "    @abstractmethod\n",
        "    def m1(self): # 반드시 상속 받아야 함\n",
        "        pass\n",
        "    def m2(self): # 상속받지 않아도 됨\n",
        "        print('대박')\n",
        "#추상클래스는 객체를 못 만듬\n",
        "a1 = Abstract1()"
      ],
      "metadata": {
        "colab": {
          "base_uri": "https://localhost:8080/",
          "height": 211
        },
        "id": "K3iCRi3n9u9m",
        "outputId": "8fe93b93-3622-4efa-caf8-ea671dde19c5"
      },
      "execution_count": 12,
      "outputs": [
        {
          "output_type": "error",
          "ename": "TypeError",
          "evalue": "ignored",
          "traceback": [
            "\u001b[0;31m---------------------------------------------------------------------------\u001b[0m",
            "\u001b[0;31mTypeError\u001b[0m                                 Traceback (most recent call last)",
            "\u001b[0;32m<ipython-input-12-3c42cfa316ab>\u001b[0m in \u001b[0;36m<module>\u001b[0;34m\u001b[0m\n\u001b[1;32m      9\u001b[0m         \u001b[0mprint\u001b[0m\u001b[0;34m(\u001b[0m\u001b[0;34m'대박'\u001b[0m\u001b[0;34m)\u001b[0m\u001b[0;34m\u001b[0m\u001b[0;34m\u001b[0m\u001b[0m\n\u001b[1;32m     10\u001b[0m \u001b[0;31m#추상클래스는 객체를 못 만듬\u001b[0m\u001b[0;34m\u001b[0m\u001b[0;34m\u001b[0m\u001b[0;34m\u001b[0m\u001b[0m\n\u001b[0;32m---> 11\u001b[0;31m \u001b[0ma1\u001b[0m \u001b[0;34m=\u001b[0m \u001b[0mAbstract1\u001b[0m\u001b[0;34m(\u001b[0m\u001b[0;34m)\u001b[0m\u001b[0;34m\u001b[0m\u001b[0;34m\u001b[0m\u001b[0m\n\u001b[0m",
            "\u001b[0;31mTypeError\u001b[0m: Can't instantiate abstract class Abstract1 with abstract methods m1"
          ]
        }
      ]
    },
    {
      "cell_type": "code",
      "source": [
        "from abc import *\n",
        "class A(metaclass = ABCMeta):\n",
        "    def prn(self): # 추상 클래스에 일반 메서드 정의하는 것도 의미가 있다. 상속되기 때문.\n",
        "        print('대박')\n",
        "    @abstractmethod\n",
        "    def p2(self):\n",
        "        pass\n",
        "# 추상클래스를 상속 받은 클래스는 반드시 추상메소드를 재정의\n",
        "class A1(A):\n",
        "    def aa(self):\n",
        "        print('사건')\n",
        "    def p2(self):\n",
        "        print('아 이건 필수네')\n",
        "a1 = A1()\n",
        "a1.aa()\n",
        "a1.p2()\n",
        "a1.prn()"
      ],
      "metadata": {
        "colab": {
          "base_uri": "https://localhost:8080/"
        },
        "id": "50ehwwPX-kuw",
        "outputId": "6671c66e-3b6b-4971-d4ce-33fb33886a43"
      },
      "execution_count": 14,
      "outputs": [
        {
          "output_type": "stream",
          "name": "stdout",
          "text": [
            "사건\n",
            "아 이건 필수네\n",
            "대박\n"
          ]
        }
      ]
    },
    {
      "cell_type": "code",
      "source": [
        "from abc import *\n",
        "class Animal(metaclass = ABCMeta):\n",
        "    def __init__(self, eat1 = '그냥'): # 생성자\n",
        "        self.eat1 = eat1\n",
        "    def eat(self): print('먹어야 산다')\n",
        "    # 추상메서드 상속받은 자식이 재정의 해야 한다\n",
        "    @abstractmethod\n",
        "    def move(self): pass\n",
        "class Bird(Animal):\n",
        "    def move(self):\n",
        "        print('하늘을 난다 {}'.format(self.eat1))\n",
        "class Person(Animal):\n",
        "    def move(self): print('두발로 걷는다 {}'.format(self.eat1))\n",
        "class Fish(Animal):\n",
        "    def move(self): print('지느러미로 헤엄친다')\n",
        "b1 = Bird()\n",
        "p1 = Person('대박')\n",
        "f1 = Fish()\n",
        "animal = [b1, p1, f1]\n",
        "for an in animal:\n",
        "    print('==============')\n",
        "    an.eat()\n",
        "    an.move()"
      ],
      "metadata": {
        "colab": {
          "base_uri": "https://localhost:8080/"
        },
        "id": "o_iKDxFU_PiU",
        "outputId": "b784dfc7-2210-4610-a9c6-9587bfb36e31"
      },
      "execution_count": 19,
      "outputs": [
        {
          "output_type": "stream",
          "name": "stdout",
          "text": [
            "==============\n",
            "먹어야 산다\n",
            "하늘을 난다 그냥\n",
            "==============\n",
            "먹어야 산다\n",
            "두발로 걷는다 대박\n",
            "==============\n",
            "먹어야 산다\n",
            "지느러미로 헤엄친다\n"
          ]
        }
      ]
    },
    {
      "cell_type": "code",
      "source": [
        "# 클래스의 상속\n",
        "class A:\n",
        "    def m1(self):\n",
        "        print('점심시간')\n",
        "    def m2(self):\n",
        "        print('내가 니 엄마다')\n",
        "\n",
        "class B(A):\n",
        "    def m2(self):\n",
        "        print('1차 프로젝트 종료일')\n",
        "\n",
        "class C(B):\n",
        "    def m3(self):\n",
        "        super().m2() # 바로 위 부모의 메서드 호출\n",
        "        print('뭘 그래')\n",
        "\n",
        "c1 = C()\n",
        "c1.m1()\n",
        "c1.m2()\n",
        "c1.m3()"
      ],
      "metadata": {
        "colab": {
          "base_uri": "https://localhost:8080/"
        },
        "id": "niVbaFyqBBMz",
        "outputId": "bddd1f6f-9b4b-401f-c13e-cd9a7784c6b9"
      },
      "execution_count": 24,
      "outputs": [
        {
          "output_type": "stream",
          "name": "stdout",
          "text": [
            "점심시간\n",
            "1차 프로젝트 종료일\n",
            "1차 프로젝트 종료일\n",
            "뭘 그래\n"
          ]
        }
      ]
    },
    {
      "cell_type": "code",
      "source": [
        "class Call:\n",
        "    # __call__: 객체를 메서드처럼 호출할 때 실행, 즉 객체 스스로를 메서드처럼 호출\n",
        "    def __call__(self, *a):\n",
        "        print('대박이야 :')\n",
        "        for i in a:\n",
        "            print(i)\n",
        "c1 = Call()\n",
        "c1()\n",
        "c1(1)\n",
        "c1('뭐지', '허걱', '허각', '허공')"
      ],
      "metadata": {
        "colab": {
          "base_uri": "https://localhost:8080/"
        },
        "id": "aj5qWEhxCRFC",
        "outputId": "1493b643-d38d-4745-a719-c5e8c069017a"
      },
      "execution_count": 26,
      "outputs": [
        {
          "output_type": "stream",
          "name": "stdout",
          "text": [
            "대박이야 :\n",
            "대박이야 :\n",
            "1\n",
            "대박이야 :\n",
            "뭐지\n",
            "허걱\n",
            "허각\n",
            "허공\n"
          ]
        }
      ]
    },
    {
      "cell_type": "code",
      "source": [
        "while True:\n",
        "    try:\n",
        "        li = [1, 2, 3]\n",
        "        print('인덱스 번호를 입력하세요')\n",
        "        num1 = input()\n",
        "        if num1 == 'x': break\n",
        "        num = int(num1)\n",
        "        print('{} / 2 = {}'.format(li[num], li[num] / 2))\n",
        "    except Exception as err:\n",
        "        print('에러다 {}'.format(err))\n",
        "    else: # 에러가 발생하지 않았을 때 할 실행문\n",
        "        print('잘했어 친구')\n",
        "    finally: # 에러 발생여부와 관계없이 항상 실행, break에 상관없이 출력되는 것을 볼 수 있다.\n",
        "        print('난 무조건이야 !!')"
      ],
      "metadata": {
        "colab": {
          "base_uri": "https://localhost:8080/"
        },
        "id": "YTOMf0bHCwGl",
        "outputId": "dc04c376-bfe7-4380-fa89-440bac554b24"
      },
      "execution_count": 27,
      "outputs": [
        {
          "output_type": "stream",
          "name": "stdout",
          "text": [
            "인덱스 번호를 입력하세요\n",
            "1\n",
            "2 / 2 = 1.0\n",
            "잘했어 친구\n",
            "난 무조건이야 !!\n",
            "인덱스 번호를 입력하세요\n",
            "사\n",
            "에러다 invalid literal for int() with base 10: '사'\n",
            "난 무조건이야 !!\n",
            "인덱스 번호를 입력하세요\n",
            "2\n",
            "3 / 2 = 1.5\n",
            "잘했어 친구\n",
            "난 무조건이야 !!\n",
            "인덱스 번호를 입력하세요\n",
            "0\n",
            "1 / 2 = 0.5\n",
            "잘했어 친구\n",
            "난 무조건이야 !!\n",
            "인덱스 번호를 입력하세요\n",
            "3\n",
            "에러다 list index out of range\n",
            "난 무조건이야 !!\n",
            "인덱스 번호를 입력하세요\n",
            "x\n",
            "난 무조건이야 !!\n"
          ]
        }
      ]
    },
    {
      "cell_type": "code",
      "source": [
        "from abc import *\n",
        "class Employ(metaclass = ABCMeta):\n",
        "    def __init__(self, name): \n",
        "        self.name = name\n",
        "    # 직원마다 급여체계가 다르다\n",
        "    @abstractmethod\n",
        "    def cal_sal(self):\n",
        "        pass\n",
        "    def bonus(self):\n",
        "        self.sal = self.cal_sal()\n",
        "        self.bonus = self.sal * 0.1\n",
        "    def prn(self):\n",
        "        print('----------')\n",
        "        print('이름 : {}'.format(self.name))\n",
        "        print('급여 : {0:.2f}원'.format(self.sal))\n",
        "        print('보너스 : {0:.2f}원'.format(self.bonus))\n",
        "class SalaryMan(Employ):\n",
        "    def __init__(self, name, annual):\n",
        "        super().__init__(name); self.annual = annual\n",
        "    def cal_sal(self): return self.annual / 12\n",
        "    def prn(self):\n",
        "        super().prn()\n",
        "        print('연봉 : {}원'.format(self.annual))\n",
        "class HourlyMan(Employ):\n",
        "    def __init__(self, name, work_hour, money_per_hour):\n",
        "        super().__init__(name)\n",
        "        self.work_hour = work_hour\n",
        "        self.money_per_hour = money_per_hour\n",
        "    def cal_sal(self): return self.work_hour * self.money_per_hour\n",
        "    def prn(self):\n",
        "        super().prn()\n",
        "        print('단가 : {}원'.format(self.money_per_hour))\n",
        "        print('근무 : {}시간'.format(self.work_hour))\n",
        "s1 = SalaryMan('유느님', 500000)\n",
        "s2 = SalaryMan('신동엽', 400000)\n",
        "s3 = SalaryMan('이영자', 380000)\n",
        "h1 = HourlyMan('알리', 15, 22000)\n",
        "h2 = HourlyMan('IU', 10, 25000)\n",
        "h3 = HourlyMan('제니', 5, 18000)\n",
        "emps = [s1, s2, s3, h1, h2, h3]\n",
        "for emp in emps:\n",
        "    emp.bonus()\n",
        "    emp.prn()"
      ],
      "metadata": {
        "colab": {
          "base_uri": "https://localhost:8080/"
        },
        "id": "srXVhRysEnBr",
        "outputId": "8447535d-03c3-4471-9943-a2984628c503"
      },
      "execution_count": 28,
      "outputs": [
        {
          "output_type": "stream",
          "name": "stdout",
          "text": [
            "----------\n",
            "이름 : 유느님\n",
            "급여 : 41666.67원\n",
            "보너스 : 4166.67원\n",
            "연봉 : 500000원\n",
            "----------\n",
            "이름 : 신동엽\n",
            "급여 : 33333.33원\n",
            "보너스 : 3333.33원\n",
            "연봉 : 400000원\n",
            "----------\n",
            "이름 : 이영자\n",
            "급여 : 31666.67원\n",
            "보너스 : 3166.67원\n",
            "연봉 : 380000원\n",
            "----------\n",
            "이름 : 알리\n",
            "급여 : 330000.00원\n",
            "보너스 : 33000.00원\n",
            "단가 : 22000원\n",
            "근무 : 15시간\n",
            "----------\n",
            "이름 : IU\n",
            "급여 : 250000.00원\n",
            "보너스 : 25000.00원\n",
            "단가 : 25000원\n",
            "근무 : 10시간\n",
            "----------\n",
            "이름 : 제니\n",
            "급여 : 90000.00원\n",
            "보너스 : 9000.00원\n",
            "단가 : 18000원\n",
            "근무 : 5시간\n"
          ]
        }
      ]
    },
    {
      "cell_type": "code",
      "source": [
        "result = 0\n",
        "try: # 0 1 2 index 3번째 데이터 없기 때문에\n",
        "    # [1, 2, 3][3] # 에러결과 : 7\n",
        "    # \"a\" + 1 # 에러결과 : 5\n",
        "    4 / 0 # 에러결과 : 6\n",
        "# Exception 클래스의 하위(상속받은) 클래스들\n",
        "except TypeError: result += 1; print('에러1') # 에러 클래스명 특정할 수 있다. 즉, 에러 종류 특정 가능. 에러도 객체다.\n",
        "except ZeroDivisionError: result += 2; print('에러2')\n",
        "except IndexError: result += 3; print('에러3')\n",
        "finally:\n",
        "    result += 4\n",
        "print(result)"
      ],
      "metadata": {
        "colab": {
          "base_uri": "https://localhost:8080/"
        },
        "id": "796JF8XRGjYU",
        "outputId": "e96e9b6b-b48b-4366-8fd8-797e0843d022"
      },
      "execution_count": 36,
      "outputs": [
        {
          "output_type": "stream",
          "name": "stdout",
          "text": [
            "에러2\n",
            "6\n"
          ]
        }
      ]
    },
    {
      "cell_type": "code",
      "source": [
        "class Base:\n",
        "    def m1(self):\n",
        "        print('대박')\n",
        "class Derived(Base): # 파이썬의 상속은 ()\n",
        "    def m2(self):\n",
        "        print('사건')\n",
        "if __name__ == '__main__':\n",
        "    b1 = Base(); b1.m1(); # b1.m2() # Base에 m2라는 메소드가 없음\n",
        "    d1 = Derived(); d1.m1(); d1.m2()\n",
        "    # Derived에 없는 메소드 m1()이 실행되는 이유는 상속"
      ],
      "metadata": {
        "colab": {
          "base_uri": "https://localhost:8080/"
        },
        "id": "omKXtsFtJ20V",
        "outputId": "a076e7f8-5ec8-4915-99be-8852dab6b9b3"
      },
      "execution_count": 37,
      "outputs": [
        {
          "output_type": "stream",
          "name": "stdout",
          "text": [
            "대박\n",
            "대박\n",
            "사건\n"
          ]
        }
      ]
    },
    {
      "cell_type": "code",
      "source": [
        "# Exception 클래스 상속받아 나만의 에러 만들기\n",
        "class MyException(Exception):\n",
        "    def __init__(self, arg):\n",
        "        super().__init__('정수가 아녀 : {}'.format(arg))\n",
        "\n",
        "def conver(num):\n",
        "    if num.isdigit():\n",
        "        return int(num)\n",
        "    else:\n",
        "        raise MyException(num)\n",
        "\n",
        "try:\n",
        "    print('숫자를 입력하세요')\n",
        "    num = input()\n",
        "    a = conver(num)\n",
        "except MyException as err:\n",
        "    print('에러네 : {}'.format(err))\n",
        "else:\n",
        "    print('입력한 수 {} 타입 {}'.format(a, type(a)))"
      ],
      "metadata": {
        "colab": {
          "base_uri": "https://localhost:8080/"
        },
        "id": "BW1b8DIjKRcY",
        "outputId": "aa8913d1-418e-4c08-81e5-19b04df129a6"
      },
      "execution_count": 41,
      "outputs": [
        {
          "output_type": "stream",
          "name": "stdout",
          "text": [
            "숫자를 입력하세요\n",
            "1\n",
            "입력한 수 1 타입 <class 'int'>\n"
          ]
        }
      ]
    },
    {
      "cell_type": "code",
      "source": [
        "# 만든 에러\n",
        "class TestException(Exception):\n",
        "    def __init__(self):\n",
        "        super().__init__('에러 발생')\n",
        "\n",
        "raise TestException()"
      ],
      "metadata": {
        "colab": {
          "base_uri": "https://localhost:8080/",
          "height": 211
        },
        "id": "qvvapvwpdx3u",
        "outputId": "27470997-a5d2-4994-ded6-c101b41d51a0"
      },
      "execution_count": 47,
      "outputs": [
        {
          "output_type": "error",
          "ename": "TestException",
          "evalue": "ignored",
          "traceback": [
            "\u001b[0;31m---------------------------------------------------------------------------\u001b[0m",
            "\u001b[0;31mTestException\u001b[0m                             Traceback (most recent call last)",
            "\u001b[0;32m<ipython-input-47-2a91b9c62fad>\u001b[0m in \u001b[0;36m<module>\u001b[0;34m\u001b[0m\n\u001b[1;32m      3\u001b[0m         \u001b[0msuper\u001b[0m\u001b[0;34m(\u001b[0m\u001b[0;34m)\u001b[0m\u001b[0;34m.\u001b[0m\u001b[0m__init__\u001b[0m\u001b[0;34m(\u001b[0m\u001b[0;34m'에러 발생'\u001b[0m\u001b[0;34m)\u001b[0m\u001b[0;34m\u001b[0m\u001b[0;34m\u001b[0m\u001b[0m\n\u001b[1;32m      4\u001b[0m \u001b[0;34m\u001b[0m\u001b[0m\n\u001b[0;32m----> 5\u001b[0;31m \u001b[0;32mraise\u001b[0m \u001b[0mTestException\u001b[0m\u001b[0;34m(\u001b[0m\u001b[0;34m)\u001b[0m\u001b[0;34m\u001b[0m\u001b[0;34m\u001b[0m\u001b[0m\n\u001b[0m",
            "\u001b[0;31mTestException\u001b[0m: 에러 발생"
          ]
        }
      ]
    }
  ]
}