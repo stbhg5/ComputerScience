{
  "nbformat": 4,
  "nbformat_minor": 0,
  "metadata": {
    "colab": {
      "provenance": [],
      "authorship_tag": "ABX9TyMeeKACqdhsIcH4yeYfk1+Z",
      "include_colab_link": true
    },
    "kernelspec": {
      "name": "python3",
      "display_name": "Python 3"
    },
    "language_info": {
      "name": "python"
    }
  },
  "cells": [
    {
      "cell_type": "markdown",
      "metadata": {
        "id": "view-in-github",
        "colab_type": "text"
      },
      "source": [
        "<a href=\"https://colab.research.google.com/github/stbhg5/ComputerScience/blob/main/python_ch8.ipynb\" target=\"_parent\"><img src=\"https://colab.research.google.com/assets/colab-badge.svg\" alt=\"Open In Colab\"/></a>"
      ]
    },
    {
      "cell_type": "markdown",
      "source": [
        "1. 읽기/쓰기와 인코딩"
      ],
      "metadata": {
        "id": "7oi5x4j55lcm"
      }
    },
    {
      "cell_type": "code",
      "execution_count": null,
      "metadata": {
        "colab": {
          "base_uri": "https://localhost:8080/",
          "height": 35
        },
        "id": "N1IUpbhE5hFA",
        "outputId": "722af708-7185-4bfa-a2d4-61d4900c38dc"
      },
      "outputs": [
        {
          "output_type": "execute_result",
          "data": {
            "text/plain": [
              "'/content'"
            ],
            "application/vnd.google.colaboratory.intrinsic+json": {
              "type": "string"
            }
          },
          "metadata": {},
          "execution_count": 2
        }
      ],
      "source": [
        "import os\n",
        "os.getcwd() # 현재 폴더의 위치, 폴더구분 기호가 /인것을 보면 구글코랩은 리눅스 아니면 맥임을 알 수 있다"
      ]
    },
    {
      "cell_type": "code",
      "source": [
        "print('\\\\') # eacape 문자\n",
        "print('D:\\\\Developer\\\\Microsoft VS Code')\n",
        "'current_folder' # './current_foler'와 같다."
      ],
      "metadata": {
        "colab": {
          "base_uri": "https://localhost:8080/",
          "height": 72
        },
        "id": "J3cIr56vJfkQ",
        "outputId": "590a7653-9ec6-42cc-f0c1-e4deccc71648"
      },
      "execution_count": null,
      "outputs": [
        {
          "output_type": "stream",
          "name": "stdout",
          "text": [
            "\\\n",
            "D:\\Developer\\Microsoft VS Code\n"
          ]
        },
        {
          "output_type": "execute_result",
          "data": {
            "text/plain": [
              "'current_folder'"
            ],
            "application/vnd.google.colaboratory.intrinsic+json": {
              "type": "string"
            }
          },
          "metadata": {},
          "execution_count": 14
        }
      ]
    },
    {
      "cell_type": "code",
      "source": [
        "file = open('test.txt') # 상대경로\n",
        "# file = open('./test.txt') # 현재폴더로 같다.\n",
        "print(file.read())"
      ],
      "metadata": {
        "colab": {
          "base_uri": "https://localhost:8080/"
        },
        "id": "lePeu38pL9nH",
        "outputId": "5dcfd2ba-a527-4f0e-f486-b8367cf713e1"
      },
      "execution_count": null,
      "outputs": [
        {
          "output_type": "stream",
          "name": "stdout",
          "text": [
            "test\n"
          ]
        }
      ]
    },
    {
      "cell_type": "code",
      "source": [
        "file.close()"
      ],
      "metadata": {
        "id": "GqRpSu4rMIOp"
      },
      "execution_count": null,
      "outputs": []
    },
    {
      "cell_type": "code",
      "source": [
        "file = open('../test.txt') # content의 상위폴더인 루트폴더로 간다.\n",
        "print(file.read())\n",
        "file.close()"
      ],
      "metadata": {
        "colab": {
          "base_uri": "https://localhost:8080/"
        },
        "id": "F-JkcN8QMo0s",
        "outputId": "82785b5c-9858-4706-f3e5-3b905a40765a"
      },
      "execution_count": null,
      "outputs": [
        {
          "output_type": "stream",
          "name": "stdout",
          "text": [
            "test\n"
          ]
        }
      ]
    },
    {
      "cell_type": "code",
      "source": [
        "file = open('/content/test.txt') # 절대경로\n",
        "print(file.read())\n",
        "file.close()"
      ],
      "metadata": {
        "colab": {
          "base_uri": "https://localhost:8080/"
        },
        "id": "jTXE1Je3NJLG",
        "outputId": "bcf0c13f-61f5-42b8-c39d-813296777f85"
      },
      "execution_count": null,
      "outputs": [
        {
          "output_type": "stream",
          "name": "stdout",
          "text": [
            "test\n"
          ]
        }
      ]
    },
    {
      "cell_type": "code",
      "source": [
        "# readlines()\n",
        "file = open('test.txt')\n",
        "result = file.readlines() # 리스트가 됨\n",
        "print(result)\n",
        "file.close()"
      ],
      "metadata": {
        "colab": {
          "base_uri": "https://localhost:8080/"
        },
        "id": "6mRa6kWZNxEA",
        "outputId": "b7e67204-4d3a-4c7a-c2f1-ad2b42bd19ab"
      },
      "execution_count": null,
      "outputs": [
        {
          "output_type": "stream",
          "name": "stdout",
          "text": [
            "['test\\n', 'line2\\n', 'line3\\n', 'line4']\n"
          ]
        }
      ]
    },
    {
      "cell_type": "code",
      "source": [
        "# readline()\n",
        "file = open('test.txt')\n",
        "line1 = file.readline()\n",
        "line2 = file.readline()\n",
        "print(line1)\n",
        "print(line2)"
      ],
      "metadata": {
        "colab": {
          "base_uri": "https://localhost:8080/"
        },
        "id": "Yc24z3l9O30T",
        "outputId": "a8cbb71e-7ae8-415d-a123-478b895ee126"
      },
      "execution_count": null,
      "outputs": [
        {
          "output_type": "stream",
          "name": "stdout",
          "text": [
            "test\n",
            "\n",
            "line2\n",
            "\n"
          ]
        }
      ]
    },
    {
      "cell_type": "code",
      "source": [
        "file.readline() # 재호출시 다음 라인 나옴"
      ],
      "metadata": {
        "colab": {
          "base_uri": "https://localhost:8080/",
          "height": 35
        },
        "id": "2fOV8VGRPTT3",
        "outputId": "48d90fca-ba61-4501-e6dd-7b1c9312f3a2"
      },
      "execution_count": null,
      "outputs": [
        {
          "output_type": "execute_result",
          "data": {
            "text/plain": [
              "'line3\\n'"
            ],
            "application/vnd.google.colaboratory.intrinsic+json": {
              "type": "string"
            }
          },
          "metadata": {},
          "execution_count": 25
        }
      ]
    },
    {
      "cell_type": "code",
      "source": [
        "# for문\n",
        "file = open('test.txt')\n",
        "for i in file: # 라인 하나씩 i에 대응시켜 불러온다.\n",
        "    print(i)\n",
        "file.close()"
      ],
      "metadata": {
        "colab": {
          "base_uri": "https://localhost:8080/"
        },
        "id": "nymEU0NbPdY0",
        "outputId": "350cc14e-41da-4514-9ade-dd1a3b07197b"
      },
      "execution_count": null,
      "outputs": [
        {
          "output_type": "stream",
          "name": "stdout",
          "text": [
            "test\n",
            "\n",
            "line2\n",
            "\n",
            "line3\n",
            "\n",
            "line4\n"
          ]
        }
      ]
    },
    {
      "cell_type": "code",
      "source": [
        "# open(param1, param2, param3) # param2와 param3은 명시하지 않으면 default로 설정되어 있다. (param2는 읽기모드)"
      ],
      "metadata": {
        "id": "NtGkXlXtQJsr"
      },
      "execution_count": null,
      "outputs": []
    },
    {
      "cell_type": "code",
      "source": [
        "# 파일 쓰기\n",
        "file = open('text.txt', 'w')\n",
        "file.write('새로운 줄') # 이미 파일 있으면 내용 지워짐 (현재 버전에선 파일 지워지지 않고 동일한 이름으로 생김)"
      ],
      "metadata": {
        "colab": {
          "base_uri": "https://localhost:8080/"
        },
        "id": "hFSVJT64Qjz7",
        "outputId": "be212dc4-32cb-4ce1-cc3e-2a27272eeb9f"
      },
      "execution_count": null,
      "outputs": [
        {
          "output_type": "execute_result",
          "data": {
            "text/plain": [
              "5"
            ]
          },
          "metadata": {},
          "execution_count": 30
        }
      ]
    },
    {
      "cell_type": "code",
      "source": [
        "file.close() # 입력한 값이 파일에 반영"
      ],
      "metadata": {
        "id": "X40sl6ICQ6Eu"
      },
      "execution_count": null,
      "outputs": []
    },
    {
      "cell_type": "code",
      "source": [
        "file = open('text.txt', 'a')\n",
        "file.write('\\n새로운 줄3')"
      ],
      "metadata": {
        "colab": {
          "base_uri": "https://localhost:8080/"
        },
        "id": "tEUj8nDeRbnn",
        "outputId": "35c79a9c-d7ab-4bdf-fc38-6cce31c51124"
      },
      "execution_count": null,
      "outputs": [
        {
          "output_type": "execute_result",
          "data": {
            "text/plain": [
              "7"
            ]
          },
          "metadata": {},
          "execution_count": 34
        }
      ]
    },
    {
      "cell_type": "code",
      "source": [
        "file.close()"
      ],
      "metadata": {
        "id": "2sDlNR1RRhHX"
      },
      "execution_count": null,
      "outputs": []
    },
    {
      "cell_type": "code",
      "source": [
        "file = open('text.txt', 'x')\n",
        "file.write('hi') # 이미 파일 있기 때문에 에러"
      ],
      "metadata": {
        "colab": {
          "base_uri": "https://localhost:8080/",
          "height": 193
        },
        "id": "REyA4U5nRzu-",
        "outputId": "67535522-ab1f-4313-fbad-d7474c96c814"
      },
      "execution_count": null,
      "outputs": [
        {
          "output_type": "error",
          "ename": "FileExistsError",
          "evalue": "ignored",
          "traceback": [
            "\u001b[0;31m---------------------------------------------------------------------------\u001b[0m",
            "\u001b[0;31mFileExistsError\u001b[0m                           Traceback (most recent call last)",
            "\u001b[0;32m<ipython-input-38-f3a21bcc0a78>\u001b[0m in \u001b[0;36m<module>\u001b[0;34m\u001b[0m\n\u001b[0;32m----> 1\u001b[0;31m \u001b[0mfile\u001b[0m \u001b[0;34m=\u001b[0m \u001b[0mopen\u001b[0m\u001b[0;34m(\u001b[0m\u001b[0;34m'text.txt'\u001b[0m\u001b[0;34m,\u001b[0m \u001b[0;34m'x'\u001b[0m\u001b[0;34m)\u001b[0m\u001b[0;34m\u001b[0m\u001b[0;34m\u001b[0m\u001b[0m\n\u001b[0m\u001b[1;32m      2\u001b[0m \u001b[0mfile\u001b[0m\u001b[0;34m.\u001b[0m\u001b[0mwrite\u001b[0m\u001b[0;34m(\u001b[0m\u001b[0;34m'hi'\u001b[0m\u001b[0;34m)\u001b[0m\u001b[0;34m\u001b[0m\u001b[0;34m\u001b[0m\u001b[0m\n",
            "\u001b[0;31mFileExistsError\u001b[0m: [Errno 17] File exists: 'text.txt'"
          ]
        }
      ]
    },
    {
      "cell_type": "code",
      "source": [
        "# with ~ as문 : close() 호출하지 않아도 파일이 닫힘\n",
        "with open('test.txt') as file:\n",
        "    print(file.read())\n",
        "\n",
        "# = 위와 같다.\n",
        "# file = open('test.txt')\n",
        "# print(file.read())\n",
        "# file.close()"
      ],
      "metadata": {
        "colab": {
          "base_uri": "https://localhost:8080/"
        },
        "id": "OjRqGvgBSCfc",
        "outputId": "cd0d8114-8281-4552-d282-838b809bc1e9"
      },
      "execution_count": null,
      "outputs": [
        {
          "output_type": "stream",
          "name": "stdout",
          "text": [
            "test\n",
            "line2\n",
            "line3\n",
            "line4\n"
          ]
        }
      ]
    },
    {
      "cell_type": "markdown",
      "source": [
        "2. 직렬화"
      ],
      "metadata": {
        "id": "MWVUhwwdJnTr"
      }
    },
    {
      "cell_type": "code",
      "source": [
        "import pickle\n",
        "pickle.dumps([1, 2, 3, 4]) # b로 시작하는데 b는 byte를 의미. list 객체가 바이트 객체로 변환."
      ],
      "metadata": {
        "colab": {
          "base_uri": "https://localhost:8080/"
        },
        "id": "Zc6v6fw8JrLU",
        "outputId": "e7fa64ac-42aa-4e7c-ba0b-0975abcdc09b"
      },
      "execution_count": null,
      "outputs": [
        {
          "output_type": "execute_result",
          "data": {
            "text/plain": [
              "b'\\x80\\x04\\x95\\r\\x00\\x00\\x00\\x00\\x00\\x00\\x00]\\x94(K\\x01K\\x02K\\x03K\\x04e.'"
            ]
          },
          "metadata": {},
          "execution_count": 1
        }
      ]
    },
    {
      "cell_type": "code",
      "source": [
        "pickle.loads(b'\\x80\\x04\\x95\\r\\x00\\x00\\x00\\x00\\x00\\x00\\x00]\\x94(K\\x01K\\x02K\\x03K\\x04e.') # byte 형태 객체를 다시 원래 객체로 변환."
      ],
      "metadata": {
        "colab": {
          "base_uri": "https://localhost:8080/"
        },
        "id": "q36-3mcQK7Xc",
        "outputId": "22b45052-42f8-4a8e-d6e4-f8307e8024a9"
      },
      "execution_count": null,
      "outputs": [
        {
          "output_type": "execute_result",
          "data": {
            "text/plain": [
              "[1, 2, 3, 4]"
            ]
          },
          "metadata": {},
          "execution_count": 2
        }
      ]
    },
    {
      "cell_type": "code",
      "source": [
        "import json\n",
        "json.dumps({'a': 'b', 'c': 'd'}) # string이 됨"
      ],
      "metadata": {
        "colab": {
          "base_uri": "https://localhost:8080/",
          "height": 35
        },
        "id": "rqVRVaKSLwSR",
        "outputId": "e2f6e904-b27b-4f06-ba95-b6e9ea47fd9d"
      },
      "execution_count": null,
      "outputs": [
        {
          "output_type": "execute_result",
          "data": {
            "text/plain": [
              "'{\"a\": \"b\", \"c\": \"d\"}'"
            ],
            "application/vnd.google.colaboratory.intrinsic+json": {
              "type": "string"
            }
          },
          "metadata": {},
          "execution_count": 3
        }
      ]
    },
    {
      "cell_type": "code",
      "source": [
        "test = json.loads('[1, 2, 3, {\"a\": \"b\", \"c\": \"d\"}]') # json화(string이)된 파이썬 객체를 다시 list나 dictionary 등의 파이썬 객체로 복원"
      ],
      "metadata": {
        "id": "pNEDw0XnMAIw"
      },
      "execution_count": null,
      "outputs": []
    },
    {
      "cell_type": "code",
      "source": [
        "test[0]"
      ],
      "metadata": {
        "colab": {
          "base_uri": "https://localhost:8080/"
        },
        "id": "ibXXt4sAMqMi",
        "outputId": "7929ef02-e4ee-41de-8986-7b07258cb0a2"
      },
      "execution_count": null,
      "outputs": [
        {
          "output_type": "execute_result",
          "data": {
            "text/plain": [
              "1"
            ]
          },
          "metadata": {},
          "execution_count": 7
        }
      ]
    },
    {
      "cell_type": "code",
      "source": [
        "test[3]"
      ],
      "metadata": {
        "colab": {
          "base_uri": "https://localhost:8080/"
        },
        "id": "IKQYy0cFMtiR",
        "outputId": "a68b8302-9e5a-40bc-fd0d-41c68dacb0c3"
      },
      "execution_count": null,
      "outputs": [
        {
          "output_type": "execute_result",
          "data": {
            "text/plain": [
              "{'a': 'b', 'c': 'd'}"
            ]
          },
          "metadata": {},
          "execution_count": 8
        }
      ]
    },
    {
      "cell_type": "code",
      "source": [
        "test[3]['a']"
      ],
      "metadata": {
        "colab": {
          "base_uri": "https://localhost:8080/",
          "height": 35
        },
        "id": "-vs-hu87Mvtt",
        "outputId": "c48a415d-1972-4f7c-fbbb-adc0df626ec4"
      },
      "execution_count": null,
      "outputs": [
        {
          "output_type": "execute_result",
          "data": {
            "text/plain": [
              "'b'"
            ],
            "application/vnd.google.colaboratory.intrinsic+json": {
              "type": "string"
            }
          },
          "metadata": {},
          "execution_count": 10
        }
      ]
    },
    {
      "cell_type": "markdown",
      "source": [
        "3. 실전 문제풀이"
      ],
      "metadata": {
        "id": "zZwnhfNDNf7E"
      }
    },
    {
      "cell_type": "code",
      "source": [
        "file = open('test.txt', 'w', encoding='utf-8')\n",
        "file.write('Hello python\\n')\n",
        "file.write('안녕 컴동지들\\n')\n",
        "# file.close()\n",
        "lines = ['안녕하세요', '누구세요', '반갑습니다\\n']\n",
        "# '\\n'.join 문장을 \\n을 포함하여 연결하라 (join은 list로 된 것을 string으로 바꿈)\n",
        "lines2 = ['대박\\n', '사건\\n', '허걱\\n']\n",
        "file.write('\\n'.join(lines)) # \\n이 포함되지 않았을 때\n",
        "# file.close()\n",
        "file.writelines(lines2)      # join을 사용하지 않았을 때 (writelines는 list로 된 것을 한번에 쓸 수 있다)\n",
        "# file.close()\n",
        "file.write(''.join(lines2))  # \\n이 포함되었을 때\n",
        "file.close()"
      ],
      "metadata": {
        "id": "4Qbr2XvwNirU"
      },
      "execution_count": null,
      "outputs": []
    },
    {
      "cell_type": "code",
      "source": [
        "test1 = open('test.txt', 'r', encoding = 'utf-8')\n",
        "for line in test1: # 한줄씩 읽어서 처리\n",
        "    print(line, end = '')\n",
        "test1.close()\n",
        "test2 = open('test.txt', 'r', encoding = 'utf-8')\n",
        "content = test2.read() # 전부 읽기\n",
        "print(content)\n",
        "test2.close()\n",
        "test3 = open('test.txt', 'r', encoding = 'utf-8')\n",
        "lines = test3.readlines() # 읽어서 list형식\n",
        "print(lines)\n",
        "test3.close()"
      ],
      "metadata": {
        "colab": {
          "base_uri": "https://localhost:8080/"
        },
        "id": "3OUpdOsCIw09",
        "outputId": "fab757cf-563a-438c-9a1e-9473cfa4e09d"
      },
      "execution_count": null,
      "outputs": [
        {
          "output_type": "stream",
          "name": "stdout",
          "text": [
            "Hello python\n",
            "안녕 컴동지들\n",
            "안녕하세요\n",
            "누구세요\n",
            "반갑습니다\n",
            "대박\n",
            "사건\n",
            "허걱\n",
            "대박\n",
            "사건\n",
            "허걱\n",
            "Hello python\n",
            "안녕 컴동지들\n",
            "안녕하세요\n",
            "누구세요\n",
            "반갑습니다\n",
            "대박\n",
            "사건\n",
            "허걱\n",
            "대박\n",
            "사건\n",
            "허걱\n",
            "\n",
            "['Hello python\\n', '안녕 컴동지들\\n', '안녕하세요\\n', '누구세요\\n', '반갑습니다\\n', '대박\\n', '사건\\n', '허걱\\n', '대박\\n', '사건\\n', '허걱\\n']\n"
          ]
        }
      ]
    },
    {
      "cell_type": "code",
      "source": [
        "f = open('add1.txt', 'w', encoding='utf-8')\n",
        "f.write('대박')\n",
        "f.close()\n",
        "# 기존에 있던 데이터를 지우고 새로 쓴다\n",
        "f = open('add1.txt', 'w', encoding='utf-8')\n",
        "f.write('사건\\n')\n",
        "f.close()\n",
        "# a(add) 기존에 데이터 뒤에 추가한다\n",
        "f = open('add1.txt', 'a', encoding='utf-8')\n",
        "f.write('지우지마')\n",
        "f.close()"
      ],
      "metadata": {
        "id": "Trdn1CT8JmJ2"
      },
      "execution_count": null,
      "outputs": []
    },
    {
      "cell_type": "code",
      "source": [
        "f1 = open('add1.txt', 'a', encoding='utf-8')\n",
        "for i in range(1, 11):\n",
        "    f1.write('\\n{}개 추가했습니다'.format(i))\n",
        "f1.close()"
      ],
      "metadata": {
        "id": "oiO41WjKJ8ya"
      },
      "execution_count": null,
      "outputs": []
    },
    {
      "cell_type": "code",
      "source": [
        "'안녕 컴동지들'.encode('utf-8') # 문자를 컴퓨터가 읽을 수 있는 byte로 변환"
      ],
      "metadata": {
        "colab": {
          "base_uri": "https://localhost:8080/"
        },
        "id": "1ysjYhotNiMT",
        "outputId": "2668651a-277e-460d-b024-fd4473a764ac"
      },
      "execution_count": null,
      "outputs": [
        {
          "output_type": "execute_result",
          "data": {
            "text/plain": [
              "b'\\xec\\x95\\x88\\xeb\\x85\\x95 \\xec\\xbb\\xb4\\xeb\\x8f\\x99\\xec\\xa7\\x80\\xeb\\x93\\xa4'"
            ]
          },
          "metadata": {},
          "execution_count": 9
        }
      ]
    },
    {
      "cell_type": "code",
      "source": [
        "b'\\xec\\x95\\x88\\xeb\\x85\\x95 \\xec\\xbb\\xb4\\xeb\\x8f\\x99\\xec\\xa7\\x80\\xeb\\x93\\xa4'.decode() # 우리가 읽을 수 있는 string으로 변환"
      ],
      "metadata": {
        "colab": {
          "base_uri": "https://localhost:8080/",
          "height": 35
        },
        "id": "YQTCE83_N2di",
        "outputId": "fe7b4956-b87e-46de-c091-cc1a6d866333"
      },
      "execution_count": null,
      "outputs": [
        {
          "output_type": "execute_result",
          "data": {
            "text/plain": [
              "'안녕 컴동지들'"
            ],
            "application/vnd.google.colaboratory.intrinsic+json": {
              "type": "string"
            }
          },
          "metadata": {},
          "execution_count": 10
        }
      ]
    },
    {
      "cell_type": "code",
      "source": [
        "f = open('bit.txt', 'wb')\n",
        "f.write('안녕 컴동지들'.encode())\n",
        "f.close()\n",
        "f = open('bit.txt', 'rb')\n",
        "data = f.read()\n",
        "# binary파일을 읽을 때는 반드시 decode해야 한다\n",
        "print(data.decode())\n",
        "f.close()"
      ],
      "metadata": {
        "colab": {
          "base_uri": "https://localhost:8080/"
        },
        "id": "7kgTFCtBNgPc",
        "outputId": "7b171efe-3ca8-4d36-a160-9b763a95a5f2"
      },
      "execution_count": null,
      "outputs": [
        {
          "output_type": "stream",
          "name": "stdout",
          "text": [
            "안녕 컴동지들\n"
          ]
        }
      ]
    },
    {
      "cell_type": "code",
      "source": [
        "with open('t2.txt', 'w', encoding='utf-8') as f: # write()이 아닌 print() 통해서도 파일에 넣을 수 있다.\n",
        "    print('안녕', file = f)\n",
        "    print('대박', file = f)\n",
        "with open('t2.txt', 'r', encoding='utf-8') as f:\n",
        "    print(f.read())"
      ],
      "metadata": {
        "colab": {
          "base_uri": "https://localhost:8080/"
        },
        "id": "bKOnjjBTOs0H",
        "outputId": "52e3977c-f5bb-429f-9f1e-179917ee6840"
      },
      "execution_count": null,
      "outputs": [
        {
          "output_type": "stream",
          "name": "stdout",
          "text": [
            "안녕\n",
            "대박\n",
            "\n"
          ]
        }
      ]
    },
    {
      "cell_type": "code",
      "source": [
        "import os\n",
        "# '/ 현재 디렉토리(폴더와 유사)\n",
        "# curlist = os.listdir('./')\n",
        "curlist = os.listdir('./') # 현재 디렉토리 안의 모든 디렉토리와 파일 목록이 나온다. (숨겨진 파일과 폴더도 출력)\n",
        "for name in curlist:\n",
        "    print(name)"
      ],
      "metadata": {
        "colab": {
          "base_uri": "https://localhost:8080/"
        },
        "id": "m5X_FAYPPCQA",
        "outputId": "a155e890-8d99-45f5-a45d-4422afc2556e"
      },
      "execution_count": null,
      "outputs": [
        {
          "output_type": "stream",
          "name": "stdout",
          "text": [
            ".config\n",
            "bit.txt\n",
            "test.txt\n",
            "t2.txt\n",
            "add1.txt\n",
            "sample_data\n"
          ]
        }
      ]
    },
    {
      "cell_type": "code",
      "source": [
        "print(os.stat('./'))\n",
        "# mkdir make directory\n",
        "os.mkdir('imsi') # 폴더 생성\n",
        "# rmdir remove directory directory가 비워 있을 때만 가능\n",
        "os.rmdir('imsi') # 폴더 삭제"
      ],
      "metadata": {
        "colab": {
          "base_uri": "https://localhost:8080/"
        },
        "id": "KVbIK3HRPe_M",
        "outputId": "e6e0717e-7fbb-4618-f2f7-de0a6e154ad1"
      },
      "execution_count": null,
      "outputs": [
        {
          "output_type": "stream",
          "name": "stdout",
          "text": [
            "os.stat_result(st_mode=16877, st_ino=5111826, st_dev=49, st_nlink=1, st_uid=0, st_gid=0, st_size=4096, st_atime=1675578381, st_mtime=1675578379, st_ctime=1675578379)\n"
          ]
        }
      ]
    },
    {
      "cell_type": "code",
      "source": [
        "import pickle\n",
        "\n",
        "class Person:\n",
        "    def __init__(self, num, name):\n",
        "        self.num = num\n",
        "        self.name= name\n",
        "\n",
        "p1 = Person(1, '철수'); p2 = Person(2, '영희')\n",
        "li = [p1, p2]\n",
        "# pickle는 byte단위로 데이터 저장할 때 사용\n",
        "with open('test2.txt', 'wb') as f:\n",
        "    pickle.dump(li, f) # list 객체 직렬화\n",
        "with open('test2.txt', 'rb') as f:\n",
        "    # load 객체로 된 byte데이터 읽을 때\n",
        "    result = pickle.load(f) # 직렬화된 것을 객체로 복원\n",
        "    for i in result:\n",
        "        print(i.num, i.name)"
      ],
      "metadata": {
        "colab": {
          "base_uri": "https://localhost:8080/"
        },
        "id": "XcQPkPlUQ9B1",
        "outputId": "8ec4c5d0-dacb-4bfb-8f4d-6558a9a8c516"
      },
      "execution_count": null,
      "outputs": [
        {
          "output_type": "stream",
          "name": "stdout",
          "text": [
            "1 철수\n",
            "2 영희\n"
          ]
        }
      ]
    },
    {
      "cell_type": "code",
      "source": [
        "result[0] # __main__.Person에 속한 Object다. 0x7f4aa04e7e20는 Object가 쓰여있는 메모리의 주소값"
      ],
      "metadata": {
        "colab": {
          "base_uri": "https://localhost:8080/"
        },
        "id": "WyYOo6YNRnEO",
        "outputId": "9b1d286e-d778-40e0-c757-ad063db3ec3b"
      },
      "execution_count": null,
      "outputs": [
        {
          "output_type": "execute_result",
          "data": {
            "text/plain": [
              "<__main__.Person at 0x7f4aa04e7e20>"
            ]
          },
          "metadata": {},
          "execution_count": 30
        }
      ]
    },
    {
      "cell_type": "code",
      "source": [
        "print(result[0].num)\n",
        "print(result[0].name)"
      ],
      "metadata": {
        "colab": {
          "base_uri": "https://localhost:8080/"
        },
        "id": "dZxvtDKuR_JW",
        "outputId": "a6792238-9773-4878-c884-dabb330b6da8"
      },
      "execution_count": null,
      "outputs": [
        {
          "output_type": "stream",
          "name": "stdout",
          "text": [
            "1\n",
            "철수\n"
          ]
        }
      ]
    }
  ]
}