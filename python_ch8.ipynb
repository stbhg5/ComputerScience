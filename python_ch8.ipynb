{
  "nbformat": 4,
  "nbformat_minor": 0,
  "metadata": {
    "colab": {
      "provenance": [],
      "authorship_tag": "ABX9TyMX9zCNMcmwKquMBRJx5bfx",
      "include_colab_link": true
    },
    "kernelspec": {
      "name": "python3",
      "display_name": "Python 3"
    },
    "language_info": {
      "name": "python"
    }
  },
  "cells": [
    {
      "cell_type": "markdown",
      "metadata": {
        "id": "view-in-github",
        "colab_type": "text"
      },
      "source": [
        "<a href=\"https://colab.research.google.com/github/stbhg5/ComputerScience/blob/main/python_ch8.ipynb\" target=\"_parent\"><img src=\"https://colab.research.google.com/assets/colab-badge.svg\" alt=\"Open In Colab\"/></a>"
      ]
    },
    {
      "cell_type": "markdown",
      "source": [
        "1. 읽기/쓰기와 인코딩"
      ],
      "metadata": {
        "id": "7oi5x4j55lcm"
      }
    },
    {
      "cell_type": "code",
      "execution_count": 2,
      "metadata": {
        "colab": {
          "base_uri": "https://localhost:8080/",
          "height": 35
        },
        "id": "N1IUpbhE5hFA",
        "outputId": "722af708-7185-4bfa-a2d4-61d4900c38dc"
      },
      "outputs": [
        {
          "output_type": "execute_result",
          "data": {
            "text/plain": [
              "'/content'"
            ],
            "application/vnd.google.colaboratory.intrinsic+json": {
              "type": "string"
            }
          },
          "metadata": {},
          "execution_count": 2
        }
      ],
      "source": [
        "import os\n",
        "os.getcwd() # 현재 폴더의 위치, 폴더구분 기호가 /인것을 보면 구글코랩은 리눅스 아니면 맥임을 알 수 있다"
      ]
    },
    {
      "cell_type": "code",
      "source": [
        "print('\\\\') # eacape 문자\n",
        "print('D:\\\\Developer\\\\Microsoft VS Code')\n",
        "'current_folder' # './current_foler'와 같다."
      ],
      "metadata": {
        "colab": {
          "base_uri": "https://localhost:8080/",
          "height": 72
        },
        "id": "J3cIr56vJfkQ",
        "outputId": "590a7653-9ec6-42cc-f0c1-e4deccc71648"
      },
      "execution_count": 14,
      "outputs": [
        {
          "output_type": "stream",
          "name": "stdout",
          "text": [
            "\\\n",
            "D:\\Developer\\Microsoft VS Code\n"
          ]
        },
        {
          "output_type": "execute_result",
          "data": {
            "text/plain": [
              "'current_folder'"
            ],
            "application/vnd.google.colaboratory.intrinsic+json": {
              "type": "string"
            }
          },
          "metadata": {},
          "execution_count": 14
        }
      ]
    },
    {
      "cell_type": "code",
      "source": [
        "file = open('test.txt') # 상대경로\n",
        "# file = open('./test.txt') # 현재폴더로 같다.\n",
        "print(file.read())"
      ],
      "metadata": {
        "colab": {
          "base_uri": "https://localhost:8080/"
        },
        "id": "lePeu38pL9nH",
        "outputId": "5dcfd2ba-a527-4f0e-f486-b8367cf713e1"
      },
      "execution_count": 19,
      "outputs": [
        {
          "output_type": "stream",
          "name": "stdout",
          "text": [
            "test\n"
          ]
        }
      ]
    },
    {
      "cell_type": "code",
      "source": [
        "file.close()"
      ],
      "metadata": {
        "id": "GqRpSu4rMIOp"
      },
      "execution_count": 20,
      "outputs": []
    },
    {
      "cell_type": "code",
      "source": [
        "file = open('../test.txt') # content의 상위폴더인 루트폴더로 간다.\n",
        "print(file.read())\n",
        "file.close()"
      ],
      "metadata": {
        "colab": {
          "base_uri": "https://localhost:8080/"
        },
        "id": "F-JkcN8QMo0s",
        "outputId": "82785b5c-9858-4706-f3e5-3b905a40765a"
      },
      "execution_count": 24,
      "outputs": [
        {
          "output_type": "stream",
          "name": "stdout",
          "text": [
            "test\n"
          ]
        }
      ]
    },
    {
      "cell_type": "code",
      "source": [
        "file = open('/content/test.txt') # 절대경로\n",
        "print(file.read())\n",
        "file.close()"
      ],
      "metadata": {
        "colab": {
          "base_uri": "https://localhost:8080/"
        },
        "id": "jTXE1Je3NJLG",
        "outputId": "bcf0c13f-61f5-42b8-c39d-813296777f85"
      },
      "execution_count": 25,
      "outputs": [
        {
          "output_type": "stream",
          "name": "stdout",
          "text": [
            "test\n"
          ]
        }
      ]
    },
    {
      "cell_type": "code",
      "source": [
        "# readlines()\n",
        "file = open('test.txt')\n",
        "result = file.readlines() # 리스트가 됨\n",
        "print(result)\n",
        "file.close()"
      ],
      "metadata": {
        "colab": {
          "base_uri": "https://localhost:8080/"
        },
        "id": "6mRa6kWZNxEA",
        "outputId": "b7e67204-4d3a-4c7a-c2f1-ad2b42bd19ab"
      },
      "execution_count": 10,
      "outputs": [
        {
          "output_type": "stream",
          "name": "stdout",
          "text": [
            "['test\\n', 'line2\\n', 'line3\\n', 'line4']\n"
          ]
        }
      ]
    },
    {
      "cell_type": "code",
      "source": [
        "# readline()\n",
        "file = open('test.txt')\n",
        "line1 = file.readline()\n",
        "line2 = file.readline()\n",
        "print(line1)\n",
        "print(line2)"
      ],
      "metadata": {
        "colab": {
          "base_uri": "https://localhost:8080/"
        },
        "id": "Yc24z3l9O30T",
        "outputId": "a8cbb71e-7ae8-415d-a123-478b895ee126"
      },
      "execution_count": 24,
      "outputs": [
        {
          "output_type": "stream",
          "name": "stdout",
          "text": [
            "test\n",
            "\n",
            "line2\n",
            "\n"
          ]
        }
      ]
    },
    {
      "cell_type": "code",
      "source": [
        "file.readline() # 재호출시 다음 라인 나옴"
      ],
      "metadata": {
        "colab": {
          "base_uri": "https://localhost:8080/",
          "height": 35
        },
        "id": "2fOV8VGRPTT3",
        "outputId": "48d90fca-ba61-4501-e6dd-7b1c9312f3a2"
      },
      "execution_count": 25,
      "outputs": [
        {
          "output_type": "execute_result",
          "data": {
            "text/plain": [
              "'line3\\n'"
            ],
            "application/vnd.google.colaboratory.intrinsic+json": {
              "type": "string"
            }
          },
          "metadata": {},
          "execution_count": 25
        }
      ]
    },
    {
      "cell_type": "code",
      "source": [
        "# for문\n",
        "file = open('test.txt')\n",
        "for i in file: # 라인 하나씩 i에 대응시켜 불러온다.\n",
        "    print(i)\n",
        "file.close()"
      ],
      "metadata": {
        "colab": {
          "base_uri": "https://localhost:8080/"
        },
        "id": "nymEU0NbPdY0",
        "outputId": "350cc14e-41da-4514-9ade-dd1a3b07197b"
      },
      "execution_count": 27,
      "outputs": [
        {
          "output_type": "stream",
          "name": "stdout",
          "text": [
            "test\n",
            "\n",
            "line2\n",
            "\n",
            "line3\n",
            "\n",
            "line4\n"
          ]
        }
      ]
    },
    {
      "cell_type": "code",
      "source": [
        "# open(param1, param2, param3) # param2와 param3은 명시하지 않으면 default로 설정되어 있다. (param2는 읽기모드)"
      ],
      "metadata": {
        "id": "NtGkXlXtQJsr"
      },
      "execution_count": null,
      "outputs": []
    },
    {
      "cell_type": "code",
      "source": [
        "# 파일 쓰기\n",
        "file = open('text.txt', 'w')\n",
        "file.write('새로운 줄') # 이미 파일 있으면 내용 지워짐 (현재 버전에선 파일 지워지지 않고 동일한 이름으로 생김)"
      ],
      "metadata": {
        "colab": {
          "base_uri": "https://localhost:8080/"
        },
        "id": "hFSVJT64Qjz7",
        "outputId": "be212dc4-32cb-4ce1-cc3e-2a27272eeb9f"
      },
      "execution_count": 30,
      "outputs": [
        {
          "output_type": "execute_result",
          "data": {
            "text/plain": [
              "5"
            ]
          },
          "metadata": {},
          "execution_count": 30
        }
      ]
    },
    {
      "cell_type": "code",
      "source": [
        "file.close() # 입력한 값이 파일에 반영"
      ],
      "metadata": {
        "id": "X40sl6ICQ6Eu"
      },
      "execution_count": 31,
      "outputs": []
    },
    {
      "cell_type": "code",
      "source": [
        "file = open('text.txt', 'a')\n",
        "file.write('\\n새로운 줄3')"
      ],
      "metadata": {
        "colab": {
          "base_uri": "https://localhost:8080/"
        },
        "id": "tEUj8nDeRbnn",
        "outputId": "35c79a9c-d7ab-4bdf-fc38-6cce31c51124"
      },
      "execution_count": 34,
      "outputs": [
        {
          "output_type": "execute_result",
          "data": {
            "text/plain": [
              "7"
            ]
          },
          "metadata": {},
          "execution_count": 34
        }
      ]
    },
    {
      "cell_type": "code",
      "source": [
        "file.close()"
      ],
      "metadata": {
        "id": "2sDlNR1RRhHX"
      },
      "execution_count": 35,
      "outputs": []
    },
    {
      "cell_type": "code",
      "source": [
        "file = open('text.txt', 'x')\n",
        "file.write('hi') # 이미 파일 있기 때문에 에러"
      ],
      "metadata": {
        "colab": {
          "base_uri": "https://localhost:8080/",
          "height": 193
        },
        "id": "REyA4U5nRzu-",
        "outputId": "67535522-ab1f-4313-fbad-d7474c96c814"
      },
      "execution_count": 38,
      "outputs": [
        {
          "output_type": "error",
          "ename": "FileExistsError",
          "evalue": "ignored",
          "traceback": [
            "\u001b[0;31m---------------------------------------------------------------------------\u001b[0m",
            "\u001b[0;31mFileExistsError\u001b[0m                           Traceback (most recent call last)",
            "\u001b[0;32m<ipython-input-38-f3a21bcc0a78>\u001b[0m in \u001b[0;36m<module>\u001b[0;34m\u001b[0m\n\u001b[0;32m----> 1\u001b[0;31m \u001b[0mfile\u001b[0m \u001b[0;34m=\u001b[0m \u001b[0mopen\u001b[0m\u001b[0;34m(\u001b[0m\u001b[0;34m'text.txt'\u001b[0m\u001b[0;34m,\u001b[0m \u001b[0;34m'x'\u001b[0m\u001b[0;34m)\u001b[0m\u001b[0;34m\u001b[0m\u001b[0;34m\u001b[0m\u001b[0m\n\u001b[0m\u001b[1;32m      2\u001b[0m \u001b[0mfile\u001b[0m\u001b[0;34m.\u001b[0m\u001b[0mwrite\u001b[0m\u001b[0;34m(\u001b[0m\u001b[0;34m'hi'\u001b[0m\u001b[0;34m)\u001b[0m\u001b[0;34m\u001b[0m\u001b[0;34m\u001b[0m\u001b[0m\n",
            "\u001b[0;31mFileExistsError\u001b[0m: [Errno 17] File exists: 'text.txt'"
          ]
        }
      ]
    },
    {
      "cell_type": "code",
      "source": [
        "# with ~ as문 : close() 호출하지 않아도 파일이 닫힘\n",
        "with open('test.txt') as file:\n",
        "    print(file.read())\n",
        "\n",
        "# = 위와 같다.\n",
        "# file = open('test.txt')\n",
        "# print(file.read())\n",
        "# file.close()"
      ],
      "metadata": {
        "colab": {
          "base_uri": "https://localhost:8080/"
        },
        "id": "OjRqGvgBSCfc",
        "outputId": "cd0d8114-8281-4552-d282-838b809bc1e9"
      },
      "execution_count": 40,
      "outputs": [
        {
          "output_type": "stream",
          "name": "stdout",
          "text": [
            "test\n",
            "line2\n",
            "line3\n",
            "line4\n"
          ]
        }
      ]
    }
  ]
}