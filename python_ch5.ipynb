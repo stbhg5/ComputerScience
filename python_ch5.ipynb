{
  "nbformat": 4,
  "nbformat_minor": 0,
  "metadata": {
    "colab": {
      "provenance": [],
      "authorship_tag": "ABX9TyMF+3rR3An/tqfdfuLVTM+R",
      "include_colab_link": true
    },
    "kernelspec": {
      "name": "python3",
      "display_name": "Python 3"
    },
    "language_info": {
      "name": "python"
    }
  },
  "cells": [
    {
      "cell_type": "markdown",
      "metadata": {
        "id": "view-in-github",
        "colab_type": "text"
      },
      "source": [
        "<a href=\"https://colab.research.google.com/github/stbhg5/ComputerScience/blob/main/python_ch5.ipynb\" target=\"_parent\"><img src=\"https://colab.research.google.com/assets/colab-badge.svg\" alt=\"Open In Colab\"/></a>"
      ]
    },
    {
      "cell_type": "markdown",
      "source": [
        "1. 재귀함수"
      ],
      "metadata": {
        "id": "eKbbsFebR8SG"
      }
    },
    {
      "cell_type": "code",
      "source": [
        "def func(count):\n",
        "    if count > 0:\n",
        "        print(count, '현재')\n",
        "        func(count - 1)\n",
        "    print('결과', count)\n",
        "func(10)"
      ],
      "metadata": {
        "colab": {
          "base_uri": "https://localhost:8080/"
        },
        "id": "vrjgucV0R6Hy",
        "outputId": "0ef0dae5-4be4-4601-8b7b-14d0a4eec7ca"
      },
      "execution_count": null,
      "outputs": [
        {
          "output_type": "stream",
          "name": "stdout",
          "text": [
            "10 현재\n",
            "9 현재\n",
            "8 현재\n",
            "7 현재\n",
            "6 현재\n",
            "5 현재\n",
            "4 현재\n",
            "3 현재\n",
            "2 현재\n",
            "1 현재\n",
            "결과 0\n",
            "결과 1\n",
            "결과 2\n",
            "결과 3\n",
            "결과 4\n",
            "결과 5\n",
            "결과 6\n",
            "결과 7\n",
            "결과 8\n",
            "결과 9\n",
            "결과 10\n"
          ]
        }
      ]
    },
    {
      "cell_type": "code",
      "source": [
        "def no_idea():\n",
        "    print('나는 아무 생각이 없다')\n",
        "    print('왜냐하면 아무 생각이 없기 때문이다.')\n",
        "    no_idea()\n",
        "no_idea()\n",
        "# maximum recursion depth exceeded while calling a Python object 오류 난다.\n",
        "# 스스로가 스스로를 호출하는데 메모리를 사용하는데 그 메모리가 스택이다. 스택 무리하게 많이 사용한 스택 오버 플로우."
      ],
      "metadata": {
        "id": "JdcbbFGPUNMb"
      },
      "execution_count": null,
      "outputs": []
    },
    {
      "cell_type": "markdown",
      "source": [
        "2. 중첩함수"
      ],
      "metadata": {
        "id": "GSHdcXDpVGxt"
      }
    },
    {
      "cell_type": "code",
      "source": [
        "def func1(a):\n",
        "    def func2():\n",
        "        nonlocal a\n",
        "        a = a + 1\n",
        "        return a\n",
        "    return func2()\n",
        "func1(2)"
      ],
      "metadata": {
        "colab": {
          "base_uri": "https://localhost:8080/"
        },
        "id": "d-CZ1C_FVJ8x",
        "outputId": "6a35153d-8176-46c9-8362-1fdf63dd0e52"
      },
      "execution_count": null,
      "outputs": [
        {
          "output_type": "execute_result",
          "data": {
            "text/plain": [
              "3"
            ]
          },
          "metadata": {},
          "execution_count": 6
        }
      ]
    },
    {
      "cell_type": "code",
      "source": [
        "a = 3\n",
        "def func1(a):\n",
        "    def func2():\n",
        "        global a\n",
        "        a = a + 1\n",
        "        return a\n",
        "    return func2()\n",
        "func1(2)\n",
        "# print(a) a = 4다."
      ],
      "metadata": {
        "colab": {
          "base_uri": "https://localhost:8080/"
        },
        "id": "0KjcClNmW_Ec",
        "outputId": "8a03e8f0-a2a2-4e84-b079-d4c9a2a345b9"
      },
      "execution_count": null,
      "outputs": [
        {
          "output_type": "stream",
          "name": "stdout",
          "text": [
            "4\n"
          ]
        }
      ]
    },
    {
      "cell_type": "markdown",
      "source": [
        "3. lambda 함수"
      ],
      "metadata": {
        "id": "KgWjcAsXXpuQ"
      }
    },
    {
      "cell_type": "code",
      "source": [
        "def run(func, x):\n",
        "    print(func(x))\n",
        "run(lambda x : x + 1, 2)"
      ],
      "metadata": {
        "colab": {
          "base_uri": "https://localhost:8080/"
        },
        "id": "d5lqgixkXvMP",
        "outputId": "ee0308f4-c43a-4388-d18a-ccb1cbe50298"
      },
      "execution_count": null,
      "outputs": [
        {
          "output_type": "stream",
          "name": "stdout",
          "text": [
            "3\n"
          ]
        }
      ]
    },
    {
      "cell_type": "markdown",
      "source": [
        "4. 유용한 내장함수"
      ],
      "metadata": {
        "id": "kfNP8Jb6KKA7"
      }
    },
    {
      "cell_type": "code",
      "source": [
        "# 타입을 반환\n",
        "type(3)"
      ],
      "metadata": {
        "colab": {
          "base_uri": "https://localhost:8080/"
        },
        "id": "t9Zcq1g_LM2r",
        "outputId": "ff568f14-ffb4-45b6-ae86-8c708d86c049"
      },
      "execution_count": 6,
      "outputs": [
        {
          "output_type": "execute_result",
          "data": {
            "text/plain": [
              "int"
            ]
          },
          "metadata": {},
          "execution_count": 6
        }
      ]
    },
    {
      "cell_type": "code",
      "source": [
        "type(3.5)"
      ],
      "metadata": {
        "colab": {
          "base_uri": "https://localhost:8080/"
        },
        "id": "zx2v4WigLlkv",
        "outputId": "40b686b7-2c39-4573-dc24-fc9d2d226f2a"
      },
      "execution_count": 5,
      "outputs": [
        {
          "output_type": "execute_result",
          "data": {
            "text/plain": [
              "float"
            ]
          },
          "metadata": {},
          "execution_count": 5
        }
      ]
    },
    {
      "cell_type": "code",
      "source": [
        "type('1, 2, 3, 4')"
      ],
      "metadata": {
        "colab": {
          "base_uri": "https://localhost:8080/"
        },
        "id": "Q3U-d7G4LmuN",
        "outputId": "3fab01d9-40c8-4d16-b921-aface789b8b7"
      },
      "execution_count": 7,
      "outputs": [
        {
          "output_type": "execute_result",
          "data": {
            "text/plain": [
              "str"
            ]
          },
          "metadata": {},
          "execution_count": 7
        }
      ]
    },
    {
      "cell_type": "code",
      "source": [
        "type([1, 2, 3, 4])"
      ],
      "metadata": {
        "colab": {
          "base_uri": "https://localhost:8080/"
        },
        "id": "gBObGOwALnVS",
        "outputId": "e53ef6d0-0ae2-473e-dfeb-e4bbc97433a8"
      },
      "execution_count": 8,
      "outputs": [
        {
          "output_type": "execute_result",
          "data": {
            "text/plain": [
              "list"
            ]
          },
          "metadata": {},
          "execution_count": 8
        }
      ]
    },
    {
      "cell_type": "code",
      "source": [
        "# 반올림\n",
        "round(5.3)"
      ],
      "metadata": {
        "colab": {
          "base_uri": "https://localhost:8080/"
        },
        "id": "IJ9v1j6DLsWc",
        "outputId": "dc545dc2-832e-43fd-b512-a6d41be06398"
      },
      "execution_count": 11,
      "outputs": [
        {
          "output_type": "execute_result",
          "data": {
            "text/plain": [
              "5"
            ]
          },
          "metadata": {},
          "execution_count": 11
        }
      ]
    },
    {
      "cell_type": "code",
      "source": [
        "round(5.3, 0)"
      ],
      "metadata": {
        "colab": {
          "base_uri": "https://localhost:8080/"
        },
        "id": "sPQ7WSseL3xW",
        "outputId": "67873b62-11c2-4432-8263-ce1a4fcc8c22"
      },
      "execution_count": 12,
      "outputs": [
        {
          "output_type": "execute_result",
          "data": {
            "text/plain": [
              "5.0"
            ]
          },
          "metadata": {},
          "execution_count": 12
        }
      ]
    },
    {
      "cell_type": "code",
      "source": [
        "round(5.3, 1)"
      ],
      "metadata": {
        "colab": {
          "base_uri": "https://localhost:8080/"
        },
        "id": "6cHs0IJlMWUr",
        "outputId": "75725ded-eb97-4b16-afc8-63863eb56206"
      },
      "execution_count": 13,
      "outputs": [
        {
          "output_type": "execute_result",
          "data": {
            "text/plain": [
              "5.3"
            ]
          },
          "metadata": {},
          "execution_count": 13
        }
      ]
    },
    {
      "cell_type": "code",
      "source": [
        "# 인덱스 값과 실제 값을 같이 리턴해주는 함수\n",
        "for index, i in enumerate(['값1', '값2', '값3', '값4']):\n",
        "    print(index)\n",
        "    print(i)"
      ],
      "metadata": {
        "colab": {
          "base_uri": "https://localhost:8080/"
        },
        "id": "JZXgrJE5NEc9",
        "outputId": "2141432c-89b6-4127-8e25-90340ad7f699"
      },
      "execution_count": 14,
      "outputs": [
        {
          "output_type": "stream",
          "name": "stdout",
          "text": [
            "0\n",
            "값1\n",
            "1\n",
            "값2\n",
            "2\n",
            "값3\n",
            "3\n",
            "값4\n"
          ]
        }
      ]
    },
    {
      "cell_type": "code",
      "source": [
        "# 고급함수\n",
        "# 두 개 리스트 합쳐 각 리스트의 원소의 쌍을 원소로 가지는 하나의 리스트 반환\n",
        "list1 = [1, 2, 3, 4]\n",
        "list2 = [5, 6, 7 ,8]\n",
        "zip(list1, list2) # <zip at 0x7f07cbf827c0> 결과 나옴. 즉, generator와 비슷이다. 실제 계산 하는게 아닌 이런 것 반환 한다는 것을 가지고 있다.\n",
        "list(zip(list1, list2))"
      ],
      "metadata": {
        "colab": {
          "base_uri": "https://localhost:8080/"
        },
        "id": "lXL76mPQNm1j",
        "outputId": "97e38558-082c-46a1-9115-042ee9692bc0"
      },
      "execution_count": 17,
      "outputs": [
        {
          "output_type": "execute_result",
          "data": {
            "text/plain": [
              "[(1, 5), (2, 6), (3, 7), (4, 8)]"
            ]
          },
          "metadata": {},
          "execution_count": 17
        }
      ]
    },
    {
      "cell_type": "code",
      "source": [
        "for i, j in zip(list1, list2):\n",
        "    print(i)\n",
        "    print(j)\n",
        "# generator와 비슷하게 호출했을 때 비로소 값을 소환"
      ],
      "metadata": {
        "colab": {
          "base_uri": "https://localhost:8080/"
        },
        "id": "UO3nwgbOOmvO",
        "outputId": "19140e73-1a76-4ef4-8f1d-08d1bfbca3a5"
      },
      "execution_count": 18,
      "outputs": [
        {
          "output_type": "stream",
          "name": "stdout",
          "text": [
            "1\n",
            "5\n",
            "2\n",
            "6\n",
            "3\n",
            "7\n",
            "4\n",
            "8\n"
          ]
        }
      ]
    },
    {
      "cell_type": "code",
      "source": [
        "# map() 함수\n",
        "list(map(lambda x : x + 1, [1, 2, 3, 4]))"
      ],
      "metadata": {
        "colab": {
          "base_uri": "https://localhost:8080/"
        },
        "id": "-WQGJni7O8nq",
        "outputId": "6acd9bd9-0783-4864-f002-305788a23798"
      },
      "execution_count": 20,
      "outputs": [
        {
          "output_type": "execute_result",
          "data": {
            "text/plain": [
              "[2, 3, 4, 5]"
            ]
          },
          "metadata": {},
          "execution_count": 20
        }
      ]
    },
    {
      "cell_type": "code",
      "source": [
        "# filter() 함수 - 함수는 true, false를 return 하는 함수 받아와야 한다. 참인 값들만 컬렉션으로 return 해준다.\n",
        "list(filter(lambda x : x % 2 == 0, [1, 2, 3, 4]))"
      ],
      "metadata": {
        "colab": {
          "base_uri": "https://localhost:8080/"
        },
        "id": "G6xASeNqPxnG",
        "outputId": "eb6b81b0-5570-4c29-bf0e-9545768bfad9"
      },
      "execution_count": 21,
      "outputs": [
        {
          "output_type": "execute_result",
          "data": {
            "text/plain": [
              "[2, 4]"
            ]
          },
          "metadata": {},
          "execution_count": 21
        }
      ]
    }
  ]
}