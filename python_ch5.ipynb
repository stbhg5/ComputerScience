{
  "nbformat": 4,
  "nbformat_minor": 0,
  "metadata": {
    "colab": {
      "provenance": [],
      "authorship_tag": "ABX9TyNinPFwDlF9c6i0skahkzrJ",
      "include_colab_link": true
    },
    "kernelspec": {
      "name": "python3",
      "display_name": "Python 3"
    },
    "language_info": {
      "name": "python"
    }
  },
  "cells": [
    {
      "cell_type": "markdown",
      "metadata": {
        "id": "view-in-github",
        "colab_type": "text"
      },
      "source": [
        "<a href=\"https://colab.research.google.com/github/stbhg5/ComputerScience/blob/main/python_ch5.ipynb\" target=\"_parent\"><img src=\"https://colab.research.google.com/assets/colab-badge.svg\" alt=\"Open In Colab\"/></a>"
      ]
    },
    {
      "cell_type": "markdown",
      "source": [
        "1. 재귀함수"
      ],
      "metadata": {
        "id": "eKbbsFebR8SG"
      }
    },
    {
      "cell_type": "code",
      "source": [
        "def func(count):\n",
        "    if count > 0:\n",
        "        print(count, '현재')\n",
        "        func(count - 1)\n",
        "    print('결과', count)\n",
        "func(10)"
      ],
      "metadata": {
        "colab": {
          "base_uri": "https://localhost:8080/"
        },
        "id": "vrjgucV0R6Hy",
        "outputId": "0ef0dae5-4be4-4601-8b7b-14d0a4eec7ca"
      },
      "execution_count": 1,
      "outputs": [
        {
          "output_type": "stream",
          "name": "stdout",
          "text": [
            "10 현재\n",
            "9 현재\n",
            "8 현재\n",
            "7 현재\n",
            "6 현재\n",
            "5 현재\n",
            "4 현재\n",
            "3 현재\n",
            "2 현재\n",
            "1 현재\n",
            "결과 0\n",
            "결과 1\n",
            "결과 2\n",
            "결과 3\n",
            "결과 4\n",
            "결과 5\n",
            "결과 6\n",
            "결과 7\n",
            "결과 8\n",
            "결과 9\n",
            "결과 10\n"
          ]
        }
      ]
    },
    {
      "cell_type": "code",
      "source": [
        "def no_idea():\n",
        "    print('나는 아무 생각이 없다')\n",
        "    print('왜냐하면 아무 생각이 없기 때문이다.')\n",
        "    no_idea()\n",
        "no_idea()\n",
        "# maximum recursion depth exceeded while calling a Python object 오류 난다.\n",
        "# 스스로가 스스로를 호출하는데 메모리를 사용하는데 그 메모리가 스택이다. 스택 무리하게 많이 사용한 스택 오버 플로우."
      ],
      "metadata": {
        "id": "JdcbbFGPUNMb"
      },
      "execution_count": 5,
      "outputs": []
    },
    {
      "cell_type": "markdown",
      "source": [
        "2. 중첩함수"
      ],
      "metadata": {
        "id": "GSHdcXDpVGxt"
      }
    },
    {
      "cell_type": "code",
      "source": [
        "def func1(a):\n",
        "    def func2():\n",
        "        nonlocal a\n",
        "        a = a + 1\n",
        "        return a\n",
        "    return func2()\n",
        "func1(2)"
      ],
      "metadata": {
        "colab": {
          "base_uri": "https://localhost:8080/"
        },
        "id": "d-CZ1C_FVJ8x",
        "outputId": "6a35153d-8176-46c9-8362-1fdf63dd0e52"
      },
      "execution_count": 6,
      "outputs": [
        {
          "output_type": "execute_result",
          "data": {
            "text/plain": [
              "3"
            ]
          },
          "metadata": {},
          "execution_count": 6
        }
      ]
    },
    {
      "cell_type": "code",
      "source": [
        "a = 3\n",
        "def func1(a):\n",
        "    def func2():\n",
        "        global a\n",
        "        a = a + 1\n",
        "        return a\n",
        "    return func2()\n",
        "func1(2)\n",
        "# print(a) a = 4다."
      ],
      "metadata": {
        "colab": {
          "base_uri": "https://localhost:8080/"
        },
        "id": "0KjcClNmW_Ec",
        "outputId": "8a03e8f0-a2a2-4e84-b079-d4c9a2a345b9"
      },
      "execution_count": 8,
      "outputs": [
        {
          "output_type": "stream",
          "name": "stdout",
          "text": [
            "4\n"
          ]
        }
      ]
    },
    {
      "cell_type": "markdown",
      "source": [
        "3. lambda 함수"
      ],
      "metadata": {
        "id": "KgWjcAsXXpuQ"
      }
    },
    {
      "cell_type": "code",
      "source": [
        "def run(func, x):\n",
        "    print(func(x))\n",
        "run(lambda x: x + 1, 2)"
      ],
      "metadata": {
        "colab": {
          "base_uri": "https://localhost:8080/"
        },
        "id": "d5lqgixkXvMP",
        "outputId": "ee0308f4-c43a-4388-d18a-ccb1cbe50298"
      },
      "execution_count": 12,
      "outputs": [
        {
          "output_type": "stream",
          "name": "stdout",
          "text": [
            "3\n"
          ]
        }
      ]
    }
  ]
}