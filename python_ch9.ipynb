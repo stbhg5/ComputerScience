{
  "nbformat": 4,
  "nbformat_minor": 0,
  "metadata": {
    "colab": {
      "provenance": [],
      "authorship_tag": "ABX9TyOrNbP9cbOzSndjzZMgX8Ry",
      "include_colab_link": true
    },
    "kernelspec": {
      "name": "python3",
      "display_name": "Python 3"
    },
    "language_info": {
      "name": "python"
    }
  },
  "cells": [
    {
      "cell_type": "markdown",
      "metadata": {
        "id": "view-in-github",
        "colab_type": "text"
      },
      "source": [
        "<a href=\"https://colab.research.google.com/github/stbhg5/ComputerScience/blob/main/python_ch9.ipynb\" target=\"_parent\"><img src=\"https://colab.research.google.com/assets/colab-badge.svg\" alt=\"Open In Colab\"/></a>"
      ]
    },
    {
      "cell_type": "markdown",
      "source": [
        "1. 프로세스와 쓰레드"
      ],
      "metadata": {
        "id": "WzLX8mEDkl9M"
      }
    },
    {
      "cell_type": "code",
      "execution_count": null,
      "metadata": {
        "colab": {
          "base_uri": "https://localhost:8080/"
        },
        "id": "kQct6CBTjS8R",
        "outputId": "72db6d07-66bd-47e8-998d-e151d07e0b27"
      },
      "outputs": [
        {
          "output_type": "stream",
          "name": "stdout",
          "text": [
            "[49995000, 149985000]\n",
            "199980000\n",
            "0.002070903778076172\n"
          ]
        }
      ],
      "source": [
        "# 멀티 쓰레드\n",
        "from threading import Thread\n",
        "import time\n",
        "\n",
        "def work(work_id, start, end, result):\n",
        "    total = 0\n",
        "    for i in range(start, end):\n",
        "        total += i\n",
        "    result.append(total)\n",
        "\n",
        "if __name__ == '__main__':\n",
        "    start = time.time() # 코드가 실행되기 전 시간\n",
        "    result = []\n",
        "    th1 = Thread(target = work, args = (1, 0, 10000, result))\n",
        "    th2 = Thread(target = work, args = (2, 10001, 20000, result))\n",
        "\n",
        "    th1.start()\n",
        "    th2.start()\n",
        "    th1.join() # join() 메서드는 파이썬에게 프로세스가 종료 될 때까지 대기하도록 지시한다.\n",
        "    th2.join()\n",
        "\n",
        "    print(result)\n",
        "    print(sum(result))\n",
        "    print(time.time() - start) # 코드가 실행된 총 시간"
      ]
    },
    {
      "cell_type": "code",
      "source": [
        "# 멀티 프로세싱\n",
        "# Pool\n",
        "from multiprocessing import Pool\n",
        "import os\n",
        "import time\n",
        "\n",
        "def f(x):\n",
        "    print(x, os.getpid()) # 프로세스 아이디\n",
        "    return x * x\n",
        "\n",
        "print(__name__)\n",
        "\n",
        "if __name__ == '__main__': # 자식 프로세스가 실행하게 하지 않기 위함\n",
        "    start = time.time()\n",
        "    p = Pool(4) # 자식 프로세스 개수(개수는 상황에 따라 다른데 효율적인 개수가 좋다. 주로 cpu 코어 개수만큼으로 설정)\n",
        "    # result = p.map(f, [1, 2, 3, 4]) # 함수명, 컬렉션 자료형, map()에선 명시된 함수에 명시한 컬렉션을 적당히 Pool에 분배해준다. 이후 결과를 반환값에 저장\n",
        "    result = p.map(f, range(8)) # 반환값이 리스트 자료형으로 저장됨\n",
        "    p.close() # 자식 프로세스 죽임, 메모리 절약하고 문제생기게 하지 않기 위함\n",
        "    print(result)\n",
        "    print(time.time() - start)"
      ],
      "metadata": {
        "colab": {
          "base_uri": "https://localhost:8080/"
        },
        "id": "Ihox9BAOoO3W",
        "outputId": "09b65357-ebf2-4a3d-fad8-c134701c1a1e"
      },
      "execution_count": null,
      "outputs": [
        {
          "output_type": "stream",
          "name": "stdout",
          "text": [
            "__main__\n",
            "0132 10134  \n",
            " 410135\n",
            " 510134 \n",
            "10137\n",
            "610135101367\n",
            "\n",
            " 10134\n",
            " 10137\n",
            "[0, 1, 4, 9, 16, 25, 36, 49]\n",
            "0.12463736534118652\n"
          ]
        }
      ]
    },
    {
      "cell_type": "code",
      "source": [
        "# Process (멀티 쓰레드와 선언하는 방법이 비슷한 구조)\n",
        "# Pool과 Process 차이점 : Pool은 풀고자하는 list 값을 맘대로 Pool에 던진다면, Process는 정확하게 함수에게 어떤 문제를 풀지 지정해준다.\n",
        "import os\n",
        "\n",
        "from multiprocessing import Process\n",
        "\n",
        "def f(x):\n",
        "    # print(os.getpid()) # 프로세스 아이디\n",
        "    print(x * x)\n",
        "\n",
        "print(__name__)\n",
        "\n",
        "if __name__ == '__main__':\n",
        "    numbers = [1, 2, 3, 4]\n",
        "    proc1 = Process(target = f, args = (numbers[0],)) # args에 들어가는 자료형은 튜플. 튜플은 원소개 1개일 때 ,를 써야한다.\n",
        "    proc1.start()\n",
        "    proc2 = Process(target = f, args = (numbers[1],))\n",
        "    proc2.start()\n",
        "    proc3 = Process(target = f, args = (numbers[2],))\n",
        "    proc3.start()\n",
        "    proc4 = Process(target = f, args = (numbers[3],))\n",
        "    proc4.start()\n",
        "    proc1.join()\n",
        "    proc2.join()\n",
        "    proc3.join()\n",
        "    proc4.join()\n",
        "    # 병렬적으로 실행하기 때문에 실행 완료된 순서를 알 수 없다."
      ],
      "metadata": {
        "colab": {
          "base_uri": "https://localhost:8080/"
        },
        "id": "9HoCo3CawKuw",
        "outputId": "ca742baf-8cb6-4066-df4a-5a214568cd6e"
      },
      "execution_count": null,
      "outputs": [
        {
          "output_type": "stream",
          "name": "stdout",
          "text": [
            "__main__\n",
            "1\n",
            "4\n",
            "9\n",
            "16\n"
          ]
        }
      ]
    },
    {
      "cell_type": "markdown",
      "source": [
        "2. 실전 예제"
      ],
      "metadata": {
        "id": "yImFkRVSPy32"
      }
    },
    {
      "cell_type": "code",
      "source": [
        "# Pool에 변수 하나에 여러 개의 list를 매개변수로 넣기\n",
        "import time, os\n",
        "from multiprocessing import Pool\n",
        "\n",
        "# Pool에 넣을 함수는 매개변수를 1개만 받는 함수를 선언해야 한다.\n",
        "def func(x):\n",
        "    return x[0] * x[1]\n",
        "\n",
        "if __name__ == '__main__':\n",
        "    start = int(time.time())\n",
        "    num_pool = 2 # 100\n",
        "    pool = Pool(num_pool)\n",
        "    print(pool.map(func, zip(range(100), range(100)))) # 컬렉션 형태 자료형\n",
        "    print('***run time(sec) :', int(time.time()) - start)"
      ],
      "metadata": {
        "colab": {
          "base_uri": "https://localhost:8080/"
        },
        "id": "0Kcf7nGDPyhN",
        "outputId": "6eaae8e6-aed7-40ce-894f-a017b75f2d1f"
      },
      "execution_count": 2,
      "outputs": [
        {
          "output_type": "stream",
          "name": "stdout",
          "text": [
            "[0, 1, 4, 9, 16, 25, 36, 49, 64, 81, 100, 121, 144, 169, 196, 225, 256, 289, 324, 361, 400, 441, 484, 529, 576, 625, 676, 729, 784, 841, 900, 961, 1024, 1089, 1156, 1225, 1296, 1369, 1444, 1521, 1600, 1681, 1764, 1849, 1936, 2025, 2116, 2209, 2304, 2401, 2500, 2601, 2704, 2809, 2916, 3025, 3136, 3249, 3364, 3481, 3600, 3721, 3844, 3969, 4096, 4225, 4356, 4489, 4624, 4761, 4900, 5041, 5184, 5329, 5476, 5625, 5776, 5929, 6084, 6241, 6400, 6561, 6724, 6889, 7056, 7225, 7396, 7569, 7744, 7921, 8100, 8281, 8464, 8649, 8836, 9025, 9216, 9409, 9604, 9801]\n",
            "***run time(sec) : 0\n"
          ]
        }
      ]
    },
    {
      "cell_type": "code",
      "source": [
        "# zip() : 2개의 컬렉션 받아서 각 원소를 하나씩 압축시킨다. 반환값으로 튜플 출력.\n",
        "for i in zip(range(100), range(300, 400)):\n",
        "    print(i)"
      ],
      "metadata": {
        "colab": {
          "base_uri": "https://localhost:8080/"
        },
        "id": "lV4a1TCWSo_Y",
        "outputId": "2b57c515-3a7e-4a3b-e8a6-0b6dfbde6930"
      },
      "execution_count": 6,
      "outputs": [
        {
          "output_type": "stream",
          "name": "stdout",
          "text": [
            "(0, 300)\n",
            "(1, 301)\n",
            "(2, 302)\n",
            "(3, 303)\n",
            "(4, 304)\n",
            "(5, 305)\n",
            "(6, 306)\n",
            "(7, 307)\n",
            "(8, 308)\n",
            "(9, 309)\n",
            "(10, 310)\n",
            "(11, 311)\n",
            "(12, 312)\n",
            "(13, 313)\n",
            "(14, 314)\n",
            "(15, 315)\n",
            "(16, 316)\n",
            "(17, 317)\n",
            "(18, 318)\n",
            "(19, 319)\n",
            "(20, 320)\n",
            "(21, 321)\n",
            "(22, 322)\n",
            "(23, 323)\n",
            "(24, 324)\n",
            "(25, 325)\n",
            "(26, 326)\n",
            "(27, 327)\n",
            "(28, 328)\n",
            "(29, 329)\n",
            "(30, 330)\n",
            "(31, 331)\n",
            "(32, 332)\n",
            "(33, 333)\n",
            "(34, 334)\n",
            "(35, 335)\n",
            "(36, 336)\n",
            "(37, 337)\n",
            "(38, 338)\n",
            "(39, 339)\n",
            "(40, 340)\n",
            "(41, 341)\n",
            "(42, 342)\n",
            "(43, 343)\n",
            "(44, 344)\n",
            "(45, 345)\n",
            "(46, 346)\n",
            "(47, 347)\n",
            "(48, 348)\n",
            "(49, 349)\n",
            "(50, 350)\n",
            "(51, 351)\n",
            "(52, 352)\n",
            "(53, 353)\n",
            "(54, 354)\n",
            "(55, 355)\n",
            "(56, 356)\n",
            "(57, 357)\n",
            "(58, 358)\n",
            "(59, 359)\n",
            "(60, 360)\n",
            "(61, 361)\n",
            "(62, 362)\n",
            "(63, 363)\n",
            "(64, 364)\n",
            "(65, 365)\n",
            "(66, 366)\n",
            "(67, 367)\n",
            "(68, 368)\n",
            "(69, 369)\n",
            "(70, 370)\n",
            "(71, 371)\n",
            "(72, 372)\n",
            "(73, 373)\n",
            "(74, 374)\n",
            "(75, 375)\n",
            "(76, 376)\n",
            "(77, 377)\n",
            "(78, 378)\n",
            "(79, 379)\n",
            "(80, 380)\n",
            "(81, 381)\n",
            "(82, 382)\n",
            "(83, 383)\n",
            "(84, 384)\n",
            "(85, 385)\n",
            "(86, 386)\n",
            "(87, 387)\n",
            "(88, 388)\n",
            "(89, 389)\n",
            "(90, 390)\n",
            "(91, 391)\n",
            "(92, 392)\n",
            "(93, 393)\n",
            "(94, 394)\n",
            "(95, 395)\n",
            "(96, 396)\n",
            "(97, 397)\n",
            "(98, 398)\n",
            "(99, 399)\n"
          ]
        }
      ]
    },
    {
      "cell_type": "code",
      "source": [
        "# Pool에 매개변수가 여러개인 함수를 굳이 하고싶다\n",
        "import time, os\n",
        "from multiprocessing import Pool\n",
        "from functools import partial\n",
        "\n",
        "def func(x, y):\n",
        "    return x * y\n",
        "\n",
        "if __name__ == '__main__':\n",
        "    start = int(time.time())\n",
        "    num_pool = 2 # 100\n",
        "    pool = Pool(num_pool)\n",
        "    print(pool.map(partial(func, y = 3), range(100))) # partial은 부분함수 - partial(함수명, 매개변수 = 값) : 매개변수는 값으로 고정, 이렇게 매개변수가 여러개지만 1개로 줄여준다.\n",
        "    print('***run time(sec) :', int(time.time()) - start)"
      ],
      "metadata": {
        "colab": {
          "base_uri": "https://localhost:8080/"
        },
        "id": "NTgdKPg1UGvG",
        "outputId": "2e623d29-5d85-4354-abeb-fdc6a26e08d8"
      },
      "execution_count": 8,
      "outputs": [
        {
          "output_type": "stream",
          "name": "stdout",
          "text": [
            "[0, 3, 6, 9, 12, 15, 18, 21, 24, 27, 30, 33, 36, 39, 42, 45, 48, 51, 54, 57, 60, 63, 66, 69, 72, 75, 78, 81, 84, 87, 90, 93, 96, 99, 102, 105, 108, 111, 114, 117, 120, 123, 126, 129, 132, 135, 138, 141, 144, 147, 150, 153, 156, 159, 162, 165, 168, 171, 174, 177, 180, 183, 186, 189, 192, 195, 198, 201, 204, 207, 210, 213, 216, 219, 222, 225, 228, 231, 234, 237, 240, 243, 246, 249, 252, 255, 258, 261, 264, 267, 270, 273, 276, 279, 282, 285, 288, 291, 294, 297]\n",
            "***run time(sec) : 0\n"
          ]
        }
      ]
    },
    {
      "cell_type": "code",
      "source": [
        "# Jupyter Notebook에서 멀티프로세싱 실행 - 주피터 노트북 특성상, 자식 프로세스들이 주피터 노트북 위에 뜬 함수를 잘 못 읽는다. 따라서 주피터노트북 바깥에(다른 파일에 모듈을 만들어서) 정의 해야한다.\n",
        "import time, os\n",
        "from multiprocessing import Pool\n",
        "from test import works\n",
        "\n",
        "def work(x):\n",
        "    return x ** 2\n",
        "\n",
        "if __name__ == '__main__':\n",
        "    num_pool = 2 # 100\n",
        "    pool = Pool(num_pool)\n",
        "    # print(pool.map(work, range(100)))\n",
        "    print(pool.map(works, range(100)))\n",
        "    pool.close() # 자식 프로세스 사라짐"
      ],
      "metadata": {
        "colab": {
          "base_uri": "https://localhost:8080/"
        },
        "id": "sSUcnWN8Ww2Q",
        "outputId": "2fd9b302-af19-45b3-a8a5-e90dc695ac85"
      },
      "execution_count": 17,
      "outputs": [
        {
          "output_type": "stream",
          "name": "stdout",
          "text": [
            "[0, 1, 4, 9, 16, 25, 36, 49, 64, 81, 100, 121, 144, 169, 196, 225, 256, 289, 324, 361, 400, 441, 484, 529, 576, 625, 676, 729, 784, 841, 900, 961, 1024, 1089, 1156, 1225, 1296, 1369, 1444, 1521, 1600, 1681, 1764, 1849, 1936, 2025, 2116, 2209, 2304, 2401, 2500, 2601, 2704, 2809, 2916, 3025, 3136, 3249, 3364, 3481, 3600, 3721, 3844, 3969, 4096, 4225, 4356, 4489, 4624, 4761, 4900, 5041, 5184, 5329, 5476, 5625, 5776, 5929, 6084, 6241, 6400, 6561, 6724, 6889, 7056, 7225, 7396, 7569, 7744, 7921, 8100, 8281, 8464, 8649, 8836, 9025, 9216, 9409, 9604, 9801]\n"
          ]
        }
      ]
    }
  ]
}