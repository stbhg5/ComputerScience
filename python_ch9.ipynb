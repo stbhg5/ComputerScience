{
  "nbformat": 4,
  "nbformat_minor": 0,
  "metadata": {
    "colab": {
      "provenance": [],
      "authorship_tag": "ABX9TyPiaJ7LgWkf+Y43Gl2ufZ/Z",
      "include_colab_link": true
    },
    "kernelspec": {
      "name": "python3",
      "display_name": "Python 3"
    },
    "language_info": {
      "name": "python"
    }
  },
  "cells": [
    {
      "cell_type": "markdown",
      "metadata": {
        "id": "view-in-github",
        "colab_type": "text"
      },
      "source": [
        "<a href=\"https://colab.research.google.com/github/stbhg5/ComputerScience/blob/main/python_ch9.ipynb\" target=\"_parent\"><img src=\"https://colab.research.google.com/assets/colab-badge.svg\" alt=\"Open In Colab\"/></a>"
      ]
    },
    {
      "cell_type": "markdown",
      "source": [
        "1. 프로세스와 쓰레드"
      ],
      "metadata": {
        "id": "WzLX8mEDkl9M"
      }
    },
    {
      "cell_type": "code",
      "execution_count": 4,
      "metadata": {
        "colab": {
          "base_uri": "https://localhost:8080/"
        },
        "id": "kQct6CBTjS8R",
        "outputId": "72db6d07-66bd-47e8-998d-e151d07e0b27"
      },
      "outputs": [
        {
          "output_type": "stream",
          "name": "stdout",
          "text": [
            "[49995000, 149985000]\n",
            "199980000\n",
            "0.002070903778076172\n"
          ]
        }
      ],
      "source": [
        "# 멀티 쓰레드\n",
        "from threading import Thread\n",
        "import time\n",
        "\n",
        "def work(work_id, start, end, result):\n",
        "    total = 0\n",
        "    for i in range(start, end):\n",
        "        total += i\n",
        "    result.append(total)\n",
        "\n",
        "if __name__ == '__main__':\n",
        "    start = time.time() # 코드가 실행되기 전 시간\n",
        "    result = []\n",
        "    th1 = Thread(target = work, args = (1, 0, 10000, result))\n",
        "    th2 = Thread(target = work, args = (2, 10001, 20000, result))\n",
        "\n",
        "    th1.start()\n",
        "    th2.start()\n",
        "    th1.join() # join() 메서드는 파이썬에게 프로세스가 종료 될 때까지 대기하도록 지시한다.\n",
        "    th2.join()\n",
        "\n",
        "    print(result)\n",
        "    print(sum(result))\n",
        "    print(time.time() - start) # 코드가 실행된 총 시간"
      ]
    },
    {
      "cell_type": "code",
      "source": [
        "# 멀티 프로세싱\n",
        "# Pool\n",
        "from multiprocessing import Pool\n",
        "import os\n",
        "import time\n",
        "\n",
        "def f(x):\n",
        "    print(x, os.getpid()) # 프로세스 아이디\n",
        "    return x * x\n",
        "\n",
        "print(__name__)\n",
        "\n",
        "if __name__ == '__main__': # 자식 프로세스가 실행하게 하지 않기 위함\n",
        "    start = time.time()\n",
        "    p = Pool(4) # 자식 프로세스 개수(개수는 상황에 따라 다른데 효율적인 개수가 좋다. 주로 cpu 코어 개수만큼으로 설정)\n",
        "    # result = p.map(f, [1, 2, 3, 4]) # 함수명, 컬렉션 자료형, map()에선 명시된 함수에 명시한 컬렉션을 적당히 Pool에 분배해준다. 이후 결과를 반환값에 저장\n",
        "    result = p.map(f, range(8)) # 반환값이 리스트 자료형으로 저장됨\n",
        "    p.close() # 자식 프로세스 죽임, 메모리 절약하고 문제생기게 하지 않기 위함\n",
        "    print(result)\n",
        "    print(time.time() - start)"
      ],
      "metadata": {
        "colab": {
          "base_uri": "https://localhost:8080/"
        },
        "id": "Ihox9BAOoO3W",
        "outputId": "09b65357-ebf2-4a3d-fad8-c134701c1a1e"
      },
      "execution_count": 19,
      "outputs": [
        {
          "output_type": "stream",
          "name": "stdout",
          "text": [
            "__main__\n",
            "0132 10134  \n",
            " 410135\n",
            " 510134 \n",
            "10137\n",
            "610135101367\n",
            "\n",
            " 10134\n",
            " 10137\n",
            "[0, 1, 4, 9, 16, 25, 36, 49]\n",
            "0.12463736534118652\n"
          ]
        }
      ]
    },
    {
      "cell_type": "code",
      "source": [
        "# Process (멀티 쓰레드와 선언하는 방법이 비슷한 구조)\n",
        "# Pool과 Process 차이점 : Pool은 풀고자하는 list 값을 맘대로 Pool에 던진다면, Process는 정확하게 함수에게 어떤 문제를 풀지 지정해준다.\n",
        "import os\n",
        "\n",
        "from multiprocessing import Process\n",
        "\n",
        "def f(x):\n",
        "    # print(os.getpid()) # 프로세스 아이디\n",
        "    print(x * x)\n",
        "\n",
        "print(__name__)\n",
        "\n",
        "if __name__ == '__main__':\n",
        "    numbers = [1, 2, 3, 4]\n",
        "    proc1 = Process(target = f, args = (numbers[0],)) # args에 들어가는 자료형은 튜플. 튜플은 원소개 1개일 때 ,를 써야한다.\n",
        "    proc1.start()\n",
        "    proc2 = Process(target = f, args = (numbers[1],))\n",
        "    proc2.start()\n",
        "    proc3 = Process(target = f, args = (numbers[2],))\n",
        "    proc3.start()\n",
        "    proc4 = Process(target = f, args = (numbers[3],))\n",
        "    proc4.start()\n",
        "    proc1.join()\n",
        "    proc2.join()\n",
        "    proc3.join()\n",
        "    proc4.join()\n",
        "    # 병렬적으로 실행하기 때문에 실행 완료된 순서를 알 수 없다."
      ],
      "metadata": {
        "colab": {
          "base_uri": "https://localhost:8080/"
        },
        "id": "9HoCo3CawKuw",
        "outputId": "ca742baf-8cb6-4066-df4a-5a214568cd6e"
      },
      "execution_count": 27,
      "outputs": [
        {
          "output_type": "stream",
          "name": "stdout",
          "text": [
            "__main__\n",
            "1\n",
            "4\n",
            "9\n",
            "16\n"
          ]
        }
      ]
    }
  ]
}