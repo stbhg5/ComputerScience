{
  "nbformat": 4,
  "nbformat_minor": 0,
  "metadata": {
    "colab": {
      "provenance": [],
      "authorship_tag": "ABX9TyPvpJ9GCEdW7gQlSrVV2Re7",
      "include_colab_link": true
    },
    "kernelspec": {
      "name": "python3",
      "display_name": "Python 3"
    },
    "language_info": {
      "name": "python"
    }
  },
  "cells": [
    {
      "cell_type": "markdown",
      "metadata": {
        "id": "view-in-github",
        "colab_type": "text"
      },
      "source": [
        "<a href=\"https://colab.research.google.com/github/stbhg5/ComputerScience/blob/main/python_ch3.ipynb\" target=\"_parent\"><img src=\"https://colab.research.google.com/assets/colab-badge.svg\" alt=\"Open In Colab\"/></a>"
      ]
    },
    {
      "cell_type": "markdown",
      "source": [
        "1. 기초연산자들"
      ],
      "metadata": {
        "id": "7Vj5b2XNue6H"
      }
    },
    {
      "cell_type": "code",
      "execution_count": null,
      "metadata": {
        "colab": {
          "base_uri": "https://localhost:8080/"
        },
        "id": "In4Cr2pBksYA",
        "outputId": "61906775-bce4-4d8a-d006-96fad60e5f0e"
      },
      "outputs": [
        {
          "output_type": "execute_result",
          "data": {
            "text/plain": [
              "False"
            ]
          },
          "metadata": {},
          "execution_count": 1
        }
      ],
      "source": [
        "a = 3\n",
        "b = 4\n",
        "a > 4 # False"
      ]
    },
    {
      "cell_type": "code",
      "source": [
        "b = [1, 2, 3, 4]\n",
        "a = 3\n",
        "a in b # True\n",
        "5 in b # False"
      ],
      "metadata": {
        "colab": {
          "base_uri": "https://localhost:8080/"
        },
        "id": "CQPvQw53lpy7",
        "outputId": "72877ebb-6607-4df9-f1a1-762174fa282a"
      },
      "execution_count": null,
      "outputs": [
        {
          "output_type": "execute_result",
          "data": {
            "text/plain": [
              "False"
            ]
          },
          "metadata": {},
          "execution_count": 3
        }
      ]
    },
    {
      "cell_type": "code",
      "source": [
        "a = [1, 2, 3, 4]\n",
        "b = [1, 2, 3, 4]\n",
        "a is b # False\n",
        "b = a\n",
        "a is b # True"
      ],
      "metadata": {
        "colab": {
          "base_uri": "https://localhost:8080/"
        },
        "id": "ez1wgw6AnYZs",
        "outputId": "cbb8322d-d0ed-4700-a0e6-ce4f8e6c85fd"
      },
      "execution_count": null,
      "outputs": [
        {
          "output_type": "execute_result",
          "data": {
            "text/plain": [
              "True"
            ]
          },
          "metadata": {},
          "execution_count": 5
        }
      ]
    },
    {
      "cell_type": "code",
      "source": [
        "a = 3\n",
        "a += 1 # a = a + 1과 같다.\n",
        "print(a)"
      ],
      "metadata": {
        "colab": {
          "base_uri": "https://localhost:8080/"
        },
        "id": "G2kgKoYFoHJg",
        "outputId": "47060294-807a-40f6-e452-ea6eb8b98d70"
      },
      "execution_count": null,
      "outputs": [
        {
          "output_type": "stream",
          "name": "stdout",
          "text": [
            "4\n"
          ]
        }
      ]
    },
    {
      "cell_type": "markdown",
      "source": [
        "2. if문"
      ],
      "metadata": {
        "id": "jh7wrZAeuXo9"
      }
    },
    {
      "cell_type": "code",
      "source": [
        "x = 3 # 양수입니다\n",
        "x = -1 # 음수입니다\n",
        "x = 0 # 0입니다.\n",
        "if x > 0:\n",
        "    print('양수입니다')\n",
        "elif x < 0:\n",
        "    print('음수입니다')\n",
        "else:\n",
        "    print('0입니다.')"
      ],
      "metadata": {
        "colab": {
          "base_uri": "https://localhost:8080/"
        },
        "id": "A6lPS8-tr2vf",
        "outputId": "7622f436-99f0-47d3-f030-41b4a6b89c08"
      },
      "execution_count": null,
      "outputs": [
        {
          "output_type": "stream",
          "name": "stdout",
          "text": [
            "0입니다.\n"
          ]
        }
      ]
    },
    {
      "cell_type": "markdown",
      "source": [
        "3. for문"
      ],
      "metadata": {
        "id": "jJW2jGcLL32G"
      }
    },
    {
      "cell_type": "code",
      "source": [
        "for i in [1, 2, 3, 4]:\n",
        "    print(i)\n",
        "# 1 2 3 4\n",
        "for i in set([1, 21, 3, 4]):\n",
        "    print(i)\n",
        "# 1 3 4 21 (순서가 없기 때문에 마구잡이 순서로 나옴)\n",
        "for i in [1, 21, 3, 42]:\n",
        "    print(i)\n",
        "# 1 21 3 42 (순서에 맞게 나온다)"
      ],
      "metadata": {
        "colab": {
          "base_uri": "https://localhost:8080/"
        },
        "id": "gezGIXZqL5Oc",
        "outputId": "91e082a1-519f-40f0-87b3-36d0f9792ec5"
      },
      "execution_count": null,
      "outputs": [
        {
          "output_type": "stream",
          "name": "stdout",
          "text": [
            "1\n",
            "2\n",
            "3\n",
            "4\n",
            "1\n",
            "3\n",
            "4\n",
            "21\n",
            "1\n",
            "21\n",
            "3\n",
            "42\n"
          ]
        }
      ]
    },
    {
      "cell_type": "code",
      "source": [
        "for i in range(1, 5):\n",
        "    print(i)\n",
        "for i in range(5): # range(0, 5)와 같다.\n",
        "    print(i)"
      ],
      "metadata": {
        "colab": {
          "base_uri": "https://localhost:8080/"
        },
        "id": "fO34TKE2OiXC",
        "outputId": "6bb8a1d2-1eff-4549-a8a3-47e1b59f47a0"
      },
      "execution_count": null,
      "outputs": [
        {
          "output_type": "stream",
          "name": "stdout",
          "text": [
            "1\n",
            "2\n",
            "3\n",
            "4\n",
            "0\n",
            "1\n",
            "2\n",
            "3\n",
            "4\n"
          ]
        }
      ]
    },
    {
      "cell_type": "code",
      "source": [
        "for i in range(0, 5, 2):\n",
        "    print(i)\n",
        "for i in range(5, 0, -1):\n",
        "    print(i)"
      ],
      "metadata": {
        "colab": {
          "base_uri": "https://localhost:8080/"
        },
        "id": "G-g3ZJs9O4_U",
        "outputId": "1507f206-3788-4395-b761-329bfca3bdd9"
      },
      "execution_count": null,
      "outputs": [
        {
          "output_type": "stream",
          "name": "stdout",
          "text": [
            "0\n",
            "2\n",
            "4\n",
            "5\n",
            "4\n",
            "3\n",
            "2\n",
            "1\n"
          ]
        }
      ]
    },
    {
      "cell_type": "markdown",
      "source": [
        "4. while문"
      ],
      "metadata": {
        "id": "OqBY0uM0Pglm"
      }
    },
    {
      "cell_type": "code",
      "source": [
        "i = 0;\n",
        "while i <= 100:\n",
        "    print(i)\n",
        "    i += 1"
      ],
      "metadata": {
        "colab": {
          "base_uri": "https://localhost:8080/"
        },
        "id": "WcL-KVcDPi1e",
        "outputId": "0e055599-3a76-474c-ddcc-3a680ebf365d"
      },
      "execution_count": null,
      "outputs": [
        {
          "output_type": "stream",
          "name": "stdout",
          "text": [
            "0\n",
            "1\n",
            "2\n",
            "3\n",
            "4\n",
            "5\n",
            "6\n",
            "7\n",
            "8\n",
            "9\n",
            "10\n",
            "11\n",
            "12\n",
            "13\n",
            "14\n",
            "15\n",
            "16\n",
            "17\n",
            "18\n",
            "19\n",
            "20\n",
            "21\n",
            "22\n",
            "23\n",
            "24\n",
            "25\n",
            "26\n",
            "27\n",
            "28\n",
            "29\n",
            "30\n",
            "31\n",
            "32\n",
            "33\n",
            "34\n",
            "35\n",
            "36\n",
            "37\n",
            "38\n",
            "39\n",
            "40\n",
            "41\n",
            "42\n",
            "43\n",
            "44\n",
            "45\n",
            "46\n",
            "47\n",
            "48\n",
            "49\n",
            "50\n",
            "51\n",
            "52\n",
            "53\n",
            "54\n",
            "55\n",
            "56\n",
            "57\n",
            "58\n",
            "59\n",
            "60\n",
            "61\n",
            "62\n",
            "63\n",
            "64\n",
            "65\n",
            "66\n",
            "67\n",
            "68\n",
            "69\n",
            "70\n",
            "71\n",
            "72\n",
            "73\n",
            "74\n",
            "75\n",
            "76\n",
            "77\n",
            "78\n",
            "79\n",
            "80\n",
            "81\n",
            "82\n",
            "83\n",
            "84\n",
            "85\n",
            "86\n",
            "87\n",
            "88\n",
            "89\n",
            "90\n",
            "91\n",
            "92\n",
            "93\n",
            "94\n",
            "95\n",
            "96\n",
            "97\n",
            "98\n",
            "99\n",
            "100\n"
          ]
        }
      ]
    },
    {
      "cell_type": "code",
      "source": [
        "# pass\n",
        "if 1 > 0:\n",
        "    pass # 아무 일도 안 일어남(아무 문장 안 적으면 오류가 생김), 다음에 구현할 부분 표시하기 위해 놓기도 함.\n",
        "else:\n",
        "    print('2')"
      ],
      "metadata": {
        "id": "MIGkNETcSJkL"
      },
      "execution_count": null,
      "outputs": []
    },
    {
      "cell_type": "code",
      "source": [
        "while 1 > 0:\n",
        "    print(1)\n",
        "    break # while문 또는 for문 끝냄"
      ],
      "metadata": {
        "colab": {
          "base_uri": "https://localhost:8080/"
        },
        "id": "t1tJwvttStU4",
        "outputId": "e6eeb9f8-00a9-4028-ff4b-243d8a551980"
      },
      "execution_count": null,
      "outputs": [
        {
          "output_type": "stream",
          "name": "stdout",
          "text": [
            "1\n"
          ]
        }
      ]
    },
    {
      "cell_type": "code",
      "source": [
        "i = 0\n",
        "while i < 20:\n",
        "    if i % 2 == 0:\n",
        "        print(i)\n",
        "        i += 1\n",
        "    else:\n",
        "        i += 1\n",
        "        continue\n",
        "    print('나는 짝수지롱')"
      ],
      "metadata": {
        "colab": {
          "base_uri": "https://localhost:8080/"
        },
        "id": "yAXmZPYzS2y7",
        "outputId": "fb5f766e-7ab4-4ee2-bdd9-6f5ccfe0254a"
      },
      "execution_count": null,
      "outputs": [
        {
          "output_type": "stream",
          "name": "stdout",
          "text": [
            "0\n",
            "나는 짝수지롱\n",
            "2\n",
            "나는 짝수지롱\n",
            "4\n",
            "나는 짝수지롱\n",
            "6\n",
            "나는 짝수지롱\n",
            "8\n",
            "나는 짝수지롱\n",
            "10\n",
            "나는 짝수지롱\n",
            "12\n",
            "나는 짝수지롱\n",
            "14\n",
            "나는 짝수지롱\n",
            "16\n",
            "나는 짝수지롱\n",
            "18\n",
            "나는 짝수지롱\n"
          ]
        }
      ]
    },
    {
      "cell_type": "markdown",
      "source": [
        "5. 실전문제풀이"
      ],
      "metadata": {
        "id": "8fCIdcIdi0OB"
      }
    },
    {
      "cell_type": "code",
      "source": [
        "i = 1\n",
        "sum = 0\n",
        "while True: # while뒤에 True이면 무한 반복\n",
        "    # 종료하기 위해서는 break를 사용 sum += i\n",
        "    if i > 50:\n",
        "        # break 반복문 종료\n",
        "        break\n",
        "    sum += i\n",
        "    i += 1\n",
        "    print('합계 :', sum)\n",
        "print('합계결과 :', sum)"
      ],
      "metadata": {
        "colab": {
          "base_uri": "https://localhost:8080/"
        },
        "id": "Sr7TtBVqi5gM",
        "outputId": "128cd2c9-9249-4af6-99ca-971ec524ec48"
      },
      "execution_count": 6,
      "outputs": [
        {
          "output_type": "stream",
          "name": "stdout",
          "text": [
            "합계 : 1\n",
            "합계 : 3\n",
            "합계 : 6\n",
            "합계 : 10\n",
            "합계 : 15\n",
            "합계 : 21\n",
            "합계 : 28\n",
            "합계 : 36\n",
            "합계 : 45\n",
            "합계 : 55\n",
            "합계 : 66\n",
            "합계 : 78\n",
            "합계 : 91\n",
            "합계 : 105\n",
            "합계 : 120\n",
            "합계 : 136\n",
            "합계 : 153\n",
            "합계 : 171\n",
            "합계 : 190\n",
            "합계 : 210\n",
            "합계 : 231\n",
            "합계 : 253\n",
            "합계 : 276\n",
            "합계 : 300\n",
            "합계 : 325\n",
            "합계 : 351\n",
            "합계 : 378\n",
            "합계 : 406\n",
            "합계 : 435\n",
            "합계 : 465\n",
            "합계 : 496\n",
            "합계 : 528\n",
            "합계 : 561\n",
            "합계 : 595\n",
            "합계 : 630\n",
            "합계 : 666\n",
            "합계 : 703\n",
            "합계 : 741\n",
            "합계 : 780\n",
            "합계 : 820\n",
            "합계 : 861\n",
            "합계 : 903\n",
            "합계 : 946\n",
            "합계 : 990\n",
            "합계 : 1035\n",
            "합계 : 1081\n",
            "합계 : 1128\n",
            "합계 : 1176\n",
            "합계 : 1225\n",
            "합계 : 1275\n",
            "합계결과 : 1275\n"
          ]
        }
      ]
    },
    {
      "cell_type": "code",
      "source": [
        "# continue는 아래 부분을 실행하지 않고 다음 반복문\n",
        "for i in range(10):\n",
        "    print(\"안녕 친구\")\n",
        "    print(i)\n",
        "    if i > 4:\n",
        "        continue\n",
        "    # break  # 반복문 종료\n",
        "    print(\"난 출력 되나\")"
      ],
      "metadata": {
        "colab": {
          "base_uri": "https://localhost:8080/"
        },
        "id": "839vJY5ckJBW",
        "outputId": "22eaa9b6-72fd-432f-dd62-63568873aadd"
      },
      "execution_count": 10,
      "outputs": [
        {
          "output_type": "stream",
          "name": "stdout",
          "text": [
            "안녕 친구\n",
            "0\n",
            "난 출력 되나\n",
            "안녕 친구\n",
            "1\n",
            "난 출력 되나\n",
            "안녕 친구\n",
            "2\n",
            "난 출력 되나\n",
            "안녕 친구\n",
            "3\n",
            "난 출력 되나\n",
            "안녕 친구\n",
            "4\n",
            "난 출력 되나\n",
            "안녕 친구\n",
            "5\n",
            "안녕 친구\n",
            "6\n",
            "안녕 친구\n",
            "7\n",
            "안녕 친구\n",
            "8\n",
            "안녕 친구\n",
            "9\n"
          ]
        }
      ]
    },
    {
      "cell_type": "code",
      "source": [
        "# while문을 사용하여 1부터 100사이의 짝수를 출력해 보세요\n",
        "sum = 0\n",
        "i = 1\n",
        "while i <= 100:\n",
        "    if i % 2 == 0:\n",
        "        print(i)\n",
        "        # sum += i\n",
        "    i += 1\n",
        "# print(\"100짝수 합 :\", sum)"
      ],
      "metadata": {
        "colab": {
          "base_uri": "https://localhost:8080/"
        },
        "id": "HMYJNfeakg-2",
        "outputId": "d87dd12c-f8ad-4b1c-f11e-c0c281bd63d7"
      },
      "execution_count": 12,
      "outputs": [
        {
          "output_type": "stream",
          "name": "stdout",
          "text": [
            "2\n",
            "4\n",
            "6\n",
            "8\n",
            "10\n",
            "12\n",
            "14\n",
            "16\n",
            "18\n",
            "20\n",
            "22\n",
            "24\n",
            "26\n",
            "28\n",
            "30\n",
            "32\n",
            "34\n",
            "36\n",
            "38\n",
            "40\n",
            "42\n",
            "44\n",
            "46\n",
            "48\n",
            "50\n",
            "52\n",
            "54\n",
            "56\n",
            "58\n",
            "60\n",
            "62\n",
            "64\n",
            "66\n",
            "68\n",
            "70\n",
            "72\n",
            "74\n",
            "76\n",
            "78\n",
            "80\n",
            "82\n",
            "84\n",
            "86\n",
            "88\n",
            "90\n",
            "92\n",
            "94\n",
            "96\n",
            "98\n",
            "100\n"
          ]
        }
      ]
    },
    {
      "cell_type": "code",
      "source": [
        "# 2중 for문\n",
        "for i in range(1, 10):\n",
        "    for j in range(2, 10):\n",
        "        print('{} * {} = {}'.format(j, i, i * j), end = '\\t')\n",
        "    print() # print('', end = '\\n')와 같다. 즉, 세로로 내려가게 함."
      ],
      "metadata": {
        "colab": {
          "base_uri": "https://localhost:8080/"
        },
        "id": "FKkGBPtZk4rD",
        "outputId": "13be11a2-010e-4c56-d0b7-2d84190e0166"
      },
      "execution_count": 13,
      "outputs": [
        {
          "output_type": "stream",
          "name": "stdout",
          "text": [
            "2 * 1 = 2\t3 * 1 = 3\t4 * 1 = 4\t5 * 1 = 5\t6 * 1 = 6\t7 * 1 = 7\t8 * 1 = 8\t9 * 1 = 9\t\n",
            "2 * 2 = 4\t3 * 2 = 6\t4 * 2 = 8\t5 * 2 = 10\t6 * 2 = 12\t7 * 2 = 14\t8 * 2 = 16\t9 * 2 = 18\t\n",
            "2 * 3 = 6\t3 * 3 = 9\t4 * 3 = 12\t5 * 3 = 15\t6 * 3 = 18\t7 * 3 = 21\t8 * 3 = 24\t9 * 3 = 27\t\n",
            "2 * 4 = 8\t3 * 4 = 12\t4 * 4 = 16\t5 * 4 = 20\t6 * 4 = 24\t7 * 4 = 28\t8 * 4 = 32\t9 * 4 = 36\t\n",
            "2 * 5 = 10\t3 * 5 = 15\t4 * 5 = 20\t5 * 5 = 25\t6 * 5 = 30\t7 * 5 = 35\t8 * 5 = 40\t9 * 5 = 45\t\n",
            "2 * 6 = 12\t3 * 6 = 18\t4 * 6 = 24\t5 * 6 = 30\t6 * 6 = 36\t7 * 6 = 42\t8 * 6 = 48\t9 * 6 = 54\t\n",
            "2 * 7 = 14\t3 * 7 = 21\t4 * 7 = 28\t5 * 7 = 35\t6 * 7 = 42\t7 * 7 = 49\t8 * 7 = 56\t9 * 7 = 63\t\n",
            "2 * 8 = 16\t3 * 8 = 24\t4 * 8 = 32\t5 * 8 = 40\t6 * 8 = 48\t7 * 8 = 56\t8 * 8 = 64\t9 * 8 = 72\t\n",
            "2 * 9 = 18\t3 * 9 = 27\t4 * 9 = 36\t5 * 9 = 45\t6 * 9 = 54\t7 * 9 = 63\t8 * 9 = 72\t9 * 9 = 81\t\n"
          ]
        }
      ]
    },
    {
      "cell_type": "code",
      "source": [
        "# end : 입력한 값을 붙이며 세로로 내려가지 않게 함.\n",
        "# \\t : 들여쓰기(탭)\n",
        "print(1, end = '\\t')\n",
        "print(2)\n",
        "print(1, end = '    ')\n",
        "print(3)\n",
        "print(1, end = '띄우기')\n",
        "print(4)"
      ],
      "metadata": {
        "colab": {
          "base_uri": "https://localhost:8080/"
        },
        "id": "isDk36fNlkTL",
        "outputId": "425fc1ae-2de3-4cae-e76f-50ba35e98a93"
      },
      "execution_count": 15,
      "outputs": [
        {
          "output_type": "stream",
          "name": "stdout",
          "text": [
            "1\t2\n",
            "1    3\n",
            "1띄우기4\n"
          ]
        }
      ]
    },
    {
      "cell_type": "code",
      "source": [
        "# 튜플\n",
        "for i in (1, 2, 3):\n",
        "    print(i)\n",
        "# sings = [\"아이유\", \"여자친구\", \"이하이\", \"악뮤\", \"알리\"]\n",
        "sings = '노래들'\n",
        "# 문자열\n",
        "for s in sings:\n",
        "    print(s)\n",
        "# list\n",
        "li = [1, 2, 3]\n",
        "for i in li:\n",
        "    print(i)"
      ],
      "metadata": {
        "colab": {
          "base_uri": "https://localhost:8080/"
        },
        "id": "U634xHUfm7Vl",
        "outputId": "563c2665-9e5f-4232-e880-742a6f183cdc"
      },
      "execution_count": 17,
      "outputs": [
        {
          "output_type": "stream",
          "name": "stdout",
          "text": [
            "1\n",
            "2\n",
            "3\n",
            "노\n",
            "래\n",
            "들\n",
            "1\n",
            "2\n",
            "3\n"
          ]
        }
      ]
    },
    {
      "cell_type": "code",
      "source": [
        "li = [1, 2, 3, 4, 5]\n",
        "# li데이터 하나씩 가져와서 3승(3제곱)하여 출력\n",
        "for i in li:\n",
        "    print(\"{} ** 3 = {}\".format(i, i ** 3))"
      ],
      "metadata": {
        "colab": {
          "base_uri": "https://localhost:8080/"
        },
        "id": "yrR7tJj9nhUY",
        "outputId": "8a67db4c-3457-4b70-fdb2-cfb3bfcbf1d1"
      },
      "execution_count": 18,
      "outputs": [
        {
          "output_type": "stream",
          "name": "stdout",
          "text": [
            "1 ** 3 = 1\n",
            "2 ** 3 = 8\n",
            "3 ** 3 = 27\n",
            "4 ** 3 = 64\n",
            "5 ** 3 = 125\n"
          ]
        }
      ]
    },
    {
      "cell_type": "code",
      "source": [
        "# for문에 for가 있는 경우 중첩 for\n",
        "for i in range(4):\n",
        "    # i 가 0일 때 j가 0부터 3까지\n",
        "    # i 가 1일 때 j가 0부터 3까지\n",
        "    # i 가 2일 때 j가 0부터 3까지\n",
        "    # i 가 3일 때 j가 0부터 3까지\n",
        "    print(\"i = {}, \".format(i), end = '')\n",
        "    for j in range(4):\n",
        "        print(j, end = ' ')\n",
        "    print()"
      ],
      "metadata": {
        "colab": {
          "base_uri": "https://localhost:8080/"
        },
        "id": "f6jpCZbinsy7",
        "outputId": "51d9781a-f273-4d8e-b5b2-96c747c30311"
      },
      "execution_count": 19,
      "outputs": [
        {
          "output_type": "stream",
          "name": "stdout",
          "text": [
            "i = 0, 0 1 2 3 \n",
            "i = 1, 0 1 2 3 \n",
            "i = 2, 0 1 2 3 \n",
            "i = 3, 0 1 2 3 \n"
          ]
        }
      ]
    },
    {
      "cell_type": "code",
      "source": [
        "# 주사위를 두 번 던져서 나온 숫자들의 합이 4의 배수가 되는 경우\n",
        "# 내 풀이\n",
        "for i in range(1, 7):\n",
        "    for j in range(1, 7):\n",
        "        if((i + j) % 4 == 0):\n",
        "            print(i, j)\n",
        "# 정답 풀이\n",
        "for i in range(1, 7):     # i : 1 ~ 6 첫번째 주사위\n",
        "    for j in range(1, 7): # j : 1 ~ 6 두번째 주사위\n",
        "        k = i + j\n",
        "        if k % 4 == 0:\n",
        "            print('{} + {} = {}'.format(i, j, i + j))"
      ],
      "metadata": {
        "colab": {
          "base_uri": "https://localhost:8080/"
        },
        "id": "ElhWrGaVoLZm",
        "outputId": "ac6529ea-2fe5-48d1-94de-8c614bb29fe2"
      },
      "execution_count": 21,
      "outputs": [
        {
          "output_type": "stream",
          "name": "stdout",
          "text": [
            "1 3\n",
            "2 2\n",
            "2 6\n",
            "3 1\n",
            "3 5\n",
            "4 4\n",
            "5 3\n",
            "6 2\n",
            "6 6\n",
            "1 + 3 = 4\n",
            "2 + 2 = 4\n",
            "2 + 6 = 8\n",
            "3 + 1 = 4\n",
            "3 + 5 = 8\n",
            "4 + 4 = 8\n",
            "5 + 3 = 8\n",
            "6 + 2 = 8\n",
            "6 + 6 = 12\n"
          ]
        }
      ]
    },
    {
      "cell_type": "code",
      "source": [
        "# 주사위 두개를 던져서 나온 숫자의 합이 6이 되는 경우 출력\n",
        "# 내 풀이\n",
        "for i in range(1, 7):\n",
        "    for j in range(1, 7):\n",
        "        if i + j == 6:\n",
        "            print('{} + {} = {}'.format(i, j, i + j))\n",
        "# 정답 풀이\n",
        "for i in range(1, 7): # 첫번째 주사위\n",
        "    for j in range(1, 7): # 두번째 주사위\n",
        "        k = i + j\n",
        "        if k == 6:\n",
        "            print(\"{} + {} = {}\".format(i, j, i + j))"
      ],
      "metadata": {
        "colab": {
          "base_uri": "https://localhost:8080/"
        },
        "id": "e-P2esa-pu53",
        "outputId": "4988cd0a-1e75-4b40-ce50-154d61bb7eef"
      },
      "execution_count": 23,
      "outputs": [
        {
          "output_type": "stream",
          "name": "stdout",
          "text": [
            "1 + 5 = 6\n",
            "2 + 4 = 6\n",
            "3 + 3 = 6\n",
            "4 + 2 = 6\n",
            "5 + 1 = 6\n",
            "1 + 5 = 6\n",
            "2 + 4 = 6\n",
            "3 + 3 = 6\n",
            "4 + 2 = 6\n",
            "5 + 1 = 6\n"
          ]
        }
      ]
    },
    {
      "cell_type": "code",
      "source": [
        "# if, elif\n",
        "print('수박 무게를 입력하세요')\n",
        "weight = int(input())\n",
        "if weight > 10: result = 1\n",
        "elif weight > 7: result = 2\n",
        "elif weight > 4: result = 3\n",
        "else: result = 4\n",
        "print(\"수박은 {}등급입니다\".format(result))"
      ],
      "metadata": {
        "colab": {
          "base_uri": "https://localhost:8080/"
        },
        "id": "XwW_anK_qYho",
        "outputId": "68f31783-0acd-41a2-dbfa-4bc4c04285d9"
      },
      "execution_count": 26,
      "outputs": [
        {
          "output_type": "stream",
          "name": "stdout",
          "text": [
            "수박 무게를 입력하세요\n",
            "123\n",
            "수박은 1등급입니다\n"
          ]
        }
      ]
    },
    {
      "cell_type": "code",
      "source": [
        "# if, elif 한 줄로\n",
        "week = input(\"요일의 첫자를 입력하세요\") # input() : 사용자에게 값을 직접 입력하게 하는 함수\n",
        "if week == '월': result = 'Monday'\n",
        "elif week == '화': result = 'Tuesday'\n",
        "elif week == '수': result = 'Wednesday'\n",
        "elif week == '목': result = 'Thursday'\n",
        "elif week == '금': result = 'Friday'\n",
        "elif week == '토': result = 'Saturday'\n",
        "elif week == '일': result = 'Sunday'\n",
        "else: result = '에휴 ! 바보아냐'\n",
        "print(result)"
      ],
      "metadata": {
        "colab": {
          "base_uri": "https://localhost:8080/"
        },
        "id": "QvzVVjBLq4Mc",
        "outputId": "06606d78-319f-4232-e3ac-726a131b7f5e"
      },
      "execution_count": 27,
      "outputs": [
        {
          "output_type": "stream",
          "name": "stdout",
          "text": [
            "요일의 첫자를 입력하세요목\n",
            "Thursday\n"
          ]
        }
      ]
    },
    {
      "cell_type": "code",
      "source": [
        "# and는 조건 둘 다 참일 때만 참\n",
        "print('아이디를 입력하세요')\n",
        "id = input()\n",
        "passw = input(\"암호를 입력하세요\")\n",
        "if id == \"root\" and passw == \"system\":\n",
        "    print(\"로그인 성공\")\n",
        "elif id != \"root\":\n",
        "    print(\"넌 누구냐\")\n",
        "else:\n",
        "    print(\"암호를 모르네\")"
      ],
      "metadata": {
        "colab": {
          "base_uri": "https://localhost:8080/"
        },
        "id": "gW3-NVVmrg2e",
        "outputId": "8ef58ad6-042d-4baf-a6cd-5b1f1ed50bbe"
      },
      "execution_count": 31,
      "outputs": [
        {
          "output_type": "stream",
          "name": "stdout",
          "text": [
            "아이디를 입력하세요\n",
            "root\n",
            "암호를 입력하세요system\n",
            "로그인 성공\n"
          ]
        }
      ]
    },
    {
      "cell_type": "code",
      "source": [
        "# while문을 사용하여 100이상의 자연수중 가장 작은 23의 배수를 출력해 보세요\n",
        "i = 100\n",
        "while True:\n",
        "    if i % 23 == 0:\n",
        "        print(\"23의 배수 :\", i)\n",
        "        break\n",
        "    i += 1"
      ],
      "metadata": {
        "colab": {
          "base_uri": "https://localhost:8080/"
        },
        "id": "fD6_y3DWsCAK",
        "outputId": "96732a5b-ca14-4084-b570-4e2dfd031fea"
      },
      "execution_count": 32,
      "outputs": [
        {
          "output_type": "stream",
          "name": "stdout",
          "text": [
            "23의 배수 : 115\n"
          ]
        }
      ]
    },
    {
      "cell_type": "code",
      "source": [
        "# if문 한 줄로 쓰기2\n",
        "score = int(input('점수 ?'))\n",
        "# if score > 60: message = \"성공\"\n",
        "# else:   message = \"실패\"\n",
        "message = \"성공\" if score > 60 else \"실패\"\n",
        "print(message)"
      ],
      "metadata": {
        "colab": {
          "base_uri": "https://localhost:8080/"
        },
        "id": "FTb9xgfdsTVD",
        "outputId": "0e3d2f25-8b18-428f-a2aa-225cb81175fa"
      },
      "execution_count": 34,
      "outputs": [
        {
          "output_type": "stream",
          "name": "stdout",
          "text": [
            "점수 ?70\n",
            "성공\n"
          ]
        }
      ]
    },
    {
      "cell_type": "code",
      "source": [
        "# 리스트를 문자열로 출력하기\n",
        "sings = [\"아이유\", \"여자친구\", \"이하이\", \"악뮤\", \"알리\"]\n",
        "print(len(sings))\n",
        "for i in range(len(sings)):\n",
        "    if i == len(sings) - 1: # 마지막 문자 끝에 ,입력 방지 - 마지막 인덱스 4이기 때문에 길이 - 1\n",
        "        print(sings[i])\n",
        "    else:\n",
        "        print(sings[i], end = ', ')"
      ],
      "metadata": {
        "colab": {
          "base_uri": "https://localhost:8080/"
        },
        "id": "scM2-e21stk9",
        "outputId": "c1e95f26-b215-4520-e9e3-b045aaef3e80"
      },
      "execution_count": 37,
      "outputs": [
        {
          "output_type": "stream",
          "name": "stdout",
          "text": [
            "5\n",
            "아이유, 여자친구, 이하이, 악뮤, 알리\n"
          ]
        }
      ]
    },
    {
      "cell_type": "code",
      "source": [
        "# range() 함수 간격\n",
        "# 1부터 10까지 중에서 홀수만 숫자사이 ,를 출력\n",
        "for i in range(1, 10, 2):\n",
        "    if(i != 9):\n",
        "        print(i, end=', ')\n",
        "    else:\n",
        "        print(i)\n",
        "for i in range(1, 10):\n",
        "    if i % 2 == 1:\n",
        "        if(i != 9):\n",
        "            print(i, end = ', ')\n",
        "        else:\n",
        "            print(i)"
      ],
      "metadata": {
        "colab": {
          "base_uri": "https://localhost:8080/"
        },
        "id": "tkH8L3lfuETF",
        "outputId": "e14ff620-5803-470a-8635-6c9750b06011"
      },
      "execution_count": 38,
      "outputs": [
        {
          "output_type": "stream",
          "name": "stdout",
          "text": [
            "1, 3, 5, 7, 9\n",
            "1, 3, 5, 7, 9\n"
          ]
        }
      ]
    },
    {
      "cell_type": "code",
      "source": [
        "numbers = [2, 3, 5, 7, 11, 13, 17, 19]\n",
        "# 인덱스 값 출력\n",
        "# for i in numbers: # 값만 나온다.\n",
        "for i in range(len(numbers)): # range(len(numbers)) : 인덱스 출력 - 외우기, 자주 쓴다.\n",
        "    print(i, numbers[i]) # 인덱스, 해당 인덱스의 값"
      ],
      "metadata": {
        "colab": {
          "base_uri": "https://localhost:8080/"
        },
        "id": "G83esAlbupyB",
        "outputId": "ff520642-1376-4c62-fcec-f32795d48754"
      },
      "execution_count": 39,
      "outputs": [
        {
          "output_type": "stream",
          "name": "stdout",
          "text": [
            "0 2\n",
            "1 3\n",
            "2 5\n",
            "3 7\n",
            "4 11\n",
            "5 13\n",
            "6 17\n",
            "7 19\n"
          ]
        }
      ]
    },
    {
      "cell_type": "code",
      "source": [
        "# in\n",
        "a = \"Life is too short, you need python\"\n",
        "if \"wife\" in a:\n",
        "    print(\"wife\")\n",
        "elif \"python\" in a and \"you\" not in a:\n",
        "    print(\"python\")\n",
        "elif \"shirt\" not in a:\n",
        "    print(\"shirt\")\n",
        "elif \"need\" in a:\n",
        "    print(\"need\")\n",
        "else:\n",
        "    print(\"none\")"
      ],
      "metadata": {
        "colab": {
          "base_uri": "https://localhost:8080/"
        },
        "id": "vI4t55xGwOrr",
        "outputId": "0194d713-f832-465c-98a7-9823696de4c8"
      },
      "execution_count": 40,
      "outputs": [
        {
          "output_type": "stream",
          "name": "stdout",
          "text": [
            "shirt\n"
          ]
        }
      ]
    },
    {
      "cell_type": "code",
      "source": [
        "# 문자열\n",
        "a = \"Life is too short, you need python\"\n",
        "'Life' in a # 해당 문자열 속하는지 검사\n",
        "# 문자열에서는 원소 하나 뿐만 아니라 슬라이싱에 해당되어도 True 반환"
      ],
      "metadata": {
        "colab": {
          "base_uri": "https://localhost:8080/"
        },
        "id": "UhjNSXO4woqw",
        "outputId": "4a7ffa1d-defd-42b5-c18c-fe11c44bf116"
      },
      "execution_count": 41,
      "outputs": [
        {
          "output_type": "execute_result",
          "data": {
            "text/plain": [
              "True"
            ]
          },
          "metadata": {},
          "execution_count": 41
        }
      ]
    },
    {
      "cell_type": "code",
      "source": [
        "# 리스트\n",
        "a = ['L', 'i', 'f', 'e']\n",
        "'Life' in a # False\n",
        "'L' in a # True\n",
        "# 리스트에서는 그 원소를 가졌을 때만 True 반환"
      ],
      "metadata": {
        "colab": {
          "base_uri": "https://localhost:8080/"
        },
        "id": "rmVNlcD8wwqW",
        "outputId": "75f53b02-2307-4dc1-fb64-6229d02ecb04"
      },
      "execution_count": 43,
      "outputs": [
        {
          "output_type": "execute_result",
          "data": {
            "text/plain": [
              "True"
            ]
          },
          "metadata": {},
          "execution_count": 43
        }
      ]
    },
    {
      "cell_type": "code",
      "source": [
        "for i in range(5):\n",
        "    for j in range(5):\n",
        "        print(j)\n",
        "        break # 2번째 for문에만 영향 준다. 2번째 for문 통제 받기 때문"
      ],
      "metadata": {
        "colab": {
          "base_uri": "https://localhost:8080/"
        },
        "id": "He1ZQNTwyydQ",
        "outputId": "68abddd3-dca4-4e85-c8a6-1f6fa0b9e5b1"
      },
      "execution_count": 44,
      "outputs": [
        {
          "output_type": "stream",
          "name": "stdout",
          "text": [
            "0\n",
            "0\n",
            "0\n",
            "0\n",
            "0\n"
          ]
        }
      ]
    }
  ]
}