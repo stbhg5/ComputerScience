{
  "nbformat": 4,
  "nbformat_minor": 0,
  "metadata": {
    "colab": {
      "provenance": [],
      "authorship_tag": "ABX9TyNLF8yvYLKFRTccQNjvr/Rk",
      "include_colab_link": true
    },
    "kernelspec": {
      "name": "python3",
      "display_name": "Python 3"
    },
    "language_info": {
      "name": "python"
    }
  },
  "cells": [
    {
      "cell_type": "markdown",
      "metadata": {
        "id": "view-in-github",
        "colab_type": "text"
      },
      "source": [
        "<a href=\"https://colab.research.google.com/github/stbhg5/ComputerScience/blob/main/python_ch3.ipynb\" target=\"_parent\"><img src=\"https://colab.research.google.com/assets/colab-badge.svg\" alt=\"Open In Colab\"/></a>"
      ]
    },
    {
      "cell_type": "markdown",
      "source": [
        "1. 기초연산자들"
      ],
      "metadata": {
        "id": "7Vj5b2XNue6H"
      }
    },
    {
      "cell_type": "code",
      "execution_count": null,
      "metadata": {
        "colab": {
          "base_uri": "https://localhost:8080/"
        },
        "id": "In4Cr2pBksYA",
        "outputId": "61906775-bce4-4d8a-d006-96fad60e5f0e"
      },
      "outputs": [
        {
          "output_type": "execute_result",
          "data": {
            "text/plain": [
              "False"
            ]
          },
          "metadata": {},
          "execution_count": 1
        }
      ],
      "source": [
        "a = 3\n",
        "b = 4\n",
        "a > 4 # False"
      ]
    },
    {
      "cell_type": "code",
      "source": [
        "b = [1, 2, 3, 4]\n",
        "a = 3\n",
        "a in b # True\n",
        "5 in b # False"
      ],
      "metadata": {
        "colab": {
          "base_uri": "https://localhost:8080/"
        },
        "id": "CQPvQw53lpy7",
        "outputId": "72877ebb-6607-4df9-f1a1-762174fa282a"
      },
      "execution_count": null,
      "outputs": [
        {
          "output_type": "execute_result",
          "data": {
            "text/plain": [
              "False"
            ]
          },
          "metadata": {},
          "execution_count": 3
        }
      ]
    },
    {
      "cell_type": "code",
      "source": [
        "a = [1, 2, 3, 4]\n",
        "b = [1, 2, 3, 4]\n",
        "a is b # False\n",
        "b = a\n",
        "a is b # True"
      ],
      "metadata": {
        "colab": {
          "base_uri": "https://localhost:8080/"
        },
        "id": "ez1wgw6AnYZs",
        "outputId": "cbb8322d-d0ed-4700-a0e6-ce4f8e6c85fd"
      },
      "execution_count": null,
      "outputs": [
        {
          "output_type": "execute_result",
          "data": {
            "text/plain": [
              "True"
            ]
          },
          "metadata": {},
          "execution_count": 5
        }
      ]
    },
    {
      "cell_type": "code",
      "source": [
        "a = 3\n",
        "a += 1 # a = a + 1과 같다.\n",
        "print(a)"
      ],
      "metadata": {
        "colab": {
          "base_uri": "https://localhost:8080/"
        },
        "id": "G2kgKoYFoHJg",
        "outputId": "47060294-807a-40f6-e452-ea6eb8b98d70"
      },
      "execution_count": null,
      "outputs": [
        {
          "output_type": "stream",
          "name": "stdout",
          "text": [
            "4\n"
          ]
        }
      ]
    },
    {
      "cell_type": "markdown",
      "source": [
        "2. if문"
      ],
      "metadata": {
        "id": "jh7wrZAeuXo9"
      }
    },
    {
      "cell_type": "code",
      "source": [
        "x = 3 # 양수입니다\n",
        "x = -1 # 음수입니다\n",
        "x = 0 # 0입니다.\n",
        "if x > 0:\n",
        "    print('양수입니다')\n",
        "elif x < 0:\n",
        "    print('음수입니다')\n",
        "else:\n",
        "    print('0입니다.')"
      ],
      "metadata": {
        "colab": {
          "base_uri": "https://localhost:8080/"
        },
        "id": "A6lPS8-tr2vf",
        "outputId": "7622f436-99f0-47d3-f030-41b4a6b89c08"
      },
      "execution_count": null,
      "outputs": [
        {
          "output_type": "stream",
          "name": "stdout",
          "text": [
            "0입니다.\n"
          ]
        }
      ]
    },
    {
      "cell_type": "markdown",
      "source": [
        "3. for문"
      ],
      "metadata": {
        "id": "jJW2jGcLL32G"
      }
    },
    {
      "cell_type": "code",
      "source": [
        "for i in [1, 2, 3, 4]:\n",
        "    print(i)\n",
        "# 1 2 3 4\n",
        "for i in set([1, 21, 3, 4]):\n",
        "    print(i)\n",
        "# 1 3 4 21 (순서가 없기 때문에 마구잡이 순서로 나옴)\n",
        "for i in [1, 21, 3, 42]:\n",
        "    print(i)\n",
        "# 1 21 3 42 (순서에 맞게 나온다)"
      ],
      "metadata": {
        "colab": {
          "base_uri": "https://localhost:8080/"
        },
        "id": "gezGIXZqL5Oc",
        "outputId": "91e082a1-519f-40f0-87b3-36d0f9792ec5"
      },
      "execution_count": 4,
      "outputs": [
        {
          "output_type": "stream",
          "name": "stdout",
          "text": [
            "1\n",
            "2\n",
            "3\n",
            "4\n",
            "1\n",
            "3\n",
            "4\n",
            "21\n",
            "1\n",
            "21\n",
            "3\n",
            "42\n"
          ]
        }
      ]
    },
    {
      "cell_type": "code",
      "source": [
        "for i in range(1, 5):\n",
        "    print(i)\n",
        "for i in range(5): # range(0, 5)와 같다.\n",
        "    print(i)"
      ],
      "metadata": {
        "colab": {
          "base_uri": "https://localhost:8080/"
        },
        "id": "fO34TKE2OiXC",
        "outputId": "6bb8a1d2-1eff-4549-a8a3-47e1b59f47a0"
      },
      "execution_count": 7,
      "outputs": [
        {
          "output_type": "stream",
          "name": "stdout",
          "text": [
            "1\n",
            "2\n",
            "3\n",
            "4\n",
            "0\n",
            "1\n",
            "2\n",
            "3\n",
            "4\n"
          ]
        }
      ]
    },
    {
      "cell_type": "code",
      "source": [
        "for i in range(0, 5, 2):\n",
        "    print(i)\n",
        "for i in range(5, 0, -1):\n",
        "    print(i)"
      ],
      "metadata": {
        "colab": {
          "base_uri": "https://localhost:8080/"
        },
        "id": "G-g3ZJs9O4_U",
        "outputId": "1507f206-3788-4395-b761-329bfca3bdd9"
      },
      "execution_count": 10,
      "outputs": [
        {
          "output_type": "stream",
          "name": "stdout",
          "text": [
            "0\n",
            "2\n",
            "4\n",
            "5\n",
            "4\n",
            "3\n",
            "2\n",
            "1\n"
          ]
        }
      ]
    },
    {
      "cell_type": "markdown",
      "source": [
        "4. while문"
      ],
      "metadata": {
        "id": "OqBY0uM0Pglm"
      }
    },
    {
      "cell_type": "code",
      "source": [
        "i = 0;\n",
        "while i <= 100:\n",
        "    print(i)\n",
        "    i += 1"
      ],
      "metadata": {
        "colab": {
          "base_uri": "https://localhost:8080/"
        },
        "id": "WcL-KVcDPi1e",
        "outputId": "0e055599-3a76-474c-ddcc-3a680ebf365d"
      },
      "execution_count": 11,
      "outputs": [
        {
          "output_type": "stream",
          "name": "stdout",
          "text": [
            "0\n",
            "1\n",
            "2\n",
            "3\n",
            "4\n",
            "5\n",
            "6\n",
            "7\n",
            "8\n",
            "9\n",
            "10\n",
            "11\n",
            "12\n",
            "13\n",
            "14\n",
            "15\n",
            "16\n",
            "17\n",
            "18\n",
            "19\n",
            "20\n",
            "21\n",
            "22\n",
            "23\n",
            "24\n",
            "25\n",
            "26\n",
            "27\n",
            "28\n",
            "29\n",
            "30\n",
            "31\n",
            "32\n",
            "33\n",
            "34\n",
            "35\n",
            "36\n",
            "37\n",
            "38\n",
            "39\n",
            "40\n",
            "41\n",
            "42\n",
            "43\n",
            "44\n",
            "45\n",
            "46\n",
            "47\n",
            "48\n",
            "49\n",
            "50\n",
            "51\n",
            "52\n",
            "53\n",
            "54\n",
            "55\n",
            "56\n",
            "57\n",
            "58\n",
            "59\n",
            "60\n",
            "61\n",
            "62\n",
            "63\n",
            "64\n",
            "65\n",
            "66\n",
            "67\n",
            "68\n",
            "69\n",
            "70\n",
            "71\n",
            "72\n",
            "73\n",
            "74\n",
            "75\n",
            "76\n",
            "77\n",
            "78\n",
            "79\n",
            "80\n",
            "81\n",
            "82\n",
            "83\n",
            "84\n",
            "85\n",
            "86\n",
            "87\n",
            "88\n",
            "89\n",
            "90\n",
            "91\n",
            "92\n",
            "93\n",
            "94\n",
            "95\n",
            "96\n",
            "97\n",
            "98\n",
            "99\n",
            "100\n"
          ]
        }
      ]
    },
    {
      "cell_type": "code",
      "source": [
        "# pass\n",
        "if 1 > 0:\n",
        "    pass # 아무 일도 안 일어남(아무 문장 안 적으면 오류가 생김), 다음에 구현할 부분 표시하기 위해 놓기도 함.\n",
        "else:\n",
        "    print('2')"
      ],
      "metadata": {
        "id": "MIGkNETcSJkL"
      },
      "execution_count": 12,
      "outputs": []
    },
    {
      "cell_type": "code",
      "source": [
        "while 1 > 0:\n",
        "    print(1)\n",
        "    break # while문 또는 for문 끝냄"
      ],
      "metadata": {
        "colab": {
          "base_uri": "https://localhost:8080/"
        },
        "id": "t1tJwvttStU4",
        "outputId": "e6eeb9f8-00a9-4028-ff4b-243d8a551980"
      },
      "execution_count": 13,
      "outputs": [
        {
          "output_type": "stream",
          "name": "stdout",
          "text": [
            "1\n"
          ]
        }
      ]
    },
    {
      "cell_type": "code",
      "source": [
        "i = 0\n",
        "while i < 20:\n",
        "    if i % 2 == 0:\n",
        "        print(i)\n",
        "        i += 1\n",
        "    else:\n",
        "        i += 1\n",
        "        continue\n",
        "    print('나는 짝수지롱')"
      ],
      "metadata": {
        "colab": {
          "base_uri": "https://localhost:8080/"
        },
        "id": "yAXmZPYzS2y7",
        "outputId": "fb5f766e-7ab4-4ee2-bdd9-6f5ccfe0254a"
      },
      "execution_count": 18,
      "outputs": [
        {
          "output_type": "stream",
          "name": "stdout",
          "text": [
            "0\n",
            "나는 짝수지롱\n",
            "2\n",
            "나는 짝수지롱\n",
            "4\n",
            "나는 짝수지롱\n",
            "6\n",
            "나는 짝수지롱\n",
            "8\n",
            "나는 짝수지롱\n",
            "10\n",
            "나는 짝수지롱\n",
            "12\n",
            "나는 짝수지롱\n",
            "14\n",
            "나는 짝수지롱\n",
            "16\n",
            "나는 짝수지롱\n",
            "18\n",
            "나는 짝수지롱\n"
          ]
        }
      ]
    }
  ]
}