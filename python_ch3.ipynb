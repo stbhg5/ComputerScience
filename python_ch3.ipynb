{
  "nbformat": 4,
  "nbformat_minor": 0,
  "metadata": {
    "colab": {
      "provenance": [],
      "authorship_tag": "ABX9TyNjnN0R1rlEK3dGSN8AFna5",
      "include_colab_link": true
    },
    "kernelspec": {
      "name": "python3",
      "display_name": "Python 3"
    },
    "language_info": {
      "name": "python"
    }
  },
  "cells": [
    {
      "cell_type": "markdown",
      "metadata": {
        "id": "view-in-github",
        "colab_type": "text"
      },
      "source": [
        "<a href=\"https://colab.research.google.com/github/stbhg5/ComputerScience/blob/main/python_ch3.ipynb\" target=\"_parent\"><img src=\"https://colab.research.google.com/assets/colab-badge.svg\" alt=\"Open In Colab\"/></a>"
      ]
    },
    {
      "cell_type": "markdown",
      "source": [
        "1. 기초연산자들"
      ],
      "metadata": {
        "id": "7Vj5b2XNue6H"
      }
    },
    {
      "cell_type": "code",
      "execution_count": 1,
      "metadata": {
        "colab": {
          "base_uri": "https://localhost:8080/"
        },
        "id": "In4Cr2pBksYA",
        "outputId": "61906775-bce4-4d8a-d006-96fad60e5f0e"
      },
      "outputs": [
        {
          "output_type": "execute_result",
          "data": {
            "text/plain": [
              "False"
            ]
          },
          "metadata": {},
          "execution_count": 1
        }
      ],
      "source": [
        "a = 3\n",
        "b = 4\n",
        "a > 4 # False"
      ]
    },
    {
      "cell_type": "code",
      "source": [
        "b = [1, 2, 3, 4]\n",
        "a = 3\n",
        "a in b # True\n",
        "5 in b # False"
      ],
      "metadata": {
        "colab": {
          "base_uri": "https://localhost:8080/"
        },
        "id": "CQPvQw53lpy7",
        "outputId": "72877ebb-6607-4df9-f1a1-762174fa282a"
      },
      "execution_count": 3,
      "outputs": [
        {
          "output_type": "execute_result",
          "data": {
            "text/plain": [
              "False"
            ]
          },
          "metadata": {},
          "execution_count": 3
        }
      ]
    },
    {
      "cell_type": "code",
      "source": [
        "a = [1, 2, 3, 4]\n",
        "b = [1, 2, 3, 4]\n",
        "a is b # False\n",
        "b = a\n",
        "a is b # True"
      ],
      "metadata": {
        "colab": {
          "base_uri": "https://localhost:8080/"
        },
        "id": "ez1wgw6AnYZs",
        "outputId": "cbb8322d-d0ed-4700-a0e6-ce4f8e6c85fd"
      },
      "execution_count": 5,
      "outputs": [
        {
          "output_type": "execute_result",
          "data": {
            "text/plain": [
              "True"
            ]
          },
          "metadata": {},
          "execution_count": 5
        }
      ]
    },
    {
      "cell_type": "code",
      "source": [
        "a = 3\n",
        "a += 1 # a = a + 1과 같다.\n",
        "print(a)"
      ],
      "metadata": {
        "colab": {
          "base_uri": "https://localhost:8080/"
        },
        "id": "G2kgKoYFoHJg",
        "outputId": "47060294-807a-40f6-e452-ea6eb8b98d70"
      },
      "execution_count": 6,
      "outputs": [
        {
          "output_type": "stream",
          "name": "stdout",
          "text": [
            "4\n"
          ]
        }
      ]
    },
    {
      "cell_type": "markdown",
      "source": [
        "2. if문"
      ],
      "metadata": {
        "id": "jh7wrZAeuXo9"
      }
    },
    {
      "cell_type": "code",
      "source": [
        "x = 3 # 양수입니다\n",
        "x = -1 # 음수입니다\n",
        "x = 0 # 0입니다.\n",
        "if x > 0:\n",
        "    print('양수입니다')\n",
        "elif x < 0:\n",
        "    print('음수입니다')\n",
        "else:\n",
        "    print('0입니다.')"
      ],
      "metadata": {
        "colab": {
          "base_uri": "https://localhost:8080/"
        },
        "id": "A6lPS8-tr2vf",
        "outputId": "7622f436-99f0-47d3-f030-41b4a6b89c08"
      },
      "execution_count": 10,
      "outputs": [
        {
          "output_type": "stream",
          "name": "stdout",
          "text": [
            "0입니다.\n"
          ]
        }
      ]
    }
  ]
}