{
  "nbformat": 4,
  "nbformat_minor": 0,
  "metadata": {
    "colab": {
      "provenance": [],
      "authorship_tag": "ABX9TyMb6Qi4vSRVjDE2MDDgIZdY",
      "include_colab_link": true
    },
    "kernelspec": {
      "name": "python3",
      "display_name": "Python 3"
    },
    "language_info": {
      "name": "python"
    }
  },
  "cells": [
    {
      "cell_type": "markdown",
      "metadata": {
        "id": "view-in-github",
        "colab_type": "text"
      },
      "source": [
        "<a href=\"https://colab.research.google.com/github/stbhg5/ComputerScience/blob/main/python_ch6.ipynb\" target=\"_parent\"><img src=\"https://colab.research.google.com/assets/colab-badge.svg\" alt=\"Open In Colab\"/></a>"
      ]
    },
    {
      "cell_type": "markdown",
      "source": [
        "클래스"
      ],
      "metadata": {
        "id": "oTN91mgCiCjF"
      }
    },
    {
      "cell_type": "markdown",
      "source": [
        "1. 모듈과 패키지지"
      ],
      "metadata": {
        "id": "bjnXe76vh1Kc"
      }
    },
    {
      "cell_type": "code",
      "execution_count": 1,
      "metadata": {
        "id": "1SRPJT-HevXz",
        "colab": {
          "base_uri": "https://localhost:8080/"
        },
        "outputId": "ae4ddcf3-a446-497c-a6e2-aeb7faa93365"
      },
      "outputs": [
        {
          "output_type": "execute_result",
          "data": {
            "text/plain": [
              "['/content',\n",
              " '/env/python',\n",
              " '/usr/lib/python38.zip',\n",
              " '/usr/lib/python3.8',\n",
              " '/usr/lib/python3.8/lib-dynload',\n",
              " '',\n",
              " '/usr/local/lib/python3.8/dist-packages',\n",
              " '/usr/lib/python3/dist-packages',\n",
              " '/usr/local/lib/python3.8/dist-packages/IPython/extensions',\n",
              " '/root/.ipython',\n",
              " '/content/sample_data']"
            ]
          },
          "metadata": {},
          "execution_count": 1
        }
      ],
      "source": [
        "import sys\n",
        "sys.path\n",
        "sys.path.append('/content/sample_data') # 라이브러리 경로 추가\n",
        "sys.path"
      ]
    },
    {
      "cell_type": "code",
      "source": [
        "# 만든 모듈 불러오기\n",
        "import my_func # 모듈 전부 import\n",
        "my_func.variable"
      ],
      "metadata": {
        "colab": {
          "base_uri": "https://localhost:8080/"
        },
        "id": "lP7gdXJniwuJ",
        "outputId": "bd5cb94e-f817-46af-c117-51721bcfa4e9"
      },
      "execution_count": 4,
      "outputs": [
        {
          "output_type": "execute_result",
          "data": {
            "text/plain": [
              "3"
            ]
          },
          "metadata": {},
          "execution_count": 4
        }
      ]
    },
    {
      "cell_type": "code",
      "source": [
        "my_func.addition(3, 4) # 런타임 - 런타임 다시 시작 후 실행하면 (3, 4)가 아닌 수정한 모듈의 값이 나온다."
      ],
      "metadata": {
        "colab": {
          "base_uri": "https://localhost:8080/"
        },
        "id": "dJLUaBDCjfrk",
        "outputId": "f5d0e53c-12e7-441a-f924-ec5a20118f58"
      },
      "execution_count": 5,
      "outputs": [
        {
          "output_type": "execute_result",
          "data": {
            "text/plain": [
              "7"
            ]
          },
          "metadata": {},
          "execution_count": 5
        }
      ]
    },
    {
      "cell_type": "code",
      "source": [
        "from my_func import addition # 모듈 안에 addition 함수만 가져옴\n",
        "addition(3, 5) # my_func 없이 함수 이름만 써도 인식한다."
      ],
      "metadata": {
        "colab": {
          "base_uri": "https://localhost:8080/"
        },
        "id": "6tEDmVgnkjVD",
        "outputId": "406f0507-01ef-4f1b-83d9-b69daaff9441"
      },
      "execution_count": 6,
      "outputs": [
        {
          "output_type": "execute_result",
          "data": {
            "text/plain": [
              "8"
            ]
          },
          "metadata": {},
          "execution_count": 6
        }
      ]
    },
    {
      "cell_type": "code",
      "source": [
        "# 런타임 다시시작\n",
        "from my_func import * # 와일드카드 *를 이용하여 모듈 내 모든 것 가져오기\n",
        "variable"
      ],
      "metadata": {
        "colab": {
          "base_uri": "https://localhost:8080/"
        },
        "id": "8MGQAFVVlBWg",
        "outputId": "0cb0f387-ca4b-4ed6-88fd-90c238a2f993"
      },
      "execution_count": 7,
      "outputs": [
        {
          "output_type": "execute_result",
          "data": {
            "text/plain": [
              "3"
            ]
          },
          "metadata": {},
          "execution_count": 7
        }
      ]
    },
    {
      "cell_type": "code",
      "source": [
        "addition(4, 4)"
      ],
      "metadata": {
        "colab": {
          "base_uri": "https://localhost:8080/"
        },
        "id": "ET2Avf5ilUvx",
        "outputId": "b032138a-aafc-4fb3-ea43-70dae10bbe82"
      },
      "execution_count": 8,
      "outputs": [
        {
          "output_type": "execute_result",
          "data": {
            "text/plain": [
              "8"
            ]
          },
          "metadata": {},
          "execution_count": 8
        }
      ]
    },
    {
      "cell_type": "code",
      "source": [
        "import my_func as mf # 원래 가져온 모듈명을 as 이하 이름으로 바꿔서 가져오겠다.\n",
        "mf.variable"
      ],
      "metadata": {
        "colab": {
          "base_uri": "https://localhost:8080/"
        },
        "id": "Jr3BIGTMllpm",
        "outputId": "d9830276-65ca-4270-bd15-d941d64e52d9"
      },
      "execution_count": 10,
      "outputs": [
        {
          "output_type": "execute_result",
          "data": {
            "text/plain": [
              "3"
            ]
          },
          "metadata": {},
          "execution_count": 10
        }
      ]
    },
    {
      "cell_type": "code",
      "source": [
        "mf.addition(5, 4)"
      ],
      "metadata": {
        "colab": {
          "base_uri": "https://localhost:8080/"
        },
        "id": "i4JIuqtdlta8",
        "outputId": "41ba4045-f056-4397-f1cb-dceb1f9ae41a"
      },
      "execution_count": 11,
      "outputs": [
        {
          "output_type": "execute_result",
          "data": {
            "text/plain": [
              "9"
            ]
          },
          "metadata": {},
          "execution_count": 11
        }
      ]
    },
    {
      "cell_type": "code",
      "source": [
        "sys.path # import 하여 가져올 수 있는 module들의 폴더 목록\n",
        "# 폴더가 출력된 순서도 중요한데, 만약 같은 이름의 모듈이 있을 경우 어떤 모듈을 가져와야 할 지 우선순위가 있어야 하기 때문이다.\n",
        "# 목록 가장 위에 있을수록 우선순위가 높다."
      ],
      "metadata": {
        "colab": {
          "base_uri": "https://localhost:8080/"
        },
        "id": "6O9iJYO8mF79",
        "outputId": "ae9da01f-dc0d-4f63-c5f7-33fe928d515e"
      },
      "execution_count": 2,
      "outputs": [
        {
          "output_type": "execute_result",
          "data": {
            "text/plain": [
              "['/content',\n",
              " '/env/python',\n",
              " '/usr/lib/python38.zip',\n",
              " '/usr/lib/python3.8',\n",
              " '/usr/lib/python3.8/lib-dynload',\n",
              " '',\n",
              " '/usr/local/lib/python3.8/dist-packages',\n",
              " '/usr/lib/python3/dist-packages',\n",
              " '/usr/local/lib/python3.8/dist-packages/IPython/extensions',\n",
              " '/root/.ipython',\n",
              " '/content/sample_data']"
            ]
          },
          "metadata": {},
          "execution_count": 2
        }
      ]
    },
    {
      "cell_type": "code",
      "source": [
        "# __name__ 변수란?\n",
        "__name__\n",
        "print(__name__) # 현재 실행중인 파일: __main__"
      ],
      "metadata": {
        "colab": {
          "base_uri": "https://localhost:8080/"
        },
        "id": "aRCONzCvm6Ac",
        "outputId": "cce4e6d8-ab01-4ff7-8088-c833e131bfef"
      },
      "execution_count": 14,
      "outputs": [
        {
          "output_type": "stream",
          "name": "stdout",
          "text": [
            "__main__\n"
          ]
        }
      ]
    },
    {
      "cell_type": "code",
      "source": [
        "# 런타임 다시시작\n",
        "import my_func # my_func의 print(__name__)이 실행되어 출력 (불러온 모듈 출력)"
      ],
      "metadata": {
        "colab": {
          "base_uri": "https://localhost:8080/"
        },
        "id": "T-bCqJLCnNEK",
        "outputId": "6a15a5e8-ca4a-4b7c-92ca-0402be716532"
      },
      "execution_count": 3,
      "outputs": [
        {
          "output_type": "stream",
          "name": "stdout",
          "text": [
            "실행된 모듈 이름:  my_func\n"
          ]
        }
      ]
    },
    {
      "cell_type": "code",
      "source": [
        "# 패키지 : 모듈을 여러개 가지고 있는 폴더\n",
        "from test_package import test_module1 # 패키지에서 특정한 모듈 가져오기\n",
        "# 모듈 내 함수, 변수 불러올 때 : test_module1.변수 또는 함수"
      ],
      "metadata": {
        "colab": {
          "base_uri": "https://localhost:8080/"
        },
        "id": "7YiBFwCvom1Z",
        "outputId": "09303204-2e3e-490a-fb5d-53ba41331a11"
      },
      "execution_count": 4,
      "outputs": [
        {
          "output_type": "stream",
          "name": "stdout",
          "text": [
            "test_package.test_module1\n"
          ]
        }
      ]
    },
    {
      "cell_type": "code",
      "source": [
        "import test_package.test_module2 # 디렉토리명.모듈명으로 불러오기\n",
        "# 모듈 내 함수, 변수 불러올 때 : test_package.test_module2.변수 또는 함수"
      ],
      "metadata": {
        "colab": {
          "base_uri": "https://localhost:8080/"
        },
        "id": "ige5nKfJpc4r",
        "outputId": "5ad88772-2ad6-4f6d-f168-36d5102b05f4"
      },
      "execution_count": 5,
      "outputs": [
        {
          "output_type": "stream",
          "name": "stdout",
          "text": [
            "test_package.test_module2\n"
          ]
        }
      ]
    },
    {
      "cell_type": "code",
      "source": [
        "# __init__.py가 있다면 python3.3 버전 이전 모듈과 호환성을 맞추기 위해 있다고 이해하면 된다."
      ],
      "metadata": {
        "id": "SpVETlkSqgsM"
      },
      "execution_count": null,
      "outputs": []
    },
    {
      "cell_type": "code",
      "source": [
        "from test_package import * # 이렇게 하면 못 불러온다.\n",
        "# test_package 패키지의 __init__.py 안에 __all__ = ['test_module1', 'test_module2']를 추가하고 런타임 다시 시작한뒤 실행한다.\n",
        "# 즉 __all__ 변수에 모듈명을 명시한다.\n",
        "from test_package import * # 모듈 2개 import 성공"
      ],
      "metadata": {
        "colab": {
          "base_uri": "https://localhost:8080/"
        },
        "id": "JvbaK8Sfqu0y",
        "outputId": "51b1ef4b-0e94-477a-c199-faec78c876d7"
      },
      "execution_count": 1,
      "outputs": [
        {
          "output_type": "stream",
          "name": "stdout",
          "text": [
            "test_package.test_module1\n",
            "test_package.test_module2\n"
          ]
        }
      ]
    }
  ]
}