{
  "nbformat": 4,
  "nbformat_minor": 0,
  "metadata": {
    "colab": {
      "provenance": [],
      "authorship_tag": "ABX9TyML5V3+uRPmY7v+zDzX9Dy1",
      "include_colab_link": true
    },
    "kernelspec": {
      "name": "python3",
      "display_name": "Python 3"
    },
    "language_info": {
      "name": "python"
    }
  },
  "cells": [
    {
      "cell_type": "markdown",
      "metadata": {
        "id": "view-in-github",
        "colab_type": "text"
      },
      "source": [
        "<a href=\"https://colab.research.google.com/github/stbhg5/ComputerScience/blob/main/python_ch6.ipynb\" target=\"_parent\"><img src=\"https://colab.research.google.com/assets/colab-badge.svg\" alt=\"Open In Colab\"/></a>"
      ]
    },
    {
      "cell_type": "markdown",
      "source": [
        "클래스"
      ],
      "metadata": {
        "id": "oTN91mgCiCjF"
      }
    },
    {
      "cell_type": "markdown",
      "source": [
        "1. 모듈과 패키지"
      ],
      "metadata": {
        "id": "bjnXe76vh1Kc"
      }
    },
    {
      "cell_type": "code",
      "execution_count": null,
      "metadata": {
        "id": "1SRPJT-HevXz",
        "colab": {
          "base_uri": "https://localhost:8080/"
        },
        "outputId": "ae4ddcf3-a446-497c-a6e2-aeb7faa93365"
      },
      "outputs": [
        {
          "output_type": "execute_result",
          "data": {
            "text/plain": [
              "['/content',\n",
              " '/env/python',\n",
              " '/usr/lib/python38.zip',\n",
              " '/usr/lib/python3.8',\n",
              " '/usr/lib/python3.8/lib-dynload',\n",
              " '',\n",
              " '/usr/local/lib/python3.8/dist-packages',\n",
              " '/usr/lib/python3/dist-packages',\n",
              " '/usr/local/lib/python3.8/dist-packages/IPython/extensions',\n",
              " '/root/.ipython',\n",
              " '/content/sample_data']"
            ]
          },
          "metadata": {},
          "execution_count": 1
        }
      ],
      "source": [
        "import sys\n",
        "sys.path\n",
        "sys.path.append('/content/sample_data') # 라이브러리 경로 추가\n",
        "sys.path"
      ]
    },
    {
      "cell_type": "code",
      "source": [
        "# 만든 모듈 불러오기\n",
        "import my_func # 모듈 전부 import\n",
        "my_func.variable"
      ],
      "metadata": {
        "colab": {
          "base_uri": "https://localhost:8080/"
        },
        "id": "lP7gdXJniwuJ",
        "outputId": "bd5cb94e-f817-46af-c117-51721bcfa4e9"
      },
      "execution_count": null,
      "outputs": [
        {
          "output_type": "execute_result",
          "data": {
            "text/plain": [
              "3"
            ]
          },
          "metadata": {},
          "execution_count": 4
        }
      ]
    },
    {
      "cell_type": "code",
      "source": [
        "my_func.addition(3, 4) # 런타임 - 런타임 다시 시작 후 실행하면 (3, 4)가 아닌 수정한 모듈의 값이 나온다."
      ],
      "metadata": {
        "colab": {
          "base_uri": "https://localhost:8080/"
        },
        "id": "dJLUaBDCjfrk",
        "outputId": "f5d0e53c-12e7-441a-f924-ec5a20118f58"
      },
      "execution_count": null,
      "outputs": [
        {
          "output_type": "execute_result",
          "data": {
            "text/plain": [
              "7"
            ]
          },
          "metadata": {},
          "execution_count": 5
        }
      ]
    },
    {
      "cell_type": "code",
      "source": [
        "from my_func import addition # 모듈 안에 addition 함수만 가져옴\n",
        "addition(3, 5) # my_func 없이 함수 이름만 써도 인식한다."
      ],
      "metadata": {
        "colab": {
          "base_uri": "https://localhost:8080/"
        },
        "id": "6tEDmVgnkjVD",
        "outputId": "406f0507-01ef-4f1b-83d9-b69daaff9441"
      },
      "execution_count": null,
      "outputs": [
        {
          "output_type": "execute_result",
          "data": {
            "text/plain": [
              "8"
            ]
          },
          "metadata": {},
          "execution_count": 6
        }
      ]
    },
    {
      "cell_type": "code",
      "source": [
        "# 런타임 다시시작\n",
        "from my_func import * # 와일드카드 *를 이용하여 모듈 내 모든 것 가져오기\n",
        "variable"
      ],
      "metadata": {
        "colab": {
          "base_uri": "https://localhost:8080/"
        },
        "id": "8MGQAFVVlBWg",
        "outputId": "0cb0f387-ca4b-4ed6-88fd-90c238a2f993"
      },
      "execution_count": null,
      "outputs": [
        {
          "output_type": "execute_result",
          "data": {
            "text/plain": [
              "3"
            ]
          },
          "metadata": {},
          "execution_count": 7
        }
      ]
    },
    {
      "cell_type": "code",
      "source": [
        "addition(4, 4)"
      ],
      "metadata": {
        "colab": {
          "base_uri": "https://localhost:8080/"
        },
        "id": "ET2Avf5ilUvx",
        "outputId": "b032138a-aafc-4fb3-ea43-70dae10bbe82"
      },
      "execution_count": null,
      "outputs": [
        {
          "output_type": "execute_result",
          "data": {
            "text/plain": [
              "8"
            ]
          },
          "metadata": {},
          "execution_count": 8
        }
      ]
    },
    {
      "cell_type": "code",
      "source": [
        "import my_func as mf # 원래 가져온 모듈명을 as 이하 이름으로 바꿔서 가져오겠다.\n",
        "mf.variable"
      ],
      "metadata": {
        "colab": {
          "base_uri": "https://localhost:8080/"
        },
        "id": "Jr3BIGTMllpm",
        "outputId": "d9830276-65ca-4270-bd15-d941d64e52d9"
      },
      "execution_count": null,
      "outputs": [
        {
          "output_type": "execute_result",
          "data": {
            "text/plain": [
              "3"
            ]
          },
          "metadata": {},
          "execution_count": 10
        }
      ]
    },
    {
      "cell_type": "code",
      "source": [
        "mf.addition(5, 4)"
      ],
      "metadata": {
        "colab": {
          "base_uri": "https://localhost:8080/"
        },
        "id": "i4JIuqtdlta8",
        "outputId": "41ba4045-f056-4397-f1cb-dceb1f9ae41a"
      },
      "execution_count": null,
      "outputs": [
        {
          "output_type": "execute_result",
          "data": {
            "text/plain": [
              "9"
            ]
          },
          "metadata": {},
          "execution_count": 11
        }
      ]
    },
    {
      "cell_type": "code",
      "source": [
        "sys.path # import 하여 가져올 수 있는 module들의 폴더 목록\n",
        "# 폴더가 출력된 순서도 중요한데, 만약 같은 이름의 모듈이 있을 경우 어떤 모듈을 가져와야 할 지 우선순위가 있어야 하기 때문이다.\n",
        "# 목록 가장 위에 있을수록 우선순위가 높다."
      ],
      "metadata": {
        "colab": {
          "base_uri": "https://localhost:8080/"
        },
        "id": "6O9iJYO8mF79",
        "outputId": "ae9da01f-dc0d-4f63-c5f7-33fe928d515e"
      },
      "execution_count": null,
      "outputs": [
        {
          "output_type": "execute_result",
          "data": {
            "text/plain": [
              "['/content',\n",
              " '/env/python',\n",
              " '/usr/lib/python38.zip',\n",
              " '/usr/lib/python3.8',\n",
              " '/usr/lib/python3.8/lib-dynload',\n",
              " '',\n",
              " '/usr/local/lib/python3.8/dist-packages',\n",
              " '/usr/lib/python3/dist-packages',\n",
              " '/usr/local/lib/python3.8/dist-packages/IPython/extensions',\n",
              " '/root/.ipython',\n",
              " '/content/sample_data']"
            ]
          },
          "metadata": {},
          "execution_count": 2
        }
      ]
    },
    {
      "cell_type": "code",
      "source": [
        "# __name__ 변수란?\n",
        "__name__\n",
        "print(__name__) # 현재 실행중인 파일: __main__"
      ],
      "metadata": {
        "colab": {
          "base_uri": "https://localhost:8080/"
        },
        "id": "aRCONzCvm6Ac",
        "outputId": "cce4e6d8-ab01-4ff7-8088-c833e131bfef"
      },
      "execution_count": null,
      "outputs": [
        {
          "output_type": "stream",
          "name": "stdout",
          "text": [
            "__main__\n"
          ]
        }
      ]
    },
    {
      "cell_type": "code",
      "source": [
        "# 런타임 다시시작\n",
        "import my_func # my_func의 print(__name__)이 실행되어 출력 (불러온 모듈 출력)"
      ],
      "metadata": {
        "colab": {
          "base_uri": "https://localhost:8080/"
        },
        "id": "T-bCqJLCnNEK",
        "outputId": "6a15a5e8-ca4a-4b7c-92ca-0402be716532"
      },
      "execution_count": null,
      "outputs": [
        {
          "output_type": "stream",
          "name": "stdout",
          "text": [
            "실행된 모듈 이름:  my_func\n"
          ]
        }
      ]
    },
    {
      "cell_type": "code",
      "source": [
        "# 패키지 : 모듈을 여러개 가지고 있는 폴더\n",
        "from test_package import test_module1 # 패키지에서 특정한 모듈 가져오기\n",
        "# 모듈 내 함수, 변수 불러올 때 : test_module1.변수 또는 함수"
      ],
      "metadata": {
        "colab": {
          "base_uri": "https://localhost:8080/"
        },
        "id": "7YiBFwCvom1Z",
        "outputId": "09303204-2e3e-490a-fb5d-53ba41331a11"
      },
      "execution_count": null,
      "outputs": [
        {
          "output_type": "stream",
          "name": "stdout",
          "text": [
            "test_package.test_module1\n"
          ]
        }
      ]
    },
    {
      "cell_type": "code",
      "source": [
        "import test_package.test_module2 # 디렉토리명.모듈명으로 불러오기\n",
        "# 모듈 내 함수, 변수 불러올 때 : test_package.test_module2.변수 또는 함수"
      ],
      "metadata": {
        "colab": {
          "base_uri": "https://localhost:8080/"
        },
        "id": "ige5nKfJpc4r",
        "outputId": "5ad88772-2ad6-4f6d-f168-36d5102b05f4"
      },
      "execution_count": null,
      "outputs": [
        {
          "output_type": "stream",
          "name": "stdout",
          "text": [
            "test_package.test_module2\n"
          ]
        }
      ]
    },
    {
      "cell_type": "code",
      "source": [
        "# __init__.py가 있다면 python3.3 버전 이전 모듈과 호환성을 맞추기 위해 있다고 이해하면 된다."
      ],
      "metadata": {
        "id": "SpVETlkSqgsM"
      },
      "execution_count": null,
      "outputs": []
    },
    {
      "cell_type": "code",
      "source": [
        "from test_package import * # 이렇게 하면 못 불러온다.\n",
        "# test_package 패키지의 __init__.py 안에 __all__ = ['test_module1', 'test_module2']를 추가하고 런타임 다시 시작한뒤 실행한다.\n",
        "# 즉 __all__ 변수에 모듈명을 명시한다.\n",
        "from test_package import * # 모듈 2개 import 성공"
      ],
      "metadata": {
        "colab": {
          "base_uri": "https://localhost:8080/"
        },
        "id": "JvbaK8Sfqu0y",
        "outputId": "51b1ef4b-0e94-477a-c199-faec78c876d7"
      },
      "execution_count": null,
      "outputs": [
        {
          "output_type": "stream",
          "name": "stdout",
          "text": [
            "test_package.test_module1\n",
            "test_package.test_module2\n"
          ]
        }
      ]
    },
    {
      "cell_type": "markdown",
      "source": [
        "2. 객체와 클래스"
      ],
      "metadata": {
        "id": "f48WXLhOVt1S"
      }
    },
    {
      "cell_type": "code",
      "source": [
        "class human: # class의 이름 정의\n",
        "\n",
        "    def __init__(self, height, age): # class가 처음 생성될 때 실행될 method\n",
        "        self.height = height # class 변수\n",
        "        self.age = age\n",
        "\n",
        "    def how_old(self, var1, var2): # class 메서드 (클래스 자기 자신을 첫 번째 매개변수로 가진다)\n",
        "        print(self.age, '살 입니다')\n",
        "        print(var1)\n",
        "        print(var2)\n",
        "        new_var1 = 3 # 지역변수\n",
        "        self.new_var2 = 3 # class 변수\n",
        "\n",
        "    def how_tall(self):\n",
        "        print(self.height, 'cm 입니다')\n",
        "\n",
        "#    def __del__(self):\n",
        "#        print('삭제되었다')"
      ],
      "metadata": {
        "id": "uaWSRZUnWH-A"
      },
      "execution_count": null,
      "outputs": []
    },
    {
      "cell_type": "code",
      "source": [
        "class human2:\n",
        "    def __init__(self, height, age):\n",
        "        self.height = height\n",
        "        self.age = age\n",
        "\n",
        "sh2 = human2(185, 15)\n",
        "sh2.age"
      ],
      "metadata": {
        "colab": {
          "base_uri": "https://localhost:8080/"
        },
        "id": "JZ9yYw5uXZQi",
        "outputId": "f89172a9-56ee-4141-fb3f-d5f29459c7f9"
      },
      "execution_count": null,
      "outputs": [
        {
          "output_type": "execute_result",
          "data": {
            "text/plain": [
              "15"
            ]
          },
          "metadata": {},
          "execution_count": 12
        }
      ]
    },
    {
      "cell_type": "code",
      "source": [
        "sh2.height"
      ],
      "metadata": {
        "colab": {
          "base_uri": "https://localhost:8080/"
        },
        "id": "pnEYh1zXX5af",
        "outputId": "c64daa2f-5c83-44ea-ccc5-12ad969037b6"
      },
      "execution_count": null,
      "outputs": [
        {
          "output_type": "execute_result",
          "data": {
            "text/plain": [
              "185"
            ]
          },
          "metadata": {},
          "execution_count": 13
        }
      ]
    },
    {
      "cell_type": "code",
      "source": [
        "sh2.variable = 20\n",
        "sh2.variable"
      ],
      "metadata": {
        "colab": {
          "base_uri": "https://localhost:8080/"
        },
        "id": "yINL8otsYYvf",
        "outputId": "7797eede-e661-42c6-ff0f-efb3635ecc34"
      },
      "execution_count": null,
      "outputs": [
        {
          "output_type": "execute_result",
          "data": {
            "text/plain": [
              "20"
            ]
          },
          "metadata": {},
          "execution_count": 14
        }
      ]
    },
    {
      "cell_type": "code",
      "source": [
        "sh2.age = 20\n",
        "sh2.age"
      ],
      "metadata": {
        "colab": {
          "base_uri": "https://localhost:8080/"
        },
        "id": "AC1Q2HoRYdWN",
        "outputId": "33160695-5779-49cb-b201-1ef535dc7cb3"
      },
      "execution_count": null,
      "outputs": [
        {
          "output_type": "execute_result",
          "data": {
            "text/plain": [
              "20"
            ]
          },
          "metadata": {},
          "execution_count": 15
        }
      ]
    },
    {
      "cell_type": "code",
      "source": [
        "sh = human(185, 20)\n",
        "sh.how_old('첫번째 변수', '두번째 변수') # 객체명.메서드(매개변수1, 매개변수2)"
      ],
      "metadata": {
        "colab": {
          "base_uri": "https://localhost:8080/"
        },
        "id": "0kuE8pKAZddh",
        "outputId": "7da99fe3-5782-4869-bc06-0b373ff96d61"
      },
      "execution_count": null,
      "outputs": [
        {
          "output_type": "stream",
          "name": "stdout",
          "text": [
            "20 살 입니다\n",
            "첫번째 변수\n",
            "두번째 변수\n"
          ]
        }
      ]
    },
    {
      "cell_type": "code",
      "source": [
        "human.how_old(sh, '1번째 변수', '2번째 변수') # 클래스.메서드(객체명, 매개변수1, 매개변수2)"
      ],
      "metadata": {
        "colab": {
          "base_uri": "https://localhost:8080/"
        },
        "id": "_EbExWjtb1du",
        "outputId": "0021cb6c-edc4-4e4b-aee9-e84ac4ce5af8"
      },
      "execution_count": null,
      "outputs": [
        {
          "output_type": "stream",
          "name": "stdout",
          "text": [
            "20 살 입니다\n",
            "1번째 변수\n",
            "2번째 변수\n"
          ]
        }
      ]
    },
    {
      "cell_type": "code",
      "source": [
        "# 같은 클래스의 두 객체는?\n",
        "classTest1 = human(185, 15)\n",
        "classTest2 = human(185, 15)\n",
        "classTest1 == classTest2"
      ],
      "metadata": {
        "colab": {
          "base_uri": "https://localhost:8080/"
        },
        "id": "9b7BTsk1clyp",
        "outputId": "10ac4e1c-f73e-4b1a-937f-6f69146ef6e2"
      },
      "execution_count": null,
      "outputs": [
        {
          "output_type": "execute_result",
          "data": {
            "text/plain": [
              "False"
            ]
          },
          "metadata": {},
          "execution_count": 27
        }
      ]
    },
    {
      "cell_type": "markdown",
      "source": [
        "3. 객체지향과 절차지향"
      ],
      "metadata": {
        "id": "J0TUaNsCg_ZW"
      }
    },
    {
      "cell_type": "code",
      "source": [
        "x = 'abcd'\n",
        "x.upper() # 객체명.메서드()\n",
        "# string도 객체다.\n",
        "# python은 모든 것이 객체다.\n",
        "y = 3\n",
        "z = 3.5\n",
        "# int, float도 객체다."
      ],
      "metadata": {
        "colab": {
          "base_uri": "https://localhost:8080/",
          "height": 35
        },
        "id": "1otO9s1EiNPY",
        "outputId": "6282f615-8cf4-456b-f472-b80c4d05f5f3"
      },
      "execution_count": null,
      "outputs": [
        {
          "output_type": "execute_result",
          "data": {
            "text/plain": [
              "'ABCD'"
            ],
            "application/vnd.google.colaboratory.intrinsic+json": {
              "type": "string"
            }
          },
          "metadata": {},
          "execution_count": 28
        }
      ]
    },
    {
      "cell_type": "markdown",
      "source": [
        "4. 특수 메소드"
      ],
      "metadata": {
        "id": "mAsC2CPQpW-n"
      }
    },
    {
      "cell_type": "code",
      "source": [
        "class human3: # class의 이름 정의\n",
        "\n",
        "    def __init__(self): # class가 처음 생성될 때 실행될 method\n",
        "        self.height = 3 # class 변수\n",
        "        self.age = 3\n",
        "\n",
        "    def __del__(self):\n",
        "        print('삭제됬지롱~')"
      ],
      "metadata": {
        "id": "51cQPfelk59d"
      },
      "execution_count": 18,
      "outputs": []
    },
    {
      "cell_type": "code",
      "source": [
        "sh = human3()"
      ],
      "metadata": {
        "id": "Bl1xaSuXl594"
      },
      "execution_count": 19,
      "outputs": []
    },
    {
      "cell_type": "code",
      "source": [
        "del sh"
      ],
      "metadata": {
        "colab": {
          "base_uri": "https://localhost:8080/"
        },
        "id": "BgcyZpbhl_pA",
        "outputId": "b875edd8-19e7-4107-87d7-d4917146f243"
      },
      "execution_count": 20,
      "outputs": [
        {
          "output_type": "stream",
          "name": "stdout",
          "text": [
            "삭제됬지롱~\n"
          ]
        }
      ]
    },
    {
      "cell_type": "code",
      "source": [
        "sh # 삭제됨"
      ],
      "metadata": {
        "colab": {
          "base_uri": "https://localhost:8080/",
          "height": 174
        },
        "id": "_6-N2DdhnELR",
        "outputId": "d62141a0-8b2a-41d4-fd49-f2b9af052feb"
      },
      "execution_count": 21,
      "outputs": [
        {
          "output_type": "error",
          "ename": "NameError",
          "evalue": "ignored",
          "traceback": [
            "\u001b[0;31m---------------------------------------------------------------------------\u001b[0m",
            "\u001b[0;31mNameError\u001b[0m                                 Traceback (most recent call last)",
            "\u001b[0;32m<ipython-input-21-06ab4892fdbe>\u001b[0m in \u001b[0;36m<module>\u001b[0;34m\u001b[0m\n\u001b[0;32m----> 1\u001b[0;31m \u001b[0msh\u001b[0m\u001b[0;34m\u001b[0m\u001b[0;34m\u001b[0m\u001b[0m\n\u001b[0m",
            "\u001b[0;31mNameError\u001b[0m: name 'sh' is not defined"
          ]
        }
      ]
    },
    {
      "cell_type": "code",
      "source": [
        "# 정적 메서드\n",
        "class test1: # class의 이름 정의\n",
        "\n",
        "    def __init__(self): # class가 처음 생성될 때 실행될 method\n",
        "        self.height = 3 # class 변수\n",
        "        self.age = 3\n",
        "\n",
        "    @staticmethod\n",
        "    def addition(x, y):\n",
        "        return x + y"
      ],
      "metadata": {
        "id": "cQDMLm4snPbV"
      },
      "execution_count": 24,
      "outputs": []
    },
    {
      "cell_type": "code",
      "source": [
        "test1.addition(3, 4) # 객체 생성하지 않고 클래스명.메서드명()으로 바로 호출"
      ],
      "metadata": {
        "colab": {
          "base_uri": "https://localhost:8080/"
        },
        "id": "XyeheHbxnj8F",
        "outputId": "b0374fc3-3c0f-4f85-d72a-6d3e3b122ccb"
      },
      "execution_count": 25,
      "outputs": [
        {
          "output_type": "execute_result",
          "data": {
            "text/plain": [
              "7"
            ]
          },
          "metadata": {},
          "execution_count": 25
        }
      ]
    },
    {
      "cell_type": "code",
      "source": [
        "# 클래스 메서드\n",
        "class student:\n",
        "    count = 0\n",
        "    @classmethod\n",
        "    def cmethod(cls): # self는 object를 생성하고 object를 받을 때 self 받고, cls는 클래스 자체, 즉 스스로를 받는다.\n",
        "        print('클래스 메소드')\n",
        "        print(cls.count)\n",
        "  \n",
        "    @staticmethod\n",
        "    def smethod():\n",
        "        print('정적 메소드')"
      ],
      "metadata": {
        "id": "g7ukBN4En_cF"
      },
      "execution_count": 28,
      "outputs": []
    },
    {
      "cell_type": "code",
      "source": [
        "student.cmethod()\n",
        "student.smethod()"
      ],
      "metadata": {
        "colab": {
          "base_uri": "https://localhost:8080/"
        },
        "id": "CdaaTxIboj0v",
        "outputId": "9ead988e-b1b4-4afc-eb5d-978156b59014"
      },
      "execution_count": 29,
      "outputs": [
        {
          "output_type": "stream",
          "name": "stdout",
          "text": [
            "클래스 메소드\n",
            "0\n",
            "정적 메소드\n"
          ]
        }
      ]
    },
    {
      "cell_type": "code",
      "source": [
        "class humans:\n",
        "\n",
        "    def __init__(self): # private 변수\n",
        "        self.__age = 31\n",
        "\n",
        "    @property\n",
        "    def age_getter(self): # getter\n",
        "        return self.__age\n",
        "\n",
        "    @age_getter.setter\n",
        "    def age_setter(self, value): # setter\n",
        "        self.__age = value"
      ],
      "metadata": {
        "id": "Jl3Yexx8qRPQ"
      },
      "execution_count": 30,
      "outputs": []
    },
    {
      "cell_type": "code",
      "source": [
        "sh = humans()"
      ],
      "metadata": {
        "id": "fY2_hhW3q27J"
      },
      "execution_count": 31,
      "outputs": []
    },
    {
      "cell_type": "code",
      "source": [
        "sh.__age # 접근 안됨. private 변수."
      ],
      "metadata": {
        "colab": {
          "base_uri": "https://localhost:8080/",
          "height": 174
        },
        "id": "MJ5fX-9Mq5CW",
        "outputId": "af7a7154-4ea2-43be-8cf8-d31e5181cc41"
      },
      "execution_count": 32,
      "outputs": [
        {
          "output_type": "error",
          "ename": "AttributeError",
          "evalue": "ignored",
          "traceback": [
            "\u001b[0;31m---------------------------------------------------------------------------\u001b[0m",
            "\u001b[0;31mAttributeError\u001b[0m                            Traceback (most recent call last)",
            "\u001b[0;32m<ipython-input-32-d3e7487a070c>\u001b[0m in \u001b[0;36m<module>\u001b[0;34m\u001b[0m\n\u001b[0;32m----> 1\u001b[0;31m \u001b[0msh\u001b[0m\u001b[0;34m.\u001b[0m\u001b[0m__age\u001b[0m\u001b[0;34m\u001b[0m\u001b[0;34m\u001b[0m\u001b[0m\n\u001b[0m",
            "\u001b[0;31mAttributeError\u001b[0m: 'humans' object has no attribute '__age'"
          ]
        }
      ]
    },
    {
      "cell_type": "code",
      "source": [
        "sh.age_getter # private 변수를 가져오게 하는 것이 getter다.\n",
        "# getter, setter를 사용하는 이유는 디버깅에 유리하기 때문이다."
      ],
      "metadata": {
        "colab": {
          "base_uri": "https://localhost:8080/"
        },
        "id": "hGSaeRbErQ00",
        "outputId": "6d574d35-677a-4728-c2c8-f28d0e3c858d"
      },
      "execution_count": 34,
      "outputs": [
        {
          "output_type": "execute_result",
          "data": {
            "text/plain": [
              "31"
            ]
          },
          "metadata": {},
          "execution_count": 34
        }
      ]
    },
    {
      "cell_type": "code",
      "source": [
        "sh.age_setter = 36\n",
        "sh.age_getter\n",
        "# int는 이렇게 초기화 식으로 값을 넣고 가져온다."
      ],
      "metadata": {
        "colab": {
          "base_uri": "https://localhost:8080/"
        },
        "id": "SyCKuHgurrHM",
        "outputId": "ae826524-78f1-4919-cb69-f1a4cecd5e34"
      },
      "execution_count": 37,
      "outputs": [
        {
          "output_type": "execute_result",
          "data": {
            "text/plain": [
              "36"
            ]
          },
          "metadata": {},
          "execution_count": 37
        }
      ]
    }
  ]
}