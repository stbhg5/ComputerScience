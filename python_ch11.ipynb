{
  "nbformat": 4,
  "nbformat_minor": 0,
  "metadata": {
    "colab": {
      "provenance": [],
      "authorship_tag": "ABX9TyNC6wiS1eqPO4e9GdKflkgS",
      "include_colab_link": true
    },
    "kernelspec": {
      "name": "python3",
      "display_name": "Python 3"
    },
    "language_info": {
      "name": "python"
    }
  },
  "cells": [
    {
      "cell_type": "markdown",
      "metadata": {
        "id": "view-in-github",
        "colab_type": "text"
      },
      "source": [
        "<a href=\"https://colab.research.google.com/github/stbhg5/ComputerScience/blob/main/python_ch11.ipynb\" target=\"_parent\"><img src=\"https://colab.research.google.com/assets/colab-badge.svg\" alt=\"Open In Colab\"/></a>"
      ]
    },
    {
      "cell_type": "markdown",
      "source": [
        "1. numpy에 대해"
      ],
      "metadata": {
        "id": "Qbsb3MDTxb97"
      }
    },
    {
      "cell_type": "code",
      "execution_count": 2,
      "metadata": {
        "colab": {
          "base_uri": "https://localhost:8080/"
        },
        "id": "ux3VPmpCxZBC",
        "outputId": "b825785e-3536-4a8e-a798-1862cdb3ea7b"
      },
      "outputs": [
        {
          "output_type": "execute_result",
          "data": {
            "text/plain": [
              "array([1, 2, 3, 4])"
            ]
          },
          "metadata": {},
          "execution_count": 2
        }
      ],
      "source": [
        "import numpy as np\n",
        "\n",
        "np.array([1, 2, 3, 4]) # 이미 정의된 컬렉션을 numpy로 바꾸는 방법을 통해 많이 생성함"
      ]
    },
    {
      "cell_type": "code",
      "source": [
        "np.array([1, 2, 3, 4]).dtype # 64비트 인트"
      ],
      "metadata": {
        "colab": {
          "base_uri": "https://localhost:8080/"
        },
        "id": "NGTv_KvE4peH",
        "outputId": "c98616fb-be96-4952-fd66-1950a9f318a0"
      },
      "execution_count": 4,
      "outputs": [
        {
          "output_type": "execute_result",
          "data": {
            "text/plain": [
              "dtype('int64')"
            ]
          },
          "metadata": {},
          "execution_count": 4
        }
      ]
    },
    {
      "cell_type": "code",
      "source": [
        "np.array(['a', 'b', 'c']).dtype # 유니코드 같은 게 나옴"
      ],
      "metadata": {
        "colab": {
          "base_uri": "https://localhost:8080/"
        },
        "id": "UQRd1Vpm4xPn",
        "outputId": "03dd390b-94d8-459b-c54c-123857bba527"
      },
      "execution_count": 5,
      "outputs": [
        {
          "output_type": "execute_result",
          "data": {
            "text/plain": [
              "dtype('<U1')"
            ]
          },
          "metadata": {},
          "execution_count": 5
        }
      ]
    },
    {
      "cell_type": "code",
      "source": [
        "np.array([1.5, 1.2, 1.8]).dtype # 64비트 float"
      ],
      "metadata": {
        "colab": {
          "base_uri": "https://localhost:8080/"
        },
        "id": "KZdWaBNe45ZU",
        "outputId": "8aeb8c0b-5a93-4bee-af5d-5640af22c794"
      },
      "execution_count": 7,
      "outputs": [
        {
          "output_type": "execute_result",
          "data": {
            "text/plain": [
              "dtype('float64')"
            ]
          },
          "metadata": {},
          "execution_count": 7
        }
      ]
    },
    {
      "cell_type": "code",
      "source": [
        "np.empty(10) # 배열 크기가 10인 numpy array가 생성"
      ],
      "metadata": {
        "colab": {
          "base_uri": "https://localhost:8080/"
        },
        "id": "RBbOFovy4WDk",
        "outputId": "a8601068-b197-47b5-aab4-5fc28bc16bd4"
      },
      "execution_count": 3,
      "outputs": [
        {
          "output_type": "execute_result",
          "data": {
            "text/plain": [
              "array([1.34033449e-316, 0.00000000e+000, 0.00000000e+000, 0.00000000e+000,\n",
              "       6.01346930e-154, 1.87054506e-051, 3.88585872e-033, 5.33382628e-091,\n",
              "       5.28785869e+174, 6.01347042e-154])"
            ]
          },
          "metadata": {},
          "execution_count": 3
        }
      ]
    },
    {
      "cell_type": "code",
      "source": [
        "np.array([1, 2, 3, 4], dtype = np.float64).dtype # 자료형 강제 지정"
      ],
      "metadata": {
        "colab": {
          "base_uri": "https://localhost:8080/"
        },
        "id": "L68VIrLk5mPy",
        "outputId": "f616ff18-1559-443d-90b3-509fc4c19862"
      },
      "execution_count": 12,
      "outputs": [
        {
          "output_type": "execute_result",
          "data": {
            "text/plain": [
              "dtype('float64')"
            ]
          },
          "metadata": {},
          "execution_count": 12
        }
      ]
    },
    {
      "cell_type": "code",
      "source": [
        "data = np.array([1, 2, 3, 4], dtype = np.float64)\n",
        "data # float 자료형"
      ],
      "metadata": {
        "colab": {
          "base_uri": "https://localhost:8080/"
        },
        "id": "pjnfL59W6IqB",
        "outputId": "1e97ca7b-54fe-47b4-bcb6-b599bffb70cc"
      },
      "execution_count": 14,
      "outputs": [
        {
          "output_type": "execute_result",
          "data": {
            "text/plain": [
              "array([1., 2., 3., 4.])"
            ]
          },
          "metadata": {},
          "execution_count": 14
        }
      ]
    },
    {
      "cell_type": "code",
      "source": [
        "np.array([[1, 2] ,[2, 2], [3, 2], [4, 2]]).shape # 원소가 2개짜리가 4개"
      ],
      "metadata": {
        "colab": {
          "base_uri": "https://localhost:8080/"
        },
        "id": "7-0cqlyt-wLG",
        "outputId": "33629d84-2294-4634-cd56-e7d6ceb1dda6"
      },
      "execution_count": 15,
      "outputs": [
        {
          "output_type": "execute_result",
          "data": {
            "text/plain": [
              "(4, 2)"
            ]
          },
          "metadata": {},
          "execution_count": 15
        }
      ]
    },
    {
      "cell_type": "code",
      "source": [
        "np.array([[1, 2, 3, 4], [2, 2, 3, 4]]).shape  # 원소가 4개자리가 2개\n",
        "# 즉 배열에서 제일 안쪽의 원소로 갈수록 .shape로 얻어낸 값의 괄호 오른쪽으로 가고 바깥 원소일수록 괄호 왼쪽으로 간다."
      ],
      "metadata": {
        "colab": {
          "base_uri": "https://localhost:8080/"
        },
        "id": "JKdmtflj_PE-",
        "outputId": "4d42db7e-49f6-4442-fedd-bfcfaadb8a8f"
      },
      "execution_count": 16,
      "outputs": [
        {
          "output_type": "execute_result",
          "data": {
            "text/plain": [
              "(2, 4)"
            ]
          },
          "metadata": {},
          "execution_count": 16
        }
      ]
    },
    {
      "cell_type": "code",
      "source": [
        "np.zeros(3, dtype = np.int64)"
      ],
      "metadata": {
        "colab": {
          "base_uri": "https://localhost:8080/"
        },
        "id": "wGDed5QwJtzg",
        "outputId": "64fa1996-9170-47ea-b68d-6bea43fc1951"
      },
      "execution_count": 17,
      "outputs": [
        {
          "output_type": "execute_result",
          "data": {
            "text/plain": [
              "array([0, 0, 0])"
            ]
          },
          "metadata": {},
          "execution_count": 17
        }
      ]
    },
    {
      "cell_type": "code",
      "source": [
        "np.zeros((3, 5, 1)) # 다차원 배열"
      ],
      "metadata": {
        "colab": {
          "base_uri": "https://localhost:8080/"
        },
        "id": "z9m0UAXNJ3s5",
        "outputId": "936466e0-a214-4fd0-c7b5-9aaaa8ab04c8"
      },
      "execution_count": 21,
      "outputs": [
        {
          "output_type": "execute_result",
          "data": {
            "text/plain": [
              "array([[[0.],\n",
              "        [0.],\n",
              "        [0.],\n",
              "        [0.],\n",
              "        [0.]],\n",
              "\n",
              "       [[0.],\n",
              "        [0.],\n",
              "        [0.],\n",
              "        [0.],\n",
              "        [0.]],\n",
              "\n",
              "       [[0.],\n",
              "        [0.],\n",
              "        [0.],\n",
              "        [0.],\n",
              "        [0.]]])"
            ]
          },
          "metadata": {},
          "execution_count": 21
        }
      ]
    },
    {
      "cell_type": "code",
      "source": [
        "np.eye(5) # 대각선 부분만 1 : 대각 행렬"
      ],
      "metadata": {
        "colab": {
          "base_uri": "https://localhost:8080/"
        },
        "id": "g1HB5xQ8KOTy",
        "outputId": "ed35cc8c-87d9-4109-aa4a-8fe876d67c55"
      },
      "execution_count": 23,
      "outputs": [
        {
          "output_type": "execute_result",
          "data": {
            "text/plain": [
              "array([[1., 0., 0., 0., 0.],\n",
              "       [0., 1., 0., 0., 0.],\n",
              "       [0., 0., 1., 0., 0.],\n",
              "       [0., 0., 0., 1., 0.],\n",
              "       [0., 0., 0., 0., 1.]])"
            ]
          },
          "metadata": {},
          "execution_count": 23
        }
      ]
    },
    {
      "cell_type": "code",
      "source": [
        "a = np.empty((3, 5))"
      ],
      "metadata": {
        "id": "Mn1tl0bTKjAf"
      },
      "execution_count": 28,
      "outputs": []
    },
    {
      "cell_type": "code",
      "source": [
        "a[0] = 1 # 다차원 배열에서 특정 차원 숫자 바꾸면 그 원소 전부 변하는 특성!\n",
        "a[1] = 2\n",
        "a[2] = 3"
      ],
      "metadata": {
        "id": "6cyCSK3XK1gu"
      },
      "execution_count": 32,
      "outputs": []
    },
    {
      "cell_type": "code",
      "source": [
        "a"
      ],
      "metadata": {
        "colab": {
          "base_uri": "https://localhost:8080/"
        },
        "id": "eLx-1FcfK6wO",
        "outputId": "f80b425d-3e16-4887-c98a-ab41edb85601"
      },
      "execution_count": 33,
      "outputs": [
        {
          "output_type": "execute_result",
          "data": {
            "text/plain": [
              "array([[1., 1., 1., 1., 1.],\n",
              "       [2., 2., 2., 2., 2.],\n",
              "       [3., 3., 3., 3., 3.]])"
            ]
          },
          "metadata": {},
          "execution_count": 33
        }
      ]
    },
    {
      "cell_type": "code",
      "source": [
        "a.shape"
      ],
      "metadata": {
        "colab": {
          "base_uri": "https://localhost:8080/"
        },
        "id": "s9FmXl9JL-Mj",
        "outputId": "e59d1993-c46d-4bbc-f3d2-56b0dd3903aa"
      },
      "execution_count": 34,
      "outputs": [
        {
          "output_type": "execute_result",
          "data": {
            "text/plain": [
              "(3, 5)"
            ]
          },
          "metadata": {},
          "execution_count": 34
        }
      ]
    },
    {
      "cell_type": "code",
      "source": [
        "a[[0,2]] # 0, 2행만 골라서 가져오고 싶을 때 이렇게 가져올 수 있는 특성!"
      ],
      "metadata": {
        "colab": {
          "base_uri": "https://localhost:8080/"
        },
        "id": "soOR5088PrlT",
        "outputId": "d0f120a9-5da6-41f6-c957-0f19836a6289"
      },
      "execution_count": 35,
      "outputs": [
        {
          "output_type": "execute_result",
          "data": {
            "text/plain": [
              "array([[1., 1., 1., 1., 1.],\n",
              "       [3., 3., 3., 3., 3.]])"
            ]
          },
          "metadata": {},
          "execution_count": 35
        }
      ]
    },
    {
      "cell_type": "code",
      "source": [
        "a = np.empty((3, 5))\n",
        "for i in range(15):\n",
        "    a[i//5][i%5] = i # 5로 나눈 몫과 나머지로 대응"
      ],
      "metadata": {
        "id": "sdDU1FH9QFlq"
      },
      "execution_count": 51,
      "outputs": []
    },
    {
      "cell_type": "code",
      "source": [
        "a"
      ],
      "metadata": {
        "colab": {
          "base_uri": "https://localhost:8080/"
        },
        "id": "00OIc0voQlce",
        "outputId": "c0a4b939-8e52-4576-b79c-4c27e63004b9"
      },
      "execution_count": 39,
      "outputs": [
        {
          "output_type": "execute_result",
          "data": {
            "text/plain": [
              "array([[ 0.,  1.,  2.,  3.,  4.],\n",
              "       [ 5.,  6.,  7.,  8.,  9.],\n",
              "       [10., 11., 12., 13., 14.]])"
            ]
          },
          "metadata": {},
          "execution_count": 39
        }
      ]
    },
    {
      "cell_type": "code",
      "source": [
        "a[[1, 2], [0, 3]]"
      ],
      "metadata": {
        "colab": {
          "base_uri": "https://localhost:8080/"
        },
        "id": "Ub6domY_Q4kU",
        "outputId": "7cff4382-abca-47b3-86cb-90b304b402f5"
      },
      "execution_count": 52,
      "outputs": [
        {
          "output_type": "execute_result",
          "data": {
            "text/plain": [
              "array([ 5., 13.])"
            ]
          },
          "metadata": {},
          "execution_count": 52
        }
      ]
    },
    {
      "cell_type": "code",
      "source": [
        "a = [1, 2, 3, 4]\n",
        "# b = a\n",
        "b = a[0:4] # 슬라이싱은 복제된 값 가져온다.\n",
        "b[1] = 4\n",
        "a\n",
        "# 넘파이 배열은 슬라이싱할 경우 복제되지 않는데, 그 배열의 주소만 가져오기 때문이다. 따라서 .copy()를 통해 복사해야 한다."
      ],
      "metadata": {
        "colab": {
          "base_uri": "https://localhost:8080/"
        },
        "id": "oV9nGpZJSYgD",
        "outputId": "f88863f0-33d3-47bd-ed33-a4a1c0cdff86"
      },
      "execution_count": 55,
      "outputs": [
        {
          "output_type": "execute_result",
          "data": {
            "text/plain": [
              "[1, 2, 3, 4]"
            ]
          },
          "metadata": {},
          "execution_count": 55
        }
      ]
    },
    {
      "cell_type": "code",
      "source": [
        "a = np.array([1, 2, 3, 4])\n",
        "a == 1 # array의 요소 하나하나 별로 비교한다."
      ],
      "metadata": {
        "colab": {
          "base_uri": "https://localhost:8080/"
        },
        "id": "fp9G7sdMTgDc",
        "outputId": "d56c1b74-75b8-4e67-a281-87e6f37716e0"
      },
      "execution_count": 56,
      "outputs": [
        {
          "output_type": "execute_result",
          "data": {
            "text/plain": [
              "array([ True, False, False, False])"
            ]
          },
          "metadata": {},
          "execution_count": 56
        }
      ]
    },
    {
      "cell_type": "code",
      "source": [
        "(a == 1) | (a == 2)"
      ],
      "metadata": {
        "colab": {
          "base_uri": "https://localhost:8080/"
        },
        "id": "L2VVY62FULn2",
        "outputId": "c6b24c26-3bb2-4e50-a4cf-0328d5599914"
      },
      "execution_count": 60,
      "outputs": [
        {
          "output_type": "execute_result",
          "data": {
            "text/plain": [
              "array([ True,  True, False, False])"
            ]
          },
          "metadata": {},
          "execution_count": 60
        }
      ]
    },
    {
      "cell_type": "code",
      "source": [
        "a[[1, 3]]"
      ],
      "metadata": {
        "colab": {
          "base_uri": "https://localhost:8080/"
        },
        "id": "0VBEi0qeVZMX",
        "outputId": "a5618e1e-ece2-4551-a176-77aa7588c356"
      },
      "execution_count": 62,
      "outputs": [
        {
          "output_type": "execute_result",
          "data": {
            "text/plain": [
              "array([2, 4])"
            ]
          },
          "metadata": {},
          "execution_count": 62
        }
      ]
    },
    {
      "cell_type": "code",
      "source": [
        "a[np.array([False, True, False, True])] # a의 크기와 동일한 bool 타입 array를 안에 집어넣을 경우, True의 해당하는 위치의 원소만 가지고 부분 array가 나온다."
      ],
      "metadata": {
        "colab": {
          "base_uri": "https://localhost:8080/"
        },
        "id": "zRnV5FLiVJub",
        "outputId": "3db6b5d4-a341-4891-c86b-298f15549bc3"
      },
      "execution_count": 61,
      "outputs": [
        {
          "output_type": "execute_result",
          "data": {
            "text/plain": [
              "array([2, 4])"
            ]
          },
          "metadata": {},
          "execution_count": 61
        }
      ]
    },
    {
      "cell_type": "code",
      "source": [
        "a[(a == 2) | (a == 4)] # 조건에 해당하는 요소만 가져와 부분 array 만듦."
      ],
      "metadata": {
        "colab": {
          "base_uri": "https://localhost:8080/"
        },
        "id": "xHPwcxx0V_ry",
        "outputId": "6a7bd034-641e-472f-f0a9-d40be99327b2"
      },
      "execution_count": 64,
      "outputs": [
        {
          "output_type": "execute_result",
          "data": {
            "text/plain": [
              "array([2, 4])"
            ]
          },
          "metadata": {},
          "execution_count": 64
        }
      ]
    },
    {
      "cell_type": "code",
      "source": [
        "a = np.empty((3, 5))\n",
        "for i in range(15):\n",
        "    a[i//5][i%5] = i\n",
        "a.flatten() # 다차원 배열을 1차원으로 펼침"
      ],
      "metadata": {
        "colab": {
          "base_uri": "https://localhost:8080/"
        },
        "id": "8URxnq8SWYZ3",
        "outputId": "1990ed8e-2712-4d6a-a2e4-ca1361242fdd"
      },
      "execution_count": 68,
      "outputs": [
        {
          "output_type": "execute_result",
          "data": {
            "text/plain": [
              "array([ 0.,  1.,  2.,  3.,  4.,  5.,  6.,  7.,  8.,  9., 10., 11., 12.,\n",
              "       13., 14.])"
            ]
          },
          "metadata": {},
          "execution_count": 68
        }
      ]
    },
    {
      "cell_type": "code",
      "source": [
        "a = np.empty((3, 5))\n",
        "for i in range(15):\n",
        "    a[i//5][i%5] = i\n",
        "a"
      ],
      "metadata": {
        "colab": {
          "base_uri": "https://localhost:8080/"
        },
        "id": "Z7Ey7lpCWhaw",
        "outputId": "7cbc5711-19e2-4dc4-d0f3-db168f49b5aa"
      },
      "execution_count": 70,
      "outputs": [
        {
          "output_type": "execute_result",
          "data": {
            "text/plain": [
              "array([[ 0.,  1.,  2.,  3.,  4.],\n",
              "       [ 5.,  6.,  7.,  8.,  9.],\n",
              "       [10., 11., 12., 13., 14.]])"
            ]
          },
          "metadata": {},
          "execution_count": 70
        }
      ]
    },
    {
      "cell_type": "code",
      "source": [
        "a.transpose() # 행과 열을 변환"
      ],
      "metadata": {
        "colab": {
          "base_uri": "https://localhost:8080/"
        },
        "id": "EZ2JkYJWWmqT",
        "outputId": "7472e96b-3305-477c-b59e-9ec81bff2f4d"
      },
      "execution_count": 71,
      "outputs": [
        {
          "output_type": "execute_result",
          "data": {
            "text/plain": [
              "array([[ 0.,  5., 10.],\n",
              "       [ 1.,  6., 11.],\n",
              "       [ 2.,  7., 12.],\n",
              "       [ 3.,  8., 13.],\n",
              "       [ 4.,  9., 14.]])"
            ]
          },
          "metadata": {},
          "execution_count": 71
        }
      ]
    },
    {
      "cell_type": "code",
      "source": [
        "a = np.empty((3, 5))\n",
        "for i in range(15):\n",
        "    a[i // 5][i % 5] = i\n",
        "a"
      ],
      "metadata": {
        "colab": {
          "base_uri": "https://localhost:8080/"
        },
        "id": "LbWtToaYXIoF",
        "outputId": "df638796-6eb5-46d4-9bb7-f0b72307be34"
      },
      "execution_count": 72,
      "outputs": [
        {
          "output_type": "execute_result",
          "data": {
            "text/plain": [
              "array([[ 0.,  1.,  2.,  3.,  4.],\n",
              "       [ 5.,  6.,  7.,  8.,  9.],\n",
              "       [10., 11., 12., 13., 14.]])"
            ]
          },
          "metadata": {},
          "execution_count": 72
        }
      ]
    },
    {
      "cell_type": "code",
      "source": [
        "a.shape"
      ],
      "metadata": {
        "colab": {
          "base_uri": "https://localhost:8080/"
        },
        "id": "A3O8HADwXPHR",
        "outputId": "a3e4884d-02da-4fda-ca38-c5d6bd69cc5e"
      },
      "execution_count": 73,
      "outputs": [
        {
          "output_type": "execute_result",
          "data": {
            "text/plain": [
              "(3, 5)"
            ]
          },
          "metadata": {},
          "execution_count": 73
        }
      ]
    },
    {
      "cell_type": "code",
      "source": [
        "a.reshape(5, 3) # 다차원 배열의 shape을 바꿈"
      ],
      "metadata": {
        "colab": {
          "base_uri": "https://localhost:8080/"
        },
        "id": "07lC0vNLXRaL",
        "outputId": "6918a478-16fb-4731-d1c9-38b4a0712fab"
      },
      "execution_count": 74,
      "outputs": [
        {
          "output_type": "execute_result",
          "data": {
            "text/plain": [
              "array([[ 0.,  1.,  2.],\n",
              "       [ 3.,  4.,  5.],\n",
              "       [ 6.,  7.,  8.],\n",
              "       [ 9., 10., 11.],\n",
              "       [12., 13., 14.]])"
            ]
          },
          "metadata": {},
          "execution_count": 74
        }
      ]
    },
    {
      "cell_type": "code",
      "source": [
        "a.reshape(1, 15)"
      ],
      "metadata": {
        "colab": {
          "base_uri": "https://localhost:8080/"
        },
        "id": "Jtj5eukFXsk6",
        "outputId": "e95c5815-2c2c-4e07-d2a4-5bd9a641b5ec"
      },
      "execution_count": 75,
      "outputs": [
        {
          "output_type": "execute_result",
          "data": {
            "text/plain": [
              "array([[ 0.,  1.,  2.,  3.,  4.,  5.,  6.,  7.,  8.,  9., 10., 11., 12.,\n",
              "        13., 14.]])"
            ]
          },
          "metadata": {},
          "execution_count": 75
        }
      ]
    },
    {
      "cell_type": "code",
      "source": [
        "np.random.random() # 난수 발생"
      ],
      "metadata": {
        "colab": {
          "base_uri": "https://localhost:8080/"
        },
        "id": "z3xcrzIsX0Yk",
        "outputId": "741d6bf0-980d-463c-ee58-cd65e8f68598"
      },
      "execution_count": 76,
      "outputs": [
        {
          "output_type": "execute_result",
          "data": {
            "text/plain": [
              "0.7766460033726635"
            ]
          },
          "metadata": {},
          "execution_count": 76
        }
      ]
    },
    {
      "cell_type": "code",
      "source": [
        "np.random.random(5)"
      ],
      "metadata": {
        "colab": {
          "base_uri": "https://localhost:8080/"
        },
        "id": "5MCUrphcX50Q",
        "outputId": "18df07c4-ef61-44a0-f91e-b42a77acfe55"
      },
      "execution_count": 77,
      "outputs": [
        {
          "output_type": "execute_result",
          "data": {
            "text/plain": [
              "array([0.85264506, 0.1326009 , 0.3420036 , 0.5088994 , 0.21974451])"
            ]
          },
          "metadata": {},
          "execution_count": 77
        }
      ]
    },
    {
      "cell_type": "code",
      "source": [
        "np.random.random((5, 3))"
      ],
      "metadata": {
        "colab": {
          "base_uri": "https://localhost:8080/"
        },
        "id": "NSKyg4WDX9sz",
        "outputId": "7e05cd67-d20d-4360-8095-d13f923da3ff"
      },
      "execution_count": 78,
      "outputs": [
        {
          "output_type": "execute_result",
          "data": {
            "text/plain": [
              "array([[0.42549001, 0.06379919, 0.1559296 ],\n",
              "       [0.68151284, 0.60598763, 0.88769601],\n",
              "       [0.43532136, 0.51213166, 0.83607711],\n",
              "       [0.07349979, 0.95226116, 0.00705371],\n",
              "       [0.46022681, 0.11504063, 0.10320787]])"
            ]
          },
          "metadata": {},
          "execution_count": 78
        }
      ]
    },
    {
      "cell_type": "code",
      "source": [
        "a = np.array([[1, 2], [3, 4]])\n",
        "b = np.array([[5, 6], [7, 8]])\n",
        "np.hstack([a, b]) # 수평으로 합침"
      ],
      "metadata": {
        "colab": {
          "base_uri": "https://localhost:8080/"
        },
        "id": "cqGYQsiqYClY",
        "outputId": "d11c5f68-0e36-40e3-85e2-48c30901c81d"
      },
      "execution_count": 82,
      "outputs": [
        {
          "output_type": "execute_result",
          "data": {
            "text/plain": [
              "array([[1, 2, 5, 6],\n",
              "       [3, 4, 7, 8]])"
            ]
          },
          "metadata": {},
          "execution_count": 82
        }
      ]
    },
    {
      "cell_type": "code",
      "source": [
        "np.vstack([a, b]) # 수직으로 합침"
      ],
      "metadata": {
        "colab": {
          "base_uri": "https://localhost:8080/"
        },
        "id": "SB8H9OLHYqI0",
        "outputId": "32682787-3281-417b-e2eb-7fd54cf05f70"
      },
      "execution_count": 83,
      "outputs": [
        {
          "output_type": "execute_result",
          "data": {
            "text/plain": [
              "array([[1, 2],\n",
              "       [3, 4],\n",
              "       [5, 6],\n",
              "       [7, 8]])"
            ]
          },
          "metadata": {},
          "execution_count": 83
        }
      ]
    },
    {
      "cell_type": "markdown",
      "source": [
        "- 문제 풀이"
      ],
      "metadata": {
        "id": "Y8Hd-FwhZWpK"
      }
    },
    {
      "cell_type": "code",
      "source": [
        "import numpy as np\n",
        "b = np.array([1, 2, 3, 4])\n",
        "c = np.array([[1, 2],\n",
        "              [3, 4]])\n",
        "print(np.prod(b)) # 1*2*3*4\n",
        "print(np.prod(c, axis = 0)) # [1*3, 2*4] 0은 열\n",
        "print(np.prod(c, axis = 1)) # [1*2, 3*4] 1은 행\n",
        "print(np.sum(b)) # 1+2+3+4\n",
        "print(np.sum(b, keepdims = True)) # [1+2+3+4] # keepdims은 차원을 유지해라\n",
        "print(np.sum(c, axis = 0)) # [1+3, 2+4] 0은 열\n",
        "print(np.sum(c, axis = 1)) # [1+2, 3+4] 1은 행\n",
        "# axis 는 열단위로 합칠지 행단위로 합칠지 정해준다."
      ],
      "metadata": {
        "colab": {
          "base_uri": "https://localhost:8080/"
        },
        "id": "WfCw77_dZRyV",
        "outputId": "4abc807f-76e1-4a89-ad49-bbb243c76eac"
      },
      "execution_count": 85,
      "outputs": [
        {
          "output_type": "stream",
          "name": "stdout",
          "text": [
            "24\n",
            "[3 8]\n",
            "[ 2 12]\n",
            "10\n",
            "[10]\n",
            "[4 6]\n",
            "[3 7]\n"
          ]
        }
      ]
    },
    {
      "cell_type": "code",
      "source": [
        "import numpy as np\n",
        "a = np.array([2, 4, 6, 8]).reshape(2, 2)\n",
        "b = np.array([2, 2, 2, 2]).reshape(2, 2)\n",
        "print(a)\n",
        "print(b)\n",
        "print(a + b) # 엘리먼트와이스 더하기, 즉 요소 값을 더한다.\n",
        "print(a - b)\n",
        "print(a * b)\n",
        "print(a / b)\n",
        "print(np.matmul(a, b)) # 매트릭스 멀티플리케이션 : 행렬과 행렬의 곱"
      ],
      "metadata": {
        "colab": {
          "base_uri": "https://localhost:8080/"
        },
        "id": "Mx_D4ELHacoM",
        "outputId": "9cc4cd95-9e7a-4062-9e78-53f46a03229b"
      },
      "execution_count": 86,
      "outputs": [
        {
          "output_type": "stream",
          "name": "stdout",
          "text": [
            "[[2 4]\n",
            " [6 8]]\n",
            "[[2 2]\n",
            " [2 2]]\n",
            "[[ 4  6]\n",
            " [ 8 10]]\n",
            "[[0 2]\n",
            " [4 6]]\n",
            "[[ 4  8]\n",
            " [12 16]]\n",
            "[[1. 2.]\n",
            " [3. 4.]]\n",
            "[[12 12]\n",
            " [28 28]]\n"
          ]
        }
      ]
    },
    {
      "cell_type": "code",
      "source": [
        "import numpy as np\n",
        "a1 = np.arange(1, 10).reshape(3, 3)\n",
        "a2 = np.arange(11, 20).reshape(3, 3)\n",
        "print(a1 + a2)\n",
        "print(a1 - a2)\n",
        "print(a1 * a2)\n",
        "print(a1 / a2)\n",
        "print(np.matmul(a1, a2))\n",
        "print(a1 ** 3) # 세제곱"
      ],
      "metadata": {
        "colab": {
          "base_uri": "https://localhost:8080/"
        },
        "id": "MwNl9TN4byU1",
        "outputId": "382b1b93-9013-48fc-856b-dd4d478ab5e7"
      },
      "execution_count": 88,
      "outputs": [
        {
          "output_type": "stream",
          "name": "stdout",
          "text": [
            "[[12 14 16]\n",
            " [18 20 22]\n",
            " [24 26 28]]\n",
            "[[-10 -10 -10]\n",
            " [-10 -10 -10]\n",
            " [-10 -10 -10]]\n",
            "[[ 11  24  39]\n",
            " [ 56  75  96]\n",
            " [119 144 171]]\n",
            "[[0.09090909 0.16666667 0.23076923]\n",
            " [0.28571429 0.33333333 0.375     ]\n",
            " [0.41176471 0.44444444 0.47368421]]\n",
            "[[ 90  96 102]\n",
            " [216 231 246]\n",
            " [342 366 390]]\n",
            "[[  1   8  27]\n",
            " [ 64 125 216]\n",
            " [343 512 729]]\n"
          ]
        }
      ]
    },
    {
      "cell_type": "code",
      "source": [
        "# 일반 파이썬과 numpy의 계산속도 차이\n",
        "import numpy as np\n",
        "import datetime\n",
        "li = range(1, 1000000)\n",
        "\n",
        "s = datetime.datetime.now()\n",
        "li2 = []\n",
        "for i in li:\n",
        "    li2.append(i * 2)\n",
        "print(datetime.datetime.now() - s)\n",
        "\n",
        "ar = np.array(li)\n",
        "s = datetime.datetime.now()\n",
        "arr2 = ar * 2\n",
        "s = datetime.datetime.now()\n",
        "print(datetime.datetime.now() - s)"
      ],
      "metadata": {
        "colab": {
          "base_uri": "https://localhost:8080/"
        },
        "id": "nR-LwPJEdQgv",
        "outputId": "2a9f6e97-c1ed-40bf-fa32-d906aaf5014e"
      },
      "execution_count": 89,
      "outputs": [
        {
          "output_type": "stream",
          "name": "stdout",
          "text": [
            "0:00:00.292198\n",
            "0:00:00.000053\n"
          ]
        }
      ]
    },
    {
      "cell_type": "code",
      "source": [
        "import numpy as np\n",
        "# scipy : science python 과학 연산을 위한 모듈을 가진 라이브러리\n",
        "# scipy.stats : 통계에 대한 모듈\n",
        "x = np.array([18, 5, 10, 23, 19, -8, 10, 0, 0, 5, 2, 15, 8, 2, 5,\n",
        "               4, 15, -1, 4, -7, -24, 7, 9, -6, 23, -13])\n",
        "# x.sort() # 원본 데이터를 작은 것부터 큰수까지 오름차순으로 변경\n",
        "print(x)\n",
        "print(np.percentile(x, 0))  # 최소값\n",
        "print(np.percentile(x, 25)) # 25%위치값 1사분위수 1/4\n",
        "print(np.percentile(x, 50)) # 중앙값    2사분위수 1/4 * 2\n",
        "print(np.percentile(x, 75)) # 75%위치값 3사분위수 1/4 * 3\n",
        "print(np.percentile(x, 100)) # 최대값"
      ],
      "metadata": {
        "colab": {
          "base_uri": "https://localhost:8080/"
        },
        "id": "ZcQ0c9K1eREt",
        "outputId": "a0feccbb-12ed-4a03-9369-39cde7e2adb6"
      },
      "execution_count": 90,
      "outputs": [
        {
          "output_type": "stream",
          "name": "stdout",
          "text": [
            "[ 18   5  10  23  19  -8  10   0   0   5   2  15   8   2   5   4  15  -1\n",
            "   4  -7 -24   7   9  -6  23 -13]\n",
            "-24.0\n",
            "0.0\n",
            "5.0\n",
            "10.0\n",
            "23.0\n"
          ]
        }
      ]
    },
    {
      "cell_type": "code",
      "source": [
        "import numpy as np\n",
        "a1 = np.ones((2,3))\n",
        "print(a1)\n",
        "a2 = np.zeros((2, 2))\n",
        "print(a2)\n",
        "# hstack/vstack : 두개를 붙인 새로운 배열을 생성\n",
        "# hstack : horizontal stack 수평으로 붙임 \n",
        "print(np.hstack([a1, a2]))\n",
        "a3 = np.zeros((3,3))\n",
        "# vstack vertical stack  수직으로 이어 붙임 \n",
        "print(a3)\n",
        "a4 = np.vstack([a1, a3])\n",
        "print(a4)\n",
        "print(a1)"
      ],
      "metadata": {
        "colab": {
          "base_uri": "https://localhost:8080/"
        },
        "id": "5lVxMIjgerp2",
        "outputId": "0d6a018e-d86f-4d81-f3fb-f08d63dc6604"
      },
      "execution_count": 93,
      "outputs": [
        {
          "output_type": "stream",
          "name": "stdout",
          "text": [
            "[[1. 1. 1.]\n",
            " [1. 1. 1.]]\n",
            "[[0. 0.]\n",
            " [0. 0.]]\n",
            "[[1. 1. 1. 0. 0.]\n",
            " [1. 1. 1. 0. 0.]]\n",
            "[[0. 0. 0.]\n",
            " [0. 0. 0.]\n",
            " [0. 0. 0.]]\n",
            "[[1. 1. 1.]\n",
            " [1. 1. 1.]\n",
            " [0. 0. 0.]\n",
            " [0. 0. 0.]\n",
            " [0. 0. 0.]]\n",
            "[[1. 1. 1.]\n",
            " [1. 1. 1.]]\n"
          ]
        }
      ]
    },
    {
      "cell_type": "code",
      "source": [
        "import numpy as np\n",
        "ar1 = np.array([1, 2, 3, 4])\n",
        "br1 = np.array([5, 6, 7, 8])\n",
        "cr1 = np.concatenate((ar1, br1)) \n",
        "print(cr1)\n",
        "ar2 = np.array([[1, 2],\n",
        "                [3, 4]])\n",
        "br2 = np.array([[5, 6],\n",
        "                [7, 8]])\n",
        "cr1 = np.concatenate((ar2, br2), axis = 0) # 0은 열, vstack\n",
        "cr2 = np.concatenate((ar2, br2), axis = 1) # 1은 행, hstack\n",
        "print(cr1)\n",
        "print(cr2)"
      ],
      "metadata": {
        "colab": {
          "base_uri": "https://localhost:8080/"
        },
        "id": "hcNvjuRcfk1h",
        "outputId": "9fe0af43-6b7f-4ab2-c941-a9171d475c5a"
      },
      "execution_count": 95,
      "outputs": [
        {
          "output_type": "stream",
          "name": "stdout",
          "text": [
            "[1 2 3 4 5 6 7 8]\n",
            "[[1 2]\n",
            " [3 4]\n",
            " [5 6]\n",
            " [7 8]]\n",
            "[[1 2 5 6]\n",
            " [3 4 7 8]]\n"
          ]
        }
      ]
    },
    {
      "cell_type": "code",
      "source": [
        "# 단항함수\n",
        "import numpy as np\n",
        "ar = np.array([10, 1, 2, 3, 4])\n",
        "br = np.array([1.23, 4.567, 2.76])\n",
        "cr = np.array([-7, 0, 2])\n",
        "print(np.sqrt(ar)) # 제곱근\n",
        "print(np.square(ar)) # 제곱\n",
        "print(np.modf(br)) # 소수부분과 정수를 분리\n",
        "print(np.sign(cr)) # 음수(-1), 0, 양수(1)"
      ],
      "metadata": {
        "colab": {
          "base_uri": "https://localhost:8080/"
        },
        "id": "g2eM0eaogdtw",
        "outputId": "a24a0187-ec13-4c8e-f3ff-ce472f8ece4f"
      },
      "execution_count": 96,
      "outputs": [
        {
          "output_type": "stream",
          "name": "stdout",
          "text": [
            "[3.16227766 1.         1.41421356 1.73205081 2.        ]\n",
            "[100   1   4   9  16]\n",
            "(array([0.23 , 0.567, 0.76 ]), array([1., 4., 2.]))\n",
            "[-1  0  1]\n"
          ]
        }
      ]
    },
    {
      "cell_type": "code",
      "source": [
        "import numpy as np\n",
        "#               0 1 2\n",
        "#              -3-2-1\n",
        "ar1 = np.array([1,2,3])\n",
        "print(ar1[0], ar1[1], ar1[2])\n",
        "print(ar1[-1], ar1[-2], ar1[-3])\n",
        "ar2 = np.array([[1,2],[3,4]])\n",
        "#         행 열\n",
        "print(ar2[0][0],ar2[0][1],ar2[1][0],ar2[1][1])\n",
        "#         행열\n",
        "print(ar2[0,0],ar2[0,1],ar2[1,0],ar2[1,1])\n",
        "print(ar2[-1][-1],ar2[-2][-2])\n",
        "print(ar2[-1,-1],ar2[-2,-2])\n",
        "#         0행    1행\n",
        "print(ar2[0], ar2[1])"
      ],
      "metadata": {
        "colab": {
          "base_uri": "https://localhost:8080/"
        },
        "id": "NrdzZnrZhh2D",
        "outputId": "2c86ea30-68ee-46fe-8fac-7dc84811c73c"
      },
      "execution_count": 97,
      "outputs": [
        {
          "output_type": "stream",
          "name": "stdout",
          "text": [
            "1 2 3\n",
            "3 2 1\n",
            "1 2 3 4\n",
            "1 2 3 4\n",
            "4 1\n",
            "4 1\n",
            "[1 2] [3 4]\n"
          ]
        }
      ]
    },
    {
      "cell_type": "code",
      "source": [
        "import numpy as np\n",
        "# ar : 1 ~ 20  4행 5열\n",
        "ar1 = np.arange(1, 21).reshape(4, 5); print(ar1)\n",
        "# 1행, 3행\n",
        "ar2 = ar1[[1,3]]; print(ar2)\n",
        "# 0행 3열,  1행 4열\n",
        "ar3 = ar1[[0,1],[3,4]];  print(ar3)\n",
        "# 0과 1행 중에서 3열과 4열\n",
        "ar4 = ar1[[0,1]][:,[3,4]]; print(ar4)"
      ],
      "metadata": {
        "colab": {
          "base_uri": "https://localhost:8080/"
        },
        "id": "mFQ65vtHiTI9",
        "outputId": "612d0105-fbee-41d1-b6a8-c7395c4759ae"
      },
      "execution_count": 98,
      "outputs": [
        {
          "output_type": "stream",
          "name": "stdout",
          "text": [
            "[[ 1  2  3  4  5]\n",
            " [ 6  7  8  9 10]\n",
            " [11 12 13 14 15]\n",
            " [16 17 18 19 20]]\n",
            "[[ 6  7  8  9 10]\n",
            " [16 17 18 19 20]]\n",
            "[ 4 10]\n",
            "[[ 4  5]\n",
            " [ 9 10]]\n"
          ]
        }
      ]
    },
    {
      "cell_type": "code",
      "source": [
        "import numpy as np\n",
        "x = np.array([[2, 1, 6], [0, 7, 4],  [5, 3, 2]])\n",
        "print(x)\n",
        "print(np.sort(x, axis = 1))  # 좌우 오름차순\n",
        "print(np.sort(x, axis = 0))  # 상하 오름차순\n",
        "print(np.sort(x, axis = 0)[::-1]) # 상하 내림차순"
      ],
      "metadata": {
        "colab": {
          "base_uri": "https://localhost:8080/"
        },
        "id": "hFavM1lKipDu",
        "outputId": "00167279-de5c-41ed-b8ef-5101aaed5c60"
      },
      "execution_count": 99,
      "outputs": [
        {
          "output_type": "stream",
          "name": "stdout",
          "text": [
            "[[2 1 6]\n",
            " [0 7 4]\n",
            " [5 3 2]]\n",
            "[[1 2 6]\n",
            " [0 4 7]\n",
            " [2 3 5]]\n",
            "[[0 1 2]\n",
            " [2 3 4]\n",
            " [5 7 6]]\n",
            "[[5 7 6]\n",
            " [2 3 4]\n",
            " [0 1 2]]\n"
          ]
        }
      ]
    }
  ]
}