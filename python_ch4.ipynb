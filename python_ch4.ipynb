{
  "nbformat": 4,
  "nbformat_minor": 0,
  "metadata": {
    "colab": {
      "provenance": [],
      "authorship_tag": "ABX9TyN+/x7jswUEqMBQiGvsN1G8",
      "include_colab_link": true
    },
    "kernelspec": {
      "name": "python3",
      "display_name": "Python 3"
    },
    "language_info": {
      "name": "python"
    }
  },
  "cells": [
    {
      "cell_type": "markdown",
      "metadata": {
        "id": "view-in-github",
        "colab_type": "text"
      },
      "source": [
        "<a href=\"https://colab.research.google.com/github/stbhg5/ComputerScience/blob/main/python_ch4.ipynb\" target=\"_parent\"><img src=\"https://colab.research.google.com/assets/colab-badge.svg\" alt=\"Open In Colab\"/></a>"
      ]
    },
    {
      "cell_type": "markdown",
      "source": [
        "1. 함수란"
      ],
      "metadata": {
        "id": "y6cerD90rAia"
      }
    },
    {
      "cell_type": "code",
      "execution_count": null,
      "metadata": {
        "id": "bRaNNG9QpIrm"
      },
      "outputs": [],
      "source": [
        "# 반환값이 있는 함수\n",
        "def function(x):\n",
        "    y = 3 * x + 4\n",
        "    return y"
      ]
    },
    {
      "cell_type": "code",
      "source": [
        "function(1) # 7\n",
        "result = function(1)\n",
        "print(result)"
      ],
      "metadata": {
        "colab": {
          "base_uri": "https://localhost:8080/"
        },
        "id": "oGkGxKbCppPj",
        "outputId": "d5d0b803-5632-4cb0-f1d4-65204bc063fc"
      },
      "execution_count": null,
      "outputs": [
        {
          "output_type": "stream",
          "name": "stdout",
          "text": [
            "7\n"
          ]
        }
      ]
    },
    {
      "cell_type": "code",
      "source": [
        "# 반환값이 없는 함수\n",
        "def function(x):\n",
        "    y = 3 * x + 4\n",
        "    print(y)\n",
        "\n",
        "result = function(1)\n",
        "print(result) # None이 나오는 이유는 함수의 반환값이 없기 때문이다."
      ],
      "metadata": {
        "colab": {
          "base_uri": "https://localhost:8080/"
        },
        "id": "6A9Xr79LqdLK",
        "outputId": "3abeb8c7-c3e9-45cb-f56f-d3c948311c7e"
      },
      "execution_count": null,
      "outputs": [
        {
          "output_type": "stream",
          "name": "stdout",
          "text": [
            "7\n",
            "None\n"
          ]
        }
      ]
    },
    {
      "cell_type": "code",
      "source": [
        "# 입력값, 출력값 없는 함수\n",
        "def hello():\n",
        "    print('hello')"
      ],
      "metadata": {
        "id": "N-sr871VrJDO"
      },
      "execution_count": null,
      "outputs": []
    },
    {
      "cell_type": "code",
      "source": [
        "hello()"
      ],
      "metadata": {
        "colab": {
          "base_uri": "https://localhost:8080/"
        },
        "id": "CcENpT5WrO7U",
        "outputId": "10834cf6-ab1f-4469-e123-4ffdd6b2c00a"
      },
      "execution_count": null,
      "outputs": [
        {
          "output_type": "stream",
          "name": "stdout",
          "text": [
            "hello\n"
          ]
        }
      ]
    },
    {
      "cell_type": "code",
      "source": [
        "# 값을 2개 반환하는 함수\n",
        "def add_and_multiplication(x, y):\n",
        "    return x + y, x * y\n",
        "\n",
        "a = add_and_multiplication(3, 4)\n",
        "print(a) # 튜플로 반환\n",
        "a, b = add_and_multiplication(3, 4) # 결과값 여러개일때 변수에 나누어 반환\n",
        "print(a)\n",
        "print(b)"
      ],
      "metadata": {
        "colab": {
          "base_uri": "https://localhost:8080/"
        },
        "id": "RcRVRnV1rXFe",
        "outputId": "d12ce0c3-5937-43dc-f95a-5192c56a0ebf"
      },
      "execution_count": null,
      "outputs": [
        {
          "output_type": "stream",
          "name": "stdout",
          "text": [
            "(7, 12)\n",
            "7\n",
            "12\n"
          ]
        }
      ]
    },
    {
      "cell_type": "markdown",
      "source": [
        "2. 매개변수와 글로벌 변수"
      ],
      "metadata": {
        "id": "tr00fzliXSLn"
      }
    },
    {
      "cell_type": "code",
      "source": [
        "# 매개변수에 기본값 지정\n",
        "def add(a = 1, b = 3):\n",
        "    return a + b\n",
        "print(add())\n",
        "print(add(2))\n",
        "print(add(b = 2))\n",
        "print(add(a = 3, b = 2))\n",
        "#print(add(a = 3, 2)) 오류난다\n",
        "print(add(2, b = 2)) # 가능하다 - 특정 지정하고 싶은 값이 있다면 뒤쪽 매개변수에 쓰기"
      ],
      "metadata": {
        "colab": {
          "base_uri": "https://localhost:8080/"
        },
        "id": "4Su3TCe8XhcK",
        "outputId": "6610f0e0-9643-4bd8-ce1c-aee779b30f7e"
      },
      "execution_count": 7,
      "outputs": [
        {
          "output_type": "stream",
          "name": "stdout",
          "text": [
            "4\n",
            "5\n",
            "3\n",
            "5\n",
            "4\n"
          ]
        }
      ]
    },
    {
      "cell_type": "code",
      "source": [
        "# 매개변수의 입력값이 몇 개가 될 지 모를 때\n",
        "def printer(*args): # args에 들어간 변수가 tuple 형태로 변환되어 들어간다.\n",
        "    for i in args:\n",
        "        print(i)\n",
        "printer(1, 2, 3, 4)"
      ],
      "metadata": {
        "colab": {
          "base_uri": "https://localhost:8080/"
        },
        "id": "5pluC0_3YwbU",
        "outputId": "aedc9b18-c5bf-4a35-bbd9-1c84cf090d1f"
      },
      "execution_count": 8,
      "outputs": [
        {
          "output_type": "stream",
          "name": "stdout",
          "text": [
            "1\n",
            "2\n",
            "3\n",
            "4\n"
          ]
        }
      ]
    },
    {
      "cell_type": "code",
      "source": [
        "# 매개변수의 입력값이 몇 개가 될 지 모를 때2\n",
        "def printer2(**kwargs): # kwargs에 들어간 변수가 dictionary 형태로 변환되어 들어간다.\n",
        "    return kwargs\n",
        "result = printer2(a = 1, b = 2) # 반드시 매개변수 이름을 지정해 주어야 한다.\n",
        "print(result)"
      ],
      "metadata": {
        "colab": {
          "base_uri": "https://localhost:8080/"
        },
        "id": "eejg5pnqaQBP",
        "outputId": "6fcbaffd-beaa-41eb-b025-0c0e975cde0c"
      },
      "execution_count": 10,
      "outputs": [
        {
          "output_type": "stream",
          "name": "stdout",
          "text": [
            "{'a': 1, 'b': 2}\n"
          ]
        }
      ]
    },
    {
      "cell_type": "code",
      "source": [
        "# 매개변수에 전달되는값은?\n",
        "a = 3\n",
        "def test():\n",
        "    a = 2\n",
        "    print(a)\n",
        "test()\n",
        "print(a)"
      ],
      "metadata": {
        "colab": {
          "base_uri": "https://localhost:8080/"
        },
        "id": "SEMXlVwrcc_T",
        "outputId": "076ef605-59bc-483a-af55-7c1c2510daaa"
      },
      "execution_count": 11,
      "outputs": [
        {
          "output_type": "stream",
          "name": "stdout",
          "text": [
            "2\n",
            "3\n"
          ]
        }
      ]
    },
    {
      "cell_type": "code",
      "source": [
        "# 함수 내부에서 global 변수 호출\n",
        "a = 3\n",
        "def f():\n",
        "    global a\n",
        "    a += 1\n",
        "    print(a)\n",
        "f()\n",
        "print(a)"
      ],
      "metadata": {
        "colab": {
          "base_uri": "https://localhost:8080/"
        },
        "id": "S8lciXqMc_5r",
        "outputId": "86b8cd20-cc6d-485c-b7dc-e476487815a7"
      },
      "execution_count": 16,
      "outputs": [
        {
          "output_type": "stream",
          "name": "stdout",
          "text": [
            "4\n",
            "4\n"
          ]
        }
      ]
    },
    {
      "cell_type": "code",
      "source": [
        "a = 3\n",
        "def f():\n",
        "    global a\n",
        "    a = 1\n",
        "    a = a + 1\n",
        "    print(a)\n",
        "f()"
      ],
      "metadata": {
        "colab": {
          "base_uri": "https://localhost:8080/"
        },
        "id": "XaDFZjroetqr",
        "outputId": "993dc808-e354-456b-a9c9-5181976709ec"
      },
      "execution_count": 18,
      "outputs": [
        {
          "output_type": "stream",
          "name": "stdout",
          "text": [
            "2\n"
          ]
        }
      ]
    }
  ]
}