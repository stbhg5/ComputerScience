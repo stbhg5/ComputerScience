{
  "nbformat": 4,
  "nbformat_minor": 0,
  "metadata": {
    "colab": {
      "provenance": [],
      "authorship_tag": "ABX9TyN8KZcYzcysqW5dSirS10jU",
      "include_colab_link": true
    },
    "kernelspec": {
      "name": "python3",
      "display_name": "Python 3"
    },
    "language_info": {
      "name": "python"
    }
  },
  "cells": [
    {
      "cell_type": "markdown",
      "metadata": {
        "id": "view-in-github",
        "colab_type": "text"
      },
      "source": [
        "<a href=\"https://colab.research.google.com/github/stbhg5/ComputerScience/blob/main/python_ch4.ipynb\" target=\"_parent\"><img src=\"https://colab.research.google.com/assets/colab-badge.svg\" alt=\"Open In Colab\"/></a>"
      ]
    },
    {
      "cell_type": "markdown",
      "source": [
        "1. 함수란"
      ],
      "metadata": {
        "id": "y6cerD90rAia"
      }
    },
    {
      "cell_type": "code",
      "execution_count": null,
      "metadata": {
        "id": "bRaNNG9QpIrm"
      },
      "outputs": [],
      "source": [
        "# 반환값이 있는 함수\n",
        "def function(x):\n",
        "    y = 3 * x + 4\n",
        "    return y"
      ]
    },
    {
      "cell_type": "code",
      "source": [
        "function(1) # 7\n",
        "result = function(1)\n",
        "print(result)"
      ],
      "metadata": {
        "colab": {
          "base_uri": "https://localhost:8080/"
        },
        "id": "oGkGxKbCppPj",
        "outputId": "d5d0b803-5632-4cb0-f1d4-65204bc063fc"
      },
      "execution_count": null,
      "outputs": [
        {
          "output_type": "stream",
          "name": "stdout",
          "text": [
            "7\n"
          ]
        }
      ]
    },
    {
      "cell_type": "code",
      "source": [
        "# 반환값이 없는 함수\n",
        "def function(x):\n",
        "    y = 3 * x + 4\n",
        "    print(y)\n",
        "\n",
        "result = function(1)\n",
        "print(result) # None이 나오는 이유는 함수의 반환값이 없기 때문이다."
      ],
      "metadata": {
        "colab": {
          "base_uri": "https://localhost:8080/"
        },
        "id": "6A9Xr79LqdLK",
        "outputId": "3abeb8c7-c3e9-45cb-f56f-d3c948311c7e"
      },
      "execution_count": null,
      "outputs": [
        {
          "output_type": "stream",
          "name": "stdout",
          "text": [
            "7\n",
            "None\n"
          ]
        }
      ]
    },
    {
      "cell_type": "code",
      "source": [
        "# 입력값, 출력값 없는 함수\n",
        "def hello():\n",
        "    print('hello')"
      ],
      "metadata": {
        "id": "N-sr871VrJDO"
      },
      "execution_count": null,
      "outputs": []
    },
    {
      "cell_type": "code",
      "source": [
        "hello()"
      ],
      "metadata": {
        "colab": {
          "base_uri": "https://localhost:8080/"
        },
        "id": "CcENpT5WrO7U",
        "outputId": "10834cf6-ab1f-4469-e123-4ffdd6b2c00a"
      },
      "execution_count": null,
      "outputs": [
        {
          "output_type": "stream",
          "name": "stdout",
          "text": [
            "hello\n"
          ]
        }
      ]
    },
    {
      "cell_type": "code",
      "source": [
        "# 값을 2개 반환하는 함수\n",
        "def add_and_multiplication(x, y):\n",
        "    return x + y, x * y\n",
        "\n",
        "a = add_and_multiplication(3, 4)\n",
        "print(a) # 튜플로 반환\n",
        "a, b = add_and_multiplication(3, 4) # 결과값 여러개일때 변수에 나누어 반환\n",
        "print(a)\n",
        "print(b)"
      ],
      "metadata": {
        "colab": {
          "base_uri": "https://localhost:8080/"
        },
        "id": "RcRVRnV1rXFe",
        "outputId": "d12ce0c3-5937-43dc-f95a-5192c56a0ebf"
      },
      "execution_count": null,
      "outputs": [
        {
          "output_type": "stream",
          "name": "stdout",
          "text": [
            "(7, 12)\n",
            "7\n",
            "12\n"
          ]
        }
      ]
    },
    {
      "cell_type": "markdown",
      "source": [
        "2. 매개변수와 글로벌 변수"
      ],
      "metadata": {
        "id": "tr00fzliXSLn"
      }
    },
    {
      "cell_type": "code",
      "source": [
        "# 매개변수에 기본값 지정\n",
        "def add(a = 1, b = 3):\n",
        "    return a + b\n",
        "print(add())\n",
        "print(add(2))\n",
        "print(add(b = 2))\n",
        "print(add(a = 3, b = 2))\n",
        "#print(add(a = 3, 2)) 오류난다\n",
        "print(add(2, b = 2)) # 가능하다 - 특정 지정하고 싶은 값이 있다면 뒤쪽 매개변수에 쓰기"
      ],
      "metadata": {
        "colab": {
          "base_uri": "https://localhost:8080/"
        },
        "id": "4Su3TCe8XhcK",
        "outputId": "6610f0e0-9643-4bd8-ce1c-aee779b30f7e"
      },
      "execution_count": null,
      "outputs": [
        {
          "output_type": "stream",
          "name": "stdout",
          "text": [
            "4\n",
            "5\n",
            "3\n",
            "5\n",
            "4\n"
          ]
        }
      ]
    },
    {
      "cell_type": "code",
      "source": [
        "# 매개변수의 입력값이 몇 개가 될 지 모를 때\n",
        "def printer(*args): # args에 들어간 변수가 tuple 형태로 변환되어 들어간다.\n",
        "    for i in args:\n",
        "        print(i)\n",
        "printer(1, 2, 3, 4)"
      ],
      "metadata": {
        "colab": {
          "base_uri": "https://localhost:8080/"
        },
        "id": "5pluC0_3YwbU",
        "outputId": "aedc9b18-c5bf-4a35-bbd9-1c84cf090d1f"
      },
      "execution_count": null,
      "outputs": [
        {
          "output_type": "stream",
          "name": "stdout",
          "text": [
            "1\n",
            "2\n",
            "3\n",
            "4\n"
          ]
        }
      ]
    },
    {
      "cell_type": "code",
      "source": [
        "# 매개변수의 입력값이 몇 개가 될 지 모를 때2\n",
        "def printer2(**kwargs): # kwargs에 들어간 변수가 dictionary 형태로 변환되어 들어간다.\n",
        "    return kwargs\n",
        "result = printer2(a = 1, b = 2) # 반드시 매개변수 이름을 지정해 주어야 한다.\n",
        "print(result)"
      ],
      "metadata": {
        "colab": {
          "base_uri": "https://localhost:8080/"
        },
        "id": "eejg5pnqaQBP",
        "outputId": "6fcbaffd-beaa-41eb-b025-0c0e975cde0c"
      },
      "execution_count": null,
      "outputs": [
        {
          "output_type": "stream",
          "name": "stdout",
          "text": [
            "{'a': 1, 'b': 2}\n"
          ]
        }
      ]
    },
    {
      "cell_type": "code",
      "source": [
        "# 매개변수에 전달되는값은?\n",
        "a = 3\n",
        "def test():\n",
        "    a = 2\n",
        "    print(a)\n",
        "test()\n",
        "print(a)"
      ],
      "metadata": {
        "colab": {
          "base_uri": "https://localhost:8080/"
        },
        "id": "SEMXlVwrcc_T",
        "outputId": "076ef605-59bc-483a-af55-7c1c2510daaa"
      },
      "execution_count": null,
      "outputs": [
        {
          "output_type": "stream",
          "name": "stdout",
          "text": [
            "2\n",
            "3\n"
          ]
        }
      ]
    },
    {
      "cell_type": "code",
      "source": [
        "# 함수 내부에서 global 변수 호출\n",
        "a = 3\n",
        "def f():\n",
        "    global a\n",
        "    a += 1\n",
        "    print(a)\n",
        "f()\n",
        "print(a)"
      ],
      "metadata": {
        "colab": {
          "base_uri": "https://localhost:8080/"
        },
        "id": "S8lciXqMc_5r",
        "outputId": "86b8cd20-cc6d-485c-b7dc-e476487815a7"
      },
      "execution_count": null,
      "outputs": [
        {
          "output_type": "stream",
          "name": "stdout",
          "text": [
            "4\n",
            "4\n"
          ]
        }
      ]
    },
    {
      "cell_type": "code",
      "source": [
        "a = 3\n",
        "def f():\n",
        "    global a\n",
        "    a = 1\n",
        "    a = a + 1\n",
        "    print(a)\n",
        "f()"
      ],
      "metadata": {
        "colab": {
          "base_uri": "https://localhost:8080/"
        },
        "id": "XaDFZjroetqr",
        "outputId": "993dc808-e354-456b-a9c9-5181976709ec"
      },
      "execution_count": null,
      "outputs": [
        {
          "output_type": "stream",
          "name": "stdout",
          "text": [
            "2\n"
          ]
        }
      ]
    },
    {
      "cell_type": "markdown",
      "source": [
        "3. 실습"
      ],
      "metadata": {
        "id": "8z-vkOZA2W4F"
      }
    },
    {
      "cell_type": "code",
      "source": [
        "# generator와 yield\n",
        "def gen(n):\n",
        "    while n > 0:\n",
        "        yield n\n",
        "        n = n - 1\n",
        "gen(10) # <generator object gen at 0x7f581d7bb580>\n",
        "list(gen(10))\n",
        "# yield도 return 개념이지만 바로 계산하는게 아니라 특정한 지시를 내릴 때 비로소 계산해준다. (계산식 보관했다가 부르는 순간 계산)\n",
        "# 즉 gen(매개변수) 함수를 선언하자 마자 바로 계산하지 않고 호출할 때 계산하는데, list() 혹은 for문과 같은 특정 지시를 내릴 때 계산해준다."
      ],
      "metadata": {
        "colab": {
          "base_uri": "https://localhost:8080/"
        },
        "id": "-G1c83rQ2Zfb",
        "outputId": "24a4ba58-a20a-4da2-9d20-d1076c6b1ea2"
      },
      "execution_count": 2,
      "outputs": [
        {
          "output_type": "execute_result",
          "data": {
            "text/plain": [
              "[10, 9, 8, 7, 6, 5, 4, 3, 2, 1]"
            ]
          },
          "metadata": {},
          "execution_count": 2
        }
      ]
    },
    {
      "cell_type": "code",
      "source": [
        "# 거스름돈 알려주는 함수\n",
        "def calculate_change(payment, cost):\n",
        "    money = payment - cost\n",
        "    unit = [50000, 10000, 5000, 1000] # 지폐 종류\n",
        "    for i in range(len(unit)):\n",
        "        print('{}원 지페 : {}장'.format(unit[i], money // unit[i])) # //는 몫을 구한다.\n",
        "        money = money % unit[i] # 나눈 나머지 금액 들어간다.\n",
        "calculate_change(100000, 33000) # 함수 호출\n",
        "print('=================')\n",
        "calculate_change(500000, 378000)"
      ],
      "metadata": {
        "colab": {
          "base_uri": "https://localhost:8080/"
        },
        "id": "rNvVkOLU8OND",
        "outputId": "3246528f-388e-416b-af64-6123f8c675bb"
      },
      "execution_count": 3,
      "outputs": [
        {
          "output_type": "stream",
          "name": "stdout",
          "text": [
            "50000원 지페 : 1장\n",
            "10000원 지페 : 1장\n",
            "5000원 지페 : 1장\n",
            "1000원 지페 : 2장\n",
            "=================\n",
            "50000원 지페 : 2장\n",
            "10000원 지페 : 2장\n",
            "5000원 지페 : 0장\n",
            "1000원 지페 : 2장\n"
          ]
        }
      ]
    },
    {
      "cell_type": "code",
      "source": [
        "# 절댓값을 내보내주는 함수\n",
        "def abs(num):\n",
        "    # return만나면 함수가 종료됨\n",
        "    if num > 0:\n",
        "        result = num\n",
        "    else:\n",
        "        result = num * -1\n",
        "    return result\n",
        "    # return 뒤는 실행되지 않음\n",
        "    print(1)\n",
        "    print(2)\n",
        "print(abs(-7))\n",
        "print(abs(12))"
      ],
      "metadata": {
        "colab": {
          "base_uri": "https://localhost:8080/"
        },
        "id": "iH0ndiFG9zKV",
        "outputId": "eef506bc-fd6e-46ed-ed6b-292b9dc2ba3d"
      },
      "execution_count": 5,
      "outputs": [
        {
          "output_type": "stream",
          "name": "stdout",
          "text": [
            "7\n",
            "12\n"
          ]
        }
      ]
    },
    {
      "cell_type": "code",
      "source": [
        "# *는 복수의 데이터를 가진 변수\n",
        "a, *b = [1, 2, 3, 4, 5]\n",
        "print(a)\n",
        "print(b)\n",
        "*a, b = [1, 2, 3, 4, 5]\n",
        "print(a)\n",
        "print(b)\n",
        "a, *b, c = [1, 2, 3, 4, 5]\n",
        "print(a)\n",
        "print(b)\n",
        "print(c)\n",
        "# a, *b, *c = [1, 2, 3, 4, 5] b와 c에 몇개씩인지 구별못함"
      ],
      "metadata": {
        "colab": {
          "base_uri": "https://localhost:8080/"
        },
        "id": "JVyhZ3wt-cL8",
        "outputId": "b65aa1bf-9074-4618-9189-4d0de0c67c2e"
      },
      "execution_count": 6,
      "outputs": [
        {
          "output_type": "stream",
          "name": "stdout",
          "text": [
            "1\n",
            "[2, 3, 4, 5]\n",
            "[1, 2, 3, 4]\n",
            "5\n",
            "1\n",
            "[2, 3, 4]\n",
            "5\n"
          ]
        }
      ]
    },
    {
      "cell_type": "code",
      "source": [
        "# 일반변수와 *변수 같이 있을 때\n",
        "def fa(a, *k): # (*k, a) 에러난다. 매개변수와 일반변수에서 *변수 개념 약간 다르다.\n",
        "    print(a)\n",
        "    print(k)\n",
        "fa(2, 5, 6, 7, 9)\n",
        "# (*k, a)로 함수가 선언되었지만 함수 호출 시 매개변수에 특정 값을 지정하면 된다.\n",
        "def fa(*k, a):\n",
        "    print(a)\n",
        "    print(k)\n",
        "fa(2, 5, 6, 7, a = 9)"
      ],
      "metadata": {
        "colab": {
          "base_uri": "https://localhost:8080/"
        },
        "id": "G-BXphKR_KhM",
        "outputId": "4f331521-761a-46e7-9dc2-949f381be925"
      },
      "execution_count": 8,
      "outputs": [
        {
          "output_type": "stream",
          "name": "stdout",
          "text": [
            "2\n",
            "(5, 6, 7, 9)\n",
            "9\n",
            "(2, 5, 6, 7)\n"
          ]
        }
      ]
    },
    {
      "cell_type": "code",
      "source": [
        "# 초기값을 정해놓고 해당하는 매개변수 값이 없으면 초기값 사용\n",
        "# 이렇게 사용하는 것을 optional parameter\n",
        "def intro(name, age, hobby = '졸기'):\n",
        "    print('이름 :', name)\n",
        "    print('나이 :', age)\n",
        "    print('취미 :', hobby)\n",
        "intro('철수', 25, '웃기')\n",
        "intro('보미', 21)"
      ],
      "metadata": {
        "colab": {
          "base_uri": "https://localhost:8080/"
        },
        "id": "fqNMTkWF__Vk",
        "outputId": "27760451-b562-45e8-810f-642cf9014497"
      },
      "execution_count": 9,
      "outputs": [
        {
          "output_type": "stream",
          "name": "stdout",
          "text": [
            "이름 : 철수\n",
            "나이 : 25\n",
            "취미 : 웃기\n",
            "이름 : 보미\n",
            "나이 : 21\n",
            "취미 : 졸기\n"
          ]
        }
      ]
    },
    {
      "cell_type": "code",
      "source": [
        "# *변수 : 값이 여러개\n",
        "# **변수 : '키=값'형태가 여러개\n",
        "def f(height, weight, **k):\n",
        "    print('키 :', height)\n",
        "    print('몸무게 :', weight)\n",
        "    print(k)\n",
        "f(height = 182, weight = 89, age = 27, name = '강다니엘')"
      ],
      "metadata": {
        "colab": {
          "base_uri": "https://localhost:8080/"
        },
        "id": "oqxvQRHVAZ-y",
        "outputId": "47d1116e-8bf8-4181-c9e2-aed8650d9a0d"
      },
      "execution_count": 10,
      "outputs": [
        {
          "output_type": "stream",
          "name": "stdout",
          "text": [
            "키 : 182\n",
            "몸무게 : 89\n",
            "{'age': 27, 'name': '강다니엘'}\n"
          ]
        }
      ]
    },
    {
      "cell_type": "code",
      "source": [
        "# return 한 것과 안 한 것의 차이\n",
        "def sum(a, b):\n",
        "    return a + b\n",
        "def print_sum(a, b):\n",
        "    print(a + b)\n",
        "sum(2, 4)  # 이자리에 6이 들어 가지만 출력은 하지 않음\n",
        "print(sum(2, 4))  # 6을 출력\n",
        "print_sum(2, 4)  # 6을 출력\n",
        "print(print_sum(2, 4)) # 6을 출력하고 None을 출력\n",
        "# return이 없을 경우는 받는 값이 없으므로 None"
      ],
      "metadata": {
        "colab": {
          "base_uri": "https://localhost:8080/"
        },
        "id": "VtVMRWm6AtlP",
        "outputId": "c351f716-1f91-430d-de0d-83b1cef2ca59"
      },
      "execution_count": 11,
      "outputs": [
        {
          "output_type": "stream",
          "name": "stdout",
          "text": [
            "6\n",
            "6\n",
            "6\n",
            "None\n"
          ]
        }
      ]
    },
    {
      "cell_type": "code",
      "source": [
        "# 지역변수와 전역변수\n",
        "def multiply_by_two():\n",
        "    global x\n",
        "    x = x * 2\n",
        "def multiply_by_three():\n",
        "    y = 2  # local\n",
        "    y = y * 3\n",
        "x = 2\n",
        "multiply_by_two()\n",
        "# x는 global이므로 변경된 4가 출력\n",
        "print(x)\n",
        "y = 2\n",
        "multiply_by_three()\n",
        "# y는 지역함수에서 변경이 내용이 반영되지 않으므로 2\n",
        "print(y)"
      ],
      "metadata": {
        "colab": {
          "base_uri": "https://localhost:8080/"
        },
        "id": "fjzg8WWnBnse",
        "outputId": "5e7dc25f-6ef6-4122-d276-b1a0f8dacaae"
      },
      "execution_count": 12,
      "outputs": [
        {
          "output_type": "stream",
          "name": "stdout",
          "text": [
            "4\n",
            "2\n"
          ]
        }
      ]
    }
  ]
}