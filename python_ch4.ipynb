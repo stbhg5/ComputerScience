{
  "nbformat": 4,
  "nbformat_minor": 0,
  "metadata": {
    "colab": {
      "provenance": [],
      "authorship_tag": "ABX9TyNBYWh6xhDZGm+9JgnnTQGW",
      "include_colab_link": true
    },
    "kernelspec": {
      "name": "python3",
      "display_name": "Python 3"
    },
    "language_info": {
      "name": "python"
    }
  },
  "cells": [
    {
      "cell_type": "markdown",
      "metadata": {
        "id": "view-in-github",
        "colab_type": "text"
      },
      "source": [
        "<a href=\"https://colab.research.google.com/github/stbhg5/ComputerScience/blob/main/python_ch4.ipynb\" target=\"_parent\"><img src=\"https://colab.research.google.com/assets/colab-badge.svg\" alt=\"Open In Colab\"/></a>"
      ]
    },
    {
      "cell_type": "markdown",
      "source": [
        "1. 함수란"
      ],
      "metadata": {
        "id": "y6cerD90rAia"
      }
    },
    {
      "cell_type": "code",
      "execution_count": null,
      "metadata": {
        "id": "bRaNNG9QpIrm"
      },
      "outputs": [],
      "source": [
        "# 반환값이 있는 함수\n",
        "def function(x):\n",
        "    y = 3 * x + 4\n",
        "    return y"
      ]
    },
    {
      "cell_type": "code",
      "source": [
        "function(1) # 7\n",
        "result = function(1)\n",
        "print(result)"
      ],
      "metadata": {
        "colab": {
          "base_uri": "https://localhost:8080/"
        },
        "id": "oGkGxKbCppPj",
        "outputId": "d5d0b803-5632-4cb0-f1d4-65204bc063fc"
      },
      "execution_count": null,
      "outputs": [
        {
          "output_type": "stream",
          "name": "stdout",
          "text": [
            "7\n"
          ]
        }
      ]
    },
    {
      "cell_type": "code",
      "source": [
        "# 반환값이 없는 함수\n",
        "def function(x):\n",
        "    y = 3 * x + 4\n",
        "    print(y)\n",
        "\n",
        "result = function(1)\n",
        "print(result) # None이 나오는 이유는 함수의 반환값이 없기 때문이다."
      ],
      "metadata": {
        "colab": {
          "base_uri": "https://localhost:8080/"
        },
        "id": "6A9Xr79LqdLK",
        "outputId": "3abeb8c7-c3e9-45cb-f56f-d3c948311c7e"
      },
      "execution_count": null,
      "outputs": [
        {
          "output_type": "stream",
          "name": "stdout",
          "text": [
            "7\n",
            "None\n"
          ]
        }
      ]
    },
    {
      "cell_type": "code",
      "source": [
        "# 입력값, 출력값 없는 함수\n",
        "def hello():\n",
        "    print('hello')"
      ],
      "metadata": {
        "id": "N-sr871VrJDO"
      },
      "execution_count": null,
      "outputs": []
    },
    {
      "cell_type": "code",
      "source": [
        "hello()"
      ],
      "metadata": {
        "colab": {
          "base_uri": "https://localhost:8080/"
        },
        "id": "CcENpT5WrO7U",
        "outputId": "10834cf6-ab1f-4469-e123-4ffdd6b2c00a"
      },
      "execution_count": null,
      "outputs": [
        {
          "output_type": "stream",
          "name": "stdout",
          "text": [
            "hello\n"
          ]
        }
      ]
    },
    {
      "cell_type": "code",
      "source": [
        "# 값을 2개 반환하는 함수\n",
        "def add_and_multiplication(x, y):\n",
        "    return x + y, x * y\n",
        "\n",
        "a = add_and_multiplication(3, 4)\n",
        "print(a) # 튜플로 반환\n",
        "a, b = add_and_multiplication(3, 4) # 결과값 여러개일때 변수에 나누어 반환\n",
        "print(a)\n",
        "print(b)"
      ],
      "metadata": {
        "colab": {
          "base_uri": "https://localhost:8080/"
        },
        "id": "RcRVRnV1rXFe",
        "outputId": "d12ce0c3-5937-43dc-f95a-5192c56a0ebf"
      },
      "execution_count": null,
      "outputs": [
        {
          "output_type": "stream",
          "name": "stdout",
          "text": [
            "(7, 12)\n",
            "7\n",
            "12\n"
          ]
        }
      ]
    }
  ]
}