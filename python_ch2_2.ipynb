{
  "nbformat": 4,
  "nbformat_minor": 0,
  "metadata": {
    "colab": {
      "provenance": [],
      "authorship_tag": "ABX9TyNvbTXS2chgy7DkwTBAqFUq",
      "include_colab_link": true
    },
    "kernelspec": {
      "name": "python3",
      "display_name": "Python 3"
    },
    "language_info": {
      "name": "python"
    }
  },
  "cells": [
    {
      "cell_type": "markdown",
      "metadata": {
        "id": "view-in-github",
        "colab_type": "text"
      },
      "source": [
        "<a href=\"https://colab.research.google.com/github/stbhg5/ComputerScience/blob/main/python_ch2_2.ipynb\" target=\"_parent\"><img src=\"https://colab.research.google.com/assets/colab-badge.svg\" alt=\"Open In Colab\"/></a>"
      ]
    },
    {
      "cell_type": "code",
      "execution_count": 1,
      "metadata": {
        "colab": {
          "base_uri": "https://localhost:8080/"
        },
        "id": "IiyvCQD9IH4H",
        "outputId": "d864b28c-b773-4f2f-ca75-120b9dd7a428"
      },
      "outputs": [
        {
          "output_type": "stream",
          "name": "stdout",
          "text": [
            "5 5\n",
            "5 3\n"
          ]
        }
      ],
      "source": [
        "# 숫자는 이뮤터블이라 원본 안 바뀜\n",
        "x = 5  # call by value\n",
        "y = x  # 기본형은 값을 전달\n",
        "print(x, y)\n",
        "y = 3\n",
        "print(x, y)"
      ]
    },
    {
      "cell_type": "code",
      "source": [
        "# 리스트는 뮤터블이라 원본 바뀜\n",
        "x = [2,3,5,7,11] # 참조형 call by reference\n",
        "y = x            # 주소 pointer를 넘김\n",
        "y[2] = 4\n",
        "print(x)\n",
        "print(y)"
      ],
      "metadata": {
        "colab": {
          "base_uri": "https://localhost:8080/"
        },
        "id": "cGTezrlyIa27",
        "outputId": "137c5bac-94dd-4307-c8e2-17c15984e135"
      },
      "execution_count": 2,
      "outputs": [
        {
          "output_type": "stream",
          "name": "stdout",
          "text": [
            "[2, 3, 4, 7, 11]\n",
            "[2, 3, 4, 7, 11]\n"
          ]
        }
      ]
    },
    {
      "cell_type": "code",
      "source": [
        "x = [2, 3, 5, 7, 11]\n",
        "y = list(x)   # x에 있는 데이터를 가지고 와서\n",
        "              # y가 새로 만든 주소에 데이터를 저장 y[2] = 4\n",
        "y[1] = 2\n",
        "print(x)\n",
        "print(y)"
      ],
      "metadata": {
        "colab": {
          "base_uri": "https://localhost:8080/"
        },
        "id": "73aixs3DIhVz",
        "outputId": "01a23bcf-5335-46b0-e639-6264ef4571c2"
      },
      "execution_count": 3,
      "outputs": [
        {
          "output_type": "stream",
          "name": "stdout",
          "text": [
            "[2, 3, 5, 7, 11]\n",
            "[2, 2, 5, 7, 11]\n"
          ]
        }
      ]
    },
    {
      "cell_type": "code",
      "source": [
        "list = [6,4,3]\n",
        "list.append(4)\n",
        "list.append([5,6])\n",
        "print(list)\n",
        "list2 = [7, 3, 6, 2, 1]\n",
        "# sort()는 원본 데이터를 변경\n",
        "list2.sort()\n",
        "print(list2)\n",
        "list3 = [\"l\", 'a', 'c', 'b']\n",
        "list3.sort()\n",
        "print(list3)"
      ],
      "metadata": {
        "colab": {
          "base_uri": "https://localhost:8080/"
        },
        "id": "RNRsZ9cvJNBX",
        "outputId": "af5e2b5c-86fa-4fb9-9e6c-3b231da1b3c3"
      },
      "execution_count": 4,
      "outputs": [
        {
          "output_type": "stream",
          "name": "stdout",
          "text": [
            "[6, 4, 3, 4, [5, 6]]\n",
            "[1, 2, 3, 6, 7]\n",
            "['a', 'b', 'c', 'l']\n"
          ]
        }
      ]
    },
    {
      "cell_type": "code",
      "source": [
        "# key가 중복되면 앞의 데이터는 무시\n",
        "d1 = {'이름': '수지', '나이': 25, '취미': '욕하기', '나이': 12}\n",
        "print(d1)\n",
        "print(d1['나이'])\n",
        "print(d1['이름'])\n",
        "print(len(d1))\n",
        "d1['이름'] = '다혜' # 해당하는 key의 값이 변경\n",
        "print(d1['이름'])\n",
        "del d1['나이'] # key에 해당하는 데이터 삭제\n",
        "print(d1)"
      ],
      "metadata": {
        "colab": {
          "base_uri": "https://localhost:8080/"
        },
        "id": "5X_YxFXUJlek",
        "outputId": "ea46a22e-6be3-4567-f116-e48de77119dd"
      },
      "execution_count": 5,
      "outputs": [
        {
          "output_type": "stream",
          "name": "stdout",
          "text": [
            "{'이름': '수지', '나이': 12, '취미': '욕하기'}\n",
            "12\n",
            "수지\n",
            "3\n",
            "다혜\n",
            "{'이름': '다혜', '취미': '욕하기'}\n"
          ]
        }
      ]
    },
    {
      "cell_type": "code",
      "source": [
        "# copy() 예시\n",
        "d1 = {'이름': '하니', '나이': 23, '취미': '코 후비기'}\n",
        "print(d1.keys())\n",
        "print(d1.values())\n",
        "print(d1.items()) # key, value가 튜플형태로 나옴\n",
        "d2 = d1.copy()\n",
        "d1.clear()\n",
        "print(d1)\n",
        "print(d2)\n",
        "print(d2.get('이름'))\n",
        "print(d2.get('나이','대박'))\n",
        "print(d2.get('고향','대박')) # 키가 없으면 출력"
      ],
      "metadata": {
        "colab": {
          "base_uri": "https://localhost:8080/"
        },
        "id": "fZwGV9IAKBst",
        "outputId": "03d2f9d3-ccbb-45c3-fa50-76d4359e097b"
      },
      "execution_count": 6,
      "outputs": [
        {
          "output_type": "stream",
          "name": "stdout",
          "text": [
            "dict_keys(['이름', '나이', '취미'])\n",
            "dict_values(['하니', 23, '코 후비기'])\n",
            "dict_items([('이름', '하니'), ('나이', 23), ('취미', '코 후비기')])\n",
            "{}\n",
            "{'이름': '하니', '나이': 23, '취미': '코 후비기'}\n",
            "하니\n",
            "23\n",
            "대박\n"
          ]
        }
      ]
    },
    {
      "cell_type": "code",
      "source": [
        "d1 = {}\n",
        "d1['이름'] = '수지'\n",
        "d1['나이'] = 25\n",
        "print(d1)\n",
        "# 값은 리스트등 여러개 가능\n",
        "d2 = {'이름': ['철수', '영희']}\n",
        "print(d2)\n",
        "# key는 하나, 리스트는 키 불가능\n",
        "# d3 = {['이름, 나이']: '몰라'}"
      ],
      "metadata": {
        "colab": {
          "base_uri": "https://localhost:8080/"
        },
        "id": "NFh5l0RgLiA0",
        "outputId": "2279229a-93a6-42e2-ba83-8645f302d0c3"
      },
      "execution_count": 10,
      "outputs": [
        {
          "output_type": "stream",
          "name": "stdout",
          "text": [
            "{'이름': '수지', '나이': 25}\n",
            "{'이름': ['철수', '영희']}\n"
          ]
        }
      ]
    }
  ]
}