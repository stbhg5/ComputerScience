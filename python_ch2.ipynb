{
  "nbformat": 4,
  "nbformat_minor": 0,
  "metadata": {
    "colab": {
      "provenance": [],
      "authorship_tag": "ABX9TyOhCRJJynfRCkLEpynRhDf+",
      "include_colab_link": true
    },
    "kernelspec": {
      "name": "python3",
      "display_name": "Python 3"
    },
    "language_info": {
      "name": "python"
    }
  },
  "cells": [
    {
      "cell_type": "markdown",
      "metadata": {
        "id": "view-in-github",
        "colab_type": "text"
      },
      "source": [
        "<a href=\"https://colab.research.google.com/github/stbhg5/ComputerScience/blob/main/python_ch2.ipynb\" target=\"_parent\"><img src=\"https://colab.research.google.com/assets/colab-badge.svg\" alt=\"Open In Colab\"/></a>"
      ]
    },
    {
      "cell_type": "markdown",
      "source": [
        "1. 숫자형"
      ],
      "metadata": {
        "id": "2_TM4kWorB8o"
      }
    },
    {
      "cell_type": "code",
      "execution_count": null,
      "metadata": {
        "colab": {
          "base_uri": "https://localhost:8080/"
        },
        "id": "uHVyS3Kqbjwt",
        "outputId": "ddff2c5a-56cd-408f-c217-5b8b4b7d10f5"
      },
      "outputs": [
        {
          "output_type": "stream",
          "name": "stdout",
          "text": [
            "(3+4j)\n",
            "(3+4j)\n",
            "(3-4j)\n",
            "3.0\n",
            "4.0\n"
          ]
        }
      ],
      "source": [
        "c = 3 + 4j # 복소수\n",
        "print(c)\n",
        "a1 = 3\n",
        "a2 = 4\n",
        "print(complex(3, 4))\n",
        "d = c.conjugate()\n",
        "print(d)\n",
        "print(c.real)\n",
        "print(c.imag)"
      ]
    },
    {
      "cell_type": "code",
      "source": [
        "kor = 80\n",
        "eng = 75\n",
        "math = 55\n",
        "print('평균 :', (kor + eng + math) / 3)\n",
        "score = {'kor': 80, 'eng': 75, 'math': 55}\n",
        "sum = 0\n",
        "for sc in score.values():\n",
        "    sum += sc\n",
        "print('평균 :', sum / len(score))"
      ],
      "metadata": {
        "colab": {
          "base_uri": "https://localhost:8080/"
        },
        "id": "J4Z5XXo2cKQY",
        "outputId": "ef15179e-47df-4130-a526-f88381b87980"
      },
      "execution_count": null,
      "outputs": [
        {
          "output_type": "stream",
          "name": "stdout",
          "text": [
            "평균 : 70.0\n",
            "평균 : 70.0\n"
          ]
        }
      ]
    },
    {
      "cell_type": "code",
      "source": [
        "print(3 * 2 - 8 / 4) # 6 - 2.0   ★ 파이썬에서 정수와 정수 나눗셈하면 자동으로 형태가 실수로 바뀐다, 정수에서 실수를 빼면 실수가 된다.\n",
        "print(25 * 6 / 3 + 17) # 50.0 + 17\n",
        "print(39021 - 276920 / 12040)\n",
        "print(26 - 10 % 6) # 26 - 4"
      ],
      "metadata": {
        "colab": {
          "base_uri": "https://localhost:8080/"
        },
        "id": "9kQx9ErpdEa_",
        "outputId": "914ee7ac-8835-43f2-be42-e4a9dbc1d2c5"
      },
      "execution_count": null,
      "outputs": [
        {
          "output_type": "stream",
          "name": "stdout",
          "text": [
            "4.0\n",
            "67.0\n",
            "38998.0\n",
            "22\n"
          ]
        }
      ]
    },
    {
      "cell_type": "code",
      "source": [
        "def isodd(num):\n",
        "    if num % 2 == 0:\n",
        "        print('{}은 짝수'.format(num))\n",
        "    else:\n",
        "        print('{}은 홀수'.format(num))\n",
        "isodd(13)\n"
      ],
      "metadata": {
        "colab": {
          "base_uri": "https://localhost:8080/"
        },
        "id": "qpG9OUbZdnYg",
        "outputId": "48b13425-83d2-42a0-f72b-9b698dc1de72"
      },
      "execution_count": null,
      "outputs": [
        {
          "output_type": "stream",
          "name": "stdout",
          "text": [
            "13은 홀수\n"
          ]
        }
      ]
    },
    {
      "cell_type": "code",
      "source": [
        "print(12 - (5 * 7 + 1)) # 12 - 36\n",
        "print(5 * (8 + (10 - 6) / 2)) # 5 * (8 + 4 / 2) = 5 * 10.0\n",
        "print(48320 - ((365 - 5 * 9) / 16) * 987)\n",
        "print(((34 - 3 * 7) % 5 + 4) * 2) # (13 % 5 + 4) + 2 = (3 + 4) * 2"
      ],
      "metadata": {
        "colab": {
          "base_uri": "https://localhost:8080/"
        },
        "id": "Ct6f_prbezii",
        "outputId": "dc2a1afc-a128-4223-fe66-9babec748eb8"
      },
      "execution_count": null,
      "outputs": [
        {
          "output_type": "stream",
          "name": "stdout",
          "text": [
            "-24\n",
            "50.0\n",
            "28580.0\n",
            "14\n"
          ]
        }
      ]
    },
    {
      "cell_type": "code",
      "source": [
        "pin = '881120-1068234'\n",
        "birth = pin[:6]\n",
        "num = pin[7:]\n",
        "print('생년월일 :', birth)\n",
        "print('주민번호 뒷자리 :', num)"
      ],
      "metadata": {
        "colab": {
          "base_uri": "https://localhost:8080/"
        },
        "id": "S0PmzpM6fxqA",
        "outputId": "eb047b60-712e-46bd-e3e3-02e1d7dc3207"
      },
      "execution_count": null,
      "outputs": [
        {
          "output_type": "stream",
          "name": "stdout",
          "text": [
            "생년월일 : 881120\n",
            "주민번호 뒷자리 : 1068234\n"
          ]
        }
      ]
    },
    {
      "cell_type": "code",
      "source": [
        "0.1 + 0.2 # 실수 저장시 부동소수점 방식으로 근사값 저장, 근사값 0.1 + 근사값 0.2"
      ],
      "metadata": {
        "colab": {
          "base_uri": "https://localhost:8080/"
        },
        "id": "LortGTqugYlf",
        "outputId": "343bf1c4-2d3f-45cf-dcb0-2961a831458b"
      },
      "execution_count": null,
      "outputs": [
        {
          "output_type": "execute_result",
          "data": {
            "text/plain": [
              "0.30000000000000004"
            ]
          },
          "metadata": {},
          "execution_count": 10
        }
      ]
    },
    {
      "cell_type": "code",
      "source": [
        "0.3 - (0.1 + 0.2) # 10 곱하기 -17제곱"
      ],
      "metadata": {
        "colab": {
          "base_uri": "https://localhost:8080/"
        },
        "id": "ya1Z2ZH3gzt7",
        "outputId": "16cbb012-aa12-4d8c-8dd0-ee57a479fe58"
      },
      "execution_count": null,
      "outputs": [
        {
          "output_type": "execute_result",
          "data": {
            "text/plain": [
              "-5.551115123125783e-17"
            ]
          },
          "metadata": {},
          "execution_count": 11
        }
      ]
    },
    {
      "cell_type": "code",
      "source": [
        "1e7 # 10의 7제곱"
      ],
      "metadata": {
        "colab": {
          "base_uri": "https://localhost:8080/"
        },
        "id": "p1KtYaS7hVXO",
        "outputId": "cbee29dd-9721-4e2e-81e6-5cd54b6cdfdf"
      },
      "execution_count": null,
      "outputs": [
        {
          "output_type": "execute_result",
          "data": {
            "text/plain": [
              "10000000.0"
            ]
          },
          "metadata": {},
          "execution_count": 12
        }
      ]
    },
    {
      "cell_type": "code",
      "source": [
        "1e-2 # 10의 -2제곱"
      ],
      "metadata": {
        "colab": {
          "base_uri": "https://localhost:8080/"
        },
        "id": "HWEJhZv0heXs",
        "outputId": "7b06b659-d692-4438-913a-bc338c8fa979"
      },
      "execution_count": null,
      "outputs": [
        {
          "output_type": "execute_result",
          "data": {
            "text/plain": [
              "0.01"
            ]
          },
          "metadata": {},
          "execution_count": 13
        }
      ]
    },
    {
      "cell_type": "code",
      "source": [
        "1e0 # 10의 0제곱"
      ],
      "metadata": {
        "colab": {
          "base_uri": "https://localhost:8080/"
        },
        "id": "gU585ZRshpXO",
        "outputId": "d515511e-d0a8-4ee9-cba2-3df0ca9e3454"
      },
      "execution_count": null,
      "outputs": [
        {
          "output_type": "execute_result",
          "data": {
            "text/plain": [
              "1.0"
            ]
          },
          "metadata": {},
          "execution_count": 18
        }
      ]
    },
    {
      "cell_type": "markdown",
      "source": [
        "2. 문자형"
      ],
      "metadata": {
        "id": "FX3akvR1rF5D"
      }
    },
    {
      "cell_type": "code",
      "source": [
        "print('\\') # 하나는 나오지 않는다."
      ],
      "metadata": {
        "colab": {
          "base_uri": "https://localhost:8080/",
          "height": 137
        },
        "id": "bp2jILn0pvEo",
        "outputId": "5f48e590-eda9-406c-c271-299d2a22e77f"
      },
      "execution_count": null,
      "outputs": [
        {
          "output_type": "error",
          "ename": "SyntaxError",
          "evalue": "ignored",
          "traceback": [
            "\u001b[0;36m  File \u001b[0;32m\"<ipython-input-10-f55ef80fe656>\"\u001b[0;36m, line \u001b[0;32m1\u001b[0m\n\u001b[0;31m    print('\\') # 하나는 나오지 않는다.\u001b[0m\n\u001b[0m                             ^\u001b[0m\n\u001b[0;31mSyntaxError\u001b[0m\u001b[0;31m:\u001b[0m EOL while scanning string literal\n"
          ]
        }
      ]
    },
    {
      "cell_type": "code",
      "source": [
        "print('\\\\')"
      ],
      "metadata": {
        "colab": {
          "base_uri": "https://localhost:8080/"
        },
        "id": "Y0iLPaJnp94x",
        "outputId": "9c3768e4-0849-4002-9842-6e345a5e61d8"
      },
      "execution_count": null,
      "outputs": [
        {
          "output_type": "stream",
          "name": "stdout",
          "text": [
            "\\\n"
          ]
        }
      ]
    },
    {
      "cell_type": "code",
      "source": [
        "a = 'hello \\'world'\n",
        "print(a)"
      ],
      "metadata": {
        "colab": {
          "base_uri": "https://localhost:8080/"
        },
        "id": "5UNyfmsCqlC4",
        "outputId": "f3f7b874-aec6-4346-d9e3-014651e9498a"
      },
      "execution_count": null,
      "outputs": [
        {
          "output_type": "stream",
          "name": "stdout",
          "text": [
            "hello 'world\n"
          ]
        }
      ]
    },
    {
      "cell_type": "code",
      "source": [
        "a = 'hello \\n world'\n",
        "print(a)\n",
        "a = 'hello \\t world'\n",
        "print(a)"
      ],
      "metadata": {
        "colab": {
          "base_uri": "https://localhost:8080/"
        },
        "id": "rzmTqOhrrPEE",
        "outputId": "4a35b3f7-f859-48d7-c242-6c2bc1ffe2cc"
      },
      "execution_count": null,
      "outputs": [
        {
          "output_type": "stream",
          "name": "stdout",
          "text": [
            "hello \n",
            " world\n",
            "hello \t world\n"
          ]
        }
      ]
    },
    {
      "cell_type": "code",
      "source": [
        "print('hello' + 'world')\n",
        "print('hello' * 3)"
      ],
      "metadata": {
        "colab": {
          "base_uri": "https://localhost:8080/"
        },
        "id": "_J1L4tlfrnoN",
        "outputId": "4a90625b-0cfd-4288-8bb3-06d053ffbfd8"
      },
      "execution_count": null,
      "outputs": [
        {
          "output_type": "stream",
          "name": "stdout",
          "text": [
            "helloworld\n",
            "hellohellohello\n"
          ]
        }
      ]
    },
    {
      "cell_type": "code",
      "source": [
        "A = 'Life is short, you need python'\n",
        "A[0] # L\n",
        "A[-1] # n\n",
        "A[-2] # o\n",
        "A[0:4] # Life\n",
        "A[5:] # is short, you need python\n",
        "A[:10] # Life is sh\n",
        "A[2:-2] # fe is short, you need pyth\n",
        "A[0] = 'R' # 오류생긴다. A라는 문자열은 통째로 저장되어 데이터를 변경할 수 없다."
      ],
      "metadata": {
        "colab": {
          "base_uri": "https://localhost:8080/",
          "height": 211
        },
        "id": "09JvN6mrsSOU",
        "outputId": "222dc807-699b-4ff7-dcb0-b8643966dbcf"
      },
      "execution_count": null,
      "outputs": [
        {
          "output_type": "error",
          "ename": "TypeError",
          "evalue": "ignored",
          "traceback": [
            "\u001b[0;31m---------------------------------------------------------------------------\u001b[0m",
            "\u001b[0;31mTypeError\u001b[0m                                 Traceback (most recent call last)",
            "\u001b[0;32m<ipython-input-21-4c4199b96844>\u001b[0m in \u001b[0;36m<module>\u001b[0;34m\u001b[0m\n\u001b[1;32m      7\u001b[0m \u001b[0mA\u001b[0m\u001b[0;34m[\u001b[0m\u001b[0;34m:\u001b[0m\u001b[0;36m10\u001b[0m\u001b[0;34m]\u001b[0m \u001b[0;31m# Life is sh\u001b[0m\u001b[0;34m\u001b[0m\u001b[0;34m\u001b[0m\u001b[0m\n\u001b[1;32m      8\u001b[0m \u001b[0mA\u001b[0m\u001b[0;34m[\u001b[0m\u001b[0;36m2\u001b[0m\u001b[0;34m:\u001b[0m\u001b[0;34m-\u001b[0m\u001b[0;36m2\u001b[0m\u001b[0;34m]\u001b[0m \u001b[0;31m# fe is short, you need pyth\u001b[0m\u001b[0;34m\u001b[0m\u001b[0;34m\u001b[0m\u001b[0m\n\u001b[0;32m----> 9\u001b[0;31m \u001b[0mA\u001b[0m\u001b[0;34m[\u001b[0m\u001b[0;36m0\u001b[0m\u001b[0;34m]\u001b[0m \u001b[0;34m=\u001b[0m \u001b[0;34m'R'\u001b[0m\u001b[0;34m\u001b[0m\u001b[0;34m\u001b[0m\u001b[0m\n\u001b[0m",
            "\u001b[0;31mTypeError\u001b[0m: 'str' object does not support item assignment"
          ]
        }
      ]
    },
    {
      "cell_type": "code",
      "source": [
        "len('Life is short') # 13"
      ],
      "metadata": {
        "colab": {
          "base_uri": "https://localhost:8080/"
        },
        "id": "Wx3ur6DMuOJ8",
        "outputId": "a96811fe-d388-44b9-8c35-9ddb795e05c6"
      },
      "execution_count": null,
      "outputs": [
        {
          "output_type": "execute_result",
          "data": {
            "text/plain": [
              "13"
            ]
          },
          "metadata": {},
          "execution_count": 22
        }
      ]
    },
    {
      "cell_type": "code",
      "source": [
        "'life is short'.startswith('life') # True\n",
        "'life is short'.startswith('wife') # False"
      ],
      "metadata": {
        "colab": {
          "base_uri": "https://localhost:8080/"
        },
        "id": "1SblW3OtuYZc",
        "outputId": "b2934fd0-ddd3-4479-b3d5-75eb962a34e6"
      },
      "execution_count": null,
      "outputs": [
        {
          "output_type": "execute_result",
          "data": {
            "text/plain": [
              "False"
            ]
          },
          "metadata": {},
          "execution_count": 24
        }
      ]
    },
    {
      "cell_type": "code",
      "source": [
        "'life is short'.endswith('short') # True\n",
        "'life is short'.endswith('tall') # False"
      ],
      "metadata": {
        "colab": {
          "base_uri": "https://localhost:8080/"
        },
        "id": "fkgmi3Syumck",
        "outputId": "97dfe5fa-f9d7-4f4b-a53d-890205d07805"
      },
      "execution_count": null,
      "outputs": [
        {
          "output_type": "execute_result",
          "data": {
            "text/plain": [
              "False"
            ]
          },
          "metadata": {},
          "execution_count": 26
        }
      ]
    },
    {
      "cell_type": "code",
      "source": [
        "'life is short'.find('tall') # -1\n",
        "'life is short'.find('is') # 5(시작 index 반환)"
      ],
      "metadata": {
        "colab": {
          "base_uri": "https://localhost:8080/"
        },
        "id": "XHkXMG84u0Uw",
        "outputId": "717698f4-c035-4f32-e96e-35fe574d82fa"
      },
      "execution_count": null,
      "outputs": [
        {
          "output_type": "execute_result",
          "data": {
            "text/plain": [
              "5"
            ]
          },
          "metadata": {},
          "execution_count": 28
        }
      ]
    },
    {
      "cell_type": "code",
      "source": [
        "'life is short'.count('l') # 1\n",
        "'life is short'.count('i') # 2"
      ],
      "metadata": {
        "colab": {
          "base_uri": "https://localhost:8080/"
        },
        "id": "F4-fDDfGvPYU",
        "outputId": "7c0665a2-eca7-4b29-d27e-7d7b0172efa1"
      },
      "execution_count": null,
      "outputs": [
        {
          "output_type": "execute_result",
          "data": {
            "text/plain": [
              "2"
            ]
          },
          "metadata": {},
          "execution_count": 30
        }
      ]
    },
    {
      "cell_type": "code",
      "source": [
        "'       life is short             '.strip() # life is short"
      ],
      "metadata": {
        "colab": {
          "base_uri": "https://localhost:8080/",
          "height": 35
        },
        "id": "lm1JgCQNvYp7",
        "outputId": "715cf6c3-a25c-4d0c-ccf7-7ce7964187f0"
      },
      "execution_count": null,
      "outputs": [
        {
          "output_type": "execute_result",
          "data": {
            "text/plain": [
              "'life is short'"
            ],
            "application/vnd.google.colaboratory.intrinsic+json": {
              "type": "string"
            }
          },
          "metadata": {},
          "execution_count": 32
        }
      ]
    },
    {
      "cell_type": "code",
      "source": [
        "'지금은 {}시 입니다.'.format(7) # 지금은 7시 입니다."
      ],
      "metadata": {
        "colab": {
          "base_uri": "https://localhost:8080/",
          "height": 35
        },
        "id": "3qUZXBTHw88l",
        "outputId": "c24dd8ac-03af-4b9a-d1c4-5fc6b24067fd"
      },
      "execution_count": null,
      "outputs": [
        {
          "output_type": "execute_result",
          "data": {
            "text/plain": [
              "'지금은 7시 입니다.'"
            ],
            "application/vnd.google.colaboratory.intrinsic+json": {
              "type": "string"
            }
          },
          "metadata": {},
          "execution_count": 33
        }
      ]
    },
    {
      "cell_type": "code",
      "source": [
        "'지금은 {}시 {}분 입니다.'.format(7, 30) # 지금은 7시 30분 입니다."
      ],
      "metadata": {
        "colab": {
          "base_uri": "https://localhost:8080/",
          "height": 35
        },
        "id": "0REapaezxGG-",
        "outputId": "7565977c-5511-4858-8fd2-1a7f57c82269"
      },
      "execution_count": null,
      "outputs": [
        {
          "output_type": "execute_result",
          "data": {
            "text/plain": [
              "'지금은 7시 30분 입니다.'"
            ],
            "application/vnd.google.colaboratory.intrinsic+json": {
              "type": "string"
            }
          },
          "metadata": {},
          "execution_count": 34
        }
      ]
    },
    {
      "cell_type": "code",
      "source": [
        "'지금은 %d시 %d분 입니다.' %(7, 30) # 지금은 7시 30분 입니다."
      ],
      "metadata": {
        "colab": {
          "base_uri": "https://localhost:8080/",
          "height": 35
        },
        "id": "JN68iT-uxNB8",
        "outputId": "310cf985-00fa-4adf-8a2b-04c6c51c75e9"
      },
      "execution_count": null,
      "outputs": [
        {
          "output_type": "execute_result",
          "data": {
            "text/plain": [
              "'지금은 7시 30분 입니다.'"
            ],
            "application/vnd.google.colaboratory.intrinsic+json": {
              "type": "string"
            }
          },
          "metadata": {},
          "execution_count": 35
        }
      ]
    },
    {
      "cell_type": "code",
      "source": [
        "'지금은 {time}시 {minute}분 입니다.'.format(time = 7, minute = 30) # 명시적으로 표현할 때"
      ],
      "metadata": {
        "colab": {
          "base_uri": "https://localhost:8080/",
          "height": 35
        },
        "id": "VRzL1sfkxag1",
        "outputId": "27977caa-aa80-493b-81c4-baba9352ba6f"
      },
      "execution_count": null,
      "outputs": [
        {
          "output_type": "execute_result",
          "data": {
            "text/plain": [
              "'지금은 7시 30분 입니다.'"
            ],
            "application/vnd.google.colaboratory.intrinsic+json": {
              "type": "string"
            }
          },
          "metadata": {},
          "execution_count": 36
        }
      ]
    },
    {
      "cell_type": "code",
      "source": [
        "str(3) # 문자 3"
      ],
      "metadata": {
        "colab": {
          "base_uri": "https://localhost:8080/",
          "height": 35
        },
        "id": "mrjlviEPx2Yz",
        "outputId": "40c4175d-d44b-4e6a-ee34-51f9b2213726"
      },
      "execution_count": null,
      "outputs": [
        {
          "output_type": "execute_result",
          "data": {
            "text/plain": [
              "'3'"
            ],
            "application/vnd.google.colaboratory.intrinsic+json": {
              "type": "string"
            }
          },
          "metadata": {},
          "execution_count": 37
        }
      ]
    },
    {
      "cell_type": "code",
      "source": [
        "int('1990') # 숫자 1990"
      ],
      "metadata": {
        "colab": {
          "base_uri": "https://localhost:8080/"
        },
        "id": "I3S09ehbx7pt",
        "outputId": "9c6e73e5-f7c7-4412-eac9-b118e6c2f172"
      },
      "execution_count": null,
      "outputs": [
        {
          "output_type": "execute_result",
          "data": {
            "text/plain": [
              "1990"
            ]
          },
          "metadata": {},
          "execution_count": 38
        }
      ]
    },
    {
      "cell_type": "code",
      "source": [
        "int('1990년') # 숫자가 아닌 문자를 숫자로 변하게 하면 에러남."
      ],
      "metadata": {
        "colab": {
          "base_uri": "https://localhost:8080/",
          "height": 174
        },
        "id": "cRMry5EQyCMn",
        "outputId": "88bd311d-f42b-4c7c-9522-e11519f8a0ef"
      },
      "execution_count": null,
      "outputs": [
        {
          "output_type": "error",
          "ename": "ValueError",
          "evalue": "ignored",
          "traceback": [
            "\u001b[0;31m---------------------------------------------------------------------------\u001b[0m",
            "\u001b[0;31mValueError\u001b[0m                                Traceback (most recent call last)",
            "\u001b[0;32m<ipython-input-39-ae154195978e>\u001b[0m in \u001b[0;36m<module>\u001b[0;34m\u001b[0m\n\u001b[0;32m----> 1\u001b[0;31m \u001b[0mint\u001b[0m\u001b[0;34m(\u001b[0m\u001b[0;34m'1990년'\u001b[0m\u001b[0;34m)\u001b[0m\u001b[0;34m\u001b[0m\u001b[0;34m\u001b[0m\u001b[0m\n\u001b[0m",
            "\u001b[0;31mValueError\u001b[0m: invalid literal for int() with base 10: '1990년'"
          ]
        }
      ]
    },
    {
      "cell_type": "code",
      "source": [
        "int('1990.2352523') # 정수로 바꾸려 하면 에러남. 실수이기 때문."
      ],
      "metadata": {
        "colab": {
          "base_uri": "https://localhost:8080/",
          "height": 174
        },
        "id": "eH1pIDFzyK2O",
        "outputId": "f29d6e41-3c9d-42ed-f8fd-55a385e33294"
      },
      "execution_count": null,
      "outputs": [
        {
          "output_type": "error",
          "ename": "ValueError",
          "evalue": "ignored",
          "traceback": [
            "\u001b[0;31m---------------------------------------------------------------------------\u001b[0m",
            "\u001b[0;31mValueError\u001b[0m                                Traceback (most recent call last)",
            "\u001b[0;32m<ipython-input-40-cbd423820908>\u001b[0m in \u001b[0;36m<module>\u001b[0;34m\u001b[0m\n\u001b[0;32m----> 1\u001b[0;31m \u001b[0mint\u001b[0m\u001b[0;34m(\u001b[0m\u001b[0;34m'1990.2352523'\u001b[0m\u001b[0;34m)\u001b[0m\u001b[0;34m\u001b[0m\u001b[0;34m\u001b[0m\u001b[0m\n\u001b[0m",
            "\u001b[0;31mValueError\u001b[0m: invalid literal for int() with base 10: '1990.2352523'"
          ]
        }
      ]
    },
    {
      "cell_type": "code",
      "source": [
        "float('1990.2352523') # 실수 1990.2352523"
      ],
      "metadata": {
        "colab": {
          "base_uri": "https://localhost:8080/"
        },
        "id": "Nx1dUHzxyU-5",
        "outputId": "5368b6a9-b9de-415a-efc1-a2212469e8bd"
      },
      "execution_count": null,
      "outputs": [
        {
          "output_type": "execute_result",
          "data": {
            "text/plain": [
              "1990.2352523"
            ]
          },
          "metadata": {},
          "execution_count": 41
        }
      ]
    },
    {
      "cell_type": "markdown",
      "source": [
        "3. 순서형"
      ],
      "metadata": {
        "id": "sw_8o7aBiuWt"
      }
    },
    {
      "cell_type": "code",
      "source": [
        "a = [1, 2, 3, 4] # [1, 2, 3, 4]를 메모리에 저장, 메모리 값의 이름이 a 변수\n",
        "print(a)\n",
        "print(a[1])\n",
        "print(a[1:3]) # 요소가 아닌 a list의 서브 list를 반환 - 문자열 슬라이싱과 약간의 차이가 있다."
      ],
      "metadata": {
        "colab": {
          "base_uri": "https://localhost:8080/"
        },
        "id": "28HtxnNChy7R",
        "outputId": "4d1e4ccf-7ec9-42e6-e3f3-bf982c2a06c5"
      },
      "execution_count": 4,
      "outputs": [
        {
          "output_type": "stream",
          "name": "stdout",
          "text": [
            "[1, 2, 3, 4]\n",
            "2\n",
            "[2, 3]\n"
          ]
        }
      ]
    },
    {
      "cell_type": "code",
      "source": [
        "a = [1,2, 3, [4, 5, 6]]\n",
        "print(a[3])\n",
        "print(a[3][2])\n",
        "print(a[3][1:3])"
      ],
      "metadata": {
        "colab": {
          "base_uri": "https://localhost:8080/"
        },
        "id": "o3-HTmzQixod",
        "outputId": "c508327d-fa0f-4c2d-831e-058b653e6060"
      },
      "execution_count": 7,
      "outputs": [
        {
          "output_type": "stream",
          "name": "stdout",
          "text": [
            "[4, 5, 6]\n",
            "6\n",
            "[5, 6]\n"
          ]
        }
      ]
    },
    {
      "cell_type": "code",
      "source": [
        "# 리스트는 수정가능 : 뮤터블\n",
        "# 리스트 관련 함수들\n",
        "a = [1, 2, 3, 4]\n",
        "a.append(5)\n",
        "print(a)\n",
        "a = [4, 2, 3, 1, 5]\n",
        "a.sort()\n",
        "print(a)\n",
        "a.reverse()\n",
        "print(a)\n",
        "a.index(3)\n",
        "a.index(4)\n",
        "# a.index(25) # 없기 때문에 에러\n",
        "del a[2]\n",
        "print(a)"
      ],
      "metadata": {
        "colab": {
          "base_uri": "https://localhost:8080/"
        },
        "id": "lrqWR7jdjOIu",
        "outputId": "d1f1a8c7-a8c3-4c7c-ae4b-ef8c80e34312"
      },
      "execution_count": 17,
      "outputs": [
        {
          "output_type": "stream",
          "name": "stdout",
          "text": [
            "[1, 2, 3, 4, 5]\n",
            "[1, 2, 3, 4, 5]\n",
            "[5, 4, 3, 2, 1]\n",
            "[5, 4, 2, 1]\n"
          ]
        }
      ]
    },
    {
      "cell_type": "code",
      "source": [
        "a = [1, 2, 3, 4]\n",
        "b = [5, 6, 7, 8]\n",
        "print(a + b)\n",
        "print(a * 3)\n",
        "print(len(a))"
      ],
      "metadata": {
        "colab": {
          "base_uri": "https://localhost:8080/"
        },
        "id": "_xfbx99ckjzR",
        "outputId": "8042a479-67b8-4d66-ab8c-3df35a5131c0"
      },
      "execution_count": 20,
      "outputs": [
        {
          "output_type": "stream",
          "name": "stdout",
          "text": [
            "[1, 2, 3, 4, 5, 6, 7, 8]\n",
            "[1, 2, 3, 4, 1, 2, 3, 4, 1, 2, 3, 4]\n",
            "4\n"
          ]
        }
      ]
    },
    {
      "cell_type": "code",
      "source": [
        "a = [3, 1, 2, 4]\n",
        "print(sorted(a))\n",
        "print(a)\n",
        "a.sort()\n",
        "print(a.sort()) # 실제 정렬하는 작업이기 때문\n",
        "print(a)"
      ],
      "metadata": {
        "colab": {
          "base_uri": "https://localhost:8080/"
        },
        "id": "wlhkOzyUloUz",
        "outputId": "25aa4338-f734-41de-885c-669bb9c59b40"
      },
      "execution_count": 24,
      "outputs": [
        {
          "output_type": "stream",
          "name": "stdout",
          "text": [
            "[1, 2, 3, 4]\n",
            "[3, 1, 2, 4]\n",
            "None\n",
            "[1, 2, 3, 4]\n"
          ]
        }
      ]
    },
    {
      "cell_type": "code",
      "source": [
        "a = (1, 2, 3, 4)\n",
        "a[2] = 3 # 오류가 난다. 튜플은 이뮤터블 자료구조"
      ],
      "metadata": {
        "colab": {
          "base_uri": "https://localhost:8080/",
          "height": 193
        },
        "id": "8iZJ85O2nTic",
        "outputId": "dfd51997-7bdc-4db5-c273-10b24d2dea93"
      },
      "execution_count": 25,
      "outputs": [
        {
          "output_type": "error",
          "ename": "TypeError",
          "evalue": "ignored",
          "traceback": [
            "\u001b[0;31m---------------------------------------------------------------------------\u001b[0m",
            "\u001b[0;31mTypeError\u001b[0m                                 Traceback (most recent call last)",
            "\u001b[0;32m<ipython-input-25-8e3f7bdfda84>\u001b[0m in \u001b[0;36m<module>\u001b[0;34m\u001b[0m\n\u001b[1;32m      1\u001b[0m \u001b[0ma\u001b[0m \u001b[0;34m=\u001b[0m \u001b[0;34m(\u001b[0m\u001b[0;36m1\u001b[0m\u001b[0;34m,\u001b[0m \u001b[0;36m2\u001b[0m\u001b[0;34m,\u001b[0m \u001b[0;36m3\u001b[0m\u001b[0;34m,\u001b[0m \u001b[0;36m4\u001b[0m\u001b[0;34m)\u001b[0m\u001b[0;34m\u001b[0m\u001b[0;34m\u001b[0m\u001b[0m\n\u001b[0;32m----> 2\u001b[0;31m \u001b[0ma\u001b[0m\u001b[0;34m[\u001b[0m\u001b[0;36m2\u001b[0m\u001b[0;34m]\u001b[0m \u001b[0;34m=\u001b[0m \u001b[0;36m3\u001b[0m\u001b[0;34m\u001b[0m\u001b[0;34m\u001b[0m\u001b[0m\n\u001b[0m",
            "\u001b[0;31mTypeError\u001b[0m: 'tuple' object does not support item assignment"
          ]
        }
      ]
    },
    {
      "cell_type": "code",
      "source": [
        "a = {1, 2, 3}\n",
        "# a[1] # 순서 없기 때문에 인덱싱, 슬라이승 불가\n",
        "a = set([1, 2, 3, 4])\n",
        "print(a)\n",
        "a = 'hello world'\n",
        "print(set(a)) # 중복 허용하지 않고 순서도 꼬임\n",
        "a = [3, 1, 12, 4]\n",
        "print(set(a)) # 순서가 바뀐다."
      ],
      "metadata": {
        "colab": {
          "base_uri": "https://localhost:8080/"
        },
        "id": "pEwdrDtbnybI",
        "outputId": "182ae86a-eb6c-4f3c-cd92-d123639b50df"
      },
      "execution_count": 32,
      "outputs": [
        {
          "output_type": "stream",
          "name": "stdout",
          "text": [
            "{1, 2, 3, 4}\n",
            "{'o', ' ', 'r', 'e', 'd', 'w', 'h', 'l'}\n",
            "{1, 3, 12, 4}\n"
          ]
        }
      ]
    },
    {
      "cell_type": "code",
      "source": [
        "a = {1, 2, 3}\n",
        "b = {3, 4, 5}\n",
        "a.add(4)\n",
        "print(a)\n",
        "a.clear()\n",
        "print(a) # set()"
      ],
      "metadata": {
        "colab": {
          "base_uri": "https://localhost:8080/"
        },
        "id": "rMhAEm-woz14",
        "outputId": "a4fb1a72-240b-4d05-a0b5-89d921d09fed"
      },
      "execution_count": 35,
      "outputs": [
        {
          "output_type": "stream",
          "name": "stdout",
          "text": [
            "{1, 2, 3, 4}\n",
            "set()\n"
          ]
        }
      ]
    },
    {
      "cell_type": "code",
      "source": [
        "a = {1, 2, 3}\n",
        "b = {3, 4, 5}\n",
        "print(a.union(b)) # 합집합\n",
        "print(a.intersection(b)) # 교집합\n",
        "print(a.difference(b)) # 차집합"
      ],
      "metadata": {
        "colab": {
          "base_uri": "https://localhost:8080/"
        },
        "id": "1CCKnLjxpPiO",
        "outputId": "80abdacc-0453-45b3-a741-25ea173400b5"
      },
      "execution_count": 46,
      "outputs": [
        {
          "output_type": "stream",
          "name": "stdout",
          "text": [
            "{1, 2, 3, 4, 5}\n",
            "{3}\n",
            "{1, 2}\n"
          ]
        }
      ]
    },
    {
      "cell_type": "code",
      "source": [
        "# 형변환\n",
        "a = {1, 2, 3}\n",
        "print(list(a)) # 리스트로 형변환\n",
        "print(tuple(a)) # 튜플로 형변환"
      ],
      "metadata": {
        "colab": {
          "base_uri": "https://localhost:8080/"
        },
        "id": "AzBSAPQmqBQR",
        "outputId": "f0e29f5a-d8ba-4398-a504-7becb987dc0f"
      },
      "execution_count": 48,
      "outputs": [
        {
          "output_type": "stream",
          "name": "stdout",
          "text": [
            "[1, 2, 3]\n",
            "(1, 2, 3)\n"
          ]
        }
      ]
    }
  ]
}