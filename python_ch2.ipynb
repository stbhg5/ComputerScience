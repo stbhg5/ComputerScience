{
  "nbformat": 4,
  "nbformat_minor": 0,
  "metadata": {
    "colab": {
      "provenance": [],
      "authorship_tag": "ABX9TyMtehgaOY8nMpQIVv0Jnitw",
      "include_colab_link": true
    },
    "kernelspec": {
      "name": "python3",
      "display_name": "Python 3"
    },
    "language_info": {
      "name": "python"
    }
  },
  "cells": [
    {
      "cell_type": "markdown",
      "metadata": {
        "id": "view-in-github",
        "colab_type": "text"
      },
      "source": [
        "<a href=\"https://colab.research.google.com/github/stbhg5/ComputerScience/blob/main/python_ch2.ipynb\" target=\"_parent\"><img src=\"https://colab.research.google.com/assets/colab-badge.svg\" alt=\"Open In Colab\"/></a>"
      ]
    },
    {
      "cell_type": "code",
      "execution_count": 3,
      "metadata": {
        "colab": {
          "base_uri": "https://localhost:8080/"
        },
        "id": "uHVyS3Kqbjwt",
        "outputId": "ddff2c5a-56cd-408f-c217-5b8b4b7d10f5"
      },
      "outputs": [
        {
          "output_type": "stream",
          "name": "stdout",
          "text": [
            "(3+4j)\n",
            "(3+4j)\n",
            "(3-4j)\n",
            "3.0\n",
            "4.0\n"
          ]
        }
      ],
      "source": [
        "c = 3 + 4j # 복소수\n",
        "print(c)\n",
        "a1 = 3\n",
        "a2 = 4\n",
        "print(complex(3, 4))\n",
        "d = c.conjugate()\n",
        "print(d)\n",
        "print(c.real)\n",
        "print(c.imag)"
      ]
    },
    {
      "cell_type": "code",
      "source": [
        "kor = 80\n",
        "eng = 75\n",
        "math = 55\n",
        "print('평균 :', (kor + eng + math) / 3)\n",
        "score = {'kor': 80, 'eng': 75, 'math': 55}\n",
        "sum = 0\n",
        "for sc in score.values():\n",
        "    sum += sc\n",
        "print('평균 :', sum / len(score))"
      ],
      "metadata": {
        "colab": {
          "base_uri": "https://localhost:8080/"
        },
        "id": "J4Z5XXo2cKQY",
        "outputId": "ef15179e-47df-4130-a526-f88381b87980"
      },
      "execution_count": 2,
      "outputs": [
        {
          "output_type": "stream",
          "name": "stdout",
          "text": [
            "평균 : 70.0\n",
            "평균 : 70.0\n"
          ]
        }
      ]
    },
    {
      "cell_type": "code",
      "source": [
        "print(3 * 2 - 8 / 4) # 6 - 2.0   ★ 파이썬에서 정수와 정수 나눗셈하면 자동으로 형태가 실수로 바뀐다, 정수에서 실수를 빼면 실수가 된다.\n",
        "print(25 * 6 / 3 + 17) # 50.0 + 17\n",
        "print(39021 - 276920 / 12040)\n",
        "print(26 - 10 % 6) # 26 - 4"
      ],
      "metadata": {
        "colab": {
          "base_uri": "https://localhost:8080/"
        },
        "id": "9kQx9ErpdEa_",
        "outputId": "914ee7ac-8835-43f2-be42-e4a9dbc1d2c5"
      },
      "execution_count": 4,
      "outputs": [
        {
          "output_type": "stream",
          "name": "stdout",
          "text": [
            "4.0\n",
            "67.0\n",
            "38998.0\n",
            "22\n"
          ]
        }
      ]
    },
    {
      "cell_type": "code",
      "source": [
        "def isodd(num):\n",
        "    if num % 2 == 0:\n",
        "        print('{}은 짝수'.format(num))\n",
        "    else:\n",
        "        print('{}은 홀수'.format(num))\n",
        "isodd(13)\n"
      ],
      "metadata": {
        "colab": {
          "base_uri": "https://localhost:8080/"
        },
        "id": "qpG9OUbZdnYg",
        "outputId": "48b13425-83d2-42a0-f72b-9b698dc1de72"
      },
      "execution_count": 6,
      "outputs": [
        {
          "output_type": "stream",
          "name": "stdout",
          "text": [
            "13은 홀수\n"
          ]
        }
      ]
    },
    {
      "cell_type": "code",
      "source": [
        "print(12 - (5 * 7 + 1)) # 12 - 36\n",
        "print(5 * (8 + (10 - 6) / 2)) # 5 * (8 + 4 / 2) = 5 * 10.0\n",
        "print(48320 - ((365 - 5 * 9) / 16) * 987)\n",
        "print(((34 - 3 * 7) % 5 + 4) * 2) # (13 % 5 + 4) + 2 = (3 + 4) * 2"
      ],
      "metadata": {
        "colab": {
          "base_uri": "https://localhost:8080/"
        },
        "id": "Ct6f_prbezii",
        "outputId": "dc2a1afc-a128-4223-fe66-9babec748eb8"
      },
      "execution_count": 8,
      "outputs": [
        {
          "output_type": "stream",
          "name": "stdout",
          "text": [
            "-24\n",
            "50.0\n",
            "28580.0\n",
            "14\n"
          ]
        }
      ]
    },
    {
      "cell_type": "code",
      "source": [
        "pin = '881120-1068234'\n",
        "birth = pin[:6]\n",
        "num = pin[7:]\n",
        "print('생년월일 :', birth)\n",
        "print('주민번호 뒷자리 :', num)"
      ],
      "metadata": {
        "colab": {
          "base_uri": "https://localhost:8080/"
        },
        "id": "S0PmzpM6fxqA",
        "outputId": "eb047b60-712e-46bd-e3e3-02e1d7dc3207"
      },
      "execution_count": 9,
      "outputs": [
        {
          "output_type": "stream",
          "name": "stdout",
          "text": [
            "생년월일 : 881120\n",
            "주민번호 뒷자리 : 1068234\n"
          ]
        }
      ]
    },
    {
      "cell_type": "code",
      "source": [
        "0.1 + 0.2 # 실수 저장시 부동소수점 방식으로 근사값 저장, 근사값 0.1 + 근사값 0.2"
      ],
      "metadata": {
        "colab": {
          "base_uri": "https://localhost:8080/"
        },
        "id": "LortGTqugYlf",
        "outputId": "343bf1c4-2d3f-45cf-dcb0-2961a831458b"
      },
      "execution_count": 10,
      "outputs": [
        {
          "output_type": "execute_result",
          "data": {
            "text/plain": [
              "0.30000000000000004"
            ]
          },
          "metadata": {},
          "execution_count": 10
        }
      ]
    },
    {
      "cell_type": "code",
      "source": [
        "0.3 - (0.1 + 0.2) # 10 곱하기 -17제곱"
      ],
      "metadata": {
        "colab": {
          "base_uri": "https://localhost:8080/"
        },
        "id": "ya1Z2ZH3gzt7",
        "outputId": "16cbb012-aa12-4d8c-8dd0-ee57a479fe58"
      },
      "execution_count": 11,
      "outputs": [
        {
          "output_type": "execute_result",
          "data": {
            "text/plain": [
              "-5.551115123125783e-17"
            ]
          },
          "metadata": {},
          "execution_count": 11
        }
      ]
    },
    {
      "cell_type": "code",
      "source": [
        "1e7 # 10의 7제곱"
      ],
      "metadata": {
        "colab": {
          "base_uri": "https://localhost:8080/"
        },
        "id": "p1KtYaS7hVXO",
        "outputId": "cbee29dd-9721-4e2e-81e6-5cd54b6cdfdf"
      },
      "execution_count": 12,
      "outputs": [
        {
          "output_type": "execute_result",
          "data": {
            "text/plain": [
              "10000000.0"
            ]
          },
          "metadata": {},
          "execution_count": 12
        }
      ]
    },
    {
      "cell_type": "code",
      "source": [
        "1e-2 # 10의 -2제곱"
      ],
      "metadata": {
        "colab": {
          "base_uri": "https://localhost:8080/"
        },
        "id": "HWEJhZv0heXs",
        "outputId": "7b06b659-d692-4438-913a-bc338c8fa979"
      },
      "execution_count": 13,
      "outputs": [
        {
          "output_type": "execute_result",
          "data": {
            "text/plain": [
              "0.01"
            ]
          },
          "metadata": {},
          "execution_count": 13
        }
      ]
    },
    {
      "cell_type": "code",
      "source": [
        "1e0 # 10의 0제곱"
      ],
      "metadata": {
        "colab": {
          "base_uri": "https://localhost:8080/"
        },
        "id": "gU585ZRshpXO",
        "outputId": "d515511e-d0a8-4ee9-cba2-3df0ca9e3454"
      },
      "execution_count": 18,
      "outputs": [
        {
          "output_type": "execute_result",
          "data": {
            "text/plain": [
              "1.0"
            ]
          },
          "metadata": {},
          "execution_count": 18
        }
      ]
    }
  ]
}