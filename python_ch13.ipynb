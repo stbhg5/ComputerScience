{
  "nbformat": 4,
  "nbformat_minor": 0,
  "metadata": {
    "colab": {
      "provenance": [],
      "authorship_tag": "ABX9TyPGQ2trLKpujBL3Gv34sIWT",
      "include_colab_link": true
    },
    "kernelspec": {
      "name": "python3",
      "display_name": "Python 3"
    },
    "language_info": {
      "name": "python"
    }
  },
  "cells": [
    {
      "cell_type": "markdown",
      "metadata": {
        "id": "view-in-github",
        "colab_type": "text"
      },
      "source": [
        "<a href=\"https://colab.research.google.com/github/stbhg5/ComputerScience/blob/main/python_ch13.ipynb\" target=\"_parent\"><img src=\"https://colab.research.google.com/assets/colab-badge.svg\" alt=\"Open In Colab\"/></a>"
      ]
    },
    {
      "cell_type": "markdown",
      "source": [
        "1.  파이썬의 속도 문제에 대해"
      ],
      "metadata": {
        "id": "txqaxZzIRya3"
      }
    },
    {
      "cell_type": "code",
      "execution_count": 3,
      "metadata": {
        "colab": {
          "base_uri": "https://localhost:8080/"
        },
        "id": "XjdWBg6hPAV5",
        "outputId": "3b2752f9-ef29-4612-a52c-653930c1c907"
      },
      "outputs": [
        {
          "output_type": "stream",
          "name": "stdout",
          "text": [
            "12.0969877243042\n"
          ]
        }
      ],
      "source": [
        "# 일반 파이썬 for문 계산\n",
        "import time\n",
        "start = time.time()\n",
        "count = 0\n",
        "for i in range(10000):\n",
        "    for j in range(10000):\n",
        "        count += 1\n",
        "print(time.time() - start)\n",
        "# time.sleep(1000)"
      ]
    },
    {
      "cell_type": "code",
      "source": [
        "# 기본 파이썬 인터프리터가 아닌 pypy3 JIT Complier 사용\n",
        "# https://www.pypy.org/download.html"
      ],
      "metadata": {
        "id": "03eEdfHFSmCK"
      },
      "execution_count": null,
      "outputs": []
    },
    {
      "cell_type": "code",
      "source": [
        "# scikit-learn 라이브러리\n",
        "# https://scikit-learn.org/stable/developers/performance.html\n",
        "# 위 참고한 파이썬 속도 빠르게 하는 법\n",
        "# 1. numpy, scipy 라이브러리 사용\n",
        "# 2. 잘 작성된 BSD or MIT 라이센스 C/C++ 라이브러리 사용하여 Cython wrapper를 사용하여 쓰기\n",
        "# 3. Cython 다이렉트로 쓰기\n",
        "# 4. 멀티 프로세싱 쓰기\n",
        "\n",
        "# scipy github\n",
        "# https://github.com/scipy/scipy\n",
        "# scipy 라이센스 : BSD (BSD나 MIT는 라이센스가 약간 자유로운 편)\n",
        "# https://github.com/scipy/scipy/blob/main/LICENSE.txt\n",
        "# (GPL LGPL 라이센스는 좀 까다로운 편)\n",
        "\n",
        "# 등등 라이브러리 여러가지 쓰기"
      ],
      "metadata": {
        "id": "rYF5biPkQTXi"
      },
      "execution_count": null,
      "outputs": []
    },
    {
      "cell_type": "code",
      "source": [
        "# cython 사용\n",
        "!python setup.py build_ext --inplace"
      ],
      "metadata": {
        "colab": {
          "base_uri": "https://localhost:8080/"
        },
        "id": "spyF6yb2TChE",
        "outputId": "11bafc9d-11bd-4ee1-c399-b95fc962f0bc"
      },
      "execution_count": 5,
      "outputs": [
        {
          "output_type": "stream",
          "name": "stdout",
          "text": [
            "Compiling hello.pyx because it changed.\n",
            "[1/1] Cythonizing hello.pyx\n",
            "/usr/local/lib/python3.8/dist-packages/Cython/Compiler/Main.py:369: FutureWarning: Cython directive 'language_level' not set, using 2 for now (Py2). This will change in a later release! File: /content/hello.pyx\n",
            "  tree = Parsing.p_module(s, pxd, full_module_name)\n",
            "running build_ext\n",
            "building 'hello' extension\n",
            "creating build\n",
            "creating build/temp.linux-x86_64-3.8\n",
            "x86_64-linux-gnu-gcc -pthread -Wno-unused-result -Wsign-compare -DNDEBUG -g -fwrapv -O2 -Wall -g -fstack-protector-strong -Wformat -Werror=format-security -g -fwrapv -O2 -g -fstack-protector-strong -Wformat -Werror=format-security -Wdate-time -D_FORTIFY_SOURCE=2 -fPIC -I/usr/include/python3.8 -c hello.c -o build/temp.linux-x86_64-3.8/hello.o\n",
            "x86_64-linux-gnu-gcc -pthread -shared -Wl,-O1 -Wl,-Bsymbolic-functions -Wl,-Bsymbolic-functions -Wl,-z,relro -g -fwrapv -O2 -Wl,-Bsymbolic-functions -Wl,-z,relro -g -fwrapv -O2 -g -fstack-protector-strong -Wformat -Werror=format-security -Wdate-time -D_FORTIFY_SOURCE=2 build/temp.linux-x86_64-3.8/hello.o -o /content/hello.cpython-38-x86_64-linux-gnu.so\n"
          ]
        }
      ]
    }
  ]
}