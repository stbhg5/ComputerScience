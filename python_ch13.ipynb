{
  "nbformat": 4,
  "nbformat_minor": 0,
  "metadata": {
    "colab": {
      "provenance": [],
      "authorship_tag": "ABX9TyO2m8Po30upSyfnaT4SHlXD",
      "include_colab_link": true
    },
    "kernelspec": {
      "name": "python3",
      "display_name": "Python 3"
    },
    "language_info": {
      "name": "python"
    }
  },
  "cells": [
    {
      "cell_type": "markdown",
      "metadata": {
        "id": "view-in-github",
        "colab_type": "text"
      },
      "source": [
        "<a href=\"https://colab.research.google.com/github/stbhg5/ComputerScience/blob/main/python_ch13.ipynb\" target=\"_parent\"><img src=\"https://colab.research.google.com/assets/colab-badge.svg\" alt=\"Open In Colab\"/></a>"
      ]
    },
    {
      "cell_type": "markdown",
      "source": [
        "1.  파이썬의 속도 문제에 대해"
      ],
      "metadata": {
        "id": "txqaxZzIRya3"
      }
    },
    {
      "cell_type": "code",
      "execution_count": null,
      "metadata": {
        "colab": {
          "base_uri": "https://localhost:8080/"
        },
        "id": "XjdWBg6hPAV5",
        "outputId": "3b2752f9-ef29-4612-a52c-653930c1c907"
      },
      "outputs": [
        {
          "output_type": "stream",
          "name": "stdout",
          "text": [
            "12.0969877243042\n"
          ]
        }
      ],
      "source": [
        "# 일반 파이썬 for문 계산\n",
        "import time\n",
        "start = time.time()\n",
        "count = 0\n",
        "for i in range(10000):\n",
        "    for j in range(10000):\n",
        "        count += 1\n",
        "print(time.time() - start)\n",
        "# time.sleep(1000)"
      ]
    },
    {
      "cell_type": "code",
      "source": [
        "# 기본 파이썬 인터프리터가 아닌 pypy3 JIT Complier 사용\n",
        "# https://www.pypy.org/download.html"
      ],
      "metadata": {
        "id": "03eEdfHFSmCK"
      },
      "execution_count": null,
      "outputs": []
    },
    {
      "cell_type": "code",
      "source": [
        "# scikit-learn 라이브러리\n",
        "# https://scikit-learn.org/stable/developers/performance.html\n",
        "# 위 참고한 파이썬 속도 빠르게 하는 법\n",
        "# 1. numpy, scipy 라이브러리 사용\n",
        "# 2. 잘 작성된 BSD or MIT 라이센스 C/C++ 라이브러리 사용하여 Cython wrapper를 사용하여 쓰기\n",
        "# 3. Cython 다이렉트로 쓰기\n",
        "# 4. 멀티 프로세싱 쓰기\n",
        "\n",
        "# scipy github\n",
        "# https://github.com/scipy/scipy\n",
        "# scipy 라이센스 : BSD (BSD나 MIT는 라이센스가 약간 자유로운 편)\n",
        "# https://github.com/scipy/scipy/blob/main/LICENSE.txt\n",
        "# (GPL LGPL 라이센스는 좀 까다로운 편)\n",
        "\n",
        "# 등등 라이브러리 여러가지 쓰기"
      ],
      "metadata": {
        "id": "rYF5biPkQTXi"
      },
      "execution_count": null,
      "outputs": []
    },
    {
      "cell_type": "code",
      "source": [
        "# cython 사용\n",
        "!python setup.py build_ext --inplace"
      ],
      "metadata": {
        "colab": {
          "base_uri": "https://localhost:8080/"
        },
        "id": "spyF6yb2TChE",
        "outputId": "11bafc9d-11bd-4ee1-c399-b95fc962f0bc"
      },
      "execution_count": null,
      "outputs": [
        {
          "output_type": "stream",
          "name": "stdout",
          "text": [
            "Compiling hello.pyx because it changed.\n",
            "[1/1] Cythonizing hello.pyx\n",
            "/usr/local/lib/python3.8/dist-packages/Cython/Compiler/Main.py:369: FutureWarning: Cython directive 'language_level' not set, using 2 for now (Py2). This will change in a later release! File: /content/hello.pyx\n",
            "  tree = Parsing.p_module(s, pxd, full_module_name)\n",
            "running build_ext\n",
            "building 'hello' extension\n",
            "creating build\n",
            "creating build/temp.linux-x86_64-3.8\n",
            "x86_64-linux-gnu-gcc -pthread -Wno-unused-result -Wsign-compare -DNDEBUG -g -fwrapv -O2 -Wall -g -fstack-protector-strong -Wformat -Werror=format-security -g -fwrapv -O2 -g -fstack-protector-strong -Wformat -Werror=format-security -Wdate-time -D_FORTIFY_SOURCE=2 -fPIC -I/usr/include/python3.8 -c hello.c -o build/temp.linux-x86_64-3.8/hello.o\n",
            "x86_64-linux-gnu-gcc -pthread -shared -Wl,-O1 -Wl,-Bsymbolic-functions -Wl,-Bsymbolic-functions -Wl,-z,relro -g -fwrapv -O2 -Wl,-Bsymbolic-functions -Wl,-z,relro -g -fwrapv -O2 -g -fstack-protector-strong -Wformat -Werror=format-security -Wdate-time -D_FORTIFY_SOURCE=2 build/temp.linux-x86_64-3.8/hello.o -o /content/hello.cpython-38-x86_64-linux-gnu.so\n"
          ]
        }
      ]
    },
    {
      "cell_type": "code",
      "source": [
        "# google colab에서 cython 사용\n",
        "%load_ext Cython"
      ],
      "metadata": {
        "id": "yyN5MyolbFko"
      },
      "execution_count": null,
      "outputs": []
    },
    {
      "cell_type": "code",
      "source": [
        "%%cython\n",
        "import numpy as np\n",
        "cimport numpy as np\n",
        "cimport cython\n",
        "\n",
        "# 느린 모듈(병목이 생기는 모듈)\n",
        "# class check_odd_number:\n",
        "#     def check(self, number):\n",
        "#         if number % 2 == 1:\n",
        "#             return True\n",
        "#         else:\n",
        "#             return False\n",
        "\n",
        "# python_class = check_odd_number()\n",
        "\n",
        "# 느린 모듈을 사이썬 정의로 변경\n",
        "cpdef check(int number):\n",
        "    if number % 2 == 1:\n",
        "        return True\n",
        "    else:\n",
        "        return False\n",
        "\n",
        "# 타입 선언\n",
        "# cdef는 c로된 코드 쓰겠다는 것이고 cpdef는 c와 파이썬으로 된 코드 같이 쓰겠다.\n",
        "cpdef cython_add(int num1, int num2):\n",
        "    cdef int result, i, j\n",
        "    result = 0\n",
        "    for i in range(num1):\n",
        "        for j in range(num2):\n",
        "            # if python_class.check(i):\n",
        "            if check(i):\n",
        "                continue\n",
        "            result += i * j\n",
        "            # result += 1\n",
        "    return result"
      ],
      "metadata": {
        "id": "Gj0KOWT5bl92"
      },
      "execution_count": null,
      "outputs": []
    },
    {
      "cell_type": "code",
      "source": [
        "# 일반 파이썬 함수\n",
        "def python_add(num1, num2):\n",
        "    result = 0\n",
        "    for i in range(num1):\n",
        "        for j in range(num2):\n",
        "            # if python_class.check(i):\n",
        "            if check(i):\n",
        "                continue\n",
        "            result += i * j\n",
        "            # result += 1\n",
        "    return result"
      ],
      "metadata": {
        "id": "bVDbyaDOdNi2"
      },
      "execution_count": null,
      "outputs": []
    },
    {
      "cell_type": "code",
      "source": [
        "# 일반 파이썬 함수의 계산\n",
        "import time\n",
        "start = time.time()\n",
        "python_result = python_add(10000, 10000)\n",
        "print(time.time() - start)"
      ],
      "metadata": {
        "colab": {
          "base_uri": "https://localhost:8080/"
        },
        "id": "rWuTzlpedhv7",
        "outputId": "41019b71-3abe-4f5e-9da3-cd113258d7da"
      },
      "execution_count": null,
      "outputs": [
        {
          "output_type": "stream",
          "name": "stdout",
          "text": [
            "13.299113512039185\n"
          ]
        }
      ]
    },
    {
      "cell_type": "code",
      "source": [
        "# 사이썬 함수의 계산\n",
        "import time\n",
        "start = time.time()\n",
        "cython_result = cython_add(10000, 10000)\n",
        "print(time.time() - start)"
      ],
      "metadata": {
        "colab": {
          "base_uri": "https://localhost:8080/"
        },
        "id": "mJ3POA16ehgR",
        "outputId": "d29ad409-180c-4428-c314-315c899b2971"
      },
      "execution_count": null,
      "outputs": [
        {
          "output_type": "stream",
          "name": "stdout",
          "text": [
            "0.42444300651550293\n"
          ]
        }
      ]
    },
    {
      "cell_type": "code",
      "source": [
        "python_result"
      ],
      "metadata": {
        "colab": {
          "base_uri": "https://localhost:8080/"
        },
        "id": "SKXhpq1ZffIg",
        "outputId": "b32e118a-e585-4744-dae7-feafee800c43"
      },
      "execution_count": null,
      "outputs": [
        {
          "output_type": "execute_result",
          "data": {
            "text/plain": [
              "100000000"
            ]
          },
          "metadata": {},
          "execution_count": 19
        }
      ]
    },
    {
      "cell_type": "code",
      "source": [
        "# int 한계치로 857419840가 나옴\n",
        "cython_result"
      ],
      "metadata": {
        "colab": {
          "base_uri": "https://localhost:8080/"
        },
        "id": "Vipa38dTfhVF",
        "outputId": "b84c6e5d-f876-468d-91e3-582ef1d10236"
      },
      "execution_count": null,
      "outputs": [
        {
          "output_type": "execute_result",
          "data": {
            "text/plain": [
              "100000000"
            ]
          },
          "metadata": {},
          "execution_count": 20
        }
      ]
    },
    {
      "cell_type": "code",
      "source": [
        "# cython에 대한 자세한 내용은 https://cython.org/ 참고\n",
        "# + 잘 짠 코드 모방하기 - scikit-learn"
      ],
      "metadata": {
        "id": "a2kj2YRpgVHf"
      },
      "execution_count": null,
      "outputs": []
    },
    {
      "cell_type": "code",
      "source": [
        "# cython 사용시 주의점\n",
        "%%cython\n",
        "import numpy as np\n",
        "cimport numpy as np\n",
        "cimport cython\n",
        "\n",
        "# cpdef add(int[:] list):\n",
        "# cpdef add(int[:] array): # MemoryView of 'ndarray' object 오류 뜬다.\n",
        "cpdef add(long[:] list): # cython의 list\n",
        "    cdef int result, i\n",
        "    result = 0\n",
        "    for i in list:\n",
        "        result += i\n",
        "    return result"
      ],
      "metadata": {
        "id": "RASlw9WTkxpB"
      },
      "execution_count": null,
      "outputs": []
    },
    {
      "cell_type": "code",
      "source": [
        "import numpy as np\n",
        "# add(np.array([i for i in range(10000)], dtype = np.int32))\n",
        "# add(np.array([i for i in range(10000)]).astype('int32'))\n",
        "add(np.array([i for i in range(10000)])) # numpy array 자료형\n",
        "\n",
        "# c에서의 데이터 타입과 파이썬에서의 데이터 타입이 다르기 때문에 이 부분 주의하기"
      ],
      "metadata": {
        "colab": {
          "base_uri": "https://localhost:8080/"
        },
        "id": "Y8Vgsf6JlKru",
        "outputId": "8a813d09-094d-48ac-c3af-3a10afa0a4c1"
      },
      "execution_count": null,
      "outputs": [
        {
          "output_type": "execute_result",
          "data": {
            "text/plain": [
              "49995000"
            ]
          },
          "metadata": {},
          "execution_count": 39
        }
      ]
    },
    {
      "cell_type": "code",
      "source": [
        "# 일반 파이썬 for문으로 api 실행\n",
        "import time\n",
        "start = time.time()\n",
        "result = []\n",
        "for i in range(10):\n",
        "    result.append(requests.get(url).json())\n",
        "print(time.time() - start)"
      ],
      "metadata": {
        "colab": {
          "base_uri": "https://localhost:8080/"
        },
        "id": "LuoKb5LbpyD-",
        "outputId": "a5c3273f-c6c5-439d-9f86-4bc5aa2a11dc"
      },
      "execution_count": null,
      "outputs": [
        {
          "output_type": "stream",
          "name": "stdout",
          "text": [
            "4.708981275558472\n"
          ]
        }
      ]
    },
    {
      "cell_type": "code",
      "source": [
        "# 멀티 쓰레딩이 네트워크 관련 업무 빠르게 할 수 있다.\n",
        "from threading import Thread\n",
        "import requests\n",
        "\n",
        "# 이 url은 여러개가 들어와도 순차적으로 실행하도록 되어 있는 것으로 보임.\n",
        "url = 'http://router.project-osrm.org/route/v1/driving/13.388860,52.517037;13.397634,52.529407;13.428555,52.523219?overview=false' # http://project-osrm.org/docs/v5.5.1/api/#general-options 의 API URL 사용\n",
        "\n",
        "def work(url, index):\n",
        "    result[index] = requests.get(url).json()\n",
        "\n",
        "if __name__ == '__main__':\n",
        "    start = time.time()\n",
        "    result = [None] * 10\n",
        "    # threads = [None] * 10 # join() 사용 예시이지만 현재 사용하는 url이 예시에 적절치 못하므로 패스\n",
        "    for i in range(10):\n",
        "        th1 = Thread(target = work, args = (url, i))\n",
        "        # threads[i] = Thread(target = work, args = (url, i))\n",
        "        th1.start()\n",
        "        # threads[i].start()\n",
        "        # for i in range(10):\n",
        "        #     threads[i].join()\n",
        "        # th1.join() # join() 메서드는 파이썬에게 프로세스가 종료 될 때까지 대기하도록 지시\n",
        "    print(time.time() - start)\n",
        "time.sleep(1) # join으로 인해 일반 파이썬으로 api 실행시 똑같은 시간이 걸리는 것으로 보여서 join을 없앨 시 1초 시간 텀을 주면 멀티 쓰레딩 사용시 api 실행할 때 1초도 안걸리는 것을 알 수 있음\n",
        "result"
      ],
      "metadata": {
        "colab": {
          "base_uri": "https://localhost:8080/"
        },
        "id": "dkCNMxzMnX85",
        "outputId": "f190e06a-3239-4343-c15a-f0f8d5a75d2d"
      },
      "execution_count": null,
      "outputs": [
        {
          "output_type": "stream",
          "name": "stdout",
          "text": [
            "0.035839080810546875\n"
          ]
        },
        {
          "output_type": "execute_result",
          "data": {
            "text/plain": [
              "[{'code': 'Ok',\n",
              "  'routes': [{'legs': [{'steps': [],\n",
              "      'summary': '',\n",
              "      'weight': 262.8,\n",
              "      'duration': 260,\n",
              "      'distance': 1887},\n",
              "     {'steps': [],\n",
              "      'summary': '',\n",
              "      'weight': 370.4,\n",
              "      'duration': 370.4,\n",
              "      'distance': 2845.5}],\n",
              "    'weight_name': 'routability',\n",
              "    'weight': 633.2,\n",
              "    'duration': 630.4,\n",
              "    'distance': 4732.5}],\n",
              "  'waypoints': [{'hint': 'pv8JgK8GmoUXAAAABQAAAAAAAAAgAAAAIXRPQYXNK0AAAAAAcPePQQsAAAADAAAAAAAAABAAAABH9wAA_kvMAKlYIQM8TMwArVghAwAA7wolVKRv',\n",
              "    'distance': 4.231521214,\n",
              "    'name': 'Friedrichstraße',\n",
              "    'location': [13.388798, 52.517033]},\n",
              "   {'hint': 'CCzdgZTUiYcGAAAACgAAAAAAAAB3AAAAppONQOodwkAAAAAA8TeEQgYAAAAKAAAAAAAAAHcAAABH9wAAfm7MABiJIQOCbswA_4ghAwAAXwUlVKRv',\n",
              "    'distance': 2.795148358,\n",
              "    'name': 'Torstraße',\n",
              "    'location': [13.39763, 52.529432]},\n",
              "   {'hint': 'uyoYgP___38fAAAAUQAAACYAAAAeAAAAeosKQlNOX0Jq6iZCjsMGQh8AAABRAAAAJgAAAB4AAABH9wAASufMAOdwIQNL58wA03AhAwQAvxAlVKRv',\n",
              "    'distance': 2.226580806,\n",
              "    'name': 'Platz der Vereinten Nationen',\n",
              "    'location': [13.428554, 52.523239]}]},\n",
              " None,\n",
              " {'code': 'Ok',\n",
              "  'routes': [{'legs': [{'steps': [],\n",
              "      'summary': '',\n",
              "      'weight': 262.8,\n",
              "      'duration': 260,\n",
              "      'distance': 1887},\n",
              "     {'steps': [],\n",
              "      'summary': '',\n",
              "      'weight': 370.4,\n",
              "      'duration': 370.4,\n",
              "      'distance': 2845.5}],\n",
              "    'weight_name': 'routability',\n",
              "    'weight': 633.2,\n",
              "    'duration': 630.4,\n",
              "    'distance': 4732.5}],\n",
              "  'waypoints': [{'hint': 'pv8JgK8GmoUXAAAABQAAAAAAAAAgAAAAIXRPQYXNK0AAAAAAcPePQQsAAAADAAAAAAAAABAAAABH9wAA_kvMAKlYIQM8TMwArVghAwAA7wolVKRv',\n",
              "    'distance': 4.231521214,\n",
              "    'name': 'Friedrichstraße',\n",
              "    'location': [13.388798, 52.517033]},\n",
              "   {'hint': 'CCzdgZTUiYcGAAAACgAAAAAAAAB3AAAAppONQOodwkAAAAAA8TeEQgYAAAAKAAAAAAAAAHcAAABH9wAAfm7MABiJIQOCbswA_4ghAwAAXwUlVKRv',\n",
              "    'distance': 2.795148358,\n",
              "    'name': 'Torstraße',\n",
              "    'location': [13.39763, 52.529432]},\n",
              "   {'hint': 'uyoYgP___38fAAAAUQAAACYAAAAeAAAAeosKQlNOX0Jq6iZCjsMGQh8AAABRAAAAJgAAAB4AAABH9wAASufMAOdwIQNL58wA03AhAwQAvxAlVKRv',\n",
              "    'distance': 2.226580806,\n",
              "    'name': 'Platz der Vereinten Nationen',\n",
              "    'location': [13.428554, 52.523239]}]},\n",
              " None,\n",
              " None,\n",
              " None,\n",
              " None,\n",
              " None,\n",
              " None,\n",
              " None]"
            ]
          },
          "metadata": {},
          "execution_count": 46
        }
      ]
    },
    {
      "cell_type": "markdown",
      "source": [
        "2. 로그"
      ],
      "metadata": {
        "id": "5Pl-2cyM1rNm"
      }
    },
    {
      "cell_type": "code",
      "source": [
        "import logging\n",
        "\n",
        "# 파일에 로그 쓰는 방법\n",
        "logger = logging.getLogger('name')\n",
        "logger.setLevel(logging.DEBUG) # DEBUG < INFO < ERROR < CRITICAL\n",
        "file_handler = logging.FileHandler(filename = 'information.log')\n",
        "\n",
        "# formatter 객체 생성\n",
        "formatter = logging.Formatter(fmt = '%(asctime)s - %(name)s - %(levelname)s - %(message)s') # 에러 로그에 쓸 때 문장 설정 : 시간 - 로거명 - 에러레벨 - 에러메시지\n",
        "\n",
        "# handler에 level 설정\n",
        "file_handler.setLevel(logging.DEBUG)\n",
        "\n",
        "# handler에 format 설정\n",
        "file_handler.setFormatter(formatter)\n",
        "\n",
        "logger.addHandler(file_handler)\n",
        "# -> 로거 사용준비 끝"
      ],
      "metadata": {
        "id": "cyG7Oj2f1sxF"
      },
      "execution_count": null,
      "outputs": []
    },
    {
      "cell_type": "code",
      "source": [
        "logger.error('start')"
      ],
      "metadata": {
        "colab": {
          "base_uri": "https://localhost:8080/"
        },
        "id": "ohldVxVj-UJj",
        "outputId": "054c9e86-f652-46c8-f3af-b0ccbbbf0a68"
      },
      "execution_count": null,
      "outputs": [
        {
          "metadata": {
            "tags": null
          },
          "name": "stderr",
          "output_type": "stream",
          "text": [
            "--- Logging error ---\n",
            "Traceback (most recent call last):\n",
            "  File \"/usr/lib/python3.8/logging/__init__.py\", line 440, in format\n",
            "    return self._format(record)\n",
            "  File \"/usr/lib/python3.8/logging/__init__.py\", line 436, in _format\n",
            "    return self._fmt % record.__dict__\n",
            "KeyError: 'acstime'\n",
            "\n",
            "During handling of the above exception, another exception occurred:\n",
            "\n",
            "Traceback (most recent call last):\n",
            "  File \"/usr/lib/python3.8/logging/__init__.py\", line 1085, in emit\n",
            "    msg = self.format(record)\n",
            "  File \"/usr/lib/python3.8/logging/__init__.py\", line 929, in format\n",
            "    return fmt.format(record)\n",
            "  File \"/usr/lib/python3.8/logging/__init__.py\", line 671, in format\n",
            "    s = self.formatMessage(record)\n",
            "  File \"/usr/lib/python3.8/logging/__init__.py\", line 640, in formatMessage\n",
            "    return self._style.format(record)\n",
            "  File \"/usr/lib/python3.8/logging/__init__.py\", line 442, in format\n",
            "    raise ValueError('Formatting field not found in record: %s' % e)\n",
            "ValueError: Formatting field not found in record: 'acstime'\n",
            "Call stack:\n",
            "  File \"/usr/lib/python3.8/runpy.py\", line 194, in _run_module_as_main\n",
            "    return _run_code(code, main_globals, None,\n",
            "  File \"/usr/lib/python3.8/runpy.py\", line 87, in _run_code\n",
            "    exec(code, run_globals)\n",
            "  File \"/usr/local/lib/python3.8/dist-packages/ipykernel_launcher.py\", line 16, in <module>\n",
            "    app.launch_new_instance()\n",
            "  File \"/usr/local/lib/python3.8/dist-packages/traitlets/config/application.py\", line 992, in launch_instance\n",
            "    app.start()\n",
            "  File \"/usr/local/lib/python3.8/dist-packages/ipykernel/kernelapp.py\", line 612, in start\n",
            "    self.io_loop.start()\n",
            "  File \"/usr/local/lib/python3.8/dist-packages/tornado/platform/asyncio.py\", line 215, in start\n",
            "    self.asyncio_loop.run_forever()\n",
            "  File \"/usr/lib/python3.8/asyncio/base_events.py\", line 570, in run_forever\n",
            "    self._run_once()\n",
            "  File \"/usr/lib/python3.8/asyncio/base_events.py\", line 1859, in _run_once\n",
            "    handle._run()\n",
            "  File \"/usr/lib/python3.8/asyncio/events.py\", line 81, in _run\n",
            "    self._context.run(self._callback, *self._args)\n",
            "  File \"/usr/local/lib/python3.8/dist-packages/tornado/ioloop.py\", line 687, in <lambda>\n",
            "    lambda f: self._run_callback(functools.partial(callback, future))\n",
            "  File \"/usr/local/lib/python3.8/dist-packages/tornado/ioloop.py\", line 740, in _run_callback\n",
            "    ret = callback()\n",
            "  File \"/usr/local/lib/python3.8/dist-packages/tornado/gen.py\", line 821, in inner\n",
            "    self.ctx_run(self.run)\n",
            "  File \"/usr/local/lib/python3.8/dist-packages/tornado/gen.py\", line 782, in run\n",
            "    yielded = self.gen.send(value)\n",
            "  File \"/usr/local/lib/python3.8/dist-packages/ipykernel/kernelbase.py\", line 365, in process_one\n",
            "    yield gen.maybe_future(dispatch(*args))\n",
            "  File \"/usr/local/lib/python3.8/dist-packages/tornado/gen.py\", line 234, in wrapper\n",
            "    yielded = ctx_run(next, result)\n",
            "  File \"/usr/local/lib/python3.8/dist-packages/ipykernel/kernelbase.py\", line 268, in dispatch_shell\n",
            "    yield gen.maybe_future(handler(stream, idents, msg))\n",
            "  File \"/usr/local/lib/python3.8/dist-packages/tornado/gen.py\", line 234, in wrapper\n",
            "    yielded = ctx_run(next, result)\n",
            "  File \"/usr/local/lib/python3.8/dist-packages/ipykernel/kernelbase.py\", line 543, in execute_request\n",
            "    self.do_execute(\n",
            "  File \"/usr/local/lib/python3.8/dist-packages/tornado/gen.py\", line 234, in wrapper\n",
            "    yielded = ctx_run(next, result)\n",
            "  File \"/usr/local/lib/python3.8/dist-packages/ipykernel/ipkernel.py\", line 306, in do_execute\n",
            "    res = shell.run_cell(code, store_history=store_history, silent=silent)\n",
            "  File \"/usr/local/lib/python3.8/dist-packages/ipykernel/zmqshell.py\", line 536, in run_cell\n",
            "    return super(ZMQInteractiveShell, self).run_cell(*args, **kwargs)\n",
            "  File \"/usr/local/lib/python3.8/dist-packages/IPython/core/interactiveshell.py\", line 2854, in run_cell\n",
            "    result = self._run_cell(\n",
            "  File \"/usr/local/lib/python3.8/dist-packages/IPython/core/interactiveshell.py\", line 2881, in _run_cell\n",
            "    return runner(coro)\n",
            "  File \"/usr/local/lib/python3.8/dist-packages/IPython/core/async_helpers.py\", line 68, in _pseudo_sync_runner\n",
            "    coro.send(None)\n",
            "  File \"/usr/local/lib/python3.8/dist-packages/IPython/core/interactiveshell.py\", line 3057, in run_cell_async\n",
            "    has_raised = await self.run_ast_nodes(code_ast.body, cell_name,\n",
            "  File \"/usr/local/lib/python3.8/dist-packages/IPython/core/interactiveshell.py\", line 3249, in run_ast_nodes\n",
            "    if (await self.run_code(code, result,  async_=asy)):\n",
            "  File \"/usr/local/lib/python3.8/dist-packages/IPython/core/interactiveshell.py\", line 3326, in run_code\n",
            "    exec(code_obj, self.user_global_ns, self.user_ns)\n",
            "  File \"<ipython-input-18-51c10316b99a>\", line 1, in <module>\n",
            "    logger.error('start')\n",
            "Message: 'start'\n",
            "Arguments: ()\n",
            "ERROR:name:start\n"
          ]
        }
      ]
    },
    {
      "cell_type": "code",
      "source": [
        "logger.info('start2')"
      ],
      "metadata": {
        "colab": {
          "base_uri": "https://localhost:8080/"
        },
        "id": "C2qFjPAD_JWR",
        "outputId": "2319ef6d-dda5-4f7b-efa4-8e097f4ff2a6"
      },
      "execution_count": null,
      "outputs": [
        {
          "output_type": "stream",
          "name": "stderr",
          "text": [
            "--- Logging error ---\n",
            "Traceback (most recent call last):\n",
            "  File \"/usr/lib/python3.8/logging/__init__.py\", line 440, in format\n",
            "    return self._format(record)\n",
            "  File \"/usr/lib/python3.8/logging/__init__.py\", line 436, in _format\n",
            "    return self._fmt % record.__dict__\n",
            "KeyError: 'acstime'\n",
            "\n",
            "During handling of the above exception, another exception occurred:\n",
            "\n",
            "Traceback (most recent call last):\n",
            "  File \"/usr/lib/python3.8/logging/__init__.py\", line 1085, in emit\n",
            "    msg = self.format(record)\n",
            "  File \"/usr/lib/python3.8/logging/__init__.py\", line 929, in format\n",
            "    return fmt.format(record)\n",
            "  File \"/usr/lib/python3.8/logging/__init__.py\", line 671, in format\n",
            "    s = self.formatMessage(record)\n",
            "  File \"/usr/lib/python3.8/logging/__init__.py\", line 640, in formatMessage\n",
            "    return self._style.format(record)\n",
            "  File \"/usr/lib/python3.8/logging/__init__.py\", line 442, in format\n",
            "    raise ValueError('Formatting field not found in record: %s' % e)\n",
            "ValueError: Formatting field not found in record: 'acstime'\n",
            "Call stack:\n",
            "  File \"/usr/lib/python3.8/runpy.py\", line 194, in _run_module_as_main\n",
            "    return _run_code(code, main_globals, None,\n",
            "  File \"/usr/lib/python3.8/runpy.py\", line 87, in _run_code\n",
            "    exec(code, run_globals)\n",
            "  File \"/usr/local/lib/python3.8/dist-packages/ipykernel_launcher.py\", line 16, in <module>\n",
            "    app.launch_new_instance()\n",
            "  File \"/usr/local/lib/python3.8/dist-packages/traitlets/config/application.py\", line 992, in launch_instance\n",
            "    app.start()\n",
            "  File \"/usr/local/lib/python3.8/dist-packages/ipykernel/kernelapp.py\", line 612, in start\n",
            "    self.io_loop.start()\n",
            "  File \"/usr/local/lib/python3.8/dist-packages/tornado/platform/asyncio.py\", line 215, in start\n",
            "    self.asyncio_loop.run_forever()\n",
            "  File \"/usr/lib/python3.8/asyncio/base_events.py\", line 570, in run_forever\n",
            "    self._run_once()\n",
            "  File \"/usr/lib/python3.8/asyncio/base_events.py\", line 1859, in _run_once\n",
            "    handle._run()\n",
            "  File \"/usr/lib/python3.8/asyncio/events.py\", line 81, in _run\n",
            "    self._context.run(self._callback, *self._args)\n",
            "  File \"/usr/local/lib/python3.8/dist-packages/tornado/ioloop.py\", line 687, in <lambda>\n",
            "    lambda f: self._run_callback(functools.partial(callback, future))\n",
            "  File \"/usr/local/lib/python3.8/dist-packages/tornado/ioloop.py\", line 740, in _run_callback\n",
            "    ret = callback()\n",
            "  File \"/usr/local/lib/python3.8/dist-packages/tornado/gen.py\", line 821, in inner\n",
            "    self.ctx_run(self.run)\n",
            "  File \"/usr/local/lib/python3.8/dist-packages/tornado/gen.py\", line 782, in run\n",
            "    yielded = self.gen.send(value)\n",
            "  File \"/usr/local/lib/python3.8/dist-packages/ipykernel/kernelbase.py\", line 365, in process_one\n",
            "    yield gen.maybe_future(dispatch(*args))\n",
            "  File \"/usr/local/lib/python3.8/dist-packages/tornado/gen.py\", line 234, in wrapper\n",
            "    yielded = ctx_run(next, result)\n",
            "  File \"/usr/local/lib/python3.8/dist-packages/ipykernel/kernelbase.py\", line 268, in dispatch_shell\n",
            "    yield gen.maybe_future(handler(stream, idents, msg))\n",
            "  File \"/usr/local/lib/python3.8/dist-packages/tornado/gen.py\", line 234, in wrapper\n",
            "    yielded = ctx_run(next, result)\n",
            "  File \"/usr/local/lib/python3.8/dist-packages/ipykernel/kernelbase.py\", line 543, in execute_request\n",
            "    self.do_execute(\n",
            "  File \"/usr/local/lib/python3.8/dist-packages/tornado/gen.py\", line 234, in wrapper\n",
            "    yielded = ctx_run(next, result)\n",
            "  File \"/usr/local/lib/python3.8/dist-packages/ipykernel/ipkernel.py\", line 306, in do_execute\n",
            "    res = shell.run_cell(code, store_history=store_history, silent=silent)\n",
            "  File \"/usr/local/lib/python3.8/dist-packages/ipykernel/zmqshell.py\", line 536, in run_cell\n",
            "    return super(ZMQInteractiveShell, self).run_cell(*args, **kwargs)\n",
            "  File \"/usr/local/lib/python3.8/dist-packages/IPython/core/interactiveshell.py\", line 2854, in run_cell\n",
            "    result = self._run_cell(\n",
            "  File \"/usr/local/lib/python3.8/dist-packages/IPython/core/interactiveshell.py\", line 2881, in _run_cell\n",
            "    return runner(coro)\n",
            "  File \"/usr/local/lib/python3.8/dist-packages/IPython/core/async_helpers.py\", line 68, in _pseudo_sync_runner\n",
            "    coro.send(None)\n",
            "  File \"/usr/local/lib/python3.8/dist-packages/IPython/core/interactiveshell.py\", line 3057, in run_cell_async\n",
            "    has_raised = await self.run_ast_nodes(code_ast.body, cell_name,\n",
            "  File \"/usr/local/lib/python3.8/dist-packages/IPython/core/interactiveshell.py\", line 3249, in run_ast_nodes\n",
            "    if (await self.run_code(code, result,  async_=asy)):\n",
            "  File \"/usr/local/lib/python3.8/dist-packages/IPython/core/interactiveshell.py\", line 3326, in run_code\n",
            "    exec(code_obj, self.user_global_ns, self.user_ns)\n",
            "  File \"<ipython-input-19-feb2d07b5056>\", line 1, in <module>\n",
            "    logger.info('start2')\n",
            "Message: 'start2'\n",
            "Arguments: ()\n",
            "INFO:name:start2\n"
          ]
        }
      ]
    },
    {
      "cell_type": "code",
      "source": [
        "logger.debug('start3')"
      ],
      "metadata": {
        "colab": {
          "base_uri": "https://localhost:8080/"
        },
        "id": "BO7FvhFhAKNp",
        "outputId": "af382635-b1b3-4ceb-d0dd-b561f67cec30"
      },
      "execution_count": null,
      "outputs": [
        {
          "output_type": "stream",
          "name": "stderr",
          "text": [
            "DEBUG:name:start3\n"
          ]
        }
      ]
    },
    {
      "cell_type": "code",
      "source": [
        "logger.critical('start4')"
      ],
      "metadata": {
        "colab": {
          "base_uri": "https://localhost:8080/"
        },
        "id": "7Jl6qRd6Atol",
        "outputId": "13d3d3f2-35b6-44b0-df37-376f6ced0d39"
      },
      "execution_count": null,
      "outputs": [
        {
          "output_type": "stream",
          "name": "stderr",
          "text": [
            "--- Logging error ---\n",
            "Traceback (most recent call last):\n",
            "  File \"/usr/lib/python3.8/logging/__init__.py\", line 440, in format\n",
            "    return self._format(record)\n",
            "  File \"/usr/lib/python3.8/logging/__init__.py\", line 436, in _format\n",
            "    return self._fmt % record.__dict__\n",
            "KeyError: 'acstime'\n",
            "\n",
            "During handling of the above exception, another exception occurred:\n",
            "\n",
            "Traceback (most recent call last):\n",
            "  File \"/usr/lib/python3.8/logging/__init__.py\", line 1085, in emit\n",
            "    msg = self.format(record)\n",
            "  File \"/usr/lib/python3.8/logging/__init__.py\", line 929, in format\n",
            "    return fmt.format(record)\n",
            "  File \"/usr/lib/python3.8/logging/__init__.py\", line 671, in format\n",
            "    s = self.formatMessage(record)\n",
            "  File \"/usr/lib/python3.8/logging/__init__.py\", line 640, in formatMessage\n",
            "    return self._style.format(record)\n",
            "  File \"/usr/lib/python3.8/logging/__init__.py\", line 442, in format\n",
            "    raise ValueError('Formatting field not found in record: %s' % e)\n",
            "ValueError: Formatting field not found in record: 'acstime'\n",
            "Call stack:\n",
            "  File \"/usr/lib/python3.8/runpy.py\", line 194, in _run_module_as_main\n",
            "    return _run_code(code, main_globals, None,\n",
            "  File \"/usr/lib/python3.8/runpy.py\", line 87, in _run_code\n",
            "    exec(code, run_globals)\n",
            "  File \"/usr/local/lib/python3.8/dist-packages/ipykernel_launcher.py\", line 16, in <module>\n",
            "    app.launch_new_instance()\n",
            "  File \"/usr/local/lib/python3.8/dist-packages/traitlets/config/application.py\", line 992, in launch_instance\n",
            "    app.start()\n",
            "  File \"/usr/local/lib/python3.8/dist-packages/ipykernel/kernelapp.py\", line 612, in start\n",
            "    self.io_loop.start()\n",
            "  File \"/usr/local/lib/python3.8/dist-packages/tornado/platform/asyncio.py\", line 215, in start\n",
            "    self.asyncio_loop.run_forever()\n",
            "  File \"/usr/lib/python3.8/asyncio/base_events.py\", line 570, in run_forever\n",
            "    self._run_once()\n",
            "  File \"/usr/lib/python3.8/asyncio/base_events.py\", line 1859, in _run_once\n",
            "    handle._run()\n",
            "  File \"/usr/lib/python3.8/asyncio/events.py\", line 81, in _run\n",
            "    self._context.run(self._callback, *self._args)\n",
            "  File \"/usr/local/lib/python3.8/dist-packages/tornado/ioloop.py\", line 687, in <lambda>\n",
            "    lambda f: self._run_callback(functools.partial(callback, future))\n",
            "  File \"/usr/local/lib/python3.8/dist-packages/tornado/ioloop.py\", line 740, in _run_callback\n",
            "    ret = callback()\n",
            "  File \"/usr/local/lib/python3.8/dist-packages/tornado/gen.py\", line 821, in inner\n",
            "    self.ctx_run(self.run)\n",
            "  File \"/usr/local/lib/python3.8/dist-packages/tornado/gen.py\", line 782, in run\n",
            "    yielded = self.gen.send(value)\n",
            "  File \"/usr/local/lib/python3.8/dist-packages/ipykernel/kernelbase.py\", line 365, in process_one\n",
            "    yield gen.maybe_future(dispatch(*args))\n",
            "  File \"/usr/local/lib/python3.8/dist-packages/tornado/gen.py\", line 234, in wrapper\n",
            "    yielded = ctx_run(next, result)\n",
            "  File \"/usr/local/lib/python3.8/dist-packages/ipykernel/kernelbase.py\", line 268, in dispatch_shell\n",
            "    yield gen.maybe_future(handler(stream, idents, msg))\n",
            "  File \"/usr/local/lib/python3.8/dist-packages/tornado/gen.py\", line 234, in wrapper\n",
            "    yielded = ctx_run(next, result)\n",
            "  File \"/usr/local/lib/python3.8/dist-packages/ipykernel/kernelbase.py\", line 543, in execute_request\n",
            "    self.do_execute(\n",
            "  File \"/usr/local/lib/python3.8/dist-packages/tornado/gen.py\", line 234, in wrapper\n",
            "    yielded = ctx_run(next, result)\n",
            "  File \"/usr/local/lib/python3.8/dist-packages/ipykernel/ipkernel.py\", line 306, in do_execute\n",
            "    res = shell.run_cell(code, store_history=store_history, silent=silent)\n",
            "  File \"/usr/local/lib/python3.8/dist-packages/ipykernel/zmqshell.py\", line 536, in run_cell\n",
            "    return super(ZMQInteractiveShell, self).run_cell(*args, **kwargs)\n",
            "  File \"/usr/local/lib/python3.8/dist-packages/IPython/core/interactiveshell.py\", line 2854, in run_cell\n",
            "    result = self._run_cell(\n",
            "  File \"/usr/local/lib/python3.8/dist-packages/IPython/core/interactiveshell.py\", line 2881, in _run_cell\n",
            "    return runner(coro)\n",
            "  File \"/usr/local/lib/python3.8/dist-packages/IPython/core/async_helpers.py\", line 68, in _pseudo_sync_runner\n",
            "    coro.send(None)\n",
            "  File \"/usr/local/lib/python3.8/dist-packages/IPython/core/interactiveshell.py\", line 3057, in run_cell_async\n",
            "    has_raised = await self.run_ast_nodes(code_ast.body, cell_name,\n",
            "  File \"/usr/local/lib/python3.8/dist-packages/IPython/core/interactiveshell.py\", line 3249, in run_ast_nodes\n",
            "    if (await self.run_code(code, result,  async_=asy)):\n",
            "  File \"/usr/local/lib/python3.8/dist-packages/IPython/core/interactiveshell.py\", line 3326, in run_code\n",
            "    exec(code_obj, self.user_global_ns, self.user_ns)\n",
            "  File \"<ipython-input-21-2d743b8ebc9d>\", line 1, in <module>\n",
            "    logger.critical('start4')\n",
            "Message: 'start4'\n",
            "Arguments: ()\n",
            "CRITICAL:name:start4\n"
          ]
        }
      ]
    },
    {
      "cell_type": "code",
      "source": [
        "# try except 구문으로 에러 로그에 남기기\n",
        "try:\n",
        "    2/0\n",
        "except Exception as e:\n",
        "    logger.error(e)"
      ],
      "metadata": {
        "colab": {
          "base_uri": "https://localhost:8080/"
        },
        "id": "eEuqBIZWBYjm",
        "outputId": "0a112818-abd6-4c97-ba11-7a029fd737ad"
      },
      "execution_count": null,
      "outputs": [
        {
          "output_type": "stream",
          "name": "stderr",
          "text": [
            "--- Logging error ---\n",
            "Traceback (most recent call last):\n",
            "  File \"<ipython-input-22-cb3ab82252e6>\", line 2, in <module>\n",
            "    2/0\n",
            "ZeroDivisionError: division by zero\n",
            "\n",
            "During handling of the above exception, another exception occurred:\n",
            "\n",
            "Traceback (most recent call last):\n",
            "  File \"/usr/lib/python3.8/logging/__init__.py\", line 440, in format\n",
            "    return self._format(record)\n",
            "  File \"/usr/lib/python3.8/logging/__init__.py\", line 436, in _format\n",
            "    return self._fmt % record.__dict__\n",
            "KeyError: 'acstime'\n",
            "\n",
            "During handling of the above exception, another exception occurred:\n",
            "\n",
            "Traceback (most recent call last):\n",
            "  File \"/usr/lib/python3.8/logging/__init__.py\", line 1085, in emit\n",
            "    msg = self.format(record)\n",
            "  File \"/usr/lib/python3.8/logging/__init__.py\", line 929, in format\n",
            "    return fmt.format(record)\n",
            "  File \"/usr/lib/python3.8/logging/__init__.py\", line 671, in format\n",
            "    s = self.formatMessage(record)\n",
            "  File \"/usr/lib/python3.8/logging/__init__.py\", line 640, in formatMessage\n",
            "    return self._style.format(record)\n",
            "  File \"/usr/lib/python3.8/logging/__init__.py\", line 442, in format\n",
            "    raise ValueError('Formatting field not found in record: %s' % e)\n",
            "ValueError: Formatting field not found in record: 'acstime'\n",
            "Call stack:\n",
            "  File \"/usr/lib/python3.8/runpy.py\", line 194, in _run_module_as_main\n",
            "    return _run_code(code, main_globals, None,\n",
            "  File \"/usr/lib/python3.8/runpy.py\", line 87, in _run_code\n",
            "    exec(code, run_globals)\n",
            "  File \"/usr/local/lib/python3.8/dist-packages/ipykernel_launcher.py\", line 16, in <module>\n",
            "    app.launch_new_instance()\n",
            "  File \"/usr/local/lib/python3.8/dist-packages/traitlets/config/application.py\", line 992, in launch_instance\n",
            "    app.start()\n",
            "  File \"/usr/local/lib/python3.8/dist-packages/ipykernel/kernelapp.py\", line 612, in start\n",
            "    self.io_loop.start()\n",
            "  File \"/usr/local/lib/python3.8/dist-packages/tornado/platform/asyncio.py\", line 215, in start\n",
            "    self.asyncio_loop.run_forever()\n",
            "  File \"/usr/lib/python3.8/asyncio/base_events.py\", line 570, in run_forever\n",
            "    self._run_once()\n",
            "  File \"/usr/lib/python3.8/asyncio/base_events.py\", line 1859, in _run_once\n",
            "    handle._run()\n",
            "  File \"/usr/lib/python3.8/asyncio/events.py\", line 81, in _run\n",
            "    self._context.run(self._callback, *self._args)\n",
            "  File \"/usr/local/lib/python3.8/dist-packages/tornado/ioloop.py\", line 687, in <lambda>\n",
            "    lambda f: self._run_callback(functools.partial(callback, future))\n",
            "  File \"/usr/local/lib/python3.8/dist-packages/tornado/ioloop.py\", line 740, in _run_callback\n",
            "    ret = callback()\n",
            "  File \"/usr/local/lib/python3.8/dist-packages/tornado/gen.py\", line 821, in inner\n",
            "    self.ctx_run(self.run)\n",
            "  File \"/usr/local/lib/python3.8/dist-packages/tornado/gen.py\", line 782, in run\n",
            "    yielded = self.gen.send(value)\n",
            "  File \"/usr/local/lib/python3.8/dist-packages/ipykernel/kernelbase.py\", line 365, in process_one\n",
            "    yield gen.maybe_future(dispatch(*args))\n",
            "  File \"/usr/local/lib/python3.8/dist-packages/tornado/gen.py\", line 234, in wrapper\n",
            "    yielded = ctx_run(next, result)\n",
            "  File \"/usr/local/lib/python3.8/dist-packages/ipykernel/kernelbase.py\", line 268, in dispatch_shell\n",
            "    yield gen.maybe_future(handler(stream, idents, msg))\n",
            "  File \"/usr/local/lib/python3.8/dist-packages/tornado/gen.py\", line 234, in wrapper\n",
            "    yielded = ctx_run(next, result)\n",
            "  File \"/usr/local/lib/python3.8/dist-packages/ipykernel/kernelbase.py\", line 543, in execute_request\n",
            "    self.do_execute(\n",
            "  File \"/usr/local/lib/python3.8/dist-packages/tornado/gen.py\", line 234, in wrapper\n",
            "    yielded = ctx_run(next, result)\n",
            "  File \"/usr/local/lib/python3.8/dist-packages/ipykernel/ipkernel.py\", line 306, in do_execute\n",
            "    res = shell.run_cell(code, store_history=store_history, silent=silent)\n",
            "  File \"/usr/local/lib/python3.8/dist-packages/ipykernel/zmqshell.py\", line 536, in run_cell\n",
            "    return super(ZMQInteractiveShell, self).run_cell(*args, **kwargs)\n",
            "  File \"/usr/local/lib/python3.8/dist-packages/IPython/core/interactiveshell.py\", line 2854, in run_cell\n",
            "    result = self._run_cell(\n",
            "  File \"/usr/local/lib/python3.8/dist-packages/IPython/core/interactiveshell.py\", line 2881, in _run_cell\n",
            "    return runner(coro)\n",
            "  File \"/usr/local/lib/python3.8/dist-packages/IPython/core/async_helpers.py\", line 68, in _pseudo_sync_runner\n",
            "    coro.send(None)\n",
            "  File \"/usr/local/lib/python3.8/dist-packages/IPython/core/interactiveshell.py\", line 3057, in run_cell_async\n",
            "    has_raised = await self.run_ast_nodes(code_ast.body, cell_name,\n",
            "  File \"/usr/local/lib/python3.8/dist-packages/IPython/core/interactiveshell.py\", line 3249, in run_ast_nodes\n",
            "    if (await self.run_code(code, result,  async_=asy)):\n",
            "  File \"/usr/local/lib/python3.8/dist-packages/IPython/core/interactiveshell.py\", line 3326, in run_code\n",
            "    exec(code_obj, self.user_global_ns, self.user_ns)\n",
            "  File \"<ipython-input-22-cb3ab82252e6>\", line 4, in <module>\n",
            "    logger.error(e)\n",
            "Message: ZeroDivisionError('division by zero')\n",
            "Arguments: ()\n",
            "ERROR:name:division by zero\n"
          ]
        }
      ]
    }
  ]
}