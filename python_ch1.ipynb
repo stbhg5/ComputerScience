{
  "nbformat": 4,
  "nbformat_minor": 0,
  "metadata": {
    "colab": {
      "provenance": [],
      "toc_visible": true,
      "authorship_tag": "ABX9TyPhl/06xhrcOxmsX3DsTT7D",
      "include_colab_link": true
    },
    "kernelspec": {
      "name": "python3",
      "display_name": "Python 3"
    },
    "language_info": {
      "name": "python"
    }
  },
  "cells": [
    {
      "cell_type": "markdown",
      "metadata": {
        "id": "view-in-github",
        "colab_type": "text"
      },
      "source": [
        "<a href=\"https://colab.research.google.com/github/stbhg5/ComputerScience/blob/main/python_ch1.ipynb\" target=\"_parent\"><img src=\"https://colab.research.google.com/assets/colab-badge.svg\" alt=\"Open In Colab\"/></a>"
      ]
    },
    {
      "cell_type": "markdown",
      "source": [
        "주석이란?"
      ],
      "metadata": {
        "id": "ZrIXOZUnPQcS"
      }
    },
    {
      "cell_type": "code",
      "execution_count": 6,
      "metadata": {
        "colab": {
          "base_uri": "https://localhost:8080/",
          "height": 35
        },
        "id": "oG9f452gPFNj",
        "outputId": "753e0433-1598-41ab-d942-74637f75be5a"
      },
      "outputs": [
        {
          "output_type": "execute_result",
          "data": {
            "text/plain": [
              "'\\n안녕하세요\\n저는 송진성 입니다\\n'"
            ],
            "application/vnd.google.colaboratory.intrinsic+json": {
              "type": "string"
            }
          },
          "metadata": {},
          "execution_count": 6
        }
      ],
      "source": [
        "#안녕하세요\n",
        "# 주석이 무엇일까 : 컴퓨터는 이해할 수 없고, 인간이 보고 이해할 수 있다.\n",
        "'''\n",
        "안녕하세요\n",
        "저는 송진성 입니다\n",
        "'''\n",
        "# 주석"
      ]
    },
    {
      "cell_type": "markdown",
      "source": [
        "print를 해 봅시다"
      ],
      "metadata": {
        "id": "CTSP8kPkPhMY"
      }
    },
    {
      "cell_type": "code",
      "source": [
        "# 컴퓨터에게 명령하는 것을 함수라고 한다.\n",
        "print(\"Hello Python\")\n",
        "print(\"안녕 파이썬\")"
      ],
      "metadata": {
        "colab": {
          "base_uri": "https://localhost:8080/"
        },
        "id": "BlTCCCTMPm7V",
        "outputId": "637aadd5-2f7f-4eca-ca0b-a1d1c8f16e14"
      },
      "execution_count": 7,
      "outputs": [
        {
          "output_type": "stream",
          "name": "stdout",
          "text": [
            "Hello Python\n",
            "안녕 파이썬\n"
          ]
        }
      ]
    },
    {
      "cell_type": "code",
      "source": [
        "# 파이썬 프로그래밍의 시작!\n",
        "print(\"Hello world\")"
      ],
      "metadata": {
        "colab": {
          "base_uri": "https://localhost:8080/"
        },
        "id": "r9JRppw8Szn9",
        "outputId": "83878b36-1bcd-4640-8439-99e2797eec16"
      },
      "execution_count": 8,
      "outputs": [
        {
          "output_type": "stream",
          "name": "stdout",
          "text": [
            "Hello world\n"
          ]
        }
      ]
    },
    {
      "cell_type": "markdown",
      "source": [
        "변수 선언"
      ],
      "metadata": {
        "id": "pnNCsIpYQQHu"
      }
    },
    {
      "cell_type": "code",
      "source": [
        "a = 2000\n",
        "print(a)\n",
        "print(a)\n",
        "print(a)\n",
        "# =은 우측의 값을 좌측에 대입\n",
        "a = a + 20\n",
        "print(a)\n",
        "a = a - 1000\n",
        "print(a)"
      ],
      "metadata": {
        "colab": {
          "base_uri": "https://localhost:8080/"
        },
        "id": "P2vmeVH-QSyE",
        "outputId": "ee37d986-a871-4598-da4d-64e87e219aec"
      },
      "execution_count": 15,
      "outputs": [
        {
          "output_type": "stream",
          "name": "stdout",
          "text": [
            "2000\n",
            "2000\n",
            "2000\n",
            "2020\n",
            "1020\n"
          ]
        }
      ]
    },
    {
      "cell_type": "markdown",
      "source": [
        "변수 선언2"
      ],
      "metadata": {
        "id": "3FmzrOqHQgzm"
      }
    },
    {
      "cell_type": "code",
      "source": [
        "a1 = 100          #정수\n",
        "a2 = 6.76         #실수\n",
        "a3 = \"대박사건\"   #문자열\n",
        "print(a1)\n",
        "print(a2)\n",
        "print(a3)"
      ],
      "metadata": {
        "colab": {
          "base_uri": "https://localhost:8080/"
        },
        "id": "3RzxbQMZQiJi",
        "outputId": "6cec9cdd-58df-4281-8557-0d543a8225cc"
      },
      "execution_count": 3,
      "outputs": [
        {
          "output_type": "stream",
          "name": "stdout",
          "text": [
            "100\n",
            "6.76\n",
            "대박사건\n"
          ]
        }
      ]
    },
    {
      "cell_type": "markdown",
      "source": [
        "변수 선언3"
      ],
      "metadata": {
        "id": "jAMfL42OT1Cs"
      }
    },
    {
      "cell_type": "code",
      "source": [
        "# \\는 문장이 길 때 두줄로 표시하기 위한 것\n",
        "print(   \\\n",
        "      '대박사건')\n",
        "print(\"대박\",\n",
        "      \"사건\")\n",
        "a = \"철수\"\n",
        "b = \"영희\"\n",
        "c = a + b # +는 문장을 이어 준다\n",
        "print(c)"
      ],
      "metadata": {
        "colab": {
          "base_uri": "https://localhost:8080/"
        },
        "id": "YeNY6FiiT2J2",
        "outputId": "38339fb3-3db2-47a0-a25a-6fbaedc7ab4a"
      },
      "execution_count": 17,
      "outputs": [
        {
          "output_type": "stream",
          "name": "stdout",
          "text": [
            "대박사건\n",
            "대박 사건\n",
            "철수영희\n"
          ]
        }
      ]
    },
    {
      "cell_type": "code",
      "source": [
        "# 엔터로 줄을 나눌 때\n",
        "# 같은 라인이라는 표시 \\\n",
        "print('hello \\\n",
        "world')"
      ],
      "metadata": {
        "colab": {
          "base_uri": "https://localhost:8080/"
        },
        "id": "uTyJyTdGUGPj",
        "outputId": "687cba2a-aa97-4f2b-bfd2-fb57bf32af19"
      },
      "execution_count": 18,
      "outputs": [
        {
          "output_type": "stream",
          "name": "stdout",
          "text": [
            "hello world\n"
          ]
        }
      ]
    },
    {
      "cell_type": "markdown",
      "source": [
        "if문 연습"
      ],
      "metadata": {
        "id": "e43hl4fpUQpJ"
      }
    },
    {
      "cell_type": "code",
      "source": [
        "x = -100\n",
        "x = 100\n",
        "# 콜론(:)는 조건이 끝났다는 의미\n",
        "if x > 0 :\n",
        "    # 들여쓰기가 상위 문장의 조건을 만족할 때 실행한다는 의미\n",
        "    print(\"0보다 큽니다\")\n",
        "    # 세미콜론(;)은 두 개 이상 문장을 한 줄로 쓸 때 사용\n",
        "    print(\"x = \", x); print(\"대박\")\n",
        "else :\n",
        "    print(\"0보다 작다\")\n",
        "    print(\"헐 ~\")"
      ],
      "metadata": {
        "colab": {
          "base_uri": "https://localhost:8080/"
        },
        "id": "uvXdc_R0UO2w",
        "outputId": "d9545d03-6c54-4dc6-9499-91bfe7268061"
      },
      "execution_count": 21,
      "outputs": [
        {
          "output_type": "stream",
          "name": "stdout",
          "text": [
            "0보다 큽니다\n",
            "x =  100\n",
            "대박\n"
          ]
        }
      ]
    },
    {
      "cell_type": "markdown",
      "source": [
        "대입과 if문"
      ],
      "metadata": {
        "id": "jF0wZvPZU2ez"
      }
    },
    {
      "cell_type": "code",
      "source": [
        "a1 = 7\n",
        "a2 = 10\n",
        "if a1 > a2 :\n",
        "    print(\"a1이 a2보다 크다\")\n",
        "else : \n",
        "    print(\"a1이 a2보다 작거나 같다\")"
      ],
      "metadata": {
        "id": "2FIVy5MiVV4D"
      },
      "execution_count": null,
      "outputs": []
    },
    {
      "cell_type": "markdown",
      "source": [
        "기본연산"
      ],
      "metadata": {
        "id": "FmKOz2_UVU95"
      }
    },
    {
      "cell_type": "code",
      "source": [
        "a = \"대박사건\"\n",
        "# 문자를 곱하기 하면 반복이다\n",
        "print(a * 3)\n",
        "b = 7\n",
        "print(b ** 3) # ** 거듭제곱(7의 세제곱)\n",
        "# /나누기 결과는 실수, //몫\n",
        "k = a = 7 # =는 오른쪽부터 실행\n",
        "# print 안에서 ,는 한쪽 떨어짐\n",
        "print(\"k =\", k, \", a =\", a)\n",
        "a1, b1 = 7, 8 # a1에는 7이, b1에는 8이 각각 대입\n",
        "print(\"a1 =\", a1, \", b1 =\", b1)\n",
        "a1, b1 = b1, a1 # 값 교환\n",
        "print(\"a1 =\", a1, \", b1 =\", b1)"
      ],
      "metadata": {
        "colab": {
          "base_uri": "https://localhost:8080/"
        },
        "id": "bkKZ-NZCVsjJ",
        "outputId": "3d6955a3-87b4-4bc9-81b1-d3b3f435fa5f"
      },
      "execution_count": 22,
      "outputs": [
        {
          "output_type": "stream",
          "name": "stdout",
          "text": [
            "대박사건대박사건대박사건\n",
            "343\n",
            "k = 7 , a = 7\n",
            "a1 = 7 , b1 = 8\n",
            "a1 = 8 , b1 = 7\n"
          ]
        }
      ]
    },
    {
      "cell_type": "markdown",
      "source": [
        "대입과 출력"
      ],
      "metadata": {
        "id": "5zjQ1faXWvBA"
      }
    },
    {
      "cell_type": "code",
      "source": [
        "# 15를 a1, a2, a3에 대입하고 출력\n",
        "a1 = a2 = a3 = 15\n",
        "print('a1 =', a1, ', a2 =', a2, ', a3 =', a3)\n",
        "# b1, b2에 23과 45를 대입하고 출력\n",
        "b1, b2 = 23, 45\n",
        "print('b1 =', b1, ', b2 =', b2)\n",
        "# b1과 b2의 값을 서로 교환하고 출력\n",
        "b1, b2 = b2, b1\n",
        "print('b1 =', b1, ' b2 =', b2)\n",
        "# 허걱을 10회 출력\n",
        "print('허걱' * 10)\n",
        "# 15나누기 3의 몫을 출력\n",
        "print(15 // 3) # 몫은 정수\n",
        "print(15 / 3) # 나누기 결과는 실수\n",
        "# 3의 3승을 출력\n",
        "print(3 ** 3)"
      ],
      "metadata": {
        "colab": {
          "base_uri": "https://localhost:8080/"
        },
        "id": "t65CbxkpWwzU",
        "outputId": "c113a160-5a5d-4967-f30d-67f95f3c3c3d"
      },
      "execution_count": 23,
      "outputs": [
        {
          "output_type": "stream",
          "name": "stdout",
          "text": [
            "a1 = 15 , a2 = 15 , a3 = 15\n",
            "b1 = 23 , b2 = 45\n",
            "b1 = 45  b2 = 23\n",
            "허걱허걱허걱허걱허걱허걱허걱허걱허걱허걱\n",
            "5\n",
            "5.0\n",
            "27\n"
          ]
        }
      ]
    }
  ]
}