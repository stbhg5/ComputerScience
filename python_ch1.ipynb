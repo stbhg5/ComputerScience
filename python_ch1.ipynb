{
  "nbformat": 4,
  "nbformat_minor": 0,
  "metadata": {
    "colab": {
      "provenance": [],
      "toc_visible": true,
      "authorship_tag": "ABX9TyOXRwdx4uOaG0P6LvwaSihu",
      "include_colab_link": true
    },
    "kernelspec": {
      "name": "python3",
      "display_name": "Python 3"
    },
    "language_info": {
      "name": "python"
    }
  },
  "cells": [
    {
      "cell_type": "markdown",
      "metadata": {
        "id": "view-in-github",
        "colab_type": "text"
      },
      "source": [
        "<a href=\"https://colab.research.google.com/github/stbhg5/ComputerScience/blob/main/python_ch1.ipynb\" target=\"_parent\"><img src=\"https://colab.research.google.com/assets/colab-badge.svg\" alt=\"Open In Colab\"/></a>"
      ]
    },
    {
      "cell_type": "markdown",
      "source": [
        "주석이란?"
      ],
      "metadata": {
        "id": "ZrIXOZUnPQcS"
      }
    },
    {
      "cell_type": "code",
      "execution_count": null,
      "metadata": {
        "id": "oG9f452gPFNj"
      },
      "outputs": [],
      "source": [
        "#안녕하세요\n",
        "#주석이 무엇일까"
      ]
    },
    {
      "cell_type": "markdown",
      "source": [
        "print를 해 봅시다"
      ],
      "metadata": {
        "id": "CTSP8kPkPhMY"
      }
    },
    {
      "cell_type": "code",
      "source": [
        "print(\"Hello Python\")\n",
        "print(\"안녕 파이썬\")"
      ],
      "metadata": {
        "colab": {
          "base_uri": "https://localhost:8080/"
        },
        "id": "BlTCCCTMPm7V",
        "outputId": "9571ec75-e110-48c6-f473-9e3afb565629"
      },
      "execution_count": 1,
      "outputs": [
        {
          "output_type": "stream",
          "name": "stdout",
          "text": [
            "Hello Python\n",
            "안녕 파이썬\n"
          ]
        }
      ]
    },
    {
      "cell_type": "markdown",
      "source": [
        "변수 선언"
      ],
      "metadata": {
        "id": "pnNCsIpYQQHu"
      }
    },
    {
      "cell_type": "code",
      "source": [
        "a = 2000\n",
        "print(a)\n",
        "# =은 우측의 값을 좌측에 대입\n",
        "a = a + 20\n",
        "print(a)\n",
        "a = a - 1000\n",
        "print(a)"
      ],
      "metadata": {
        "colab": {
          "base_uri": "https://localhost:8080/"
        },
        "id": "P2vmeVH-QSyE",
        "outputId": "3a8c86ba-e2ad-448d-dfb8-d6cfff39e78b"
      },
      "execution_count": 2,
      "outputs": [
        {
          "output_type": "stream",
          "name": "stdout",
          "text": [
            "2000\n",
            "2020\n",
            "1020\n"
          ]
        }
      ]
    },
    {
      "cell_type": "markdown",
      "source": [
        "변수 선언2"
      ],
      "metadata": {
        "id": "3FmzrOqHQgzm"
      }
    },
    {
      "cell_type": "code",
      "source": [
        "a1 = 100          #정수\n",
        "a2 = 6.76         #실수\n",
        "a3 = \"대박사건\"   #문자열\n",
        "print(a1)\n",
        "print(a2)\n",
        "print(a3)"
      ],
      "metadata": {
        "colab": {
          "base_uri": "https://localhost:8080/"
        },
        "id": "3RzxbQMZQiJi",
        "outputId": "6cec9cdd-58df-4281-8557-0d543a8225cc"
      },
      "execution_count": 3,
      "outputs": [
        {
          "output_type": "stream",
          "name": "stdout",
          "text": [
            "100\n",
            "6.76\n",
            "대박사건\n"
          ]
        }
      ]
    }
  ]
}